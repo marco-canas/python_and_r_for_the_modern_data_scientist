{
 "cells": [
  {
   "cell_type": "markdown",
   "id": "b1e818ba",
   "metadata": {
    "slideshow": {
     "slide_type": "slide"
    }
   },
   "source": [
    "<table align=\"left\">\n",
    "  <td>\n",
    "    <a href=\"https://colab.research.google.com/github/marco-canas/machine_learning/blob/main/problems_bank/parcial_2_clasificacion.ipynb\" target=\"_parent\"><img src=\"https://colab.research.google.com/assets/colab-badge.svg\" alt=\"Open In Colab\"/></a>\n",
    "  </td>\n",
    "</table> "
   ]
  },
  {
   "cell_type": "markdown",
   "id": "3509baa8",
   "metadata": {
    "slideshow": {
     "slide_type": "slide"
    }
   },
   "source": [
    "# Clasificación Multiclase"
   ]
  },
  {
   "cell_type": "markdown",
   "id": "3585f429",
   "metadata": {
    "slideshow": {
     "slide_type": "slide"
    }
   },
   "source": [
    "## [Video de apoyo](https://www.youtube.com/watch?v=W0vFtltZTBc)"
   ]
  },
  {
   "cell_type": "markdown",
   "id": "d029511f",
   "metadata": {
    "slideshow": {
     "slide_type": "slide"
    }
   },
   "source": [
    "1. Tome el dataset `load_digits` y constituya el arreglo de imágenes $X$ y el de etiquetas $y$ como arreglos de numpy de valores de tipo int64. "
   ]
  },
  {
   "cell_type": "markdown",
   "id": "6589ae52",
   "metadata": {
    "slideshow": {
     "slide_type": "slide"
    }
   },
   "source": [
    "2. Visualice con la función`imshow()` de matplotlib una de las imagenes del dataset. "
   ]
  },
  {
   "cell_type": "markdown",
   "id": "de90c7ec",
   "metadata": {
    "slideshow": {
     "slide_type": "slide"
    }
   },
   "source": [
    "3. Divida el dataset en un subconjunto para entrenamiento y un subconjunto de testeo, pero para esta tarea relice muestreo estratificado utilizando la clase `StratifiedShuffleSplit` del `model_selection` de Sklearn. \n",
    "* **(opcional)** y muestre con histogramas que este muestreo ha quedado de manera estratificada, es decir, las muestras quedaron de tal menera que cada digito en la muestra esta presente en la misma proporción que en el dataset total. "
   ]
  },
  {
   "cell_type": "markdown",
   "id": "2b4e4943",
   "metadata": {
    "slideshow": {
     "slide_type": "slide"
    }
   },
   "source": [
    "4. Escale los datos con utilizando la clase `MaxMinScaler` o la clase `StandardScaler` del módulo `preprocessing` de sklearn. "
   ]
  },
  {
   "cell_type": "markdown",
   "id": "9a74d3a9",
   "metadata": {
    "slideshow": {
     "slide_type": "slide"
    }
   },
   "source": [
    "5. Instancie y entrene los modelos `SGDClassifier` del módulo `linear_model` y el `RandomForestClassifier(random_state = 42)` del módulo `ensemble` de sklearn.   "
   ]
  },
  {
   "cell_type": "markdown",
   "id": "40e8af3a",
   "metadata": {
    "slideshow": {
     "slide_type": "slide"
    }
   },
   "source": [
    "6. Mida sus desempeños con la metodología de Validación cruzada y luego afine el modelo seleccionado con la metodología de Grilla de hiperparámetros (`GridSearchCV(scoring = 'f1_macro'`)). \n",
    "\n",
    "* Para el `SGDClassifier` utilice los hiperparámetros de `alpha` con valores $[10^{-1}, 10^{-2}]$, `learning_rate` con valores en la lista `[0.1,0.01, 0.001]` y `penalty` con valores en la lista `['l1', 'l2']`.\n",
    "\n",
    "* Para el RandomForestClassifier utilice los hiperparametros `max_depth` con valores en la lista `[10,15,20]`, `max_features` con valores en la lista `[3,5,7]` y `n_estimators` con valores en la lista `[100,150,200]`.\n",
    "\n",
    "\n",
    "\n",
    "* Observe los resultads de desempeño para cada modelo utilizando el estimador `.cv_results_`\n",
    "\n",
    "* Capture el mejor modelo utilizando el atributo de inspección `best_estimator_`"
   ]
  },
  {
   "cell_type": "markdown",
   "id": "42170f6e",
   "metadata": {
    "slideshow": {
     "slide_type": "slide"
    }
   },
   "source": [
    "7. Verifique que el desempeño en el conjunto de testeo es cercano al determinado en el conunto de entrenamiento. \n",
    "  * cuantifique el desmpeño de su modelo final en el conjunto de testeo usando el método `.score(X_test, y_test)`"
   ]
  },
  {
   "cell_type": "markdown",
   "id": "11929d2f",
   "metadata": {
    "slideshow": {
     "slide_type": "slide"
    }
   },
   "source": [
    "8. **(Opcional)** Muestre con `matshow()` la matriz de confusion del conjunto de testeo. Para construir esta matriz de confusión debe comparar las etiquetas de testeo con las predicciones del modelo afinado en este mismo conjunto. "
   ]
  },
  {
   "cell_type": "markdown",
   "id": "27b7770f",
   "metadata": {
    "slideshow": {
     "slide_type": "slide"
    }
   },
   "source": [
    "## Referencias  \n",
    "\n",
    "* La clase MaxMinScaler: https://scikit-learn.org/stable/modules/generated/sklearn.preprocessing.MinMaxScaler.html  \n",
    "\n",
    "* RandomForestClassifier: https://scikit-learn.org/stable/modules/generated/sklearn.ensemble.RandomForestClassifier.html \n"
   ]
  },
  {
   "cell_type": "code",
   "execution_count": null,
   "id": "c5f1c2a8",
   "metadata": {},
   "outputs": [],
   "source": []
  }
 ],
 "metadata": {
  "celltoolbar": "Slideshow",
  "kernelspec": {
   "display_name": "Python 3 (ipykernel)",
   "language": "python",
   "name": "python3"
  },
  "language_info": {
   "codemirror_mode": {
    "name": "ipython",
    "version": 3
   },
   "file_extension": ".py",
   "mimetype": "text/x-python",
   "name": "python",
   "nbconvert_exporter": "python",
   "pygments_lexer": "ipython3",
   "version": "3.9.7"
  }
 },
 "nbformat": 4,
 "nbformat_minor": 5
}
