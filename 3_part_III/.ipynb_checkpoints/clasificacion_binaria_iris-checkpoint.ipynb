{
 "cells": [
  {
   "cell_type": "markdown",
   "id": "9d27dad4",
   "metadata": {
    "slideshow": {
     "slide_type": "slide"
    }
   },
   "source": [
    "<table align=\"left\">\n",
    "  <td>\n",
    "    <a href=\"https://colab.research.google.com/github/marco-canas/machine_learning/blob/main/problems_bank/parcial_2_clasificacion.ipynb\" target=\"_parent\"><img src=\"https://colab.research.google.com/assets/colab-badge.svg\" alt=\"Open In Colab\"/></a>\n",
    "  </td>\n",
    "</table> "
   ]
  },
  {
   "cell_type": "markdown",
   "id": "efefe8b0",
   "metadata": {
    "slideshow": {
     "slide_type": "slide"
    }
   },
   "source": [
    "# Clasificación binaria con el dataset de florez de iris"
   ]
  },
  {
   "cell_type": "markdown",
   "id": "90291fde",
   "metadata": {
    "slideshow": {
     "slide_type": "slide"
    }
   },
   "source": [
    "# Dataset inicial: load_iris  \n",
    "\n",
    "# TAREA  \n",
    "Caso 1: Constuir un clasificador binario detector de virginica  \n",
    "Caso 2: Constuir un clasificador binario versicolor vs virginica  \n",
    "\n",
    "# ATRIBUTOS  \n",
    "Caso 1:  \n",
    "atributo 1: Longitud de sépalo  \n",
    "atributo 2: ancho de sépalo  \n",
    "\n",
    "Caso 2:  \n",
    "atributo 1: Longitud de pétalo  \n",
    "atributo 2: ancho de pétalo  \n",
    "\n",
    "Caso 3:  \n",
    "atributo 1: Producto entre longitud y ancho de sépalo  \n",
    "atributo 2: Producto entre longitud y ancho de pétalo  \n",
    "\n",
    "# MODELOS  \n",
    "Caso 1: SGDClassifier y LogisticRegression  \n",
    "Caso 2: SGDClassifier y KNeighborsClassifier  \n",
    "Caso 3: LogisticRegression y KNeighborsClassifier  \n",
    "\n",
    "Parciales:  \n",
    "{TAREA: Caso 1, ATRIBUTOS: Caso 1, MODELOS: Caso 1}   \n",
    "{TAREA: Caso 1, ATRIBUTOS: Caso 1, MODELOS: Caso 2}   \n",
    "{TAREA: Caso 1, ATRIBUTOS: Caso 1, MODELOS: Caso 3}   \n",
    "{TAREA: Caso 1, ATRIBUTOS: Caso 2, MODELOS: Caso 1}   \n",
    "{TAREA: Caso 1, ATRIBUTOS: Caso 2, MODELOS: Caso 2}   \n",
    "{TAREA: Caso 1, ATRIBUTOS: Caso 2, MODELOS: Caso 3}   \n",
    "{TAREA: Caso 1, ATRIBUTOS: Caso 3, MODELOS: Caso 1}   \n",
    "{TAREA: Caso 1, ATRIBUTOS: Caso 3, MODELOS: Caso 2}   \n",
    "{TAREA: Caso 1, ATRIBUTOS: Caso 3, MODELOS: Caso 3}   \n",
    "{TAREA: Caso 2, ATRIBUTOS: Caso 1, MODELOS: Caso 1}   \n",
    "{TAREA: Caso 2, ATRIBUTOS: Caso 1, MODELOS: Caso 2}   \n",
    "{TAREA: Caso 2, ATRIBUTOS: Caso 1, MODELOS: Caso 3}  \n",
    "{TAREA: Caso 2, ATRIBUTOS: Caso 2, MODELOS: Caso 1}  \n",
    "{TAREA: Caso 2, ATRIBUTOS: Caso 2, MODELOS: Caso 2}  \n",
    "{TAREA: Caso 2, ATRIBUTOS: Caso 2, MODELOS: Caso 3}   \n",
    "{TAREA: Caso 2, ATRIBUTOS: Caso 3, MODELOS: Caso 1}  \n",
    "{TAREA: Caso 2, ATRIBUTOS: Caso 3, MODELOS: Caso 2}   \n",
    "{TAREA: Caso 2, ATRIBUTOS: Caso 3, MODELOS: Caso 3}   \n",
    "\n"
   ]
  },
  {
   "cell_type": "markdown",
   "id": "e905edf6",
   "metadata": {
    "slideshow": {
     "slide_type": "slide"
    }
   },
   "source": [
    "# Paso a paso "
   ]
  },
  {
   "cell_type": "markdown",
   "id": "f7f4794e",
   "metadata": {
    "slideshow": {
     "slide_type": "slide"
    }
   },
   "source": [
    "## Punto 1"
   ]
  },
  {
   "cell_type": "markdown",
   "id": "ddee2bca",
   "metadata": {
    "slideshow": {
     "slide_type": "slide"
    }
   },
   "source": [
    "*  Tome el dataset `load_iris` y constituya el arreglo de imágenes $\\mathbf{X}$ y el de etiquetas $\\mathbf{y}$ como arreglos de numpy de valores de tipo `int64`.   \n",
    "\n",
    "*  Divida el dataset en un subconjunto para entrenamiento y un subconjunto de testeo, pero para esta tarea relice muestreo estratificado utilizando la clase `StratifiedShuffleSplit` del `model_selection` de Sklearn. "
   ]
  },
  {
   "cell_type": "markdown",
   "id": "6201cf1f",
   "metadata": {
    "slideshow": {
     "slide_type": "slide"
    }
   },
   "source": [
    "## Punto 2"
   ]
  },
  {
   "cell_type": "markdown",
   "id": "cf8e566f",
   "metadata": {
    "slideshow": {
     "slide_type": "slide"
    }
   },
   "source": [
    "* Después de haber seleccionado los atributos predictores asignados, escale los datos con utilizando la clase `MaxMinScaler` o la clase `StandardScaler` del módulo `preprocessing` de sklearn. \n",
    "\n",
    "* Instancie y entrene los modelos asignados.   "
   ]
  },
  {
   "cell_type": "markdown",
   "id": "e447b088",
   "metadata": {
    "slideshow": {
     "slide_type": "slide"
    }
   },
   "source": [
    "## Punto 3 "
   ]
  },
  {
   "cell_type": "markdown",
   "id": "ea1f82c2",
   "metadata": {
    "slideshow": {
     "slide_type": "slide"
    }
   },
   "source": [
    "Selecciones el mejor modelo utilizando la metodología de validación cruzada a través de la función `cross_val_predict()` pero midiendo el desempeño en las hojas de validación utilizando la función `f1_score`.  \n",
    "\n",
    "\n",
    "Luego afine el modelo seleccionado con la metodología de Grilla de hiperparámetros (`GridSearchCV(scoring = 'f1_macro'`)). \n",
    "\n",
    "* Para el `SGDClassifier` utilice los pararámetros de `alpha` con valores `[10**-1, 10**-2]`, `learning_rate` con valores en la lista `['constant']`, `eta0` con valores en la lista `[0.1,0.01, 0.001]` y `penalty` con valores en la lista `['l1', 'l2']`.\n",
    "\n",
    "* Para el `KNeighborsClassifier` utilice los parámetros `n_neighbors` con valores en la lista `[3,4,5,6,7]`, `weights` con valores en la lista `['uniform', 'distance']`.\n",
    "\n",
    "*  Para `LogisticRegression` utilice los hiperparámetros `penalty` con valores en la lista `['l2']`, y  `C` con valores en la lista `[10**0, 10**-1, 10**-2]`. \n",
    "\n",
    "* Capture el mejor modelo utilizando el atributo de inspección `best_estimator_`"
   ]
  },
  {
   "cell_type": "markdown",
   "id": "562e11f9",
   "metadata": {
    "slideshow": {
     "slide_type": "slide"
    }
   },
   "source": [
    "## Punto 4"
   ]
  },
  {
   "cell_type": "markdown",
   "id": "5298befd",
   "metadata": {
    "slideshow": {
     "slide_type": "slide"
    }
   },
   "source": [
    "* Verifique que el desempeño en el conjunto de testeo es cercano al determinado en el conunto de entrenamiento.   \n",
    "\n",
    "* cuantifique el desmpeño de su modelo final en el conjunto de testeo usando la función `f1_score(y_test, y_test_pred)`"
   ]
  },
  {
   "cell_type": "markdown",
   "id": "177cb5ab",
   "metadata": {
    "slideshow": {
     "slide_type": "slide"
    }
   },
   "source": [
    "## Referentes:\n",
    "\n",
    "* La clase LogisticRegression de sklearn: https://scikit-learn.org/stable/modules/generated/sklearn.linear_model.LogisticRegression.html  \n",
    "\n",
    "* La clase KNeighborsClassifier de sklearn: https://scikit-learn.org/stable/modules/generated/sklearn.neighbors.KNeighborsClassifier.html"
   ]
  },
  {
   "cell_type": "markdown",
   "id": "473c3f55",
   "metadata": {
    "slideshow": {
     "slide_type": "slide"
    }
   },
   "source": [
    "# Solución automatizando los procesos y graficando soluciones "
   ]
  },
  {
   "cell_type": "markdown",
   "id": "37953ddd",
   "metadata": {
    "slideshow": {
     "slide_type": "slide"
    }
   },
   "source": [
    "## Librerías necesarias para constituir el modelo "
   ]
  },
  {
   "cell_type": "code",
   "execution_count": 5,
   "id": "ab297508",
   "metadata": {
    "slideshow": {
     "slide_type": "slide"
    }
   },
   "outputs": [],
   "source": [
    "import numpy as np \n",
    "import pandas as pd \n",
    "import matplotlib.pyplot as plt\n",
    "\n",
    "#obtención de los datos \n",
    "from sklearn.datasets import load_iris \n",
    "\n",
    "#división en entrenamiento y testeo\n",
    "from sklearn.model_selection import StratifiedShuffleSplit \n",
    "\n",
    "#para el escalamiento de los datos\n",
    "from sklearn.preprocessing import StandardScaler\n",
    "\n",
    "#los tres modelos para escoger\n",
    "from sklearn.linear_model import SGDClassifier\n",
    "from sklearn.linear_model import LogisticRegression \n",
    "from sklearn.neighbors import KNeighborsClassifier\n",
    "\n",
    "# para medir desempeño\n",
    "\n",
    "from sklearn.model_selection import cross_val_predict\n",
    "from sklearn.metrics import f1_score "
   ]
  },
  {
   "cell_type": "code",
   "execution_count": null,
   "id": "acac3143",
   "metadata": {
    "slideshow": {
     "slide_type": "slide"
    }
   },
   "outputs": [],
   "source": []
  },
  {
   "cell_type": "code",
   "execution_count": null,
   "id": "a9cd3275",
   "metadata": {},
   "outputs": [],
   "source": []
  },
  {
   "cell_type": "code",
   "execution_count": null,
   "id": "4df27f58",
   "metadata": {},
   "outputs": [],
   "source": []
  },
  {
   "cell_type": "code",
   "execution_count": null,
   "id": "582202fb",
   "metadata": {},
   "outputs": [],
   "source": []
  }
 ],
 "metadata": {
  "celltoolbar": "Slideshow",
  "kernelspec": {
   "display_name": "Python 3 (ipykernel)",
   "language": "python",
   "name": "python3"
  },
  "language_info": {
   "codemirror_mode": {
    "name": "ipython",
    "version": 3
   },
   "file_extension": ".py",
   "mimetype": "text/x-python",
   "name": "python",
   "nbconvert_exporter": "python",
   "pygments_lexer": "ipython3",
   "version": "3.9.7"
  }
 },
 "nbformat": 4,
 "nbformat_minor": 5
}
