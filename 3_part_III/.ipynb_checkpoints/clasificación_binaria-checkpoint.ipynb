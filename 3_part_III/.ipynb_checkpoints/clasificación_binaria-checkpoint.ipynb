{
 "cells": [
  {
   "cell_type": "markdown",
   "id": "ee1ff208",
   "metadata": {
    "slideshow": {
     "slide_type": "slide"
    }
   },
   "source": [
    "<table align=\"left\">\n",
    "  <td>\n",
    "    <a href=\"https://colab.research.google.com/github/marco-canas/Machine-Learning/blob/main/ML/classes/class_mach_8/class_march_8.ipynb\" target=\"_parent\"><img src=\"https://colab.research.google.com/assets/colab-badge.svg\" alt=\"Open In Colab\"/></a>\n",
    "  </td>\n",
    "</table>"
   ]
  },
  {
   "cell_type": "markdown",
   "id": "2847ddfd",
   "metadata": {
    "slideshow": {
     "slide_type": "slide"
    }
   },
   "source": [
    "# Sobre visualización y clasificación"
   ]
  },
  {
   "cell_type": "markdown",
   "id": "236266c7",
   "metadata": {
    "slideshow": {
     "slide_type": "slide"
    }
   },
   "source": [
    "Considere el conjunto de datos load_iris de sklearn. Para las siguientes tareas, use Numpy o Pandas y matplotlib como mejor le parezca.  \n",
    "\n",
    "1) (20%) Cargue los datos y sus respectivas etiquetas. Modifique las etiquetas preparando los datos para clasificación binaria, considerando como su clase positiva a la clase Setosa. \n",
    "\n",
    "2) Construya dos gráficos:  \n",
    "\n",
    "  a) (30%) Tome como atributos la longitud y ancho de sépalo. Represente las dos clases, haciendo distinción por color.  \n",
    "  \n",
    "  b) (30%) Tome como atributos la longitud y ancho de pétalo. Represente las dos clases, haciendo distinción por color.  \n",
    "\n",
    "3) (20%) Luego de observar los dos gráficos en 2), dar un argumento del por qué elige los atributos de pétalo ó los de sépalo para la tarea de clasificación binaria.  \n",
    "\n",
    "¿Cree que se puede entrenar un PLA? ¿Cree que se puede entrenar un PPLA? ¿Cree que en su caso, ni PLA ni PPLA son buenos modelos para aplicar?\n"
   ]
  },
  {
   "cell_type": "markdown",
   "id": "69db156a",
   "metadata": {
    "slideshow": {
     "slide_type": "slide"
    }
   },
   "source": [
    "## Solución: "
   ]
  },
  {
   "cell_type": "markdown",
   "id": "306345c1",
   "metadata": {
    "slideshow": {
     "slide_type": "slide"
    }
   },
   "source": [
    "# Descargar el dataset"
   ]
  },
  {
   "cell_type": "code",
   "execution_count": 10,
   "id": "bebd5357",
   "metadata": {
    "slideshow": {
     "slide_type": "slide"
    }
   },
   "outputs": [],
   "source": [
    "import numpy as np \n",
    "from sklearn.datasets import load_iris"
   ]
  },
  {
   "cell_type": "code",
   "execution_count": 2,
   "id": "18f23b21",
   "metadata": {
    "slideshow": {
     "slide_type": "slide"
    }
   },
   "outputs": [],
   "source": [
    "iris = load_iris() "
   ]
  },
  {
   "cell_type": "code",
   "execution_count": 3,
   "id": "74ce1c90",
   "metadata": {
    "slideshow": {
     "slide_type": "slide"
    }
   },
   "outputs": [],
   "source": [
    "X,y = load_iris(return_X_y = True) "
   ]
  },
  {
   "cell_type": "code",
   "execution_count": 4,
   "id": "e3bb8628",
   "metadata": {
    "slideshow": {
     "slide_type": "slide"
    }
   },
   "outputs": [
    {
     "data": {
      "text/plain": [
       "array([[5.1, 3.5, 1.4, 0.2],\n",
       "       [4.9, 3. , 1.4, 0.2]])"
      ]
     },
     "execution_count": 4,
     "metadata": {},
     "output_type": "execute_result"
    }
   ],
   "source": [
    "X[:2,:]"
   ]
  },
  {
   "cell_type": "code",
   "execution_count": 5,
   "id": "7cf93f28",
   "metadata": {
    "scrolled": false,
    "slideshow": {
     "slide_type": "slide"
    }
   },
   "outputs": [
    {
     "data": {
      "text/plain": [
       "array([0, 0, 0, 0, 0, 0, 0, 0, 0, 0, 0, 0, 0, 0, 0, 0, 0, 0, 0, 0, 0, 0,\n",
       "       0, 0, 0, 0, 0, 0, 0, 0, 0, 0, 0, 0, 0, 0, 0, 0, 0, 0, 0, 0, 0, 0,\n",
       "       0, 0, 0, 0, 0, 0, 1, 1, 1, 1, 1, 1, 1, 1, 1, 1, 1, 1, 1, 1, 1, 1,\n",
       "       1, 1, 1, 1, 1, 1, 1, 1, 1, 1, 1, 1, 1, 1, 1, 1, 1, 1, 1, 1, 1, 1,\n",
       "       1, 1, 1, 1, 1, 1, 1, 1, 1, 1, 1, 1, 2, 2, 2, 2, 2, 2, 2, 2, 2, 2,\n",
       "       2, 2, 2, 2, 2, 2, 2, 2, 2, 2, 2, 2, 2, 2, 2, 2, 2, 2, 2, 2, 2, 2,\n",
       "       2, 2, 2, 2, 2, 2, 2, 2, 2, 2, 2, 2, 2, 2, 2, 2, 2, 2])"
      ]
     },
     "execution_count": 5,
     "metadata": {},
     "output_type": "execute_result"
    }
   ],
   "source": [
    "y"
   ]
  },
  {
   "cell_type": "markdown",
   "id": "4de17219",
   "metadata": {
    "slideshow": {
     "slide_type": "slide"
    }
   },
   "source": [
    "# Configurar las etiquetas para clasificación binaria"
   ]
  },
  {
   "cell_type": "code",
   "execution_count": 7,
   "id": "036fd6bb",
   "metadata": {},
   "outputs": [],
   "source": [
    "y = y==0"
   ]
  },
  {
   "cell_type": "code",
   "execution_count": 11,
   "id": "3f55792c",
   "metadata": {},
   "outputs": [],
   "source": [
    "y = y.astype(np.int32)"
   ]
  },
  {
   "cell_type": "code",
   "execution_count": 12,
   "id": "4832ff76",
   "metadata": {
    "scrolled": true
   },
   "outputs": [
    {
     "data": {
      "text/plain": [
       "array([1, 1, 1, 1, 1, 1, 1, 1, 1, 1, 1, 1, 1, 1, 1, 1, 1, 1, 1, 1, 1, 1,\n",
       "       1, 1, 1, 1, 1, 1, 1, 1, 1, 1, 1, 1, 1, 1, 1, 1, 1, 1, 1, 1, 1, 1,\n",
       "       1, 1, 1, 1, 1, 1, 0, 0, 0, 0, 0, 0, 0, 0, 0, 0, 0, 0, 0, 0, 0, 0,\n",
       "       0, 0, 0, 0, 0, 0, 0, 0, 0, 0, 0, 0, 0, 0, 0, 0, 0, 0, 0, 0, 0, 0,\n",
       "       0, 0, 0, 0, 0, 0, 0, 0, 0, 0, 0, 0, 0, 0, 0, 0, 0, 0, 0, 0, 0, 0,\n",
       "       0, 0, 0, 0, 0, 0, 0, 0, 0, 0, 0, 0, 0, 0, 0, 0, 0, 0, 0, 0, 0, 0,\n",
       "       0, 0, 0, 0, 0, 0, 0, 0, 0, 0, 0, 0, 0, 0, 0, 0, 0, 0])"
      ]
     },
     "execution_count": 12,
     "metadata": {},
     "output_type": "execute_result"
    }
   ],
   "source": [
    "y "
   ]
  },
  {
   "cell_type": "code",
   "execution_count": 15,
   "id": "3309c3e8",
   "metadata": {},
   "outputs": [
    {
     "data": {
      "text/plain": [
       "dict_keys(['data', 'target', 'frame', 'target_names', 'DESCR', 'feature_names', 'filename'])"
      ]
     },
     "execution_count": 15,
     "metadata": {},
     "output_type": "execute_result"
    }
   ],
   "source": [
    "iris.keys() "
   ]
  },
  {
   "cell_type": "code",
   "execution_count": 16,
   "id": "b17f2dda",
   "metadata": {},
   "outputs": [
    {
     "data": {
      "text/plain": [
       "array(['setosa', 'versicolor', 'virginica'], dtype='<U10')"
      ]
     },
     "execution_count": 16,
     "metadata": {},
     "output_type": "execute_result"
    }
   ],
   "source": [
    "iris.target_names "
   ]
  },
  {
   "cell_type": "code",
   "execution_count": 17,
   "id": "c3e517a5",
   "metadata": {
    "scrolled": true
   },
   "outputs": [
    {
     "data": {
      "text/plain": [
       "['sepal length (cm)',\n",
       " 'sepal width (cm)',\n",
       " 'petal length (cm)',\n",
       " 'petal width (cm)']"
      ]
     },
     "execution_count": 17,
     "metadata": {},
     "output_type": "execute_result"
    }
   ],
   "source": [
    "iris.feature_names"
   ]
  },
  {
   "cell_type": "markdown",
   "id": "22ab45ff",
   "metadata": {},
   "source": [
    "# Clasificación binaria de acuerdo a la longitud y el ancho de sépalo"
   ]
  },
  {
   "cell_type": "code",
   "execution_count": 18,
   "id": "26609dc4",
   "metadata": {
    "scrolled": true
   },
   "outputs": [
    {
     "data": {
      "image/png": "[encoded data removed]",
      "text/plain": [
       "<Figure size 432x288 with 1 Axes>"
      ]
     },
     "metadata": {
      "needs_background": "light"
     },
     "output_type": "display_data"
    }
   ],
   "source": [
    "import matplotlib.pyplot as plt\n",
    "\n",
    "plt.plot(X[y==0,0],X[y==0,1], 'go', label = 'No setosa')\n",
    "\n",
    "plt.plot(X[y==1,0],X[y==1,1], 'ro', label = 'Setosa')\n",
    "\n",
    "plt.xlabel('Longitud de sépalo')\n",
    "plt.ylabel('Ancho de sépalo')\n",
    "plt.legend() \n",
    "\n",
    "plt.show() "
   ]
  },
  {
   "cell_type": "markdown",
   "id": "7f1e1bac",
   "metadata": {},
   "source": [
    "# Clasificación de acuerdo a longitud y ancho de pétalo"
   ]
  },
  {
   "cell_type": "code",
   "execution_count": 19,
   "id": "83b6109c",
   "metadata": {},
   "outputs": [
    {
     "data": {
      "image/png": "[encoded data removed]",
      "text/plain": [
       "<Figure size 432x288 with 1 Axes>"
      ]
     },
     "metadata": {
      "needs_background": "light"
     },
     "output_type": "display_data"
    }
   ],
   "source": [
    "import matplotlib.pyplot as plt\n",
    "\n",
    "plt.plot(X[y==0,2],X[y==0,3], 'go', label = 'No setosa')\n",
    "\n",
    "plt.plot(X[y==1,2],X[y==1,3], 'ro', label = 'Setosa')\n",
    "\n",
    "plt.xlabel('Longitud de pétalo')\n",
    "plt.ylabel('Ancho de pétalo')\n",
    "plt.legend() \n",
    "\n",
    "plt.show() "
   ]
  },
  {
   "cell_type": "markdown",
   "id": "923d79b5",
   "metadata": {},
   "source": [
    "# Tres ejercicios propuestos más"
   ]
  },
  {
   "cell_type": "markdown",
   "id": "84c674db",
   "metadata": {},
   "source": [
    "## Problema 1.\n",
    "Considere el dataset titanic.csv, el cual puede descargar desde:\n",
    "\n",
    "https://raw.githubusercontent.com/Foundations-of-Applied-Mathematics/Data/master/Pandas3/titanic.csv\n",
    "\n",
    "Posteriormente construya un transformador personalizado siguiendo las convenciones de sklearn y cada\n",
    "uno de los pasos:\n",
    "\n",
    "1) Extraer una copia en forma de DataFrame solo con las columnas \"Pclass\", \"Sex\" y \"Age\".\n",
    "2) Reemplace los valores NaN de la columna \"Age\" con el promedio de \"Age\".\n",
    "3) Convierta la columna categórica usando la clase OneHotEncoder\n",
    "4) Asegúrese de retornar en el transformador personalizado un arreglo de NumPy."
   ]
  },
  {
   "cell_type": "markdown",
   "id": "39b04b66",
   "metadata": {},
   "source": [
    "Problema 2.\n",
    "1) Prepare el escenario para entrenar dos modelos de clasificación. Tome como variable objetivo a la\n",
    "columna \"Survived\". Separe los datos para entrenar y para testear.\n",
    "2) Use el transformador personalizado del Problema 1. para preparar los datos de entrenamiento y de testeo.\n",
    "3) Entrene modelos con las clases LogisticRegressionClassifier y RandomForestClassifier sobre los datos\n",
    "de entrenamiento procesados y luego reporte medición de sus desempeños usando validación cruzada sobre los\n",
    "datos de entrenamiento. (opcional el número de hojas de validación)."
   ]
  },
  {
   "cell_type": "markdown",
   "id": "8e26c3c3",
   "metadata": {},
   "source": [
    "## Problema 3."
   ]
  },
  {
   "cell_type": "markdown",
   "id": "9b6b15e8",
   "metadata": {},
   "source": [
    "1) Tomando dos hyperparámetros por cada modelo (LogisticRegressionClassifier y RandomForestClassifier), construya una regilla de búsqueda.  \n",
    "\n",
    "2) Entrene los modelos usando la clase `GridSearchCV` y la regilla previamente construida.  \n",
    "\n",
    "3) Reporte por cada modelo, cuáles fueron los mejores parámetros y sus respectivos desempeños.\n",
    "\n",
    "4) Seleccione como modelo final el que considere que puede generalizar mejor y reporte su   \n",
    "   desempeño sobre los datos de testeo."
   ]
  },
  {
   "cell_type": "code",
   "execution_count": null,
   "id": "74a2d37c",
   "metadata": {},
   "outputs": [],
   "source": []
  },
  {
   "cell_type": "code",
   "execution_count": null,
   "id": "727acbf4",
   "metadata": {},
   "outputs": [],
   "source": []
  },
  {
   "cell_type": "code",
   "execution_count": null,
   "id": "6499f185",
   "metadata": {},
   "outputs": [],
   "source": []
  }
 ],
 "metadata": {
  "celltoolbar": "Slideshow",
  "kernelspec": {
   "display_name": "Python 3 (ipykernel)",
   "language": "python",
   "name": "python3"
  },
  "language_info": {
   "codemirror_mode": {
    "name": "ipython",
    "version": 3
   },
   "file_extension": ".py",
   "mimetype": "text/x-python",
   "name": "python",
   "nbconvert_exporter": "python",
   "pygments_lexer": "ipython3",
   "version": "3.9.7"
  }
 },
 "nbformat": 4,
 "nbformat_minor": 5
}
