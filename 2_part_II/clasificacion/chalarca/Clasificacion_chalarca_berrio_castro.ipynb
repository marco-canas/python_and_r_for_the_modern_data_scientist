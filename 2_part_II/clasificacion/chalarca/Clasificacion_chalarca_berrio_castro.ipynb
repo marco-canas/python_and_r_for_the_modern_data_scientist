{
 "cells": [
  {
   "cell_type": "markdown",
   "metadata": {},
   "source": [
    "# Predicción de desempeño de estudiantes"
   ]
  },
  {
   "cell_type": "code",
   "execution_count": 1,
   "metadata": {
    "id": "hk55dY27nXK7"
   },
   "outputs": [],
   "source": [
    "import numpy as np\n",
    "import pandas as pd\n",
    "import matplotlib.pyplot as plt\n",
    "from sklearn.model_selection import train_test_split\n",
    "from sklearn.preprocessing import StandardScaler\n",
    "from sklearn.base import BaseEstimator, TransformerMixin\n",
    "from sklearn.impute import SimpleImputer\n",
    "from sklearn.preprocessing import OneHotEncoder\n",
    "from sklearn.linear_model import LogisticRegression\n",
    "from sklearn.ensemble import RandomForestClassifier\n",
    "from sklearn.metrics import confusion_matrix\n",
    "from sklearn.pipeline import Pipeline\n",
    "from sklearn.model_selection import GridSearchCV"
   ]
  },
  {
   "cell_type": "code",
   "execution_count": 3,
   "metadata": {
    "colab": {
     "base_uri": "https://localhost:8080/",
     "height": 317
    },
    "id": "2MApm5PFnXLC",
    "outputId": "3285acf8-c71b-497b-9c42-a0a731439b54"
   },
   "outputs": [
    {
     "data": {
      "text/html": [
       "\n",
       "  <div id=\"df-243aca81-ece2-4c40-b416-f5ff272619bb\">\n",
       "    <div class=\"colab-df-container\">\n",
       "      <div>\n",
       "<style scoped>\n",
       "    .dataframe tbody tr th:only-of-type {\n",
       "        vertical-align: middle;\n",
       "    }\n",
       "\n",
       "    .dataframe tbody tr th {\n",
       "        vertical-align: top;\n",
       "    }\n",
       "\n",
       "    .dataframe thead th {\n",
       "        text-align: right;\n",
       "    }\n",
       "</style>\n",
       "<table border=\"1\" class=\"dataframe\">\n",
       "  <thead>\n",
       "    <tr style=\"text-align: right;\">\n",
       "      <th></th>\n",
       "      <th>STUDENTID</th>\n",
       "      <th>AGE</th>\n",
       "      <th>GENDER</th>\n",
       "      <th>HS_TYPE</th>\n",
       "      <th>SCHOLARSHIP</th>\n",
       "      <th>WORK</th>\n",
       "      <th>ACTIVITY</th>\n",
       "      <th>PARTNER</th>\n",
       "      <th>SALARY</th>\n",
       "      <th>TRANSPORT</th>\n",
       "      <th>...</th>\n",
       "      <th>PREP_STUDY</th>\n",
       "      <th>PREP_EXAM</th>\n",
       "      <th>NOTES</th>\n",
       "      <th>LISTENS</th>\n",
       "      <th>LIKES_DISCUSS</th>\n",
       "      <th>CLASSROOM</th>\n",
       "      <th>CUML_GPA</th>\n",
       "      <th>EXP_GPA</th>\n",
       "      <th>COURSE ID</th>\n",
       "      <th>GRADE</th>\n",
       "    </tr>\n",
       "  </thead>\n",
       "  <tbody>\n",
       "    <tr>\n",
       "      <th>0</th>\n",
       "      <td>STUDENT1</td>\n",
       "      <td>2</td>\n",
       "      <td>2</td>\n",
       "      <td>3</td>\n",
       "      <td>3</td>\n",
       "      <td>1</td>\n",
       "      <td>2</td>\n",
       "      <td>2</td>\n",
       "      <td>1</td>\n",
       "      <td>1</td>\n",
       "      <td>...</td>\n",
       "      <td>1</td>\n",
       "      <td>1</td>\n",
       "      <td>3</td>\n",
       "      <td>2</td>\n",
       "      <td>1</td>\n",
       "      <td>2</td>\n",
       "      <td>1</td>\n",
       "      <td>1</td>\n",
       "      <td>1</td>\n",
       "      <td>1</td>\n",
       "    </tr>\n",
       "    <tr>\n",
       "      <th>1</th>\n",
       "      <td>STUDENT2</td>\n",
       "      <td>2</td>\n",
       "      <td>2</td>\n",
       "      <td>3</td>\n",
       "      <td>3</td>\n",
       "      <td>1</td>\n",
       "      <td>2</td>\n",
       "      <td>2</td>\n",
       "      <td>1</td>\n",
       "      <td>1</td>\n",
       "      <td>...</td>\n",
       "      <td>1</td>\n",
       "      <td>1</td>\n",
       "      <td>3</td>\n",
       "      <td>2</td>\n",
       "      <td>3</td>\n",
       "      <td>2</td>\n",
       "      <td>2</td>\n",
       "      <td>3</td>\n",
       "      <td>1</td>\n",
       "      <td>1</td>\n",
       "    </tr>\n",
       "    <tr>\n",
       "      <th>2</th>\n",
       "      <td>STUDENT3</td>\n",
       "      <td>2</td>\n",
       "      <td>2</td>\n",
       "      <td>2</td>\n",
       "      <td>3</td>\n",
       "      <td>2</td>\n",
       "      <td>2</td>\n",
       "      <td>2</td>\n",
       "      <td>2</td>\n",
       "      <td>4</td>\n",
       "      <td>...</td>\n",
       "      <td>1</td>\n",
       "      <td>1</td>\n",
       "      <td>2</td>\n",
       "      <td>2</td>\n",
       "      <td>1</td>\n",
       "      <td>1</td>\n",
       "      <td>2</td>\n",
       "      <td>2</td>\n",
       "      <td>1</td>\n",
       "      <td>1</td>\n",
       "    </tr>\n",
       "    <tr>\n",
       "      <th>3</th>\n",
       "      <td>STUDENT4</td>\n",
       "      <td>1</td>\n",
       "      <td>1</td>\n",
       "      <td>1</td>\n",
       "      <td>3</td>\n",
       "      <td>1</td>\n",
       "      <td>2</td>\n",
       "      <td>1</td>\n",
       "      <td>2</td>\n",
       "      <td>1</td>\n",
       "      <td>...</td>\n",
       "      <td>1</td>\n",
       "      <td>2</td>\n",
       "      <td>3</td>\n",
       "      <td>2</td>\n",
       "      <td>2</td>\n",
       "      <td>1</td>\n",
       "      <td>3</td>\n",
       "      <td>2</td>\n",
       "      <td>1</td>\n",
       "      <td>1</td>\n",
       "    </tr>\n",
       "    <tr>\n",
       "      <th>4</th>\n",
       "      <td>STUDENT5</td>\n",
       "      <td>2</td>\n",
       "      <td>2</td>\n",
       "      <td>1</td>\n",
       "      <td>3</td>\n",
       "      <td>2</td>\n",
       "      <td>2</td>\n",
       "      <td>1</td>\n",
       "      <td>3</td>\n",
       "      <td>1</td>\n",
       "      <td>...</td>\n",
       "      <td>2</td>\n",
       "      <td>1</td>\n",
       "      <td>2</td>\n",
       "      <td>2</td>\n",
       "      <td>2</td>\n",
       "      <td>1</td>\n",
       "      <td>2</td>\n",
       "      <td>2</td>\n",
       "      <td>1</td>\n",
       "      <td>1</td>\n",
       "    </tr>\n",
       "  </tbody>\n",
       "</table>\n",
       "<p>5 rows × 33 columns</p>\n",
       "</div>\n",
       "      <button class=\"colab-df-convert\" onclick=\"convertToInteractive('df-243aca81-ece2-4c40-b416-f5ff272619bb')\"\n",
       "              title=\"Convert this dataframe to an interactive table.\"\n",
       "              style=\"display:none;\">\n",
       "        \n",
       "  <svg xmlns=\"http://www.w3.org/2000/svg\" height=\"24px\"viewBox=\"0 0 24 24\"\n",
       "       width=\"24px\">\n",
       "    <path d=\"M0 0h24v24H0V0z\" fill=\"none\"/>\n",
       "    <path d=\"M18.56 5.44l.94 2.06.94-2.06 2.06-.94-2.06-.94-.94-2.06-.94 2.06-2.06.94zm-11 1L8.5 8.5l.94-2.06 2.06-.94-2.06-.94L8.5 2.5l-.94 2.06-2.06.94zm10 10l.94 2.06.94-2.06 2.06-.94-2.06-.94-.94-2.06-.94 2.06-2.06.94z\"/><path d=\"M17.41 7.96l-1.37-1.37c-.4-.4-.92-.59-1.43-.59-.52 0-1.04.2-1.43.59L10.3 9.45l-7.72 7.72c-.78.78-.78 2.05 0 2.83L4 21.41c.39.39.9.59 1.41.59.51 0 1.02-.2 1.41-.59l7.78-7.78 2.81-2.81c.8-.78.8-2.07 0-2.86zM5.41 20L4 18.59l7.72-7.72 1.47 1.35L5.41 20z\"/>\n",
       "  </svg>\n",
       "      </button>\n",
       "      \n",
       "  <style>\n",
       "    .colab-df-container {\n",
       "      display:flex;\n",
       "      flex-wrap:wrap;\n",
       "      gap: 12px;\n",
       "    }\n",
       "\n",
       "    .colab-df-convert {\n",
       "      background-color: #E8F0FE;\n",
       "      border: none;\n",
       "      border-radius: 50%;\n",
       "      cursor: pointer;\n",
       "      display: none;\n",
       "      fill: #1967D2;\n",
       "      height: 32px;\n",
       "      padding: 0 0 0 0;\n",
       "      width: 32px;\n",
       "    }\n",
       "\n",
       "    .colab-df-convert:hover {\n",
       "      background-color: #E2EBFA;\n",
       "      box-shadow: 0px 1px 2px rgba(60, 64, 67, 0.3), 0px 1px 3px 1px rgba(60, 64, 67, 0.15);\n",
       "      fill: #174EA6;\n",
       "    }\n",
       "\n",
       "    [theme=dark] .colab-df-convert {\n",
       "      background-color: #3B4455;\n",
       "      fill: #D2E3FC;\n",
       "    }\n",
       "\n",
       "    [theme=dark] .colab-df-convert:hover {\n",
       "      background-color: #434B5C;\n",
       "      box-shadow: 0px 1px 3px 1px rgba(0, 0, 0, 0.15);\n",
       "      filter: drop-shadow(0px 1px 2px rgba(0, 0, 0, 0.3));\n",
       "      fill: #FFFFFF;\n",
       "    }\n",
       "  </style>\n",
       "\n",
       "      <script>\n",
       "        const buttonEl =\n",
       "          document.querySelector('#df-243aca81-ece2-4c40-b416-f5ff272619bb button.colab-df-convert');\n",
       "        buttonEl.style.display =\n",
       "          google.colab.kernel.accessAllowed ? 'block' : 'none';\n",
       "\n",
       "        async function convertToInteractive(key) {\n",
       "          const element = document.querySelector('#df-243aca81-ece2-4c40-b416-f5ff272619bb');\n",
       "          const dataTable =\n",
       "            await google.colab.kernel.invokeFunction('convertToInteractive',\n",
       "                                                     [key], {});\n",
       "          if (!dataTable) return;\n",
       "\n",
       "          const docLinkHtml = 'Like what you see? Visit the ' +\n",
       "            '<a target=\"_blank\" href=https://colab.research.google.com/notebooks/data_table.ipynb>data table notebook</a>'\n",
       "            + ' to learn more about interactive tables.';\n",
       "          element.innerHTML = '';\n",
       "          dataTable['output_type'] = 'display_data';\n",
       "          await google.colab.output.renderOutput(dataTable, element);\n",
       "          const docLink = document.createElement('div');\n",
       "          docLink.innerHTML = docLinkHtml;\n",
       "          element.appendChild(docLink);\n",
       "        }\n",
       "      </script>\n",
       "    </div>\n",
       "  </div>\n",
       "  "
      ],
      "text/plain": [
       "  STUDENTID  AGE  GENDER  HS_TYPE  SCHOLARSHIP  WORK  ACTIVITY  PARTNER  \\\n",
       "0  STUDENT1    2       2        3            3     1         2        2   \n",
       "1  STUDENT2    2       2        3            3     1         2        2   \n",
       "2  STUDENT3    2       2        2            3     2         2        2   \n",
       "3  STUDENT4    1       1        1            3     1         2        1   \n",
       "4  STUDENT5    2       2        1            3     2         2        1   \n",
       "\n",
       "   SALARY  TRANSPORT  ...  PREP_STUDY  PREP_EXAM  NOTES  LISTENS  \\\n",
       "0       1          1  ...           1          1      3        2   \n",
       "1       1          1  ...           1          1      3        2   \n",
       "2       2          4  ...           1          1      2        2   \n",
       "3       2          1  ...           1          2      3        2   \n",
       "4       3          1  ...           2          1      2        2   \n",
       "\n",
       "   LIKES_DISCUSS  CLASSROOM  CUML_GPA  EXP_GPA  COURSE ID  GRADE  \n",
       "0              1          2         1        1          1      1  \n",
       "1              3          2         2        3          1      1  \n",
       "2              1          1         2        2          1      1  \n",
       "3              2          1         3        2          1      1  \n",
       "4              2          1         2        2          1      1  \n",
       "\n",
       "[5 rows x 33 columns]"
      ]
     },
     "execution_count": 3,
     "metadata": {},
     "output_type": "execute_result"
    }
   ],
   "source": [
    "df= pd.read_csv('student_prediction.csv')\n",
    "\n",
    "df.head()"
   ]
  },
  {
   "cell_type": "code",
   "execution_count": 9,
   "metadata": {
    "colab": {
     "base_uri": "https://localhost:8080/"
    },
    "id": "FYV3w_34e_vK",
    "outputId": "2df4bd74-7025-430b-f920-c7c0d7c5e95f"
   },
   "outputs": [
    {
     "data": {
      "text/plain": [
       "1    35\n",
       "2    24\n",
       "3    21\n",
       "5    17\n",
       "7    17\n",
       "6    13\n",
       "4    10\n",
       "0     8\n",
       "Name: GRADE, dtype: int64"
      ]
     },
     "execution_count": 9,
     "metadata": {},
     "output_type": "execute_result"
    }
   ],
   "source": [
    "df[\"GRADE\"].value_counts()"
   ]
  },
  {
   "cell_type": "code",
   "execution_count": 10,
   "metadata": {
    "colab": {
     "base_uri": "https://localhost:8080/"
    },
    "id": "9haDoPkn0ysO",
    "outputId": "23086d86-d2ab-42d3-c1b7-2c57bcd4b499"
   },
   "outputs": [
    {
     "name": "stdout",
     "output_type": "stream",
     "text": [
      "<class 'pandas.core.frame.DataFrame'>\n",
      "RangeIndex: 145 entries, 0 to 144\n",
      "Data columns (total 15 columns):\n",
      " #   Column            Non-Null Count  Dtype\n",
      "---  ------            --------------  -----\n",
      " 0   EDAD              145 non-null    int64\n",
      " 1   GENERO            145 non-null    int64\n",
      " 2   TIPO_UNIVERSIDAD  145 non-null    int64\n",
      " 3   HRS SEMANAL       145 non-null    int64\n",
      " 4   FREQ LECTURA      145 non-null    int64\n",
      " 5   ASISTENCIA        145 non-null    int64\n",
      " 6   PREP EX1          145 non-null    int64\n",
      " 7   PREP_EX2          145 non-null    int64\n",
      " 8   NOTAS_CLASE       145 non-null    int64\n",
      " 9   ESCUCHA           145 non-null    int64\n",
      " 10  DISCUSION_PROF    145 non-null    int64\n",
      " 11  UTILIDAD_CLASE    145 non-null    int64\n",
      " 12  PROMEDIO_ACUM     145 non-null    int64\n",
      " 13  CURSO             145 non-null    int64\n",
      " 14  CALIFICACION      145 non-null    int64\n",
      "dtypes: int64(15)\n",
      "memory usage: 17.1 KB\n"
     ]
    }
   ],
   "source": [
    "data = df[[ 'AGE', 'GENDER', 'HS_TYPE',\n",
    "       'STUDY_HRS', 'READ_FREQ','ATTEND', 'PREP_STUDY',\n",
    "       'PREP_EXAM', 'NOTES', 'LISTENS','LIKES_DISCUSS',\n",
    "       'CLASSROOM', 'CUML_GPA', 'COURSE ID','GRADE']]\n",
    "data.columns = ['EDAD','GENERO','TIPO_UNIVERSIDAD',\n",
    "        'HRS SEMANAL','FREQ LECTURA','ASISTENCIA','PREP EX1',\n",
    "        'PREP_EX2','NOTAS_CLASE','ESCUCHA','DISCUSION_PROF',\n",
    "        'UTILIDAD_CLASE','PROMEDIO_ACUM','CURSO','CALIFICACION']\n",
    "data.info()"
   ]
  },
  {
   "cell_type": "code",
   "execution_count": 11,
   "metadata": {
    "colab": {
     "base_uri": "https://localhost:8080/"
    },
    "id": "sBC-yc09nXLE",
    "outputId": "d944a78d-afcf-4217-bc68-33b77961c509"
   },
   "outputs": [
    {
     "data": {
      "text/plain": [
       "CALIFICACION        1.000000\n",
       "GENERO              0.335533\n",
       "PROMEDIO_ACUM       0.315493\n",
       "FREQ LECTURA        0.195617\n",
       "DISCUSION_PROF      0.146547\n",
       "CURSO               0.142166\n",
       "UTILIDAD_CLASE      0.110617\n",
       "TIPO_UNIVERSIDAD    0.104821\n",
       "ESCUCHA             0.085137\n",
       "PREP_EX2            0.073783\n",
       "NOTAS_CLASE         0.044862\n",
       "PREP EX1            0.014638\n",
       "HRS SEMANAL        -0.033065\n",
       "EDAD               -0.095251\n",
       "ASISTENCIA         -0.139564\n",
       "Name: CALIFICACION, dtype: float64"
      ]
     },
     "execution_count": 11,
     "metadata": {},
     "output_type": "execute_result"
    }
   ],
   "source": [
    "estudiantes_notas = data['CALIFICACION']\n",
    "estudiantes = data.drop('CALIFICACION',axis=1)\n",
    "\n",
    "X_train, X_test, y_train, y_test = train_test_split(estudiantes, estudiantes_notas)\n",
    "\n",
    "\n",
    "data.corr().CALIFICACION.sort_values(ascending = False)"
   ]
  },
  {
   "cell_type": "code",
   "execution_count": 12,
   "metadata": {
    "colab": {
     "base_uri": "https://localhost:8080/",
     "height": 275
    },
    "id": "f4NfLik8nXLG",
    "outputId": "0b3fbf86-3813-4159-d695-18813141734f"
   },
   "outputs": [
    {
     "data": {
      "image/png": "[encoded data removed]",
      "text/plain": [
       "<Figure size 432x288 with 4 Axes>"
      ]
     },
     "metadata": {
      "needs_background": "light"
     },
     "output_type": "display_data"
    }
   ],
   "source": [
    "from pandas.plotting import scatter_matrix \n",
    "scatter_matrix(data[['CALIFICACION', 'PROMEDIO_ACUM']])\n",
    "plt.show()"
   ]
  },
  {
   "cell_type": "code",
   "execution_count": 13,
   "metadata": {
    "id": "x-ZBWan2nXLH"
   },
   "outputs": [],
   "source": [
    "lista_atrib_binarios = ['GENERO','ASISTENCIA']\n",
    "lista_atrib_multi_clase =['EDAD','TIPO_UNIVERSIDAD',\n",
    "        'HRS SEMANAL','FREQ LECTURA','PREP EX1',\n",
    "        'PREP_EX2','NOTAS_CLASE','ESCUCHA','DISCUSION_PROF',\n",
    "        'UTILIDAD_CLASE','PROMEDIO_ACUM','CURSO']\n",
    "\n",
    "from sklearn.compose import ColumnTransformer         \n",
    "from sklearn.preprocessing import OrdinalEncoder, OneHotEncoder\n",
    "procesador = ColumnTransformer([\n",
    "    ('bi',OrdinalEncoder(),lista_atrib_binarios),\n",
    "    ('multi',OneHotEncoder(), lista_atrib_multi_clase)\n",
    "])"
   ]
  },
  {
   "cell_type": "code",
   "execution_count": 14,
   "metadata": {
    "id": "Yy0sfwMcnXLI"
   },
   "outputs": [],
   "source": [
    "X_train_preparados = procesador.fit_transform(X_train)\n",
    "X_test_preparados = procesador.transform(X_test)"
   ]
  },
  {
   "cell_type": "code",
   "execution_count": 15,
   "metadata": {
    "colab": {
     "base_uri": "https://localhost:8080/"
    },
    "id": "2jEWLUJanXLJ",
    "outputId": "156e9478-91d8-4cd9-d961-d7e3670a072a"
   },
   "outputs": [
    {
     "data": {
      "text/plain": [
       "(108, 48)"
      ]
     },
     "execution_count": 15,
     "metadata": {},
     "output_type": "execute_result"
    }
   ],
   "source": [
    "X_train_preparados.shape"
   ]
  },
  {
   "cell_type": "code",
   "execution_count": 2,
   "metadata": {
    "id": "NBXDFnOenXLL"
   },
   "outputs": [],
   "source": [
    "from sklearn.linear_model import SGDClassifier\n",
    "from sklearn.ensemble import RandomForestClassifier  "
   ]
  },
  {
   "cell_type": "code",
   "execution_count": 3,
   "metadata": {
    "id": "KMcUARylnXLM"
   },
   "outputs": [],
   "source": [
    "r_forest = RandomForestClassifier()\n",
    "r_sgd = SGDClassifier(random_state=42)"
   ]
  },
  {
   "cell_type": "code",
   "execution_count": 19,
   "metadata": {
    "colab": {
     "base_uri": "https://localhost:8080/"
    },
    "id": "IDip44-KnXLN",
    "outputId": "a05517c7-062d-4f33-8201-71ee72684819"
   },
   "outputs": [
    {
     "data": {
      "text/plain": [
       "SGDClassifier(random_state=42)"
      ]
     },
     "execution_count": 19,
     "metadata": {},
     "output_type": "execute_result"
    }
   ],
   "source": [
    "r_forest.fit(X_train_preparados, y_train)\n",
    "r_sgd.fit(X_train_preparados, y_train)"
   ]
  },
  {
   "cell_type": "code",
   "execution_count": 20,
   "metadata": {
    "id": "uBaClcoknXLO"
   },
   "outputs": [],
   "source": [
    "from sklearn.model_selection import cross_val_score\n",
    "\n",
    "score_forest = np.sqrt(-cross_val_score(r_forest, X_train_preparados, y_train, cv = 10,\n",
    "                               scoring = 'neg_mean_squared_error'))\n",
    "\n",
    "score_sgd = np.sqrt(-cross_val_score(r_sgd, X_train_preparados, y_train, cv = 5,\n",
    "                               scoring = 'neg_mean_squared_error'))\n",
    "                               \n"
   ]
  },
  {
   "cell_type": "code",
   "execution_count": 21,
   "metadata": {
    "colab": {
     "base_uri": "https://localhost:8080/"
    },
    "id": "SjM956YcnXLP",
    "outputId": "f49439f7-b2fd-43fd-c197-2f5b0a5f06a6"
   },
   "outputs": [
    {
     "name": "stdout",
     "output_type": "stream",
     "text": [
      "1.3266977355452823 2.1804153080459767\n"
     ]
    }
   ],
   "source": [
    "print(score_forest.mean(),score_sgd.mean())"
   ]
  },
  {
   "cell_type": "code",
   "execution_count": 22,
   "metadata": {
    "colab": {
     "base_uri": "https://localhost:8080/"
    },
    "id": "g0trfxlu9zxY",
    "outputId": "a010d278-b41f-4f6e-beae-70c505c21ae7"
   },
   "outputs": [
    {
     "data": {
      "text/plain": [
       "array([[ 2,  1,  2,  1,  1,  0,  0,  1],\n",
       "       [ 1, 15,  4,  2,  1,  3,  1,  0],\n",
       "       [ 0,  5,  5,  5,  5,  0,  0,  0],\n",
       "       [ 0,  2,  2,  4,  0,  4,  1,  1],\n",
       "       [ 0,  1,  3,  3,  0,  0,  0,  1],\n",
       "       [ 0,  1,  1,  2,  1,  2,  0,  1],\n",
       "       [ 1,  0,  0,  1,  0,  0,  4,  4],\n",
       "       [ 0,  0,  1,  2,  1,  1,  4,  4]])"
      ]
     },
     "execution_count": 22,
     "metadata": {},
     "output_type": "execute_result"
    }
   ],
   "source": [
    "from sklearn.model_selection import cross_val_predict\n",
    "y_train_pred = cross_val_predict(r_sgd, X_train_preparados, y_train, cv=3)\n",
    "conf_mx = confusion_matrix(y_train, y_train_pred)\n",
    "conf_mx"
   ]
  },
  {
   "cell_type": "code",
   "execution_count": 23,
   "metadata": {
    "colab": {
     "base_uri": "https://localhost:8080/",
     "height": 275
    },
    "id": "K-ulvdZM_AeN",
    "outputId": "de18515d-3dcd-46bf-eac6-cc763bedaeb7"
   },
   "outputs": [
    {
     "data": {
      "image/png": "[encoded data removed]",
      "text/plain": [
       "<Figure size 288x288 with 1 Axes>"
      ]
     },
     "metadata": {
      "needs_background": "light"
     },
     "output_type": "display_data"
    }
   ],
   "source": [
    "plt.matshow(conf_mx, cmap=plt.cm.gray)\n",
    "plt.show()"
   ]
  },
  {
   "cell_type": "code",
   "execution_count": 24,
   "metadata": {
    "colab": {
     "base_uri": "https://localhost:8080/"
    },
    "id": "PJw4U6XxnXLQ",
    "outputId": "13cfb9aa-f56e-4e28-862a-94cfc77f7cbd"
   },
   "outputs": [
    {
     "data": {
      "text/plain": [
       "GridSearchCV(cv=10, estimator=RandomForestRegressor(),\n",
       "             param_grid={'bootstrap': [True, False],\n",
       "                         'max_depth': [10, 20, 30, None],\n",
       "                         'min_samples_leaf': [1, 2, 4],\n",
       "                         'min_samples_split': [2, 5, 10],\n",
       "                         'n_estimators': [10, 20]},\n",
       "             return_train_score=True, scoring='neg_mean_squared_error')"
      ]
     },
     "execution_count": 24,
     "metadata": {},
     "output_type": "execute_result"
    }
   ],
   "source": [
    "grid_param ={\n",
    "    'bootstrap': [True, False],\n",
    " 'max_depth': [10, 20, 30, None],\n",
    " 'min_samples_leaf': [1, 2, 4],\n",
    " 'min_samples_split': [2, 5, 10],\n",
    " 'n_estimators': [10, 20]\n",
    " }\n",
    "\n",
    "grid_search = GridSearchCV(r_forest, grid_param, cv = 10, scoring = 'neg_mean_squared_error',\\\n",
    "                          return_train_score = True)\n",
    "\n",
    "grid_search.fit(X_train_preparados, y_train)"
   ]
  },
  {
   "cell_type": "code",
   "execution_count": 25,
   "metadata": {
    "id": "Q__niGvCnXLR"
   },
   "outputs": [],
   "source": [
    "mejor_modelo=grid_search.best_estimator_"
   ]
  },
  {
   "cell_type": "code",
   "execution_count": 26,
   "metadata": {
    "colab": {
     "base_uri": "https://localhost:8080/"
    },
    "id": "NeJGg0ktnXLS",
    "outputId": "ebd6b04c-183b-47ea-fbfb-644a9d0b3036"
   },
   "outputs": [
    {
     "name": "stdout",
     "output_type": "stream",
     "text": [
      "1.290626981413708\n"
     ]
    },
    {
     "data": {
      "text/plain": [
       "0.8466601306904069"
      ]
     },
     "execution_count": 26,
     "metadata": {},
     "output_type": "execute_result"
    }
   ],
   "source": [
    "score_forest_mejor = np.sqrt(-cross_val_score(mejor_modelo, X_train_preparados, y_train, cv = 10,\n",
    "                               scoring = 'neg_mean_squared_error'))\n",
    "print(score_forest_mejor.mean())\n",
    "mejor_modelo.score(X_train_preparados,y_train)"
   ]
  },
  {
   "cell_type": "code",
   "execution_count": 27,
   "metadata": {
    "colab": {
     "base_uri": "https://localhost:8080/"
    },
    "id": "vyv9veGKnXLT",
    "outputId": "5b39c0e3-053c-4e7a-8f33-c67be921bd0c"
   },
   "outputs": [
    {
     "data": {
      "text/plain": [
       "1.7131646894315686"
      ]
     },
     "execution_count": 27,
     "metadata": {},
     "output_type": "execute_result"
    }
   ],
   "source": [
    "X_test_prep = procesador.transform(X_test)\n",
    "from sklearn.metrics import mean_squared_error \n",
    "data_test_predicciones = mejor_modelo.predict(X_test_prep)\n",
    "np.sqrt(mean_squared_error(y_test, data_test_predicciones))"
   ]
  },
  {
   "cell_type": "code",
   "execution_count": 29,
   "metadata": {
    "colab": {
     "base_uri": "https://localhost:8080/"
    },
    "id": "iu8fTrCdlsvU",
    "outputId": "a7d49764-ead4-4ee2-8f33-57dbb8d0e2f9"
   },
   "outputs": [
    {
     "data": {
      "text/plain": [
       "KNeighborsClassifier()"
      ]
     },
     "execution_count": 29,
     "metadata": {},
     "output_type": "execute_result"
    }
   ],
   "source": [
    "from sklearn.neighbors import KNeighborsClassifier\n",
    "y_train_win=(y_train>=4)\n",
    "knn_clf=KNeighborsClassifier()\n",
    "knn_clf.fit(X_train.values,y_train_win.values)"
   ]
  },
  {
   "cell_type": "code",
   "execution_count": 44,
   "metadata": {
    "id": "WLEnqA2fCr5f"
   },
   "outputs": [],
   "source": [
    "some_student=estudiantes.iloc[0]"
   ]
  },
  {
   "cell_type": "code",
   "execution_count": 45,
   "metadata": {
    "colab": {
     "base_uri": "https://localhost:8080/"
    },
    "id": "1iQXerbMChjk",
    "outputId": "13c460e5-f632-4c74-e128-52cb843b2c6f"
   },
   "outputs": [
    {
     "data": {
      "text/plain": [
       "array([False])"
      ]
     },
     "execution_count": 45,
     "metadata": {},
     "output_type": "execute_result"
    }
   ],
   "source": [
    "knn_clf.predict([some_student])"
   ]
  },
  {
   "cell_type": "code",
   "execution_count": 32,
   "metadata": {
    "colab": {
     "base_uri": "https://localhost:8080/"
    },
    "id": "CDQ3wCZoCnnR",
    "outputId": "28589ad3-da99-47f4-f457-f5669a6374ad"
   },
   "outputs": [
    {
     "data": {
      "text/plain": [
       "0.773886562618957"
      ]
     },
     "execution_count": 32,
     "metadata": {},
     "output_type": "execute_result"
    }
   ],
   "source": [
    "from sklearn.metrics import f1_score\n",
    "y_train_knn_pred = cross_val_predict(knn_clf, X_train_preparados, y_train_win, cv=3)\n",
    "f1_score(y_train_win, y_train_knn_pred, average=\"macro\")"
   ]
  },
  {
   "cell_type": "code",
   "execution_count": 37,
   "metadata": {
    "colab": {
     "base_uri": "https://localhost:8080/"
    },
    "id": "SC-Z3BiaeLal",
    "outputId": "88fe0b60-af30-401e-af54-90d39673ea75"
   },
   "outputs": [
    {
     "name": "stdout",
     "output_type": "stream",
     "text": [
      "2.1221325136810476\n"
     ]
    }
   ],
   "source": [
    "from sklearn.multiclass import OneVsRestClassifier\n",
    "from sklearn.svm import SVC\n",
    "ovr_clf = OneVsRestClassifier(SVC(gamma=\"auto\", random_state=42))\n",
    "ovr_clf.fit(X_train.values, y_train.values)\n",
    "score_ovr = np.sqrt(-cross_val_score(ovr_clf, X_train, y_train, cv = 5,\n",
    "                               scoring = 'neg_mean_squared_error'))\n",
    "print(score_ovr.mean())"
   ]
  },
  {
   "cell_type": "code",
   "execution_count": 46,
   "metadata": {
    "colab": {
     "base_uri": "https://localhost:8080/"
    },
    "id": "C2cXKJUAnRzf",
    "outputId": "93c1e1d9-dd86-407d-8a8d-258e1ebb2780"
   },
   "outputs": [
    {
     "data": {
      "text/plain": [
       "array([1])"
      ]
     },
     "execution_count": 46,
     "metadata": {},
     "output_type": "execute_result"
    }
   ],
   "source": [
    "ovr_clf.predict([some_student])"
   ]
  },
  {
   "cell_type": "code",
   "execution_count": 38,
   "metadata": {
    "colab": {
     "base_uri": "https://localhost:8080/"
    },
    "id": "mCf8JcWseP94",
    "outputId": "58ab4ca2-f890-447f-fed4-fa6bd3febbb0"
   },
   "outputs": [
    {
     "data": {
      "text/plain": [
       "8"
      ]
     },
     "execution_count": 38,
     "metadata": {},
     "output_type": "execute_result"
    }
   ],
   "source": [
    "len(ovr_clf.estimators_)"
   ]
  },
  {
   "cell_type": "code",
   "execution_count": 39,
   "metadata": {
    "id": "vhLNmlFtetYW"
   },
   "outputs": [],
   "source": [
    "knn_clf1 = KNeighborsClassifier()"
   ]
  },
  {
   "cell_type": "code",
   "execution_count": 40,
   "metadata": {
    "colab": {
     "base_uri": "https://localhost:8080/"
    },
    "id": "wgyP1FrfevpI",
    "outputId": "fef74432-76ab-47ab-9838-579da09fc3ef"
   },
   "outputs": [
    {
     "data": {
      "text/plain": [
       "KNeighborsClassifier()"
      ]
     },
     "execution_count": 40,
     "metadata": {},
     "output_type": "execute_result"
    }
   ],
   "source": [
    "knn_clf1.fit(X_train_preparados, y_train)"
   ]
  },
  {
   "cell_type": "code",
   "execution_count": 41,
   "metadata": {
    "colab": {
     "base_uri": "https://localhost:8080/"
    },
    "id": "gX2rSGyMeyRY",
    "outputId": "0c487b01-ac98-492a-8957-7d5b9698b59d"
   },
   "outputs": [
    {
     "name": "stdout",
     "output_type": "stream",
     "text": [
      "1.7189378054082645\n"
     ]
    }
   ],
   "source": [
    "\n",
    "score_knn = np.sqrt(-cross_val_score(knn_clf, X_train, y_train, cv = 5,\n",
    "                               scoring = 'neg_mean_squared_error'))\n",
    "print(score_knn.mean())"
   ]
  },
  {
   "cell_type": "code",
   "execution_count": 43,
   "metadata": {
    "colab": {
     "base_uri": "https://localhost:8080/"
    },
    "id": "2b_3sOWvnDfq",
    "outputId": "dc81a2a6-00a9-49ba-ec4a-da71562db75f"
   },
   "outputs": [
    {
     "data": {
      "text/plain": [
       "0.21621621621621623"
      ]
     },
     "execution_count": 43,
     "metadata": {},
     "output_type": "execute_result"
    }
   ],
   "source": [
    "from sklearn.metrics import accuracy_score, precision_score, recall_score\n",
    "y_prediccion = knn_clf1.predict(X_test_preparados)\n",
    "accuracy_score(y_test, y_prediccion)"
   ]
  }
 ],
 "metadata": {
  "colab": {
   "collapsed_sections": [],
   "name": "exp (2) (1).ipynb",
   "provenance": []
  },
  "interpreter": {
   "hash": "c2f0d645032ec08456d057cd58b541ec3168da79358ef5f65396fa5430fbcdbf"
  },
  "kernelspec": {
   "display_name": "Python 3 (ipykernel)",
   "language": "python",
   "name": "python3"
  },
  "language_info": {
   "codemirror_mode": {
    "name": "ipython",
    "version": 3
   },
   "file_extension": ".py",
   "mimetype": "text/x-python",
   "name": "python",
   "nbconvert_exporter": "python",
   "pygments_lexer": "ipython3",
   "version": "3.9.7"
  }
 },
 "nbformat": 4,
 "nbformat_minor": 1
}
