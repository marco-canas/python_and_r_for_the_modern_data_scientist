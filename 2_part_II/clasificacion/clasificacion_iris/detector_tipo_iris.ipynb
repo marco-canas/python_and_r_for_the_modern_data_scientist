{
 "cells": [
  {
   "cell_type": "markdown",
   "metadata": {
    "slideshow": {
     "slide_type": "slide"
    }
   },
   "source": [
    "<table align=\"left\">\n",
    "  <td>\n",
    "    <a href=\"https://colab.research.google.com/github/marco-canas/Machine-Learning/blob/main/ML/classes/class_march_3/class_march_3.ipynb\" target=\"_parent\"><img src=\"https://colab.research.google.com/assets/colab-badge.svg\" alt=\"Open In Colab\"/></a>\n",
    "  </td>\n",
    "</table>"
   ]
  },
  {
   "cell_type": "markdown",
   "metadata": {
    "slideshow": {
     "slide_type": "slide"
    }
   },
   "source": [
    "## [Video de apoyo](https://www.youtube.com/watch?v=qLPdQUDKTTk)"
   ]
  },
  {
   "cell_type": "markdown",
   "metadata": {
    "id": "hZemkzmCukl9",
    "slideshow": {
     "slide_type": "slide"
    }
   },
   "source": [
    "# Detector de Flores de iris"
   ]
  },
  {
   "cell_type": "markdown",
   "metadata": {
    "slideshow": {
     "slide_type": "slide"
    }
   },
   "source": [
    "## Ronald Fisher  \n",
    "\n",
    "<img src = 'https://upload.wikimedia.org/wikipedia/commons/2/21/RonaldFisher1912.jpg'>"
   ]
  },
  {
   "cell_type": "markdown",
   "metadata": {
    "slideshow": {
     "slide_type": "slide"
    }
   },
   "source": [
    "<img src = 'https://live.staticflickr.com/7872/40110698543_23f5e6c0ef_m.jpg'>"
   ]
  },
  {
   "cell_type": "markdown",
   "metadata": {},
   "source": [
    "<img src = 'https://live.staticflickr.com/7866/47075467621_85ab810139_c.jpg'>"
   ]
  },
  {
   "cell_type": "markdown",
   "metadata": {
    "slideshow": {
     "slide_type": "slide"
    }
   },
   "source": [
    "# Flor de iris versicolor \n",
    "\n",
    "<img src = 'https://upload.wikimedia.org/wikipedia/commons/thumb/d/db/Iris_versicolor_4.jpg/1200px-Iris_versicolor_4.jpg'>"
   ]
  },
  {
   "cell_type": "markdown",
   "metadata": {
    "slideshow": {
     "slide_type": "slide"
    }
   },
   "source": [
    "# Flor de iris tipo Virgínica  \n",
    "\n",
    "<img src = 'https://www.fs.fed.us/wildflowers/beauty/iris/Blue_Flag/images/iris_virginica/iris_virginica_virginica_lg.jpg'> "
   ]
  },
  {
   "cell_type": "markdown",
   "metadata": {
    "slideshow": {
     "slide_type": "slide"
    }
   },
   "source": [
    "## [Video de apoyo]()"
   ]
  },
  {
   "cell_type": "code",
   "execution_count": 2,
   "metadata": {
    "executionInfo": {
     "elapsed": 1135,
     "status": "ok",
     "timestamp": 1649085965147,
     "user": {
      "displayName": "YUBER HERNANY TAPIAS ARBOLEDA",
      "userId": "05487048475511877153"
     },
     "user_tz": 300
    },
    "id": "U4gaVCpaux02",
    "slideshow": {
     "slide_type": "slide"
    }
   },
   "outputs": [],
   "source": [
    "# para procesamiento de datos y la visualización de los mismos\n",
    "import numpy as np\n",
    "import matplotlib.pyplot as plt \n",
    "import pandas as pd \n",
    "\n",
    "# para cargar los datos \n",
    "from sklearn.datasets import load_iris \n",
    "\n",
    "# Clase para la seleccion de atributos predictores\n",
    "from sklearn.base import BaseEstimator, TransformerMixin\n",
    "\n",
    "\n",
    "# División en entranamiento y testeo (Muestreo estratificado)\n",
    "from sklearn.model_selection import train_test_split\n",
    "\n",
    "# para escalar los datos \n",
    "from sklearn.preprocessing import StandardScaler\n",
    "\n",
    "\n",
    "# Modelos para la selección \n",
    "from sklearn.linear_model import SGDClassifier\n",
    "from sklearn.linear_model import LogisticRegression \n",
    "\n",
    "# para medir desempeño\n",
    "from sklearn.metrics import confusion_matrix, recall_score, precision_score \n",
    "\n",
    "\n",
    "# calculo de las predicciones en el conjunto de entrenamiento con la metodología de validación cruzada\n",
    "from sklearn.model_selection import cross_val_predict\n",
    "\n",
    "from sklearn.model_selection import GridSearchCV\n"
   ]
  },
  {
   "cell_type": "markdown",
   "metadata": {
    "id": "8aLQV3XT9BHh",
    "slideshow": {
     "slide_type": "slide"
    }
   },
   "source": [
    "# Obtención de datos \n"
   ]
  },
  {
   "cell_type": "code",
   "execution_count": 3,
   "metadata": {
    "colab": {
     "base_uri": "https://localhost:8080/"
    },
    "executionInfo": {
     "elapsed": 705,
     "status": "ok",
     "timestamp": 1649085965824,
     "user": {
      "displayName": "YUBER HERNANY TAPIAS ARBOLEDA",
      "userId": "05487048475511877153"
     },
     "user_tz": 300
    },
    "id": "KXk_ouDZ3q07",
    "outputId": "f83b12a5-25ff-46fb-83de-ffb82b67e6dd",
    "slideshow": {
     "slide_type": "slide"
    }
   },
   "outputs": [],
   "source": [
    "iris = load_iris()"
   ]
  },
  {
   "cell_type": "markdown",
   "metadata": {
    "slideshow": {
     "slide_type": "slide"
    }
   },
   "source": [
    "## División entre cuatro predictores y un vector unidimensional de etiquetas"
   ]
  },
  {
   "cell_type": "code",
   "execution_count": 4,
   "metadata": {
    "colab": {
     "base_uri": "https://localhost:8080/"
    },
    "executionInfo": {
     "elapsed": 72,
     "status": "ok",
     "timestamp": 1649085965825,
     "user": {
      "displayName": "YUBER HERNANY TAPIAS ARBOLEDA",
      "userId": "05487048475511877153"
     },
     "user_tz": 300
    },
    "id": "mxDhT4-v4GlP",
    "outputId": "cee52413-45d6-4e49-bc66-f268462b99d7",
    "slideshow": {
     "slide_type": "slide"
    }
   },
   "outputs": [],
   "source": [
    "X, y = iris.data, iris.target"
   ]
  },
  {
   "cell_type": "markdown",
   "metadata": {
    "slideshow": {
     "slide_type": "slide"
    }
   },
   "source": [
    "# Selección de atributos predictores con clase personalizada"
   ]
  },
  {
   "cell_type": "code",
   "execution_count": 6,
   "metadata": {
    "slideshow": {
     "slide_type": "slide"
    }
   },
   "outputs": [],
   "source": [
    "class SelectorAtributos(BaseEstimator, TransformerMixin):\n",
    "    def __init__(self, sl=False, sw=False, pl=False, pw=False, slw =True, \\\n",
    "                 plw = True):\n",
    "        self.sl = sl\n",
    "        self.sw = sw\n",
    "        self.pl = pl\n",
    "        self.pw = pw\n",
    "        self.slw = slw\n",
    "        self.plw = plw \n",
    "    def fit(self, X, y = None):\n",
    "        return self\n",
    "    def transform(self, X, y = None):\n",
    "        sl, sw, pl, pw = 0, 1, 2, 3\n",
    "        if self.sl:\n",
    "            sl_ = X[:,sl]\n",
    "        else:\n",
    "            sl_ = np.array([0])\n",
    "        if self.sw:\n",
    "            sw_ = X[:,sw]\n",
    "        else:\n",
    "            sw_ = np.array([0]) \n",
    "            \n",
    "        if self.pl:\n",
    "            pl_ = X[:,pl]\n",
    "        else:\n",
    "            pl_ = np.array([0])\n",
    "            \n",
    "        if self.pw:\n",
    "            pw_ = X[:,pw]\n",
    "        else:\n",
    "            pw_ = np.array([0])     \n",
    "        \n",
    "        if self.slw:\n",
    "            slw_ = X[:,sl:sl+1]*X[:,sw:sw+1]\n",
    "        else:\n",
    "            slw_ = np.array([0]) \n",
    "            \n",
    "        if self.plw:\n",
    "            plw_ = X[:,pl:pl+1]*X[:,pw:pw+1]\n",
    "        else:\n",
    "            plw_ = np.array([0]) \n",
    "        \n",
    "        atribs = [sl_, sw_, pl_, pw_, slw_, plw_]  \n",
    "        atrib_selec = []\n",
    "        for atrib in atribs:\n",
    "            if atrib.any():\n",
    "                atrib_selec.append(atrib)\n",
    "        atrib_selec = tuple(atrib_selec)        \n",
    "        X = np.hstack(atrib_selec)    \n",
    "        return X"
   ]
  },
  {
   "cell_type": "code",
   "execution_count": 7,
   "metadata": {
    "slideshow": {
     "slide_type": "slide"
    }
   },
   "outputs": [],
   "source": [
    "selector_atrib = SelectorAtributos()"
   ]
  },
  {
   "cell_type": "code",
   "execution_count": 8,
   "metadata": {
    "slideshow": {
     "slide_type": "slide"
    }
   },
   "outputs": [],
   "source": [
    "X = selector_atrib.fit_transform(X)"
   ]
  },
  {
   "cell_type": "code",
   "execution_count": 12,
   "metadata": {
    "slideshow": {
     "slide_type": "slide"
    }
   },
   "outputs": [
    {
     "data": {
      "text/plain": [
       "array([[17.85,  0.28],\n",
       "       [14.7 ,  0.28],\n",
       "       [15.04,  0.26],\n",
       "       [14.26,  0.3 ],\n",
       "       [18.  ,  0.28],\n",
       "       [21.06,  0.68],\n",
       "       [15.64,  0.42],\n",
       "       [17.  ,  0.3 ],\n",
       "       [12.76,  0.28],\n",
       "       [15.19,  0.15],\n",
       "       [19.98,  0.3 ],\n",
       "       [16.32,  0.32],\n",
       "       [14.4 ,  0.14],\n",
       "       [12.9 ,  0.11],\n",
       "       [23.2 ,  0.24],\n",
       "       [25.08,  0.6 ],\n",
       "       [21.06,  0.52],\n",
       "       [17.85,  0.42],\n",
       "       [21.66,  0.51],\n",
       "       [19.38,  0.45],\n",
       "       [18.36,  0.34],\n",
       "       [18.87,  0.6 ],\n",
       "       [16.56,  0.2 ],\n",
       "       [16.83,  0.85],\n",
       "       [16.32,  0.38],\n",
       "       [15.  ,  0.32],\n",
       "       [17.  ,  0.64],\n",
       "       [18.2 ,  0.3 ],\n",
       "       [17.68,  0.28],\n",
       "       [15.04,  0.32],\n",
       "       [14.88,  0.32],\n",
       "       [18.36,  0.6 ],\n",
       "       [21.32,  0.15],\n",
       "       [23.1 ,  0.28],\n",
       "       [15.19,  0.3 ],\n",
       "       [16.  ,  0.24],\n",
       "       [19.25,  0.26],\n",
       "       [17.64,  0.14],\n",
       "       [13.2 ,  0.26],\n",
       "       [17.34,  0.3 ],\n",
       "       [17.5 ,  0.39],\n",
       "       [10.35,  0.39],\n",
       "       [14.08,  0.26],\n",
       "       [17.5 ,  0.96],\n",
       "       [19.38,  0.76],\n",
       "       [14.4 ,  0.42],\n",
       "       [19.38,  0.32],\n",
       "       [14.72,  0.28],\n",
       "       [19.61,  0.3 ],\n",
       "       [16.5 ,  0.28],\n",
       "       [22.4 ,  6.58],\n",
       "       [20.48,  6.75],\n",
       "       [21.39,  7.35],\n",
       "       [12.65,  5.2 ],\n",
       "       [18.2 ,  6.9 ],\n",
       "       [15.96,  5.85],\n",
       "       [20.79,  7.52],\n",
       "       [11.76,  3.3 ],\n",
       "       [19.14,  5.98],\n",
       "       [14.04,  5.46],\n",
       "       [10.  ,  3.5 ],\n",
       "       [17.7 ,  6.3 ],\n",
       "       [13.2 ,  4.  ],\n",
       "       [17.69,  6.58],\n",
       "       [16.24,  4.68],\n",
       "       [20.77,  6.16],\n",
       "       [16.8 ,  6.75],\n",
       "       [15.66,  4.1 ],\n",
       "       [13.64,  6.75],\n",
       "       [14.  ,  4.29],\n",
       "       [18.88,  8.64],\n",
       "       [17.08,  5.2 ],\n",
       "       [15.75,  7.35],\n",
       "       [17.08,  5.64],\n",
       "       [18.56,  5.59],\n",
       "       [19.8 ,  6.16],\n",
       "       [19.04,  6.72],\n",
       "       [20.1 ,  8.5 ],\n",
       "       [17.4 ,  6.75],\n",
       "       [14.82,  3.5 ],\n",
       "       [13.2 ,  4.18],\n",
       "       [13.2 ,  3.7 ],\n",
       "       [15.66,  4.68],\n",
       "       [16.2 ,  8.16],\n",
       "       [16.2 ,  6.75],\n",
       "       [20.4 ,  7.2 ],\n",
       "       [20.77,  7.05],\n",
       "       [14.49,  5.72],\n",
       "       [16.8 ,  5.33],\n",
       "       [13.75,  5.2 ],\n",
       "       [14.3 ,  5.28],\n",
       "       [18.3 ,  6.44],\n",
       "       [15.08,  4.8 ],\n",
       "       [11.5 ,  3.3 ],\n",
       "       [15.12,  5.46],\n",
       "       [17.1 ,  5.04],\n",
       "       [16.53,  5.46],\n",
       "       [17.98,  5.59],\n",
       "       [12.75,  3.3 ],\n",
       "       [15.96,  5.33],\n",
       "       [20.79, 15.  ],\n",
       "       [15.66,  9.69],\n",
       "       [21.3 , 12.39],\n",
       "       [18.27, 10.08],\n",
       "       [19.5 , 12.76],\n",
       "       [22.8 , 13.86],\n",
       "       [12.25,  7.65],\n",
       "       [21.17, 11.34],\n",
       "       [16.75, 10.44],\n",
       "       [25.92, 15.25],\n",
       "       [20.8 , 10.2 ],\n",
       "       [17.28, 10.07],\n",
       "       [20.4 , 11.55],\n",
       "       [14.25, 10.  ],\n",
       "       [16.24, 12.24],\n",
       "       [20.48, 12.19],\n",
       "       [19.5 ,  9.9 ],\n",
       "       [29.26, 14.74],\n",
       "       [20.02, 15.87],\n",
       "       [13.2 ,  7.5 ],\n",
       "       [22.08, 13.11],\n",
       "       [15.68,  9.8 ],\n",
       "       [21.56, 13.4 ],\n",
       "       [17.01,  8.82],\n",
       "       [22.11, 11.97],\n",
       "       [23.04, 10.8 ],\n",
       "       [17.36,  8.64],\n",
       "       [18.3 ,  8.82],\n",
       "       [17.92, 11.76],\n",
       "       [21.6 ,  9.28],\n",
       "       [20.72, 11.59],\n",
       "       [30.02, 12.8 ],\n",
       "       [17.92, 12.32],\n",
       "       [17.64,  7.65],\n",
       "       [15.86,  7.84],\n",
       "       [23.1 , 14.03],\n",
       "       [21.42, 13.44],\n",
       "       [19.84,  9.9 ],\n",
       "       [18.  ,  8.64],\n",
       "       [21.39, 11.34],\n",
       "       [20.77, 13.44],\n",
       "       [21.39, 11.73],\n",
       "       [15.66,  9.69],\n",
       "       [21.76, 13.57],\n",
       "       [22.11, 14.25],\n",
       "       [20.1 , 11.96],\n",
       "       [15.75,  9.5 ],\n",
       "       [19.5 , 10.4 ],\n",
       "       [21.08, 12.42],\n",
       "       [17.7 ,  9.18]])"
      ]
     },
     "execution_count": 12,
     "metadata": {},
     "output_type": "execute_result"
    }
   ],
   "source": [
    "X "
   ]
  },
  {
   "cell_type": "markdown",
   "metadata": {
    "slideshow": {
     "slide_type": "slide"
    }
   },
   "source": [
    "# Configuración de las etiquetas para el setector que se indique"
   ]
  },
  {
   "cell_type": "code",
   "execution_count": 9,
   "metadata": {
    "slideshow": {
     "slide_type": "slide"
    }
   },
   "outputs": [],
   "source": [
    "class ConfiguradorEtiquetas(BaseEstimator, TransformerMixin):\n",
    "    def __init__(self, s=True, ve=False, vi=False):\n",
    "        self.s = s\n",
    "        self.vi = ve\n",
    "        self.ve = vi\n",
    "       \n",
    "    def fit(self, y, X=None):\n",
    "        return self\n",
    "    \n",
    "    def transform(self, y, X=None):\n",
    "        if self.s:\n",
    "            y = 2*(y==0) - 1\n",
    "        if self.ve:\n",
    "            y = 2*(y==1) - 1\n",
    "        if self.vi:\n",
    "            y = 2*(y==2) - 1\n",
    "                    \n",
    "        return y"
   ]
  },
  {
   "cell_type": "code",
   "execution_count": 10,
   "metadata": {
    "slideshow": {
     "slide_type": "slide"
    }
   },
   "outputs": [],
   "source": [
    "configurador_etiquetas = ConfiguradorEtiquetas()"
   ]
  },
  {
   "cell_type": "code",
   "execution_count": 11,
   "metadata": {
    "slideshow": {
     "slide_type": "slide"
    }
   },
   "outputs": [],
   "source": [
    "y = configurador_etiquetas.fit_transform(y)"
   ]
  },
  {
   "cell_type": "code",
   "execution_count": 12,
   "metadata": {
    "slideshow": {
     "slide_type": "slide"
    }
   },
   "outputs": [
    {
     "data": {
      "text/plain": [
       "array([ 1,  1,  1,  1,  1,  1,  1,  1,  1,  1,  1,  1,  1,  1,  1,  1,  1,\n",
       "        1,  1,  1,  1,  1,  1,  1,  1,  1,  1,  1,  1,  1,  1,  1,  1,  1,\n",
       "        1,  1,  1,  1,  1,  1,  1,  1,  1,  1,  1,  1,  1,  1,  1,  1, -1,\n",
       "       -1, -1, -1, -1, -1, -1, -1, -1, -1, -1, -1, -1, -1, -1, -1, -1, -1,\n",
       "       -1, -1, -1, -1, -1, -1, -1, -1, -1, -1, -1, -1, -1, -1, -1, -1, -1,\n",
       "       -1, -1, -1, -1, -1, -1, -1, -1, -1, -1, -1, -1, -1, -1, -1, -1, -1,\n",
       "       -1, -1, -1, -1, -1, -1, -1, -1, -1, -1, -1, -1, -1, -1, -1, -1, -1,\n",
       "       -1, -1, -1, -1, -1, -1, -1, -1, -1, -1, -1, -1, -1, -1, -1, -1, -1,\n",
       "       -1, -1, -1, -1, -1, -1, -1, -1, -1, -1, -1, -1, -1, -1])"
      ]
     },
     "execution_count": 12,
     "metadata": {},
     "output_type": "execute_result"
    }
   ],
   "source": [
    "y"
   ]
  },
  {
   "cell_type": "markdown",
   "metadata": {
    "slideshow": {
     "slide_type": "slide"
    }
   },
   "source": [
    "Así hemos constituido los arreglos de predictores `X` y etiquetas `y` para el detector que se definió."
   ]
  },
  {
   "cell_type": "markdown",
   "metadata": {
    "slideshow": {
     "slide_type": "slide"
    }
   },
   "source": [
    "## Constituyamos el DataFrame de nuestro dataset y exploremos y grafiquemos las correlaciones"
   ]
  },
  {
   "cell_type": "code",
   "execution_count": 42,
   "metadata": {
    "slideshow": {
     "slide_type": "slide"
    }
   },
   "outputs": [
    {
     "data": {
      "text/html": [
       "<div>\n",
       "<style scoped>\n",
       "    .dataframe tbody tr th:only-of-type {\n",
       "        vertical-align: middle;\n",
       "    }\n",
       "\n",
       "    .dataframe tbody tr th {\n",
       "        vertical-align: top;\n",
       "    }\n",
       "\n",
       "    .dataframe thead th {\n",
       "        text-align: right;\n",
       "    }\n",
       "</style>\n",
       "<table border=\"1\" class=\"dataframe\">\n",
       "  <thead>\n",
       "    <tr style=\"text-align: right;\">\n",
       "      <th></th>\n",
       "      <th>0</th>\n",
       "      <th>1</th>\n",
       "      <th>2</th>\n",
       "    </tr>\n",
       "  </thead>\n",
       "  <tbody>\n",
       "    <tr>\n",
       "      <th>0</th>\n",
       "      <td>17.85</td>\n",
       "      <td>0.28</td>\n",
       "      <td>1.0</td>\n",
       "    </tr>\n",
       "    <tr>\n",
       "      <th>1</th>\n",
       "      <td>14.70</td>\n",
       "      <td>0.28</td>\n",
       "      <td>1.0</td>\n",
       "    </tr>\n",
       "    <tr>\n",
       "      <th>2</th>\n",
       "      <td>15.04</td>\n",
       "      <td>0.26</td>\n",
       "      <td>1.0</td>\n",
       "    </tr>\n",
       "    <tr>\n",
       "      <th>3</th>\n",
       "      <td>14.26</td>\n",
       "      <td>0.30</td>\n",
       "      <td>1.0</td>\n",
       "    </tr>\n",
       "    <tr>\n",
       "      <th>4</th>\n",
       "      <td>18.00</td>\n",
       "      <td>0.28</td>\n",
       "      <td>1.0</td>\n",
       "    </tr>\n",
       "    <tr>\n",
       "      <th>...</th>\n",
       "      <td>...</td>\n",
       "      <td>...</td>\n",
       "      <td>...</td>\n",
       "    </tr>\n",
       "    <tr>\n",
       "      <th>145</th>\n",
       "      <td>20.10</td>\n",
       "      <td>11.96</td>\n",
       "      <td>-1.0</td>\n",
       "    </tr>\n",
       "    <tr>\n",
       "      <th>146</th>\n",
       "      <td>15.75</td>\n",
       "      <td>9.50</td>\n",
       "      <td>-1.0</td>\n",
       "    </tr>\n",
       "    <tr>\n",
       "      <th>147</th>\n",
       "      <td>19.50</td>\n",
       "      <td>10.40</td>\n",
       "      <td>-1.0</td>\n",
       "    </tr>\n",
       "    <tr>\n",
       "      <th>148</th>\n",
       "      <td>21.08</td>\n",
       "      <td>12.42</td>\n",
       "      <td>-1.0</td>\n",
       "    </tr>\n",
       "    <tr>\n",
       "      <th>149</th>\n",
       "      <td>17.70</td>\n",
       "      <td>9.18</td>\n",
       "      <td>-1.0</td>\n",
       "    </tr>\n",
       "  </tbody>\n",
       "</table>\n",
       "<p>150 rows × 3 columns</p>\n",
       "</div>"
      ],
      "text/plain": [
       "         0      1    2\n",
       "0    17.85   0.28  1.0\n",
       "1    14.70   0.28  1.0\n",
       "2    15.04   0.26  1.0\n",
       "3    14.26   0.30  1.0\n",
       "4    18.00   0.28  1.0\n",
       "..     ...    ...  ...\n",
       "145  20.10  11.96 -1.0\n",
       "146  15.75   9.50 -1.0\n",
       "147  19.50  10.40 -1.0\n",
       "148  21.08  12.42 -1.0\n",
       "149  17.70   9.18 -1.0\n",
       "\n",
       "[150 rows x 3 columns]"
      ]
     },
     "execution_count": 42,
     "metadata": {},
     "output_type": "execute_result"
    }
   ],
   "source": [
    "Xy_df = pd.DataFrame(np.c_[X,y])\n",
    "Xy_df "
   ]
  },
  {
   "cell_type": "code",
   "execution_count": null,
   "metadata": {},
   "outputs": [],
   "source": []
  },
  {
   "cell_type": "markdown",
   "metadata": {
    "slideshow": {
     "slide_type": "slide"
    }
   },
   "source": [
    "# División en entrenamiento y testeo "
   ]
  },
  {
   "cell_type": "code",
   "execution_count": 13,
   "metadata": {
    "colab": {
     "base_uri": "https://localhost:8080/"
    },
    "executionInfo": {
     "elapsed": 41,
     "status": "ok",
     "timestamp": 1649085965828,
     "user": {
      "displayName": "YUBER HERNANY TAPIAS ARBOLEDA",
      "userId": "05487048475511877153"
     },
     "user_tz": 300
    },
    "id": "yUGBkbMh5UfK",
    "outputId": "640fcff1-2c0c-455d-8f4a-e40f8199c099",
    "slideshow": {
     "slide_type": "slide"
    }
   },
   "outputs": [],
   "source": [
    "from sklearn.model_selection import train_test_split \n",
    "\n",
    "X_train, X_test, y_train, y_test = train_test_split(X, y, \\\n",
    "                                                   test_size = 0.2, \\\n",
    "                                                    random_state = 42,\\\n",
    "                                                   stratify = y)"
   ]
  },
  {
   "cell_type": "markdown",
   "metadata": {
    "slideshow": {
     "slide_type": "slide"
    }
   },
   "source": [
    "## Verificación del muestreo estratificado \n"
   ]
  },
  {
   "cell_type": "code",
   "execution_count": 14,
   "metadata": {
    "slideshow": {
     "slide_type": "slide"
    }
   },
   "outputs": [
    {
     "data": {
      "image/png": "[encoded data removed]",
      "text/plain": [
       "<Figure size 1440x432 with 3 Axes>"
      ]
     },
     "metadata": {
      "needs_background": "light"
     },
     "output_type": "display_data"
    }
   ],
   "source": [
    "fig, ax = plt.subplots(1,3, figsize = (20,6))\n",
    "\n",
    "ax[0].hist(y)\n",
    "ax[0].set_title('Población')\n",
    "ax[0].grid() \n",
    "\n",
    "ax[1].hist(y_train)\n",
    "ax[1].set_title('Muestra de entrenamiento')\n",
    "ax[1].grid() \n",
    "\n",
    "ax[2].hist(y_test) \n",
    "ax[2].set_title('Muestra de testeo')\n",
    "ax[2].grid() \n",
    "\n",
    "plt.savefig('muestreo_estratificado_iris.jpg')\n",
    "\n",
    "plt.show() "
   ]
  },
  {
   "cell_type": "markdown",
   "metadata": {
    "id": "4F22-1_P-7_O",
    "slideshow": {
     "slide_type": "slide"
    }
   },
   "source": [
    "# Preprocesamiento\n"
   ]
  },
  {
   "cell_type": "markdown",
   "metadata": {
    "id": "2zMR2Gy2Cre4",
    "slideshow": {
     "slide_type": "slide"
    }
   },
   "source": [
    "# *Estandarización*"
   ]
  },
  {
   "cell_type": "code",
   "execution_count": 15,
   "metadata": {
    "executionInfo": {
     "elapsed": 37,
     "status": "ok",
     "timestamp": 1649085965829,
     "user": {
      "displayName": "YUBER HERNANY TAPIAS ARBOLEDA",
      "userId": "05487048475511877153"
     },
     "user_tz": 300
    },
    "id": "vA6hcCVnCq1G",
    "slideshow": {
     "slide_type": "slide"
    }
   },
   "outputs": [],
   "source": [
    "from sklearn.preprocessing import StandardScaler\n",
    "\n",
    "estandarizador= StandardScaler()\n",
    "\n",
    "X_train_escalado= estandarizador.fit_transform(X_train)\n",
    "X_test_escalado= estandarizador.transform(X_test)"
   ]
  },
  {
   "cell_type": "markdown",
   "metadata": {
    "slideshow": {
     "slide_type": "slide"
    }
   },
   "source": [
    "# Análisis de correlaciones "
   ]
  },
  {
   "cell_type": "markdown",
   "metadata": {
    "id": "-gvO3whIDq77",
    "slideshow": {
     "slide_type": "slide"
    }
   },
   "source": [
    "# **Modelos Importantes**"
   ]
  },
  {
   "cell_type": "code",
   "execution_count": 16,
   "metadata": {
    "colab": {
     "base_uri": "https://localhost:8080/"
    },
    "executionInfo": {
     "elapsed": 37,
     "status": "ok",
     "timestamp": 1649085965830,
     "user": {
      "displayName": "YUBER HERNANY TAPIAS ARBOLEDA",
      "userId": "05487048475511877153"
     },
     "user_tz": 300
    },
    "id": "DBL9cc3FDRMP",
    "outputId": "9f7ad6a8-4c67-426f-ec01-482d6f4d953f",
    "slideshow": {
     "slide_type": "slide"
    }
   },
   "outputs": [
    {
     "name": "stdout",
     "output_type": "stream",
     "text": [
      "Wall time: 13.8 ms\n"
     ]
    },
    {
     "data": {
      "text/plain": [
       "SGDClassifier()"
      ]
     },
     "execution_count": 16,
     "metadata": {},
     "output_type": "execute_result"
    }
   ],
   "source": [
    "%%time \n",
    "from sklearn.linear_model import LogisticRegression\n",
    "from sklearn.linear_model import SGDClassifier\n",
    "\n",
    "lr_clf = LogisticRegression()\n",
    "sgd_clf = SGDClassifier()\n",
    "\n",
    "#Simplemente se usa fit y se entran tanto datos de entrenamiento como los y\n",
    "lr_clf.fit(X_train_escalado, y_train)\n",
    "sgd_clf.fit(X_train_escalado, y_train)"
   ]
  },
  {
   "cell_type": "markdown",
   "metadata": {
    "slideshow": {
     "slide_type": "slide"
    }
   },
   "source": [
    "Hasta aquí hemos constituido dos clasificadores binarios y seguidamente selecionaremos cual clasifica mejor. "
   ]
  },
  {
   "cell_type": "markdown",
   "metadata": {
    "id": "Qw6ppn7fEnC8",
    "slideshow": {
     "slide_type": "slide"
    }
   },
   "source": [
    "# Validación cruzada para determinar el poder de generalización del modelo"
   ]
  },
  {
   "cell_type": "code",
   "execution_count": 17,
   "metadata": {
    "executionInfo": {
     "elapsed": 34,
     "status": "ok",
     "timestamp": 1649085965830,
     "user": {
      "displayName": "YUBER HERNANY TAPIAS ARBOLEDA",
      "userId": "05487048475511877153"
     },
     "user_tz": 300
    },
    "id": "FUX_lSZIEmZf",
    "slideshow": {
     "slide_type": "slide"
    }
   },
   "outputs": [
    {
     "name": "stdout",
     "output_type": "stream",
     "text": [
      "Wall time: 117 ms\n"
     ]
    }
   ],
   "source": [
    "%%time \n",
    "\n",
    "y_train_pred_lr = cross_val_predict(lr_clf, X_train_escalado, y_train, \\\n",
    "                                    cv = 10 )\n",
    "y_train_pred_sgd = cross_val_predict(sgd_clf, X_train_escalado, y_train, cv = 10 )"
   ]
  },
  {
   "cell_type": "code",
   "execution_count": 18,
   "metadata": {
    "executionInfo": {
     "elapsed": 34,
     "status": "ok",
     "timestamp": 1649085965830,
     "user": {
      "displayName": "YUBER HERNANY TAPIAS ARBOLEDA",
      "userId": "05487048475511877153"
     },
     "user_tz": 300
    },
    "id": "FUX_lSZIEmZf",
    "slideshow": {
     "slide_type": "slide"
    }
   },
   "outputs": [],
   "source": [
    "mc_LR = confusion_matrix(y_train, y_train_pred_lr)\n",
    "mc_sgd = confusion_matrix(y_train, y_train_pred_sgd)"
   ]
  },
  {
   "cell_type": "code",
   "execution_count": 19,
   "metadata": {
    "colab": {
     "base_uri": "https://localhost:8080/"
    },
    "executionInfo": {
     "elapsed": 34,
     "status": "ok",
     "timestamp": 1649085965831,
     "user": {
      "displayName": "YUBER HERNANY TAPIAS ARBOLEDA",
      "userId": "05487048475511877153"
     },
     "user_tz": 300
    },
    "id": "I6cNppUPIrqC",
    "outputId": "fea4d6ff-8f8e-45b9-85bd-f7714009a357",
    "slideshow": {
     "slide_type": "slide"
    }
   },
   "outputs": [
    {
     "data": {
      "text/plain": [
       "array([[80,  0],\n",
       "       [ 0, 40]], dtype=int64)"
      ]
     },
     "execution_count": 19,
     "metadata": {},
     "output_type": "execute_result"
    }
   ],
   "source": [
    "mc_LR"
   ]
  },
  {
   "cell_type": "code",
   "execution_count": 20,
   "metadata": {
    "colab": {
     "base_uri": "https://localhost:8080/"
    },
    "executionInfo": {
     "elapsed": 32,
     "status": "ok",
     "timestamp": 1649085965831,
     "user": {
      "displayName": "YUBER HERNANY TAPIAS ARBOLEDA",
      "userId": "05487048475511877153"
     },
     "user_tz": 300
    },
    "id": "W6qOzWpOIryH",
    "outputId": "94252a0f-05cd-4622-e0ed-0fc8de7ab699",
    "scrolled": true,
    "slideshow": {
     "slide_type": "slide"
    }
   },
   "outputs": [
    {
     "data": {
      "text/plain": [
       "array([[79,  1],\n",
       "       [ 0, 40]], dtype=int64)"
      ]
     },
     "execution_count": 20,
     "metadata": {},
     "output_type": "execute_result"
    }
   ],
   "source": [
    "mc_sgd"
   ]
  },
  {
   "cell_type": "markdown",
   "metadata": {
    "slideshow": {
     "slide_type": "slide"
    }
   },
   "source": [
    "El número de equivocaciones totales en la predicción es menor en el modelo sgd_clf"
   ]
  },
  {
   "cell_type": "code",
   "execution_count": 21,
   "metadata": {
    "slideshow": {
     "slide_type": "slide"
    }
   },
   "outputs": [
    {
     "data": {
      "text/plain": [
       "1.0"
      ]
     },
     "execution_count": 21,
     "metadata": {},
     "output_type": "execute_result"
    }
   ],
   "source": [
    "recall_score(y_train, y_train_pred_lr)"
   ]
  },
  {
   "cell_type": "code",
   "execution_count": 22,
   "metadata": {
    "slideshow": {
     "slide_type": "slide"
    }
   },
   "outputs": [
    {
     "data": {
      "text/plain": [
       "1.0"
      ]
     },
     "execution_count": 22,
     "metadata": {},
     "output_type": "execute_result"
    }
   ],
   "source": [
    "recall_score(y_train, y_train_pred_sgd)"
   ]
  },
  {
   "cell_type": "markdown",
   "metadata": {
    "slideshow": {
     "slide_type": "slide"
    }
   },
   "source": [
    "Por lo tanto, el modelo sgd_clf se comporta mejor con respecto a las medidas de desempeño que hamos considerado, por lo tanto es este el modelo que afinaremos."
   ]
  },
  {
   "cell_type": "code",
   "execution_count": 23,
   "metadata": {
    "slideshow": {
     "slide_type": "slide"
    }
   },
   "outputs": [
    {
     "data": {
      "text/plain": [
       "1.0"
      ]
     },
     "execution_count": 23,
     "metadata": {},
     "output_type": "execute_result"
    }
   ],
   "source": [
    "precision_score(y_train, y_train_pred_lr)"
   ]
  },
  {
   "cell_type": "code",
   "execution_count": 24,
   "metadata": {
    "slideshow": {
     "slide_type": "slide"
    }
   },
   "outputs": [
    {
     "data": {
      "text/plain": [
       "0.975609756097561"
      ]
     },
     "execution_count": 24,
     "metadata": {},
     "output_type": "execute_result"
    }
   ],
   "source": [
    "precision_score(y_train, y_train_pred_sgd)"
   ]
  },
  {
   "cell_type": "markdown",
   "metadata": {
    "slideshow": {
     "slide_type": "slide"
    }
   },
   "source": [
    "El modelo sgd_clf tiene una mayor precisión que el modelo lr_clf "
   ]
  },
  {
   "cell_type": "markdown",
   "metadata": {
    "id": "FcIToozEGghW",
    "slideshow": {
     "slide_type": "slide"
    }
   },
   "source": [
    "**Grilla de hiperparámetros**"
   ]
  },
  {
   "cell_type": "code",
   "execution_count": 25,
   "metadata": {
    "executionInfo": {
     "elapsed": 29,
     "status": "ok",
     "timestamp": 1649085965832,
     "user": {
      "displayName": "YUBER HERNANY TAPIAS ARBOLEDA",
      "userId": "05487048475511877153"
     },
     "user_tz": 300
    },
    "id": "qQ5EM7OBGqfV",
    "slideshow": {
     "slide_type": "slide"
    }
   },
   "outputs": [],
   "source": [
    "\n",
    "param_sgd={\n",
    "    \"alpha\":[1, 10**-1, 10**-2, 10**-3],\n",
    "    \"learning_rate\":['constant'],\n",
    "    \"eta0\": [0.1,0.01, 0.001],\n",
    "    \"penalty\":['l2']\n",
    "    \n",
    "}"
   ]
  },
  {
   "cell_type": "code",
   "execution_count": 38,
   "metadata": {
    "executionInfo": {
     "elapsed": 29,
     "status": "ok",
     "timestamp": 1649085965833,
     "user": {
      "displayName": "YUBER HERNANY TAPIAS ARBOLEDA",
      "userId": "05487048475511877153"
     },
     "user_tz": 300
    },
    "id": "i7YydYODKuyl",
    "slideshow": {
     "slide_type": "slide"
    }
   },
   "outputs": [],
   "source": [
    "# Se crea la grilla de parametros\n",
    "\n",
    "Grilla_sgd= GridSearchCV(sgd_clf,param_sgd,cv=10, scoring = 'precision')\n"
   ]
  },
  {
   "cell_type": "code",
   "execution_count": 39,
   "metadata": {
    "slideshow": {
     "slide_type": "slide"
    }
   },
   "outputs": [
    {
     "data": {
      "text/plain": [
       "array([-1,  1, -1, -1, -1,  1, -1,  1,  1,  1,  1, -1, -1, -1, -1, -1, -1,\n",
       "        1,  1, -1, -1, -1,  1, -1, -1,  1,  1, -1,  1, -1, -1, -1, -1, -1,\n",
       "        1,  1, -1, -1,  1, -1, -1, -1, -1,  1, -1, -1,  1, -1, -1, -1, -1,\n",
       "       -1,  1, -1, -1,  1, -1,  1, -1,  1, -1, -1,  1, -1, -1, -1,  1, -1,\n",
       "       -1,  1, -1, -1, -1,  1, -1,  1, -1,  1,  1, -1, -1,  1, -1, -1,  1,\n",
       "       -1,  1, -1, -1, -1, -1,  1, -1, -1,  1,  1,  1, -1,  1, -1,  1, -1,\n",
       "        1,  1, -1, -1, -1, -1, -1, -1, -1,  1, -1, -1, -1, -1, -1, -1, -1,\n",
       "       -1])"
      ]
     },
     "execution_count": 39,
     "metadata": {},
     "output_type": "execute_result"
    }
   ],
   "source": [
    "y_train"
   ]
  },
  {
   "cell_type": "code",
   "execution_count": 41,
   "metadata": {
    "colab": {
     "base_uri": "https://localhost:8080/"
    },
    "executionInfo": {
     "elapsed": 26,
     "status": "ok",
     "timestamp": 1649085965833,
     "user": {
      "displayName": "YUBER HERNANY TAPIAS ARBOLEDA",
      "userId": "05487048475511877153"
     },
     "user_tz": 300
    },
    "id": "mXsKquy8KUxX",
    "outputId": "420449be-c6c3-4e92-88f8-7ccddb8a5e89",
    "slideshow": {
     "slide_type": "slide"
    }
   },
   "outputs": [
    {
     "name": "stderr",
     "output_type": "stream",
     "text": [
      "C:\\Users\\Marco\\anaconda3\\lib\\site-packages\\sklearn\\metrics\\_classification.py:1248: UndefinedMetricWarning: Precision is ill-defined and being set to 0.0 due to no predicted samples. Use `zero_division` parameter to control this behavior.\n",
      "  _warn_prf(average, modifier, msg_start, len(result))\n",
      "C:\\Users\\Marco\\anaconda3\\lib\\site-packages\\sklearn\\metrics\\_classification.py:1248: UndefinedMetricWarning: Precision is ill-defined and being set to 0.0 due to no predicted samples. Use `zero_division` parameter to control this behavior.\n",
      "  _warn_prf(average, modifier, msg_start, len(result))\n",
      "C:\\Users\\Marco\\anaconda3\\lib\\site-packages\\sklearn\\metrics\\_classification.py:1248: UndefinedMetricWarning: Precision is ill-defined and being set to 0.0 due to no predicted samples. Use `zero_division` parameter to control this behavior.\n",
      "  _warn_prf(average, modifier, msg_start, len(result))\n",
      "C:\\Users\\Marco\\anaconda3\\lib\\site-packages\\sklearn\\metrics\\_classification.py:1248: UndefinedMetricWarning: Precision is ill-defined and being set to 0.0 due to no predicted samples. Use `zero_division` parameter to control this behavior.\n",
      "  _warn_prf(average, modifier, msg_start, len(result))\n",
      "C:\\Users\\Marco\\anaconda3\\lib\\site-packages\\sklearn\\metrics\\_classification.py:1248: UndefinedMetricWarning: Precision is ill-defined and being set to 0.0 due to no predicted samples. Use `zero_division` parameter to control this behavior.\n",
      "  _warn_prf(average, modifier, msg_start, len(result))\n",
      "C:\\Users\\Marco\\anaconda3\\lib\\site-packages\\sklearn\\metrics\\_classification.py:1248: UndefinedMetricWarning: Precision is ill-defined and being set to 0.0 due to no predicted samples. Use `zero_division` parameter to control this behavior.\n",
      "  _warn_prf(average, modifier, msg_start, len(result))\n",
      "C:\\Users\\Marco\\anaconda3\\lib\\site-packages\\sklearn\\metrics\\_classification.py:1248: UndefinedMetricWarning: Precision is ill-defined and being set to 0.0 due to no predicted samples. Use `zero_division` parameter to control this behavior.\n",
      "  _warn_prf(average, modifier, msg_start, len(result))\n",
      "C:\\Users\\Marco\\anaconda3\\lib\\site-packages\\sklearn\\metrics\\_classification.py:1248: UndefinedMetricWarning: Precision is ill-defined and being set to 0.0 due to no predicted samples. Use `zero_division` parameter to control this behavior.\n",
      "  _warn_prf(average, modifier, msg_start, len(result))\n",
      "C:\\Users\\Marco\\anaconda3\\lib\\site-packages\\sklearn\\metrics\\_classification.py:1248: UndefinedMetricWarning: Precision is ill-defined and being set to 0.0 due to no predicted samples. Use `zero_division` parameter to control this behavior.\n",
      "  _warn_prf(average, modifier, msg_start, len(result))\n",
      "C:\\Users\\Marco\\anaconda3\\lib\\site-packages\\sklearn\\metrics\\_classification.py:1248: UndefinedMetricWarning: Precision is ill-defined and being set to 0.0 due to no predicted samples. Use `zero_division` parameter to control this behavior.\n",
      "  _warn_prf(average, modifier, msg_start, len(result))\n",
      "C:\\Users\\Marco\\anaconda3\\lib\\site-packages\\sklearn\\metrics\\_classification.py:1248: UndefinedMetricWarning: Precision is ill-defined and being set to 0.0 due to no predicted samples. Use `zero_division` parameter to control this behavior.\n",
      "  _warn_prf(average, modifier, msg_start, len(result))\n",
      "C:\\Users\\Marco\\anaconda3\\lib\\site-packages\\sklearn\\metrics\\_classification.py:1248: UndefinedMetricWarning: Precision is ill-defined and being set to 0.0 due to no predicted samples. Use `zero_division` parameter to control this behavior.\n",
      "  _warn_prf(average, modifier, msg_start, len(result))\n",
      "C:\\Users\\Marco\\anaconda3\\lib\\site-packages\\sklearn\\metrics\\_classification.py:1248: UndefinedMetricWarning: Precision is ill-defined and being set to 0.0 due to no predicted samples. Use `zero_division` parameter to control this behavior.\n",
      "  _warn_prf(average, modifier, msg_start, len(result))\n",
      "C:\\Users\\Marco\\anaconda3\\lib\\site-packages\\sklearn\\metrics\\_classification.py:1248: UndefinedMetricWarning: Precision is ill-defined and being set to 0.0 due to no predicted samples. Use `zero_division` parameter to control this behavior.\n",
      "  _warn_prf(average, modifier, msg_start, len(result))\n",
      "C:\\Users\\Marco\\anaconda3\\lib\\site-packages\\sklearn\\metrics\\_classification.py:1248: UndefinedMetricWarning: Precision is ill-defined and being set to 0.0 due to no predicted samples. Use `zero_division` parameter to control this behavior.\n",
      "  _warn_prf(average, modifier, msg_start, len(result))\n",
      "C:\\Users\\Marco\\anaconda3\\lib\\site-packages\\sklearn\\metrics\\_classification.py:1248: UndefinedMetricWarning: Precision is ill-defined and being set to 0.0 due to no predicted samples. Use `zero_division` parameter to control this behavior.\n",
      "  _warn_prf(average, modifier, msg_start, len(result))\n",
      "C:\\Users\\Marco\\anaconda3\\lib\\site-packages\\sklearn\\metrics\\_classification.py:1248: UndefinedMetricWarning: Precision is ill-defined and being set to 0.0 due to no predicted samples. Use `zero_division` parameter to control this behavior.\n",
      "  _warn_prf(average, modifier, msg_start, len(result))\n",
      "C:\\Users\\Marco\\anaconda3\\lib\\site-packages\\sklearn\\metrics\\_classification.py:1248: UndefinedMetricWarning: Precision is ill-defined and being set to 0.0 due to no predicted samples. Use `zero_division` parameter to control this behavior.\n",
      "  _warn_prf(average, modifier, msg_start, len(result))\n",
      "C:\\Users\\Marco\\anaconda3\\lib\\site-packages\\sklearn\\metrics\\_classification.py:1248: UndefinedMetricWarning: Precision is ill-defined and being set to 0.0 due to no predicted samples. Use `zero_division` parameter to control this behavior.\n",
      "  _warn_prf(average, modifier, msg_start, len(result))\n",
      "C:\\Users\\Marco\\anaconda3\\lib\\site-packages\\sklearn\\metrics\\_classification.py:1248: UndefinedMetricWarning: Precision is ill-defined and being set to 0.0 due to no predicted samples. Use `zero_division` parameter to control this behavior.\n",
      "  _warn_prf(average, modifier, msg_start, len(result))\n",
      "C:\\Users\\Marco\\anaconda3\\lib\\site-packages\\sklearn\\metrics\\_classification.py:1248: UndefinedMetricWarning: Precision is ill-defined and being set to 0.0 due to no predicted samples. Use `zero_division` parameter to control this behavior.\n",
      "  _warn_prf(average, modifier, msg_start, len(result))\n",
      "C:\\Users\\Marco\\anaconda3\\lib\\site-packages\\sklearn\\metrics\\_classification.py:1248: UndefinedMetricWarning: Precision is ill-defined and being set to 0.0 due to no predicted samples. Use `zero_division` parameter to control this behavior.\n",
      "  _warn_prf(average, modifier, msg_start, len(result))\n",
      "C:\\Users\\Marco\\anaconda3\\lib\\site-packages\\sklearn\\metrics\\_classification.py:1248: UndefinedMetricWarning: Precision is ill-defined and being set to 0.0 due to no predicted samples. Use `zero_division` parameter to control this behavior.\n",
      "  _warn_prf(average, modifier, msg_start, len(result))\n",
      "C:\\Users\\Marco\\anaconda3\\lib\\site-packages\\sklearn\\metrics\\_classification.py:1248: UndefinedMetricWarning: Precision is ill-defined and being set to 0.0 due to no predicted samples. Use `zero_division` parameter to control this behavior.\n",
      "  _warn_prf(average, modifier, msg_start, len(result))\n",
      "C:\\Users\\Marco\\anaconda3\\lib\\site-packages\\sklearn\\metrics\\_classification.py:1248: UndefinedMetricWarning: Precision is ill-defined and being set to 0.0 due to no predicted samples. Use `zero_division` parameter to control this behavior.\n",
      "  _warn_prf(average, modifier, msg_start, len(result))\n",
      "C:\\Users\\Marco\\anaconda3\\lib\\site-packages\\sklearn\\metrics\\_classification.py:1248: UndefinedMetricWarning: Precision is ill-defined and being set to 0.0 due to no predicted samples. Use `zero_division` parameter to control this behavior.\n",
      "  _warn_prf(average, modifier, msg_start, len(result))\n"
     ]
    },
    {
     "data": {
      "text/plain": [
       "GridSearchCV(cv=10, estimator=SGDClassifier(),\n",
       "             param_grid={'alpha': [1, 0.1, 0.01, 0.001],\n",
       "                         'eta0': [0.1, 0.01, 0.001],\n",
       "                         'learning_rate': ['constant'], 'penalty': ['l2']},\n",
       "             scoring='precision')"
      ]
     },
     "execution_count": 41,
     "metadata": {},
     "output_type": "execute_result"
    }
   ],
   "source": [
    "Grilla_sgd.fit(X_train_escalado, y_train)  #entrenamos"
   ]
  },
  {
   "cell_type": "code",
   "execution_count": 42,
   "metadata": {
    "colab": {
     "base_uri": "https://localhost:8080/"
    },
    "executionInfo": {
     "elapsed": 25,
     "status": "ok",
     "timestamp": 1649085965834,
     "user": {
      "displayName": "YUBER HERNANY TAPIAS ARBOLEDA",
      "userId": "05487048475511877153"
     },
     "user_tz": 300
    },
    "id": "LTYKS9StNUUG",
    "outputId": "9c944e49-3a6e-4912-8688-c149fef3447f",
    "slideshow": {
     "slide_type": "slide"
    }
   },
   "outputs": [
    {
     "name": "stdout",
     "output_type": "stream",
     "text": [
      "0.4472135954999579 {'alpha': 1, 'eta0': 0.1, 'learning_rate': 'constant', 'penalty': 'l2'}\n",
      "0.0 {'alpha': 1, 'eta0': 0.01, 'learning_rate': 'constant', 'penalty': 'l2'}\n",
      "0.4472135954999579 {'alpha': 1, 'eta0': 0.001, 'learning_rate': 'constant', 'penalty': 'l2'}\n",
      "1.0 {'alpha': 0.1, 'eta0': 0.1, 'learning_rate': 'constant', 'penalty': 'l2'}\n",
      "1.0 {'alpha': 0.1, 'eta0': 0.01, 'learning_rate': 'constant', 'penalty': 'l2'}\n",
      "1.0 {'alpha': 0.1, 'eta0': 0.001, 'learning_rate': 'constant', 'penalty': 'l2'}\n",
      "1.0 {'alpha': 0.01, 'eta0': 0.1, 'learning_rate': 'constant', 'penalty': 'l2'}\n",
      "1.0 {'alpha': 0.01, 'eta0': 0.01, 'learning_rate': 'constant', 'penalty': 'l2'}\n",
      "1.0 {'alpha': 0.01, 'eta0': 0.001, 'learning_rate': 'constant', 'penalty': 'l2'}\n",
      "1.0 {'alpha': 0.001, 'eta0': 0.1, 'learning_rate': 'constant', 'penalty': 'l2'}\n",
      "1.0 {'alpha': 0.001, 'eta0': 0.01, 'learning_rate': 'constant', 'penalty': 'l2'}\n",
      "1.0 {'alpha': 0.001, 'eta0': 0.001, 'learning_rate': 'constant', 'penalty': 'l2'}\n"
     ]
    }
   ],
   "source": [
    "cvres = Grilla_sgd.cv_results_\n",
    "for mean_score, params in zip(cvres[\"mean_test_score\"], cvres[\"params\"]):\n",
    "    print(np.sqrt(mean_score), params)\n"
   ]
  },
  {
   "cell_type": "code",
   "execution_count": 30,
   "metadata": {
    "colab": {
     "base_uri": "https://localhost:8080/"
    },
    "executionInfo": {
     "elapsed": 23,
     "status": "ok",
     "timestamp": 1649085965834,
     "user": {
      "displayName": "YUBER HERNANY TAPIAS ARBOLEDA",
      "userId": "05487048475511877153"
     },
     "user_tz": 300
    },
    "id": "qW-INcnXMhmA",
    "outputId": "e1519e54-21cd-437b-bd64-106ae64e7c39",
    "slideshow": {
     "slide_type": "slide"
    }
   },
   "outputs": [
    {
     "name": "stdout",
     "output_type": "stream",
     "text": [
      "El mejor modelo capturado es: SGDClassifier(alpha=0.1, eta0=0.1, learning_rate='constant')\n"
     ]
    }
   ],
   "source": [
    "Mejor_sgd = Grilla_sgd.best_estimator_\n",
    "print(\"El mejor modelo capturado es:\" ,Mejor_sgd)\n",
    "\n"
   ]
  },
  {
   "cell_type": "code",
   "execution_count": 31,
   "metadata": {
    "slideshow": {
     "slide_type": "slide"
    }
   },
   "outputs": [
    {
     "data": {
      "text/plain": [
       "1.0"
      ]
     },
     "execution_count": 31,
     "metadata": {},
     "output_type": "execute_result"
    }
   ],
   "source": [
    "y_train_pred_mejor_sgd = cross_val_predict(Mejor_sgd, X_train_escalado, y_train, cv = 10 )\n",
    "precision_score(y_train, y_train_pred_mejor_sgd)"
   ]
  },
  {
   "cell_type": "markdown",
   "metadata": {
    "id": "QNmMVtWzH3_f",
    "slideshow": {
     "slide_type": "slide"
    }
   },
   "source": [
    "# Verificación del desempeño estimado "
   ]
  },
  {
   "cell_type": "code",
   "execution_count": 43,
   "metadata": {
    "colab": {
     "base_uri": "https://localhost:8080/"
    },
    "executionInfo": {
     "elapsed": 21,
     "status": "ok",
     "timestamp": 1649085965835,
     "user": {
      "displayName": "YUBER HERNANY TAPIAS ARBOLEDA",
      "userId": "05487048475511877153"
     },
     "user_tz": 300
    },
    "id": "WESEXhhrOkZ6",
    "outputId": "43245bc0-dc90-4ec2-d93e-3a463592861c",
    "slideshow": {
     "slide_type": "slide"
    }
   },
   "outputs": [
    {
     "data": {
      "text/plain": [
       "1.0"
      ]
     },
     "execution_count": 43,
     "metadata": {},
     "output_type": "execute_result"
    }
   ],
   "source": [
    "y_test_pred = Mejor_sgd.predict(X_test_escalado)\n",
    "\n",
    "precision_score(y_test, y_test_pred)\n"
   ]
  },
  {
   "cell_type": "markdown",
   "metadata": {
    "slideshow": {
     "slide_type": "slide"
    }
   },
   "source": [
    "Nuestro modelo tiene un desempeño en datos nuevos cercano al desempeño predicho con validación cruzada en el conjunto de entrenamiento.\n"
   ]
  },
  {
   "cell_type": "markdown",
   "metadata": {},
   "source": [
    "# Representación gráfica del modelo clasificador afinado"
   ]
  },
  {
   "cell_type": "code",
   "execution_count": 33,
   "metadata": {
    "slideshow": {
     "slide_type": "slide"
    }
   },
   "outputs": [],
   "source": [
    "w = np.hstack((Mejor_sgd.intercept_, Mejor_sgd.coef_.ravel()))"
   ]
  },
  {
   "cell_type": "code",
   "execution_count": 34,
   "metadata": {
    "slideshow": {
     "slide_type": "slide"
    }
   },
   "outputs": [
    {
     "data": {
      "text/plain": [
       "array([-0.9       ,  0.33112658, -1.74564518])"
      ]
     },
     "execution_count": 34,
     "metadata": {},
     "output_type": "execute_result"
    }
   ],
   "source": [
    "w"
   ]
  },
  {
   "cell_type": "markdown",
   "metadata": {
    "slideshow": {
     "slide_type": "slide"
    }
   },
   "source": [
    "$$ a + bx + cy = 0 $$"
   ]
  },
  {
   "cell_type": "markdown",
   "metadata": {
    "slideshow": {
     "slide_type": "slide"
    }
   },
   "source": [
    "$$ w_{0} + w_{1}x + w_{2}y = 0 $$"
   ]
  },
  {
   "cell_type": "markdown",
   "metadata": {
    "slideshow": {
     "slide_type": "slide"
    }
   },
   "source": [
    "$$ y = -\\frac{w_{1}}{w_{2}}x - \\frac{w_{0}}{w_{2}} $$"
   ]
  },
  {
   "cell_type": "code",
   "execution_count": 35,
   "metadata": {
    "slideshow": {
     "slide_type": "slide"
    }
   },
   "outputs": [],
   "source": [
    "def recta_separadora(t):\n",
    "    return -(w[1]/w[2])*t - (w[0]/w[2])"
   ]
  },
  {
   "cell_type": "code",
   "execution_count": 36,
   "metadata": {
    "scrolled": true,
    "slideshow": {
     "slide_type": "slide"
    }
   },
   "outputs": [
    {
     "data": {
      "image/png": "[encoded data removed]",
      "text/plain": [
       "<Figure size 432x288 with 1 Axes>"
      ]
     },
     "metadata": {
      "needs_background": "light"
     },
     "output_type": "display_data"
    }
   ],
   "source": [
    "c, d = np.min(X[:,0]), np.max(X[:,0])\n",
    "e, f = np.min(X[:,1]), np.max(X[:,1])\n",
    "\n",
    "plt.plot(X[:,0][y == 1], X[:,1][y == 1], 'r.', label = 'Clase Setosa')\n",
    "plt.plot(X[:,0][y == -1], X[:,1][y == -1], 'g.', label = 'Clase No Setosa')\n",
    "plt.plot([c-2,d+2], [recta_separadora(c-2), recta_separadora(d+2)], color = 'blue')\n",
    "plt.title('Detector de Setosa')\n",
    "\n",
    "plt.xlabel('area sépalo')\n",
    "plt.ylabel('área pétalo')\n",
    "plt.legend() \n",
    "\n",
    "plt.grid(alpha = 0.4) \n",
    "\n",
    "\n",
    "\n",
    "plt.axis([c-2,d+2, e-2, f+2])\n",
    "\n",
    "plt.savefig('separador_dos_clases.jpg')\n",
    "\n",
    "plt.show() "
   ]
  },
  {
   "cell_type": "code",
   "execution_count": null,
   "metadata": {},
   "outputs": [],
   "source": []
  },
  {
   "cell_type": "code",
   "execution_count": null,
   "metadata": {},
   "outputs": [],
   "source": []
  }
 ],
 "metadata": {
  "celltoolbar": "Slideshow",
  "colab": {
   "collapsed_sections": [],
   "name": "Parcial2ML_DavisonCuervo - DAVISON ANDRES CUERVO BEDOYA.ipynb",
   "provenance": [
    {
     "file_id": "1yE0DPZF647-7Z-MUbC1eSNnz4uR1k3X9",
     "timestamp": 1648695706642
    }
   ]
  },
  "kernelspec": {
   "display_name": "Python 3 (ipykernel)",
   "language": "python",
   "name": "python3"
  },
  "language_info": {
   "codemirror_mode": {
    "name": "ipython",
    "version": 3
   },
   "file_extension": ".py",
   "mimetype": "text/x-python",
   "name": "python",
   "nbconvert_exporter": "python",
   "pygments_lexer": "ipython3",
   "version": "3.9.7"
  },
  "rise": {
   "theme": "sky"
  }
 },
 "nbformat": 4,
 "nbformat_minor": 1
}
