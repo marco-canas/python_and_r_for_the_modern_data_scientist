{
 "cells": [
  {
   "cell_type": "markdown",
   "metadata": {
    "slideshow": {
     "slide_type": "slide"
    }
   },
   "source": [
    "<table align=\"left\">\n",
    "  <td>\n",
    "    <a href=\"https://colab.research.google.com/github/marco-canas/taca/blob/main/prop/unidad_didac/visualizacion/2_seaborn/visualizing_categorical.ipynb\" target=\"_parent\"><img src=\"https://colab.research.google.com/assets/colab-badge.svg\" alt=\"Open In Colab\"/></a>\n",
    "  </td>\n",
    "</table>"
   ]
  },
  {
   "cell_type": "markdown",
   "metadata": {
    "slideshow": {
     "slide_type": "slide"
    }
   },
   "source": [
    "# Clasificación binaria para la detección de fraudes "
   ]
  },
  {
   "cell_type": "markdown",
   "metadata": {
    "id": "JlE0_5gjPGIB",
    "slideshow": {
     "slide_type": "slide"
    }
   },
   "source": [
    "- Plantear bien la pregunta.\n",
    "\n",
    "¿Regresión o clasificación?  \n",
    "¿Tipo de regresión y tipo de clasificación?  \n",
    "En este caso tenemos una base de datos que se llama “Synthetic Financial Datasets For Fraud Detection“ (Conjuntos de datos financieros sintéticos para la detección de fraudes), por lo cual se trabajará con Clasificación binaria. "
   ]
  },
  {
   "cell_type": "markdown",
   "metadata": {
    "id": "JlE0_5gjPGIB",
    "slideshow": {
     "slide_type": "slide"
    }
   },
   "source": [
    "Exploración inicial \n",
    "\n",
    "- Indicar la fuente de dónde se toman los datos.\n",
    "Dataset tomado de: https://www.kaggle.com/code/carmencastrogonzlez/fraud-detection-full-project-in-spanish/notebook"
   ]
  },
  {
   "cell_type": "markdown",
   "metadata": {
    "id": "JlE0_5gjPGIB",
    "slideshow": {
     "slide_type": "slide"
    }
   },
   "source": [
    "La variable `isFraud` (variable objetivo) es el indicador que indica si las transacciones son fraude con el valor 1 o no, con el valor 0, mientras que isFlaggedFraud es lo que el sistema previene de la transacción debido a que se activan algunos umbrales."
   ]
  },
  {
   "cell_type": "markdown",
   "metadata": {
    "id": "JlE0_5gjPGIB",
    "slideshow": {
     "slide_type": "slide"
    }
   },
   "source": [
    "- Decir cuáles son los atributos (descripción breve de cada uno)\n",
    "\n",
    "step  - mapea una unidad de tiempo en el mundo real. En este caso 1 paso es 1 hora de tiempo. Pasos totales 744 (simulación de 30 días).\n",
    "\n",
    "type  - CASH-IN, CASH-OUT, DÉBITO, PAGO y TRANSFERENCIA.\n",
    "\n",
    "amount  - monto de la transacción en moneda local.\n",
    "\n",
    "nameOrig - cliente que inició la transacción\n",
    "\n",
    "oldbalanceOrg - saldo inicial antes de la transacción\n",
    "\n",
    "newbalanceOrig - nuevo saldo después de la transacción\n",
    "\n",
    "nameDest - cliente que es el destinatario de la transacción\n",
    "\n",
    "oldbalanceDest: destinatario del saldo inicial antes de la transacción. Tenga en cuenta que no hay información para clientes que comiencen con M (Comerciantes).\n",
    "\n",
    "newbalanceDest - destinatario del nuevo saldo después de la transacción. Tenga en cuenta que no hay información para clientes que comiencen con M (Comerciantes)."
   ]
  },
  {
   "cell_type": "markdown",
   "metadata": {
    "id": "JlE0_5gjPGIB",
    "slideshow": {
     "slide_type": "slide"
    }
   },
   "source": [
    "isFraud: estas son las transacciones realizadas por los agentes fraudulentos dentro de la simulación. En este conjunto de datos específico, el comportamiento fraudulento de los agentes tiene como objetivo obtener ganancias tomando el control de las cuentas de los clientes e intentar vaciar los fondos transfiriéndolos a otra cuenta y luego cobrando del sistema."
   ]
  },
  {
   "cell_type": "markdown",
   "metadata": {
    "id": "JlE0_5gjPGIB",
    "slideshow": {
     "slide_type": "slide"
    }
   },
   "source": [
    "`isFlaggedFraud`: el modelo comercial tiene como objetivo controlar las transferencias masivas de una cuenta a otra y marca los intentos ilegales. Un intento ilegal en este conjunto de datos es un intento de transferir más de 200.000 en una sola transacción."
   ]
  },
  {
   "cell_type": "markdown",
   "metadata": {
    "id": "JlE0_5gjPGIB",
    "slideshow": {
     "slide_type": "slide"
    }
   },
   "source": [
    "# Practicar una primera exploración gráfica de los datos."
   ]
  },
  {
   "cell_type": "markdown",
   "metadata": {
    "id": "dQ6Nr6k_BPLw",
    "slideshow": {
     "slide_type": "slide"
    }
   },
   "source": [
    "**Función objetivo**\n",
    "\n",
    "La función escalón es la función de activación referente a la clasificación binaria, donde y devuelve valores de -1 o +1:\n",
    "\n",
    "$ y = sign(x), \\left \\{ y: -1,  1 \\right \\}$"
   ]
  },
  {
   "cell_type": "code",
   "execution_count": 1,
   "metadata": {
    "id": "VI6Zmw0GP84G",
    "slideshow": {
     "slide_type": "slide"
    }
   },
   "outputs": [],
   "source": [
    "import numpy as np \n",
    "import pandas as pd \n",
    "import matplotlib.pyplot as plt"
   ]
  },
  {
   "cell_type": "code",
   "execution_count": 2,
   "metadata": {
    "id": "65uXImEsSFdl",
    "slideshow": {
     "slide_type": "slide"
    }
   },
   "outputs": [],
   "source": [
    "d=pd.read_csv(\"data_balanceada.csv\")"
   ]
  },
  {
   "cell_type": "code",
   "execution_count": 3,
   "metadata": {
    "colab": {
     "base_uri": "https://localhost:8080/"
    },
    "id": "OS2T28uldRij",
    "outputId": "bcf09234-42f5-43ed-bd32-2f8ef5284fd5",
    "scrolled": true,
    "slideshow": {
     "slide_type": "slide"
    }
   },
   "outputs": [
    {
     "data": {
      "text/plain": [
       "Index(['step', 'amount', 'oldbalanceOrg', 'newbalanceOrig', 'oldbalanceDest',\n",
       "       'newbalanceDest', 'CASH_IN', 'CASH_OUT', 'DEBIT', 'PAYMENT', 'TRANSFER',\n",
       "       'isFlaggedFraud', 'isFraud'],\n",
       "      dtype='object')"
      ]
     },
     "execution_count": 3,
     "metadata": {},
     "output_type": "execute_result"
    }
   ],
   "source": [
    "d.keys()"
   ]
  },
  {
   "cell_type": "code",
   "execution_count": 4,
   "metadata": {
    "colab": {
     "base_uri": "https://localhost:8080/",
     "height": 488
    },
    "id": "eMcxzyaNfZjS",
    "outputId": "ca6e793b-da9e-4b65-f1cc-a4cbe6d63654",
    "slideshow": {
     "slide_type": "slide"
    }
   },
   "outputs": [
    {
     "data": {
      "text/plain": [
       "(16426, 13)"
      ]
     },
     "execution_count": 4,
     "metadata": {},
     "output_type": "execute_result"
    }
   ],
   "source": [
    "d.shape"
   ]
  },
  {
   "cell_type": "markdown",
   "metadata": {
    "slideshow": {
     "slide_type": "slide"
    }
   },
   "source": [
    "*Se recomienda hacer alguna observación del proceso de obtención de los datos*"
   ]
  },
  {
   "cell_type": "markdown",
   "metadata": {},
   "source": [
    "* Sabemos que hay 11 atributos predictores \n",
    "* y dos posobres variables objetivo.\n",
    "* El dataset es pequeño con aproximadamente 16 mil instancias. \n"
   ]
  },
  {
   "cell_type": "markdown",
   "metadata": {
    "id": "tQN3NdDDftnv",
    "slideshow": {
     "slide_type": "slide"
    }
   },
   "source": [
    "- Clasificar: un conjunto de individuos en una serie de grupos, teniendo en cuenta que cada individuo solamente puede pertenecer a uno de ellos "
   ]
  },
  {
   "cell_type": "markdown",
   "metadata": {
    "id": "aPPRx_sbgH9R",
    "slideshow": {
     "slide_type": "slide"
    }
   },
   "source": [
    "# Descripcion tabular de los datos "
   ]
  },
  {
   "cell_type": "code",
   "execution_count": 5,
   "metadata": {
    "colab": {
     "base_uri": "https://localhost:8080/"
    },
    "id": "a3K3s2IMgP8R",
    "outputId": "12b9bb3f-0cbe-44e8-abaa-383d62b64879",
    "scrolled": true,
    "slideshow": {
     "slide_type": "slide"
    }
   },
   "outputs": [
    {
     "name": "stdout",
     "output_type": "stream",
     "text": [
      "<class 'pandas.core.frame.DataFrame'>\n",
      "RangeIndex: 16426 entries, 0 to 16425\n",
      "Data columns (total 13 columns):\n",
      " #   Column          Non-Null Count  Dtype  \n",
      "---  ------          --------------  -----  \n",
      " 0   step            16426 non-null  int64  \n",
      " 1   amount          16426 non-null  float64\n",
      " 2   oldbalanceOrg   16426 non-null  float64\n",
      " 3   newbalanceOrig  16426 non-null  float64\n",
      " 4   oldbalanceDest  16426 non-null  float64\n",
      " 5   newbalanceDest  16426 non-null  float64\n",
      " 6   CASH_IN         16426 non-null  int64  \n",
      " 7   CASH_OUT        16426 non-null  int64  \n",
      " 8   DEBIT           16426 non-null  int64  \n",
      " 9   PAYMENT         16426 non-null  int64  \n",
      " 10  TRANSFER        16426 non-null  int64  \n",
      " 11  isFlaggedFraud  16426 non-null  int64  \n",
      " 12  isFraud         16426 non-null  int64  \n",
      "dtypes: float64(5), int64(8)\n",
      "memory usage: 1.6 MB\n"
     ]
    }
   ],
   "source": [
    "d.info()"
   ]
  },
  {
   "cell_type": "markdown",
   "metadata": {
    "slideshow": {
     "slide_type": "slide"
    }
   },
   "source": [
    "* Todas las variables son de tipo numérico\n",
    "* algunas variables son discretas, las asociadas a un tipo de valor int64 y las demás parecen ser de tipo continuo ya que son de tipo float. "
   ]
  },
  {
   "cell_type": "code",
   "execution_count": 6,
   "metadata": {
    "colab": {
     "base_uri": "https://localhost:8080/"
    },
    "id": "zTJRlnC6i9ow",
    "outputId": "80bdb401-1e0b-45a6-d7e8-36b1941a26bb",
    "scrolled": true,
    "slideshow": {
     "slide_type": "slide"
    }
   },
   "outputs": [
    {
     "data": {
      "text/plain": [
       "step              0\n",
       "amount            0\n",
       "oldbalanceOrg     0\n",
       "newbalanceOrig    0\n",
       "oldbalanceDest    0\n",
       "newbalanceDest    0\n",
       "CASH_IN           0\n",
       "CASH_OUT          0\n",
       "DEBIT             0\n",
       "PAYMENT           0\n",
       "TRANSFER          0\n",
       "isFlaggedFraud    0\n",
       "isFraud           0\n",
       "dtype: int64"
      ]
     },
     "execution_count": 6,
     "metadata": {},
     "output_type": "execute_result"
    }
   ],
   "source": [
    "d.isnull().sum() # cantidad de elementos faltantes por cada variable "
   ]
  },
  {
   "cell_type": "markdown",
   "metadata": {
    "slideshow": {
     "slide_type": "slide"
    }
   },
   "source": [
    "* Efectivamente no hay valores faltantes asociados a las diferentes variables en este dataset. "
   ]
  },
  {
   "cell_type": "code",
   "execution_count": 7,
   "metadata": {
    "colab": {
     "base_uri": "https://localhost:8080/",
     "height": 364
    },
    "id": "CGpS2Fp9hhXl",
    "outputId": "955a815f-ef2c-4ec8-c621-38c4f3218df2",
    "scrolled": false,
    "slideshow": {
     "slide_type": "slide"
    }
   },
   "outputs": [
    {
     "data": {
      "text/html": [
       "<div>\n",
       "<style scoped>\n",
       "    .dataframe tbody tr th:only-of-type {\n",
       "        vertical-align: middle;\n",
       "    }\n",
       "\n",
       "    .dataframe tbody tr th {\n",
       "        vertical-align: top;\n",
       "    }\n",
       "\n",
       "    .dataframe thead th {\n",
       "        text-align: right;\n",
       "    }\n",
       "</style>\n",
       "<table border=\"1\" class=\"dataframe\">\n",
       "  <thead>\n",
       "    <tr style=\"text-align: right;\">\n",
       "      <th></th>\n",
       "      <th>step</th>\n",
       "      <th>amount</th>\n",
       "      <th>oldbalanceOrg</th>\n",
       "      <th>newbalanceOrig</th>\n",
       "      <th>oldbalanceDest</th>\n",
       "      <th>newbalanceDest</th>\n",
       "      <th>CASH_IN</th>\n",
       "      <th>CASH_OUT</th>\n",
       "      <th>DEBIT</th>\n",
       "      <th>PAYMENT</th>\n",
       "      <th>TRANSFER</th>\n",
       "      <th>isFlaggedFraud</th>\n",
       "      <th>isFraud</th>\n",
       "    </tr>\n",
       "  </thead>\n",
       "  <tbody>\n",
       "    <tr>\n",
       "      <th>count</th>\n",
       "      <td>16426.000000</td>\n",
       "      <td>1.642600e+04</td>\n",
       "      <td>1.642600e+04</td>\n",
       "      <td>1.642600e+04</td>\n",
       "      <td>1.642600e+04</td>\n",
       "      <td>1.642600e+04</td>\n",
       "      <td>16426.000000</td>\n",
       "      <td>16426.000000</td>\n",
       "      <td>16426.000000</td>\n",
       "      <td>16426.000000</td>\n",
       "      <td>16426.000000</td>\n",
       "      <td>16426.000000</td>\n",
       "      <td>16426.000000</td>\n",
       "    </tr>\n",
       "    <tr>\n",
       "      <th>mean</th>\n",
       "      <td>306.763850</td>\n",
       "      <td>8.201540e+05</td>\n",
       "      <td>1.245401e+06</td>\n",
       "      <td>5.286141e+05</td>\n",
       "      <td>8.603087e+05</td>\n",
       "      <td>1.285583e+06</td>\n",
       "      <td>0.110617</td>\n",
       "      <td>0.430050</td>\n",
       "      <td>0.003714</td>\n",
       "      <td>0.165287</td>\n",
       "      <td>0.290332</td>\n",
       "      <td>0.000974</td>\n",
       "      <td>0.500000</td>\n",
       "    </tr>\n",
       "    <tr>\n",
       "      <th>std</th>\n",
       "      <td>193.584036</td>\n",
       "      <td>1.860112e+06</td>\n",
       "      <td>3.250161e+06</td>\n",
       "      <td>2.501223e+06</td>\n",
       "      <td>4.355745e+06</td>\n",
       "      <td>4.651907e+06</td>\n",
       "      <td>0.313667</td>\n",
       "      <td>0.495098</td>\n",
       "      <td>0.060828</td>\n",
       "      <td>0.371450</td>\n",
       "      <td>0.453930</td>\n",
       "      <td>0.031196</td>\n",
       "      <td>0.500015</td>\n",
       "    </tr>\n",
       "    <tr>\n",
       "      <th>min</th>\n",
       "      <td>1.000000</td>\n",
       "      <td>0.000000e+00</td>\n",
       "      <td>0.000000e+00</td>\n",
       "      <td>0.000000e+00</td>\n",
       "      <td>0.000000e+00</td>\n",
       "      <td>0.000000e+00</td>\n",
       "      <td>0.000000</td>\n",
       "      <td>0.000000</td>\n",
       "      <td>0.000000</td>\n",
       "      <td>0.000000</td>\n",
       "      <td>0.000000</td>\n",
       "      <td>0.000000</td>\n",
       "      <td>0.000000</td>\n",
       "    </tr>\n",
       "    <tr>\n",
       "      <th>25%</th>\n",
       "      <td>161.000000</td>\n",
       "      <td>3.712309e+04</td>\n",
       "      <td>1.008625e+04</td>\n",
       "      <td>0.000000e+00</td>\n",
       "      <td>0.000000e+00</td>\n",
       "      <td>0.000000e+00</td>\n",
       "      <td>0.000000</td>\n",
       "      <td>0.000000</td>\n",
       "      <td>0.000000</td>\n",
       "      <td>0.000000</td>\n",
       "      <td>0.000000</td>\n",
       "      <td>0.000000</td>\n",
       "      <td>0.000000</td>\n",
       "    </tr>\n",
       "    <tr>\n",
       "      <th>50%</th>\n",
       "      <td>283.000000</td>\n",
       "      <td>1.729433e+05</td>\n",
       "      <td>1.196647e+05</td>\n",
       "      <td>0.000000e+00</td>\n",
       "      <td>0.000000e+00</td>\n",
       "      <td>1.295114e+05</td>\n",
       "      <td>0.000000</td>\n",
       "      <td>0.000000</td>\n",
       "      <td>0.000000</td>\n",
       "      <td>0.000000</td>\n",
       "      <td>0.000000</td>\n",
       "      <td>0.000000</td>\n",
       "      <td>0.500000</td>\n",
       "    </tr>\n",
       "    <tr>\n",
       "      <th>75%</th>\n",
       "      <td>410.000000</td>\n",
       "      <td>5.396587e+05</td>\n",
       "      <td>7.995173e+05</td>\n",
       "      <td>0.000000e+00</td>\n",
       "      <td>5.238782e+05</td>\n",
       "      <td>1.097807e+06</td>\n",
       "      <td>0.000000</td>\n",
       "      <td>1.000000</td>\n",
       "      <td>0.000000</td>\n",
       "      <td>0.000000</td>\n",
       "      <td>1.000000</td>\n",
       "      <td>0.000000</td>\n",
       "      <td>1.000000</td>\n",
       "    </tr>\n",
       "    <tr>\n",
       "      <th>max</th>\n",
       "      <td>743.000000</td>\n",
       "      <td>2.623419e+07</td>\n",
       "      <td>5.958504e+07</td>\n",
       "      <td>4.958504e+07</td>\n",
       "      <td>2.362305e+08</td>\n",
       "      <td>2.367265e+08</td>\n",
       "      <td>1.000000</td>\n",
       "      <td>1.000000</td>\n",
       "      <td>1.000000</td>\n",
       "      <td>1.000000</td>\n",
       "      <td>1.000000</td>\n",
       "      <td>1.000000</td>\n",
       "      <td>1.000000</td>\n",
       "    </tr>\n",
       "  </tbody>\n",
       "</table>\n",
       "</div>"
      ],
      "text/plain": [
       "               step        amount  oldbalanceOrg  newbalanceOrig  \\\n",
       "count  16426.000000  1.642600e+04   1.642600e+04    1.642600e+04   \n",
       "mean     306.763850  8.201540e+05   1.245401e+06    5.286141e+05   \n",
       "std      193.584036  1.860112e+06   3.250161e+06    2.501223e+06   \n",
       "min        1.000000  0.000000e+00   0.000000e+00    0.000000e+00   \n",
       "25%      161.000000  3.712309e+04   1.008625e+04    0.000000e+00   \n",
       "50%      283.000000  1.729433e+05   1.196647e+05    0.000000e+00   \n",
       "75%      410.000000  5.396587e+05   7.995173e+05    0.000000e+00   \n",
       "max      743.000000  2.623419e+07   5.958504e+07    4.958504e+07   \n",
       "\n",
       "       oldbalanceDest  newbalanceDest       CASH_IN      CASH_OUT  \\\n",
       "count    1.642600e+04    1.642600e+04  16426.000000  16426.000000   \n",
       "mean     8.603087e+05    1.285583e+06      0.110617      0.430050   \n",
       "std      4.355745e+06    4.651907e+06      0.313667      0.495098   \n",
       "min      0.000000e+00    0.000000e+00      0.000000      0.000000   \n",
       "25%      0.000000e+00    0.000000e+00      0.000000      0.000000   \n",
       "50%      0.000000e+00    1.295114e+05      0.000000      0.000000   \n",
       "75%      5.238782e+05    1.097807e+06      0.000000      1.000000   \n",
       "max      2.362305e+08    2.367265e+08      1.000000      1.000000   \n",
       "\n",
       "              DEBIT       PAYMENT      TRANSFER  isFlaggedFraud       isFraud  \n",
       "count  16426.000000  16426.000000  16426.000000    16426.000000  16426.000000  \n",
       "mean       0.003714      0.165287      0.290332        0.000974      0.500000  \n",
       "std        0.060828      0.371450      0.453930        0.031196      0.500015  \n",
       "min        0.000000      0.000000      0.000000        0.000000      0.000000  \n",
       "25%        0.000000      0.000000      0.000000        0.000000      0.000000  \n",
       "50%        0.000000      0.000000      0.000000        0.000000      0.500000  \n",
       "75%        0.000000      0.000000      1.000000        0.000000      1.000000  \n",
       "max        1.000000      1.000000      1.000000        1.000000      1.000000  "
      ]
     },
     "execution_count": 7,
     "metadata": {},
     "output_type": "execute_result"
    }
   ],
   "source": [
    "d.describe()"
   ]
  },
  {
   "cell_type": "markdown",
   "metadata": {
    "slideshow": {
     "slide_type": "slide"
    }
   },
   "source": [
    "De la utilización con el método `.describe()` se infiere la necesaidad de escalar los atributos numéricos y podemos aplicar la estrategia de normalización o estandarización de datos "
   ]
  },
  {
   "cell_type": "markdown",
   "metadata": {
    "slideshow": {
     "slide_type": "slide"
    }
   },
   "source": [
    "* Se recomienda el redactar todas las inderencias que de la utilización de los métodos `info()` y describe se desprenden, como son:\n",
    "\n",
    "* la lista de atributos categóricos\n",
    "  * lista de atributos dicotómicos\n",
    "  * lista de atributos multiclase o no binarios \n",
    "* lista de aatributos numéricos continuos\n",
    "* lista de atributos numéricos discretos\n",
    "* la necesidad de escalamiento de atributos numéricos y la estrategia a utilizar. "
   ]
  },
  {
   "cell_type": "markdown",
   "metadata": {
    "slideshow": {
     "slide_type": "slide"
    }
   },
   "source": [
    "# Visualización del dataset a través de histogramas y diagramas de dispersión"
   ]
  },
  {
   "cell_type": "code",
   "execution_count": 8,
   "metadata": {
    "colab": {
     "base_uri": "https://localhost:8080/",
     "height": 716
    },
    "id": "VXgQD0CxQ8kW",
    "outputId": "b2cf99ec-561e-4338-def6-3ebd6ac02396",
    "scrolled": true,
    "slideshow": {
     "slide_type": "slide"
    }
   },
   "outputs": [
    {
     "data": {
      "image/png": "[encoded data removed]",
      "text/plain": [
       "<Figure size 864x864 with 16 Axes>"
      ]
     },
     "metadata": {
      "needs_background": "light"
     },
     "output_type": "display_data"
    }
   ],
   "source": [
    "d.hist(figsize=(12,12)) \n",
    "# Construye una cuadrícula de histogramas para cada variable numérica\n",
    "plt.show()"
   ]
  },
  {
   "cell_type": "markdown",
   "metadata": {
    "slideshow": {
     "slide_type": "slide"
    }
   },
   "source": [
    "Hay 5 variables categógicas dicotómicas codificadas a saber:\n",
    "\n",
    "* `CASH_IN`\n",
    "* `CASH_OUT` \n",
    "* `DEBIT`  \n",
    "* `PAYMENT`  \n",
    "* `TRANSFER`"
   ]
  },
  {
   "cell_type": "markdown",
   "metadata": {
    "slideshow": {
     "slide_type": "slide"
    }
   },
   "source": [
    "*Si la variable objetivo es `isFraud` entonces es aplicable la medida de desempeño de accuracy mientras que si la variable objetivo es `isFlaggedFraud` no es aplicable la exactitud pues la la clase negativa se presenta mayoritariamente*"
   ]
  },
  {
   "cell_type": "markdown",
   "metadata": {
    "slideshow": {
     "slide_type": "slide"
    }
   },
   "source": [
    "* Dada la asimetría de la distribución de las variables asociadas al problema, se infiere que una estrategia de imputación aplicable es la mediana y no la media o promedio. "
   ]
  },
  {
   "cell_type": "markdown",
   "metadata": {
    "slideshow": {
     "slide_type": "slide"
    }
   },
   "source": [
    "*Racordemos que la cuadrícula de histogramas puede ayudarnos a establecer la estrategia de imputación de datos faltantes*. "
   ]
  },
  {
   "cell_type": "markdown",
   "metadata": {
    "slideshow": {
     "slide_type": "slide"
    }
   },
   "source": [
    "Se recomienda redactar todas las observaciones que se descrendan de la observación  de los histogramoas asociados a cada atributo:\n",
    "\n",
    "* atributos con distribución acampanada\n",
    "* atributos con distribución asimétrica.\n",
    "* la estrategia de imputación: si con la media, con la mediana o con el dato más freciente. "
   ]
  },
  {
   "cell_type": "code",
   "execution_count": null,
   "metadata": {
    "colab": {
     "base_uri": "https://localhost:8080/"
    },
    "id": "E3W2TEJ_SiWa",
    "outputId": "5eaddb11-d886-4ede-b639-e5206a5a3fdc",
    "scrolled": true,
    "slideshow": {
     "slide_type": "slide"
    }
   },
   "outputs": [],
   "source": [
    "d.isnull().sum() # Cantidad de elementos faltantes por cada variable"
   ]
  },
  {
   "cell_type": "markdown",
   "metadata": {
    "slideshow": {
     "slide_type": "slide"
    }
   },
   "source": [
    "# Análisis de correlaciones"
   ]
  },
  {
   "cell_type": "code",
   "execution_count": 9,
   "metadata": {
    "colab": {
     "base_uri": "https://localhost:8080/",
     "height": 521
    },
    "id": "7mwvYunDiKJj",
    "outputId": "1ee5a2f5-0d2e-4a56-970c-64b97f8d68ec",
    "scrolled": false,
    "slideshow": {
     "slide_type": "slide"
    }
   },
   "outputs": [
    {
     "data": {
      "text/html": [
       "<div>\n",
       "<style scoped>\n",
       "    .dataframe tbody tr th:only-of-type {\n",
       "        vertical-align: middle;\n",
       "    }\n",
       "\n",
       "    .dataframe tbody tr th {\n",
       "        vertical-align: top;\n",
       "    }\n",
       "\n",
       "    .dataframe thead th {\n",
       "        text-align: right;\n",
       "    }\n",
       "</style>\n",
       "<table border=\"1\" class=\"dataframe\">\n",
       "  <thead>\n",
       "    <tr style=\"text-align: right;\">\n",
       "      <th></th>\n",
       "      <th>step</th>\n",
       "      <th>amount</th>\n",
       "      <th>oldbalanceOrg</th>\n",
       "      <th>newbalanceOrig</th>\n",
       "      <th>oldbalanceDest</th>\n",
       "      <th>newbalanceDest</th>\n",
       "      <th>CASH_IN</th>\n",
       "      <th>CASH_OUT</th>\n",
       "      <th>DEBIT</th>\n",
       "      <th>PAYMENT</th>\n",
       "      <th>TRANSFER</th>\n",
       "      <th>isFlaggedFraud</th>\n",
       "      <th>isFraud</th>\n",
       "    </tr>\n",
       "  </thead>\n",
       "  <tbody>\n",
       "    <tr>\n",
       "      <th>step</th>\n",
       "      <td>1.000000</td>\n",
       "      <td>0.147428</td>\n",
       "      <td>0.076324</td>\n",
       "      <td>-0.019370</td>\n",
       "      <td>0.001201</td>\n",
       "      <td>0.027296</td>\n",
       "      <td>-0.104487</td>\n",
       "      <td>0.031867</td>\n",
       "      <td>-0.020410</td>\n",
       "      <td>-0.131790</td>\n",
       "      <td>0.148023</td>\n",
       "      <td>0.037229</td>\n",
       "      <td>0.318476</td>\n",
       "    </tr>\n",
       "    <tr>\n",
       "      <th>amount</th>\n",
       "      <td>0.147428</td>\n",
       "      <td>1.000000</td>\n",
       "      <td>0.647610</td>\n",
       "      <td>0.123301</td>\n",
       "      <td>0.002099</td>\n",
       "      <td>0.209443</td>\n",
       "      <td>-0.123360</td>\n",
       "      <td>0.046951</td>\n",
       "      <td>-0.026738</td>\n",
       "      <td>-0.193088</td>\n",
       "      <td>0.195620</td>\n",
       "      <td>0.067845</td>\n",
       "      <td>0.348276</td>\n",
       "    </tr>\n",
       "    <tr>\n",
       "      <th>oldbalanceOrg</th>\n",
       "      <td>0.076324</td>\n",
       "      <td>0.647610</td>\n",
       "      <td>1.000000</td>\n",
       "      <td>0.823875</td>\n",
       "      <td>0.003924</td>\n",
       "      <td>0.095766</td>\n",
       "      <td>0.257263</td>\n",
       "      <td>-0.101795</td>\n",
       "      <td>-0.021785</td>\n",
       "      <td>-0.161272</td>\n",
       "      <td>0.068145</td>\n",
       "      <td>0.063146</td>\n",
       "      <td>0.124387</td>\n",
       "    </tr>\n",
       "    <tr>\n",
       "      <th>newbalanceOrig</th>\n",
       "      <td>-0.019370</td>\n",
       "      <td>0.123301</td>\n",
       "      <td>0.823875</td>\n",
       "      <td>1.000000</td>\n",
       "      <td>0.030041</td>\n",
       "      <td>0.003838</td>\n",
       "      <td>0.459268</td>\n",
       "      <td>-0.181225</td>\n",
       "      <td>-0.010921</td>\n",
       "      <td>-0.083123</td>\n",
       "      <td>-0.050212</td>\n",
       "      <td>0.091002</td>\n",
       "      <td>-0.134427</td>\n",
       "    </tr>\n",
       "    <tr>\n",
       "      <th>oldbalanceDest</th>\n",
       "      <td>0.001201</td>\n",
       "      <td>0.002099</td>\n",
       "      <td>0.003924</td>\n",
       "      <td>0.030041</td>\n",
       "      <td>1.000000</td>\n",
       "      <td>0.951953</td>\n",
       "      <td>0.067040</td>\n",
       "      <td>0.096278</td>\n",
       "      <td>0.003027</td>\n",
       "      <td>-0.087893</td>\n",
       "      <td>-0.079817</td>\n",
       "      <td>-0.006168</td>\n",
       "      <td>-0.072564</td>\n",
       "    </tr>\n",
       "    <tr>\n",
       "      <th>newbalanceDest</th>\n",
       "      <td>0.027296</td>\n",
       "      <td>0.209443</td>\n",
       "      <td>0.095766</td>\n",
       "      <td>0.003838</td>\n",
       "      <td>0.951953</td>\n",
       "      <td>1.000000</td>\n",
       "      <td>0.021134</td>\n",
       "      <td>0.185311</td>\n",
       "      <td>-0.002564</td>\n",
       "      <td>-0.122979</td>\n",
       "      <td>-0.115744</td>\n",
       "      <td>-0.008630</td>\n",
       "      <td>-0.001263</td>\n",
       "    </tr>\n",
       "    <tr>\n",
       "      <th>CASH_IN</th>\n",
       "      <td>-0.104487</td>\n",
       "      <td>-0.123360</td>\n",
       "      <td>0.257263</td>\n",
       "      <td>0.459268</td>\n",
       "      <td>0.067040</td>\n",
       "      <td>0.021134</td>\n",
       "      <td>1.000000</td>\n",
       "      <td>-0.306343</td>\n",
       "      <td>-0.021531</td>\n",
       "      <td>-0.156934</td>\n",
       "      <td>-0.225573</td>\n",
       "      <td>-0.011012</td>\n",
       "      <td>-0.352669</td>\n",
       "    </tr>\n",
       "    <tr>\n",
       "      <th>CASH_OUT</th>\n",
       "      <td>0.031867</td>\n",
       "      <td>0.046951</td>\n",
       "      <td>-0.101795</td>\n",
       "      <td>-0.181225</td>\n",
       "      <td>0.096278</td>\n",
       "      <td>0.185311</td>\n",
       "      <td>-0.306343</td>\n",
       "      <td>1.000000</td>\n",
       "      <td>-0.053033</td>\n",
       "      <td>-0.386537</td>\n",
       "      <td>-0.555599</td>\n",
       "      <td>-0.027124</td>\n",
       "      <td>0.143626</td>\n",
       "    </tr>\n",
       "    <tr>\n",
       "      <th>DEBIT</th>\n",
       "      <td>-0.020410</td>\n",
       "      <td>-0.026738</td>\n",
       "      <td>-0.021785</td>\n",
       "      <td>-0.010921</td>\n",
       "      <td>0.003027</td>\n",
       "      <td>-0.002564</td>\n",
       "      <td>-0.021531</td>\n",
       "      <td>-0.053033</td>\n",
       "      <td>1.000000</td>\n",
       "      <td>-0.027168</td>\n",
       "      <td>-0.039051</td>\n",
       "      <td>-0.001906</td>\n",
       "      <td>-0.061053</td>\n",
       "    </tr>\n",
       "    <tr>\n",
       "      <th>PAYMENT</th>\n",
       "      <td>-0.131790</td>\n",
       "      <td>-0.193088</td>\n",
       "      <td>-0.161272</td>\n",
       "      <td>-0.083123</td>\n",
       "      <td>-0.087893</td>\n",
       "      <td>-0.122979</td>\n",
       "      <td>-0.156934</td>\n",
       "      <td>-0.386537</td>\n",
       "      <td>-0.027168</td>\n",
       "      <td>1.000000</td>\n",
       "      <td>-0.284623</td>\n",
       "      <td>-0.013895</td>\n",
       "      <td>-0.444990</td>\n",
       "    </tr>\n",
       "    <tr>\n",
       "      <th>TRANSFER</th>\n",
       "      <td>0.148023</td>\n",
       "      <td>0.195620</td>\n",
       "      <td>0.068145</td>\n",
       "      <td>-0.050212</td>\n",
       "      <td>-0.079817</td>\n",
       "      <td>-0.115744</td>\n",
       "      <td>-0.225573</td>\n",
       "      <td>-0.555599</td>\n",
       "      <td>-0.039051</td>\n",
       "      <td>-0.284623</td>\n",
       "      <td>1.000000</td>\n",
       "      <td>0.048819</td>\n",
       "      <td>0.459360</td>\n",
       "    </tr>\n",
       "    <tr>\n",
       "      <th>isFlaggedFraud</th>\n",
       "      <td>0.037229</td>\n",
       "      <td>0.067845</td>\n",
       "      <td>0.063146</td>\n",
       "      <td>0.091002</td>\n",
       "      <td>-0.006168</td>\n",
       "      <td>-0.008630</td>\n",
       "      <td>-0.011012</td>\n",
       "      <td>-0.027124</td>\n",
       "      <td>-0.001906</td>\n",
       "      <td>-0.013895</td>\n",
       "      <td>0.048819</td>\n",
       "      <td>1.000000</td>\n",
       "      <td>0.031225</td>\n",
       "    </tr>\n",
       "    <tr>\n",
       "      <th>isFraud</th>\n",
       "      <td>0.318476</td>\n",
       "      <td>0.348276</td>\n",
       "      <td>0.124387</td>\n",
       "      <td>-0.134427</td>\n",
       "      <td>-0.072564</td>\n",
       "      <td>-0.001263</td>\n",
       "      <td>-0.352669</td>\n",
       "      <td>0.143626</td>\n",
       "      <td>-0.061053</td>\n",
       "      <td>-0.444990</td>\n",
       "      <td>0.459360</td>\n",
       "      <td>0.031225</td>\n",
       "      <td>1.000000</td>\n",
       "    </tr>\n",
       "  </tbody>\n",
       "</table>\n",
       "</div>"
      ],
      "text/plain": [
       "                    step    amount  oldbalanceOrg  newbalanceOrig  \\\n",
       "step            1.000000  0.147428       0.076324       -0.019370   \n",
       "amount          0.147428  1.000000       0.647610        0.123301   \n",
       "oldbalanceOrg   0.076324  0.647610       1.000000        0.823875   \n",
       "newbalanceOrig -0.019370  0.123301       0.823875        1.000000   \n",
       "oldbalanceDest  0.001201  0.002099       0.003924        0.030041   \n",
       "newbalanceDest  0.027296  0.209443       0.095766        0.003838   \n",
       "CASH_IN        -0.104487 -0.123360       0.257263        0.459268   \n",
       "CASH_OUT        0.031867  0.046951      -0.101795       -0.181225   \n",
       "DEBIT          -0.020410 -0.026738      -0.021785       -0.010921   \n",
       "PAYMENT        -0.131790 -0.193088      -0.161272       -0.083123   \n",
       "TRANSFER        0.148023  0.195620       0.068145       -0.050212   \n",
       "isFlaggedFraud  0.037229  0.067845       0.063146        0.091002   \n",
       "isFraud         0.318476  0.348276       0.124387       -0.134427   \n",
       "\n",
       "                oldbalanceDest  newbalanceDest   CASH_IN  CASH_OUT     DEBIT  \\\n",
       "step                  0.001201        0.027296 -0.104487  0.031867 -0.020410   \n",
       "amount                0.002099        0.209443 -0.123360  0.046951 -0.026738   \n",
       "oldbalanceOrg         0.003924        0.095766  0.257263 -0.101795 -0.021785   \n",
       "newbalanceOrig        0.030041        0.003838  0.459268 -0.181225 -0.010921   \n",
       "oldbalanceDest        1.000000        0.951953  0.067040  0.096278  0.003027   \n",
       "newbalanceDest        0.951953        1.000000  0.021134  0.185311 -0.002564   \n",
       "CASH_IN               0.067040        0.021134  1.000000 -0.306343 -0.021531   \n",
       "CASH_OUT              0.096278        0.185311 -0.306343  1.000000 -0.053033   \n",
       "DEBIT                 0.003027       -0.002564 -0.021531 -0.053033  1.000000   \n",
       "PAYMENT              -0.087893       -0.122979 -0.156934 -0.386537 -0.027168   \n",
       "TRANSFER             -0.079817       -0.115744 -0.225573 -0.555599 -0.039051   \n",
       "isFlaggedFraud       -0.006168       -0.008630 -0.011012 -0.027124 -0.001906   \n",
       "isFraud              -0.072564       -0.001263 -0.352669  0.143626 -0.061053   \n",
       "\n",
       "                 PAYMENT  TRANSFER  isFlaggedFraud   isFraud  \n",
       "step           -0.131790  0.148023        0.037229  0.318476  \n",
       "amount         -0.193088  0.195620        0.067845  0.348276  \n",
       "oldbalanceOrg  -0.161272  0.068145        0.063146  0.124387  \n",
       "newbalanceOrig -0.083123 -0.050212        0.091002 -0.134427  \n",
       "oldbalanceDest -0.087893 -0.079817       -0.006168 -0.072564  \n",
       "newbalanceDest -0.122979 -0.115744       -0.008630 -0.001263  \n",
       "CASH_IN        -0.156934 -0.225573       -0.011012 -0.352669  \n",
       "CASH_OUT       -0.386537 -0.555599       -0.027124  0.143626  \n",
       "DEBIT          -0.027168 -0.039051       -0.001906 -0.061053  \n",
       "PAYMENT         1.000000 -0.284623       -0.013895 -0.444990  \n",
       "TRANSFER       -0.284623  1.000000        0.048819  0.459360  \n",
       "isFlaggedFraud -0.013895  0.048819        1.000000  0.031225  \n",
       "isFraud        -0.444990  0.459360        0.031225  1.000000  "
      ]
     },
     "execution_count": 9,
     "metadata": {},
     "output_type": "execute_result"
    }
   ],
   "source": [
    "#Matriz de correlacion\n",
    "d.corr()"
   ]
  },
  {
   "cell_type": "markdown",
   "metadata": {
    "slideshow": {
     "slide_type": "slide"
    }
   },
   "source": [
    "* Hay atributos predictores muy correlacionados entresí, y podemos elegir el quedarnos con los atributos que sean independientes linealmente para tener solo los mejores atributos predictores y en este caso mejores significa, estar muy correlacionados con la variable objetivo y ser independientes linealmente entre sí. "
   ]
  },
  {
   "cell_type": "markdown",
   "metadata": {
    "slideshow": {
     "slide_type": "slide"
    }
   },
   "source": [
    "*¿Qué inferencias hace de la matriz de correlaciones?*"
   ]
  },
  {
   "cell_type": "code",
   "execution_count": 10,
   "metadata": {
    "colab": {
     "base_uri": "https://localhost:8080/"
    },
    "id": "IYd3o6SujeC_",
    "outputId": "69800cc7-5f41-40dc-f67f-076b9a5b7275",
    "scrolled": true,
    "slideshow": {
     "slide_type": "slide"
    }
   },
   "outputs": [
    {
     "data": {
      "text/plain": [
       "isFraud           1.000000\n",
       "TRANSFER          0.459360\n",
       "amount            0.348276\n",
       "step              0.318476\n",
       "CASH_OUT          0.143626\n",
       "oldbalanceOrg     0.124387\n",
       "isFlaggedFraud    0.031225\n",
       "newbalanceDest   -0.001263\n",
       "DEBIT            -0.061053\n",
       "oldbalanceDest   -0.072564\n",
       "newbalanceOrig   -0.134427\n",
       "CASH_IN          -0.352669\n",
       "PAYMENT          -0.444990\n",
       "Name: isFraud, dtype: float64"
      ]
     },
     "execution_count": 10,
     "metadata": {},
     "output_type": "execute_result"
    }
   ],
   "source": [
    "d.corr().isFraud.sort_values(ascending = False)  # Matriz de correlaciones "
   ]
  },
  {
   "cell_type": "markdown",
   "metadata": {
    "slideshow": {
     "slide_type": "slide"
    }
   },
   "source": [
    "¿Qué inferencias saca de la observación de las correlaciones lineales con respecto a la variable objetivo?"
   ]
  },
  {
   "cell_type": "code",
   "execution_count": 11,
   "metadata": {
    "id": "ViqLUE-NTetb",
    "slideshow": {
     "slide_type": "slide"
    }
   },
   "outputs": [
    {
     "data": {
      "image/png": "[encoded data removed]",
      "text/plain": [
       "<Figure size 1296x1152 with 169 Axes>"
      ]
     },
     "metadata": {
      "needs_background": "light"
     },
     "output_type": "display_data"
    }
   ],
   "source": [
    "%%time\n",
    "\n",
    "from pandas.plotting import scatter_matrix\n",
    "atributos_mejor_correlacionados = ['TRANSFER', 'amount', 'step', \\\n",
    "                                   'oldbalanceOrg', \\\n",
    "                                   'CASH_OUT', \\\n",
    "                                   'newbalanceOrig', 'CASH_IN', 'PAYMENT', \\\n",
    "                                   'isFraud']\n",
    "\n",
    "scatter_matrix (d, figsize=(18,16)) # Gráfico conjunto de correlaciones\n",
    "\n",
    "plt.savefig('scatter_isFraud.jpg')\n",
    "plt.show()"
   ]
  },
  {
   "cell_type": "markdown",
   "metadata": {
    "slideshow": {
     "slide_type": "slide"
    }
   },
   "source": [
    "*¿Qué inferencias saca de la observación de los diagramas de dispersión de los atributos más correlacionados con la variable objetivo?*"
   ]
  },
  {
   "cell_type": "markdown",
   "metadata": {
    "slideshow": {
     "slide_type": "slide"
    }
   },
   "source": [
    "* De la utilización de la función `scatter_matriz` pudimos verificar las correlaciones entre los atributos predictores y las correlaciones lineales de los predictores con la variable objetivo `isFraud`.\n",
    "\n",
    "* Y también pudimos ver la independencia lineal entre algunos atributos predictores. "
   ]
  },
  {
   "cell_type": "code",
   "execution_count": 3,
   "metadata": {
    "id": "svM4UKSQztgb",
    "slideshow": {
     "slide_type": "slide"
    }
   },
   "outputs": [],
   "source": [
    "import numpy as np \n",
    "import pandas as pd \n",
    "\n",
    "# para separar entrenamiento y testeo:\n",
    "from sklearn.model_selection import train_test_split \n",
    "\n",
    "# para llenar datos faltantes (mediana)\n",
    "from sklearn.impute import SimpleImputer\n",
    "\n",
    "# para constituir la clase personalizada de selección de atributos predictores\n",
    "from sklearn.base import BaseEstimator, TransformerMixin \n",
    "\n",
    "# Para estandarizar los datos (media 0 y varianza 1):\n",
    "from sklearn.preprocessing import StandardScaler \n",
    "\n",
    "\n",
    "# Secuencia de imputació n, automatización del proceso:\n",
    "from sklearn.pipeline import Pipeline \n",
    "from sklearn.compose import ColumnTransformer\n",
    "\n",
    "from sklearn.linear_model import SGDClassifier\n",
    "from sklearn.linear_model import LogisticRegression \n",
    "from sklearn.ensemble import RandomForestClassifier"
   ]
  },
  {
   "cell_type": "code",
   "execution_count": 4,
   "metadata": {
    "colab": {
     "base_uri": "https://localhost:8080/",
     "height": 488
    },
    "id": "ahnJG1p11DaY",
    "outputId": "23caecb6-2f2b-408a-9836-d1f367a33523",
    "slideshow": {
     "slide_type": "slide"
    }
   },
   "outputs": [
    {
     "data": {
      "text/html": [
       "<div>\n",
       "<style scoped>\n",
       "    .dataframe tbody tr th:only-of-type {\n",
       "        vertical-align: middle;\n",
       "    }\n",
       "\n",
       "    .dataframe tbody tr th {\n",
       "        vertical-align: top;\n",
       "    }\n",
       "\n",
       "    .dataframe thead th {\n",
       "        text-align: right;\n",
       "    }\n",
       "</style>\n",
       "<table border=\"1\" class=\"dataframe\">\n",
       "  <thead>\n",
       "    <tr style=\"text-align: right;\">\n",
       "      <th></th>\n",
       "      <th>step</th>\n",
       "      <th>amount</th>\n",
       "      <th>oldbalanceOrg</th>\n",
       "      <th>newbalanceOrig</th>\n",
       "      <th>oldbalanceDest</th>\n",
       "      <th>newbalanceDest</th>\n",
       "      <th>CASH_IN</th>\n",
       "      <th>CASH_OUT</th>\n",
       "      <th>DEBIT</th>\n",
       "      <th>PAYMENT</th>\n",
       "      <th>TRANSFER</th>\n",
       "      <th>isFlaggedFraud</th>\n",
       "      <th>isFraud</th>\n",
       "    </tr>\n",
       "  </thead>\n",
       "  <tbody>\n",
       "    <tr>\n",
       "      <th>0</th>\n",
       "      <td>139</td>\n",
       "      <td>265803.35</td>\n",
       "      <td>0.0</td>\n",
       "      <td>0.0</td>\n",
       "      <td>751669.39</td>\n",
       "      <td>1017472.74</td>\n",
       "      <td>0</td>\n",
       "      <td>1</td>\n",
       "      <td>0</td>\n",
       "      <td>0</td>\n",
       "      <td>0</td>\n",
       "      <td>0</td>\n",
       "      <td>0</td>\n",
       "    </tr>\n",
       "    <tr>\n",
       "      <th>1</th>\n",
       "      <td>589</td>\n",
       "      <td>11278.28</td>\n",
       "      <td>0.0</td>\n",
       "      <td>0.0</td>\n",
       "      <td>220970.84</td>\n",
       "      <td>232249.12</td>\n",
       "      <td>0</td>\n",
       "      <td>1</td>\n",
       "      <td>0</td>\n",
       "      <td>0</td>\n",
       "      <td>0</td>\n",
       "      <td>0</td>\n",
       "      <td>0</td>\n",
       "    </tr>\n",
       "  </tbody>\n",
       "</table>\n",
       "</div>"
      ],
      "text/plain": [
       "   step     amount  oldbalanceOrg  newbalanceOrig  oldbalanceDest  \\\n",
       "0   139  265803.35            0.0             0.0       751669.39   \n",
       "1   589   11278.28            0.0             0.0       220970.84   \n",
       "\n",
       "   newbalanceDest  CASH_IN  CASH_OUT  DEBIT  PAYMENT  TRANSFER  \\\n",
       "0      1017472.74        0         1      0        0         0   \n",
       "1       232249.12        0         1      0        0         0   \n",
       "\n",
       "   isFlaggedFraud  isFraud  \n",
       "0               0        0  \n",
       "1               0        0  "
      ]
     },
     "execution_count": 4,
     "metadata": {},
     "output_type": "execute_result"
    }
   ],
   "source": [
    "d=pd.read_csv(\"data_balanceada.csv\")\n",
    "d.head(2)"
   ]
  },
  {
   "cell_type": "code",
   "execution_count": 17,
   "metadata": {
    "id": "NcRxUqoVztpo",
    "slideshow": {
     "slide_type": "slide"
    }
   },
   "outputs": [],
   "source": [
    "#Separamos los datos de entrenamiento y testeo (20% testeo y 80% entrenamiento)\n",
    "d_train, d_test = train_test_split(d, test_size = 0.2, random_state = 42)"
   ]
  },
  {
   "cell_type": "markdown",
   "metadata": {
    "id": "7JR-sso01Mvj",
    "slideshow": {
     "slide_type": "slide"
    }
   },
   "source": [
    "### Dividimos las variables predictoras de la variable objetivo"
   ]
  },
  {
   "cell_type": "code",
   "execution_count": 44,
   "metadata": {
    "colab": {
     "base_uri": "https://localhost:8080/",
     "height": 488
    },
    "id": "mrUGIG9y1Gw-",
    "outputId": "c7c6692d-7f65-4ec9-d8c7-78d0bf3bee90",
    "slideshow": {
     "slide_type": "slide"
    }
   },
   "outputs": [],
   "source": [
    "d_train_pred = d_train.drop('isFraud', axis=1)\n",
    "y_train = d_train.isFraud\n",
    "d_test_pred = d_test.drop('isFraud', axis=1)\n",
    "y_test = d_test.isFraud\n",
    "\n"
   ]
  },
  {
   "cell_type": "markdown",
   "metadata": {
    "slideshow": {
     "slide_type": "slide"
    }
   },
   "source": [
    "# Automatización del escalamiento de datos"
   ]
  },
  {
   "cell_type": "markdown",
   "metadata": {
    "id": "XnzZkm84zEI3",
    "slideshow": {
     "slide_type": "slide"
    }
   },
   "source": [
    "# *Estandarización*"
   ]
  },
  {
   "cell_type": "code",
   "execution_count": 20,
   "metadata": {
    "colab": {
     "base_uri": "https://localhost:8080/",
     "height": 488
    },
    "id": "_6xrqSjNt9q1",
    "outputId": "d16c80bb-484c-464c-f52e-ff5d3b84bdaa",
    "slideshow": {
     "slide_type": "slide"
    }
   },
   "outputs": [
    {
     "name": "stderr",
     "output_type": "stream",
     "text": [
      "C:\\Users\\Marco\\anaconda3\\lib\\site-packages\\pandas\\core\\frame.py:3678: SettingWithCopyWarning: \n",
      "A value is trying to be set on a copy of a slice from a DataFrame.\n",
      "Try using .loc[row_indexer,col_indexer] = value instead\n",
      "\n",
      "See the caveats in the documentation: https://pandas.pydata.org/pandas-docs/stable/user_guide/indexing.html#returning-a-view-versus-a-copy\n",
      "  self[col] = igetitem(value, i)\n",
      "C:\\Users\\Marco\\anaconda3\\lib\\site-packages\\pandas\\core\\frame.py:3678: SettingWithCopyWarning: \n",
      "A value is trying to be set on a copy of a slice from a DataFrame.\n",
      "Try using .loc[row_indexer,col_indexer] = value instead\n",
      "\n",
      "See the caveats in the documentation: https://pandas.pydata.org/pandas-docs/stable/user_guide/indexing.html#returning-a-view-versus-a-copy\n",
      "  self[col] = igetitem(value, i)\n"
     ]
    },
    {
     "data": {
      "text/html": [
       "<div>\n",
       "<style scoped>\n",
       "    .dataframe tbody tr th:only-of-type {\n",
       "        vertical-align: middle;\n",
       "    }\n",
       "\n",
       "    .dataframe tbody tr th {\n",
       "        vertical-align: top;\n",
       "    }\n",
       "\n",
       "    .dataframe thead th {\n",
       "        text-align: right;\n",
       "    }\n",
       "</style>\n",
       "<table border=\"1\" class=\"dataframe\">\n",
       "  <thead>\n",
       "    <tr style=\"text-align: right;\">\n",
       "      <th></th>\n",
       "      <th>step</th>\n",
       "      <th>amount</th>\n",
       "      <th>oldbalanceOrg</th>\n",
       "      <th>newbalanceOrig</th>\n",
       "      <th>oldbalanceDest</th>\n",
       "      <th>newbalanceDest</th>\n",
       "      <th>CASH_IN</th>\n",
       "      <th>CASH_OUT</th>\n",
       "      <th>DEBIT</th>\n",
       "      <th>PAYMENT</th>\n",
       "      <th>TRANSFER</th>\n",
       "      <th>isFlaggedFraud</th>\n",
       "      <th>isFraud</th>\n",
       "    </tr>\n",
       "  </thead>\n",
       "  <tbody>\n",
       "    <tr>\n",
       "      <th>count</th>\n",
       "      <td>1.314000e+04</td>\n",
       "      <td>1.314000e+04</td>\n",
       "      <td>1.314000e+04</td>\n",
       "      <td>1.314000e+04</td>\n",
       "      <td>1.314000e+04</td>\n",
       "      <td>1.314000e+04</td>\n",
       "      <td>13140.000000</td>\n",
       "      <td>13140.000000</td>\n",
       "      <td>13140.000000</td>\n",
       "      <td>13140.000000</td>\n",
       "      <td>13140.000000</td>\n",
       "      <td>13140.000000</td>\n",
       "      <td>13140.000000</td>\n",
       "    </tr>\n",
       "    <tr>\n",
       "      <th>mean</th>\n",
       "      <td>-4.067438e-17</td>\n",
       "      <td>2.554189e-17</td>\n",
       "      <td>4.525764e-16</td>\n",
       "      <td>7.751537e-16</td>\n",
       "      <td>-2.938479e-16</td>\n",
       "      <td>3.403290e-16</td>\n",
       "      <td>0.111644</td>\n",
       "      <td>0.427169</td>\n",
       "      <td>0.003349</td>\n",
       "      <td>0.163775</td>\n",
       "      <td>0.294064</td>\n",
       "      <td>0.000913</td>\n",
       "      <td>0.500457</td>\n",
       "    </tr>\n",
       "    <tr>\n",
       "      <th>std</th>\n",
       "      <td>1.000038e+00</td>\n",
       "      <td>1.000038e+00</td>\n",
       "      <td>1.000038e+00</td>\n",
       "      <td>1.000038e+00</td>\n",
       "      <td>1.000038e+00</td>\n",
       "      <td>1.000038e+00</td>\n",
       "      <td>0.314940</td>\n",
       "      <td>0.494686</td>\n",
       "      <td>0.057772</td>\n",
       "      <td>0.370085</td>\n",
       "      <td>0.455638</td>\n",
       "      <td>0.030207</td>\n",
       "      <td>0.500019</td>\n",
       "    </tr>\n",
       "    <tr>\n",
       "      <th>min</th>\n",
       "      <td>-1.581166e+00</td>\n",
       "      <td>-4.425126e-01</td>\n",
       "      <td>-3.882566e-01</td>\n",
       "      <td>-2.120334e-01</td>\n",
       "      <td>-1.997710e-01</td>\n",
       "      <td>-2.803157e-01</td>\n",
       "      <td>0.000000</td>\n",
       "      <td>0.000000</td>\n",
       "      <td>0.000000</td>\n",
       "      <td>0.000000</td>\n",
       "      <td>0.000000</td>\n",
       "      <td>0.000000</td>\n",
       "      <td>0.000000</td>\n",
       "    </tr>\n",
       "    <tr>\n",
       "      <th>25%</th>\n",
       "      <td>-7.510757e-01</td>\n",
       "      <td>-4.219451e-01</td>\n",
       "      <td>-3.850202e-01</td>\n",
       "      <td>-2.120334e-01</td>\n",
       "      <td>-1.997710e-01</td>\n",
       "      <td>-2.803157e-01</td>\n",
       "      <td>0.000000</td>\n",
       "      <td>0.000000</td>\n",
       "      <td>0.000000</td>\n",
       "      <td>0.000000</td>\n",
       "      <td>0.000000</td>\n",
       "      <td>0.000000</td>\n",
       "      <td>0.000000</td>\n",
       "    </tr>\n",
       "    <tr>\n",
       "      <th>50%</th>\n",
       "      <td>-1.272193e-01</td>\n",
       "      <td>-3.481199e-01</td>\n",
       "      <td>-3.503341e-01</td>\n",
       "      <td>-2.120334e-01</td>\n",
       "      <td>-1.997710e-01</td>\n",
       "      <td>-2.520360e-01</td>\n",
       "      <td>0.000000</td>\n",
       "      <td>0.000000</td>\n",
       "      <td>0.000000</td>\n",
       "      <td>0.000000</td>\n",
       "      <td>0.000000</td>\n",
       "      <td>0.000000</td>\n",
       "      <td>1.000000</td>\n",
       "    </tr>\n",
       "    <tr>\n",
       "      <th>75%</th>\n",
       "      <td>5.430396e-01</td>\n",
       "      <td>-1.503029e-01</td>\n",
       "      <td>-1.397418e-01</td>\n",
       "      <td>-2.120334e-01</td>\n",
       "      <td>-7.660898e-02</td>\n",
       "      <td>-3.938523e-02</td>\n",
       "      <td>0.000000</td>\n",
       "      <td>1.000000</td>\n",
       "      <td>0.000000</td>\n",
       "      <td>0.000000</td>\n",
       "      <td>1.000000</td>\n",
       "      <td>0.000000</td>\n",
       "      <td>1.000000</td>\n",
       "    </tr>\n",
       "    <tr>\n",
       "      <th>max</th>\n",
       "      <td>2.244466e+00</td>\n",
       "      <td>1.067482e+01</td>\n",
       "      <td>1.844446e+01</td>\n",
       "      <td>2.010621e+01</td>\n",
       "      <td>5.602130e+01</td>\n",
       "      <td>5.241777e+01</td>\n",
       "      <td>1.000000</td>\n",
       "      <td>1.000000</td>\n",
       "      <td>1.000000</td>\n",
       "      <td>1.000000</td>\n",
       "      <td>1.000000</td>\n",
       "      <td>1.000000</td>\n",
       "      <td>1.000000</td>\n",
       "    </tr>\n",
       "  </tbody>\n",
       "</table>\n",
       "</div>"
      ],
      "text/plain": [
       "               step        amount  oldbalanceOrg  newbalanceOrig  \\\n",
       "count  1.314000e+04  1.314000e+04   1.314000e+04    1.314000e+04   \n",
       "mean  -4.067438e-17  2.554189e-17   4.525764e-16    7.751537e-16   \n",
       "std    1.000038e+00  1.000038e+00   1.000038e+00    1.000038e+00   \n",
       "min   -1.581166e+00 -4.425126e-01  -3.882566e-01   -2.120334e-01   \n",
       "25%   -7.510757e-01 -4.219451e-01  -3.850202e-01   -2.120334e-01   \n",
       "50%   -1.272193e-01 -3.481199e-01  -3.503341e-01   -2.120334e-01   \n",
       "75%    5.430396e-01 -1.503029e-01  -1.397418e-01   -2.120334e-01   \n",
       "max    2.244466e+00  1.067482e+01   1.844446e+01    2.010621e+01   \n",
       "\n",
       "       oldbalanceDest  newbalanceDest       CASH_IN      CASH_OUT  \\\n",
       "count    1.314000e+04    1.314000e+04  13140.000000  13140.000000   \n",
       "mean    -2.938479e-16    3.403290e-16      0.111644      0.427169   \n",
       "std      1.000038e+00    1.000038e+00      0.314940      0.494686   \n",
       "min     -1.997710e-01   -2.803157e-01      0.000000      0.000000   \n",
       "25%     -1.997710e-01   -2.803157e-01      0.000000      0.000000   \n",
       "50%     -1.997710e-01   -2.520360e-01      0.000000      0.000000   \n",
       "75%     -7.660898e-02   -3.938523e-02      0.000000      1.000000   \n",
       "max      5.602130e+01    5.241777e+01      1.000000      1.000000   \n",
       "\n",
       "              DEBIT       PAYMENT      TRANSFER  isFlaggedFraud       isFraud  \n",
       "count  13140.000000  13140.000000  13140.000000    13140.000000  13140.000000  \n",
       "mean       0.003349      0.163775      0.294064        0.000913      0.500457  \n",
       "std        0.057772      0.370085      0.455638        0.030207      0.500019  \n",
       "min        0.000000      0.000000      0.000000        0.000000      0.000000  \n",
       "25%        0.000000      0.000000      0.000000        0.000000      0.000000  \n",
       "50%        0.000000      0.000000      0.000000        0.000000      1.000000  \n",
       "75%        0.000000      0.000000      1.000000        0.000000      1.000000  \n",
       "max        1.000000      1.000000      1.000000        1.000000      1.000000  "
      ]
     },
     "execution_count": 20,
     "metadata": {},
     "output_type": "execute_result"
    }
   ],
   "source": [
    "# No se escalan los datos de tipo variable dicotomica, por lo tanto solo \n",
    "# se estandarizan \n",
    "# estas 6 variables: 'step', 'amount',\"oldbalanceOrg\",\"newbalanceOrig\",\n",
    "# \"oldbalanceDest\",\"newbalanceDest\"\n",
    "\n",
    "d_train_escalado = StandardScaler().fit_transform(d_train)\n",
    "                                         \n",
    "d_test_escalado=StandardScaler().fit_transform(d_test)\n",
    "\n"
   ]
  },
  {
   "cell_type": "markdown",
   "metadata": {
    "id": "uuFCbrk8zVII",
    "slideshow": {
     "slide_type": "slide"
    }
   },
   "source": [
    "4. Entrenamiento y selección de modelo.\n",
    "\n",
    "* Instanciar varios modelos y entrenarlos sobre datos de entrenamiento\n",
    "preparados."
   ]
  },
  {
   "cell_type": "code",
   "execution_count": 24,
   "metadata": {
    "colab": {
     "base_uri": "https://localhost:8080/"
    },
    "id": "6b2ToVjTt9tl",
    "outputId": "ee26031a-1532-4028-f559-a1aa07c674a1",
    "slideshow": {
     "slide_type": "slide"
    }
   },
   "outputs": [
    {
     "data": {
      "text/plain": [
       "RandomForestClassifier(random_state=0)"
      ]
     },
     "execution_count": 24,
     "metadata": {},
     "output_type": "execute_result"
    }
   ],
   "source": [
    "from sklearn.linear_model import SGDClassifier\n",
    "from sklearn.ensemble import RandomForestClassifier\n",
    "\n",
    "sgdclass=SGDClassifier(random_state = 0)\n",
    "forest=RandomForestClassifier(random_state = 0)\n",
    "\n",
    "#Simplemente se usa fit y se entran tanto datos de entrenamiento como los y\n",
    "sgdclass.fit(d_train_pred, y_train)\n",
    "forest.fit(d_train_pred, y_train)"
   ]
  },
  {
   "cell_type": "markdown",
   "metadata": {
    "id": "dy099BbDngO8",
    "slideshow": {
     "slide_type": "slide"
    }
   },
   "source": [
    "Matriz de confusión para escoger modelo "
   ]
  },
  {
   "cell_type": "code",
   "execution_count": 46,
   "metadata": {
    "id": "xLRkZfmnni75",
    "slideshow": {
     "slide_type": "slide"
    }
   },
   "outputs": [],
   "source": [
    "# Simplemente se presentan los mismos modelos pero con el comando nuevo\n",
    "# de cross_val_predict y la cantidad de cv\n",
    "%%time \n",
    "from sklearn.model_selection import cross_val_predict\n",
    "from sklearn.metrics import confusion_matrix \n",
    "\n",
    "\n",
    "Pred_sgd = cross_val_predict(sgdclass, d_train, y, cv = 10 )\n",
    "Pred_forest = cross_val_predict(forest, d_train, y, cv = 10 )\n",
    "\n",
    "mc_sgd = confusion_matrix(y, Pred_sgd)\n",
    "mc_forest = confusion_matrix(y, Pred_forest)"
   ]
  },
  {
   "cell_type": "code",
   "execution_count": 47,
   "metadata": {
    "colab": {
     "base_uri": "https://localhost:8080/"
    },
    "id": "MdpyI9vjnXTF",
    "outputId": "e4f0d63a-8d5d-4618-b5be-37180ac67972",
    "slideshow": {
     "slide_type": "slide"
    }
   },
   "outputs": [
    {
     "name": "stdout",
     "output_type": "stream",
     "text": [
      "Matriz de confusión Forest\n",
      "\n",
      " [[6564    0]\n",
      " [   0 6576]]\n"
     ]
    }
   ],
   "source": [
    "print('Matriz de confusión Forest\\n\\n', mc_forest)\n",
    "\n",
    "# La matriz de confusión del modelo forest nos dice que hubo una clasificación\n",
    "# 100% pefecta, donde ninguno de los datos fueron mal clasificados"
   ]
  },
  {
   "cell_type": "code",
   "execution_count": 48,
   "metadata": {
    "colab": {
     "base_uri": "https://localhost:8080/"
    },
    "id": "j8kU35g6nsX4",
    "outputId": "2c73eaaf-cca6-4aea-fc2c-35200df42e39",
    "slideshow": {
     "slide_type": "slide"
    }
   },
   "outputs": [
    {
     "name": "stdout",
     "output_type": "stream",
     "text": [
      "Matriz de confusión SGD\n",
      "\n",
      " [[6559    5]\n",
      " [  11 6565]]\n"
     ]
    }
   ],
   "source": [
    "print('Matriz de confusión SGD\\n\\n', mc_sgd)\n",
    "\n",
    "# La matriz de confusión del modelo SGD nos dice que hubo una clasificacion un poco\n",
    "# más baja para el conjunto de datos donde 18 personas fueron clasificadas como\n",
    "# fraude, y 9 personas que cometieron fraude fueron clasificados como aquellos que no\n",
    "# lo cometieron, aún así debe tener en cuenta que son muy pocos dato aquellos mal \n",
    "# clasificados pero en comparación con el modelo Forest es un modelo que sí comete \n",
    "# errores."
   ]
  },
  {
   "cell_type": "markdown",
   "metadata": {
    "id": "r7Dq3sLeEYjC",
    "slideshow": {
     "slide_type": "slide"
    }
   },
   "source": [
    "**Validación Cruzada**"
   ]
  },
  {
   "cell_type": "markdown",
   "metadata": {
    "id": "q6xpwmHvnyip",
    "slideshow": {
     "slide_type": "slide"
    }
   },
   "source": [
    "Puntajes de los modelos mediante accuracy."
   ]
  },
  {
   "cell_type": "code",
   "execution_count": 31,
   "metadata": {
    "slideshow": {
     "slide_type": "slide"
    }
   },
   "outputs": [],
   "source": [
    "from sklearn.model_selection import cross_val_score"
   ]
  },
  {
   "cell_type": "code",
   "execution_count": 49,
   "metadata": {
    "colab": {
     "base_uri": "https://localhost:8080/"
    },
    "id": "p7QQ392xn2FP",
    "outputId": "bf31e8ab-9d9a-444d-c9cd-7369b586b181",
    "slideshow": {
     "slide_type": "slide"
    }
   },
   "outputs": [
    {
     "name": "stdout",
     "output_type": "stream",
     "text": [
      "Precisión del modelo Forest:  [0.9870624  0.99162861 0.98858447 0.99086758 0.9870624  0.99010654\n",
      " 0.99086758 0.98858447 0.98934551 0.99315068]\n",
      "Precisión del modelo SGD:  [0.92922374 0.90639269 0.93987823 0.91248097 0.92237443 0.92541857\n",
      " 0.94444444 0.93987823 0.92009132 0.92770167]\n"
     ]
    }
   ],
   "source": [
    "Pt_sgd = cross_val_score(sgdclass, d_train_pred, y_train, cv = 10, \\\n",
    "                         scoring=\"accuracy\" )\n",
    "Pt_forest = cross_val_score(forest, d_train_pred, y_train, cv = 10 ,\\\n",
    "                            scoring=\"accuracy\")\n",
    "\n",
    "print('Exactitud del modelo Forest: ', Pt_forest)\n",
    "print('Exactitud del modelo SGD: ', Pt_sgd)\n"
   ]
  },
  {
   "cell_type": "markdown",
   "metadata": {
    "id": "ysaenWYg-ASi",
    "slideshow": {
     "slide_type": "slide"
    }
   },
   "source": [
    "**Afinamiento del modelo**"
   ]
  },
  {
   "cell_type": "markdown",
   "metadata": {
    "id": "TQfHG9A-oCXJ",
    "slideshow": {
     "slide_type": "slide"
    }
   },
   "source": [
    "Grilla de hiperparámetros "
   ]
  },
  {
   "cell_type": "code",
   "execution_count": 50,
   "metadata": {
    "id": "wp0Rzv2Mn_i3",
    "slideshow": {
     "slide_type": "slide"
    }
   },
   "outputs": [],
   "source": [
    "#Parametros para testeo de los modelos\n",
    "\n",
    "Param_sgd={\n",
    "    \"alpha\":[1,0.1],\n",
    "    \"penalty\":['l1', 'l2']\n",
    "}\n",
    "\n",
    "Param_forest={\n",
    "    \"max_depth\":[10,15,20],\n",
    "    \"max_features\":[3,5,7],\n",
    "    \"n_estimators\":[100,150,200]\n",
    "}"
   ]
  },
  {
   "cell_type": "code",
   "execution_count": 35,
   "metadata": {
    "slideshow": {
     "slide_type": "slide"
    }
   },
   "outputs": [],
   "source": [
    "from sklearn.model_selection import GridSearchCV "
   ]
  },
  {
   "cell_type": "code",
   "execution_count": 51,
   "metadata": {
    "id": "ZR9uyKujoMoM",
    "slideshow": {
     "slide_type": "slide"
    }
   },
   "outputs": [],
   "source": [
    "%%time\n",
    "Grilla_forest= GridSearchCV(forest,Param_forest,cv=10,scoring = 'accuracy')"
   ]
  },
  {
   "cell_type": "code",
   "execution_count": 52,
   "metadata": {
    "colab": {
     "base_uri": "https://localhost:8080/"
    },
    "id": "-ghKKu6doUPv",
    "outputId": "15d370e2-f05a-48d7-976c-b083d06529d1",
    "slideshow": {
     "slide_type": "slide"
    }
   },
   "outputs": [
    {
     "name": "stdout",
     "output_type": "stream",
     "text": [
      "Wall time: 9min 36s\n"
     ]
    },
    {
     "data": {
      "text/plain": [
       "GridSearchCV(cv=10, estimator=RandomForestClassifier(random_state=0),\n",
       "             param_grid={'max_depth': [10, 15, 20], 'max_features': [3, 5, 7],\n",
       "                         'n_estimators': [100, 150, 200]},\n",
       "             scoring='accuracy')"
      ]
     },
     "execution_count": 52,
     "metadata": {},
     "output_type": "execute_result"
    }
   ],
   "source": [
    "%%time\n",
    "\n",
    "\n",
    "Grilla_forest.fit(d_train_pred,y_train)"
   ]
  },
  {
   "cell_type": "code",
   "execution_count": 53,
   "metadata": {
    "colab": {
     "base_uri": "https://localhost:8080/"
    },
    "id": "TqUhxxK1okRQ",
    "outputId": "72a6e9ad-bc06-43b3-ce4d-2e5a9bb9ea19",
    "slideshow": {
     "slide_type": "slide"
    }
   },
   "outputs": [
    {
     "data": {
      "text/plain": [
       "{'max_depth': 15, 'max_features': 7, 'n_estimators': 100}"
      ]
     },
     "execution_count": 53,
     "metadata": {},
     "output_type": "execute_result"
    }
   ],
   "source": [
    "\n",
    "Grilla_forest.best_params_ "
   ]
  },
  {
   "cell_type": "markdown",
   "metadata": {
    "id": "vvDICq8aEgvf",
    "slideshow": {
     "slide_type": "slide"
    }
   },
   "source": [
    "Combinación de hiperparametros que devuelven el mejor modelo"
   ]
  },
  {
   "cell_type": "code",
   "execution_count": 41,
   "metadata": {
    "id": "RTsluF1MomD2",
    "slideshow": {
     "slide_type": "slide"
    }
   },
   "outputs": [],
   "source": [
    "# Modelos Forest y SGD con mejor combinación de hiperparámetros.\n",
    "\n",
    "Mejor_forest=Grilla_forest.best_estimator_\n"
   ]
  },
  {
   "cell_type": "code",
   "execution_count": 54,
   "metadata": {
    "colab": {
     "base_uri": "https://localhost:8080/"
    },
    "id": "WdQsLkMMopVw",
    "outputId": "4be82920-f956-47b5-e1e4-2fb674d45702",
    "slideshow": {
     "slide_type": "slide"
    }
   },
   "outputs": [
    {
     "name": "stdout",
     "output_type": "stream",
     "text": [
      "Precisión datos de testeo para Forest: 0.6707242848447961\n",
      "Precisión datos de testeo para Forest: 0.8341448569689592\n"
     ]
    }
   ],
   "source": [
    "y_test=d_test.isFraud\n",
    "\n",
    "# Precisión con datos e testeo\n",
    "\n",
    "print(\"Precisión datos de testeo para Forest:\",\\\n",
    "      Mejor_forest.score(d_test_pred, y_test))\n"
   ]
  },
  {
   "cell_type": "markdown",
   "metadata": {
    "id": "9_nyyAHv_3lv",
    "slideshow": {
     "slide_type": "slide"
    }
   },
   "source": [
    "Note que para los datos de testeo y entrenamiento tenemos una precisión supremamente grande, esto se puede deber a que los datos están organizados para ser clasificados, este trabajo pretende mostrar el funcionamiento de los modelos SGD y random Forest para clasificación binaria pero hay que tener cuidado con futuros proyectos y nuevas entradas en la base de datos ya que los modelos funcionan a la perfección con este dataset, pero para clsificar nuevas entradas podríamos estar cometiendo errores ya que los modelos usados estarían ya acostumbrados a este dataset.\n"
   ]
  }
 ],
 "metadata": {
  "celltoolbar": "Slideshow",
  "colab": {
   "name": "Entregable clasificación Dayana Quintero y Manuela Romero",
   "provenance": []
  },
  "kernelspec": {
   "display_name": "Python 3 (ipykernel)",
   "language": "python",
   "name": "python3"
  },
  "language_info": {
   "codemirror_mode": {
    "name": "ipython",
    "version": 3
   },
   "file_extension": ".py",
   "mimetype": "text/x-python",
   "name": "python",
   "nbconvert_exporter": "python",
   "pygments_lexer": "ipython3",
   "version": "3.9.7"
  }
 },
 "nbformat": 4,
 "nbformat_minor": 1
}
