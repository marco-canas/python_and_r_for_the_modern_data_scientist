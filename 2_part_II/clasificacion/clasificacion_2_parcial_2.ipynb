{
 "cells": [
  {
   "cell_type": "markdown",
   "id": "539a7b76",
   "metadata": {},
   "source": []
  },
  {
   "cell_type": "markdown",
   "id": "a6061492",
   "metadata": {},
   "source": [
    "# Asignación para el parcial 2"
   ]
  },
  {
   "cell_type": "markdown",
   "id": "14262fa6",
   "metadata": {},
   "source": [
    "# Dataset inicial: load_iris"
   ]
  },
  {
   "cell_type": "markdown",
   "id": "0eb7843b",
   "metadata": {},
   "source": [
    "# TAREA\n",
    "Caso 1: Constuir un clasificador binario detector de virginica\n",
    "Caso 2: Constuir un clasificador binario versicolor vs virginica\n",
    "\n",
    "# ATRIBUTOS\n",
    "Caso 1:\n",
    "atributo 1: Longitud de sépalo\n",
    "atributo 2: ancho de sépalo\n",
    "\n",
    "Caso 2:\n",
    "atributo 1: Longitud de pétalo\n",
    "atributo 2: ancho de pétalo\n",
    "\n",
    "Caso 3:\n",
    "atributo 1: Producto entre longitud y ancho de sépalo\n",
    "atributo 2: Producto entre longitud y ancho de pétalo\n",
    "\n",
    "# MODELOS\n",
    "Caso 1: SGDClassifier y LogisticRegression\n",
    "Caso 2: SGDClassifier y KNeighborsClassifier\n",
    "Caso 3: LogisticRegression y KNeighborsClassifier"
   ]
  },
  {
   "cell_type": "markdown",
   "id": "0d13bc74",
   "metadata": {},
   "source": [
    "## Parciales:"
   ]
  },
  {
   "cell_type": "markdown",
   "id": "c20ac247",
   "metadata": {},
   "source": [
    "**{TAREA: Caso 1, ATRIBUTOS: Caso 1, MODELOS: Caso 1}**\n",
    "{TAREA: Caso 1, ATRIBUTOS: Caso 1, MODELOS: Caso 2}\n",
    "{TAREA: Caso 1, ATRIBUTOS: Caso 1, MODELOS: Caso 3}\n",
    "{TAREA: Caso 1, ATRIBUTOS: Caso 2, MODELOS: Caso 1}\n",
    "{TAREA: Caso 1, ATRIBUTOS: Caso 2, MODELOS: Caso 2}\n",
    "{TAREA: Caso 1, ATRIBUTOS: Caso 2, MODELOS: Caso 3}\n",
    "{TAREA: Caso 1, ATRIBUTOS: Caso 3, MODELOS: Caso 1}\n",
    "{TAREA: Caso 1, ATRIBUTOS: Caso 3, MODELOS: Caso 2}\n",
    "{TAREA: Caso 1, ATRIBUTOS: Caso 3, MODELOS: Caso 3}\n",
    "{TAREA: Caso 2, ATRIBUTOS: Caso 1, MODELOS: Caso 1}\n",
    "{TAREA: Caso 2, ATRIBUTOS: Caso 1, MODELOS: Caso 2}\n",
    "{TAREA: Caso 2, ATRIBUTOS: Caso 1, MODELOS: Caso 3}\n",
    "{TAREA: Caso 2, ATRIBUTOS: Caso 2, MODELOS: Caso 1}\n",
    "{TAREA: Caso 2, ATRIBUTOS: Caso 2, MODELOS: Caso 2}\n",
    "{TAREA: Caso 2, ATRIBUTOS: Caso 2, MODELOS: Caso 3}\n",
    "{TAREA: Caso 2, ATRIBUTOS: Caso 3, MODELOS: Caso 1}\n",
    "{TAREA: Caso 2, ATRIBUTOS: Caso 3, MODELOS: Caso 2}\n",
    "{TAREA: Caso 2, ATRIBUTOS: Caso 3, MODELOS: Caso 3}"
   ]
  },
  {
   "cell_type": "markdown",
   "id": "01a68840",
   "metadata": {},
   "source": [
    "# Ensayo de tiempo de solución"
   ]
  },
  {
   "cell_type": "code",
   "execution_count": 10,
   "id": "1a29e744",
   "metadata": {},
   "outputs": [],
   "source": [
    "import numpy as np \n",
    "import pandas as pd \n",
    "import matplotlib.pyplot as plt \n",
    "\n",
    "from sklearn.datasets import load_iris "
   ]
  },
  {
   "cell_type": "code",
   "execution_count": 2,
   "id": "77060095",
   "metadata": {},
   "outputs": [],
   "source": [
    "X,y = load_iris(return_X_y = True) "
   ]
  },
  {
   "cell_type": "code",
   "execution_count": 3,
   "id": "21a1fa9e",
   "metadata": {},
   "outputs": [],
   "source": [
    "iris = load_iris() "
   ]
  },
  {
   "cell_type": "code",
   "execution_count": 4,
   "id": "30d819c3",
   "metadata": {},
   "outputs": [
    {
     "data": {
      "text/plain": [
       "array(['setosa', 'versicolor', 'virginica'], dtype='<U10')"
      ]
     },
     "execution_count": 4,
     "metadata": {},
     "output_type": "execute_result"
    }
   ],
   "source": [
    "iris.target_names "
   ]
  },
  {
   "cell_type": "markdown",
   "id": "16f74f5e",
   "metadata": {},
   "source": [
    "# Constitución de los atributos y las etiquetas para detector de setosa"
   ]
  },
  {
   "cell_type": "code",
   "execution_count": 5,
   "id": "520b2d89",
   "metadata": {},
   "outputs": [],
   "source": [
    "y_setosa = (y==0)"
   ]
  },
  {
   "cell_type": "code",
   "execution_count": 6,
   "id": "240c24e6",
   "metadata": {},
   "outputs": [],
   "source": [
    "X_lon_an_sep = X[:,(0,1)] "
   ]
  },
  {
   "cell_type": "code",
   "execution_count": 7,
   "id": "3b961b2d",
   "metadata": {},
   "outputs": [],
   "source": [
    "from sklearn.model_selection import StratifiedShuffleSplit"
   ]
  },
  {
   "cell_type": "code",
   "execution_count": 19,
   "id": "499ff7f2",
   "metadata": {},
   "outputs": [],
   "source": [
    "sss = StratifiedShuffleSplit(n_splits = 2, test_size = 0.2, random_state = 42)"
   ]
  },
  {
   "cell_type": "code",
   "execution_count": 20,
   "id": "f5dd12f4",
   "metadata": {},
   "outputs": [],
   "source": [
    "for train_index, test_index in sss.split(X_lon_an_sep,y_setosa):\n",
    "    X_train, X_test = X_lon_an_sep[train_index], X_lon_an_sep[test_index]\n",
    "    y_train, y_test = y_setosa[train_index], y_setosa[test_index]"
   ]
  },
  {
   "cell_type": "code",
   "execution_count": 22,
   "id": "5b54a146",
   "metadata": {},
   "outputs": [
    {
     "data": {
      "image/png": "[encoded data removed]",
      "text/plain": [
       "<Figure size 1440x576 with 3 Axes>"
      ]
     },
     "metadata": {
      "needs_background": "light"
     },
     "output_type": "display_data"
    }
   ],
   "source": [
    "fig,ax = plt.subplots(1,3, figsize = (20,8)) \n",
    "ax[0].hist(1*y_setosa)\n",
    "ax[1].hist(1*y_train)\n",
    "ax[2].hist(1*y_test)\n",
    "plt.show() "
   ]
  },
  {
   "cell_type": "code",
   "execution_count": 23,
   "id": "34a3aa88",
   "metadata": {},
   "outputs": [
    {
     "data": {
      "text/plain": [
       "0.8"
      ]
     },
     "execution_count": 23,
     "metadata": {},
     "output_type": "execute_result"
    }
   ],
   "source": [
    "(120)/150"
   ]
  },
  {
   "cell_type": "code",
   "execution_count": null,
   "id": "9d2daa2d",
   "metadata": {},
   "outputs": [],
   "source": []
  },
  {
   "cell_type": "code",
   "execution_count": null,
   "id": "9602644e",
   "metadata": {},
   "outputs": [],
   "source": []
  },
  {
   "cell_type": "code",
   "execution_count": null,
   "id": "8a30993b",
   "metadata": {},
   "outputs": [],
   "source": []
  },
  {
   "cell_type": "code",
   "execution_count": null,
   "id": "79521619",
   "metadata": {},
   "outputs": [],
   "source": []
  },
  {
   "cell_type": "code",
   "execution_count": null,
   "id": "f5348489",
   "metadata": {},
   "outputs": [],
   "source": []
  },
  {
   "cell_type": "code",
   "execution_count": null,
   "id": "a44b2f2e",
   "metadata": {},
   "outputs": [],
   "source": []
  },
  {
   "cell_type": "code",
   "execution_count": null,
   "id": "2f884d8e",
   "metadata": {},
   "outputs": [],
   "source": []
  },
  {
   "cell_type": "code",
   "execution_count": null,
   "id": "acc3577f",
   "metadata": {},
   "outputs": [],
   "source": []
  },
  {
   "cell_type": "code",
   "execution_count": null,
   "id": "e3b618db",
   "metadata": {},
   "outputs": [],
   "source": []
  }
 ],
 "metadata": {
  "kernelspec": {
   "display_name": "Python 3 (ipykernel)",
   "language": "python",
   "name": "python3"
  },
  "language_info": {
   "codemirror_mode": {
    "name": "ipython",
    "version": 3
   },
   "file_extension": ".py",
   "mimetype": "text/x-python",
   "name": "python",
   "nbconvert_exporter": "python",
   "pygments_lexer": "ipython3",
   "version": "3.9.7"
  }
 },
 "nbformat": 4,
 "nbformat_minor": 5
}
