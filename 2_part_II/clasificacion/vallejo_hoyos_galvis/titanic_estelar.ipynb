{
 "cells": [
  {
   "cell_type": "markdown",
   "metadata": {
    "slideshow": {
     "slide_type": "slide"
    }
   },
   "source": [
    "<table align=\"left\">\n",
    "  <td>\n",
    "    <a href=\"https://colab.research.google.com/github/marco-canas/intro-Machine-Learning/blob/main/classes/class_26_multiclase/class_26_multiclase.ipynb\" target=\"_parent\"><img src=\"https://colab.research.google.com/assets/colab-badge.svg\" alt=\"Open In Colab\"/></a>\n",
    "  </td>\n",
    "</table> "
   ]
  },
  {
   "cell_type": "markdown",
   "metadata": {
    "id": "3uOtXqnj1Tz1",
    "slideshow": {
     "slide_type": "slide"
    }
   },
   "source": [
    "# Modelo de clasificasión para predecir si un pasajero de la nave espacial Titanic, fue transportado a una dimención alternativa. "
   ]
  },
  {
   "cell_type": "markdown",
   "metadata": {
    "id": "8b69T5Bx1qxD",
    "slideshow": {
     "slide_type": "slide"
    }
   },
   "source": [
    "### CONTEXTO"
   ]
  },
  {
   "cell_type": "markdown",
   "metadata": {
    "id": "IBVRe1oA1YVg",
    "slideshow": {
     "slide_type": "slide"
    }
   },
   "source": [
    "El siguiente dataset, es un ejercicio abierto de Kaggle donde si simula siguiente situación:"
   ]
  },
  {
   "cell_type": "markdown",
   "metadata": {
    "id": "IBVRe1oA1YVg",
    "slideshow": {
     "slide_type": "slide"
    }
   },
   "source": [
    "\"En el año 2912, se necesitan habilidades de ciencia de datos para resolver un misterio cósmico. "
   ]
  },
  {
   "cell_type": "markdown",
   "metadata": {
    "id": "IBVRe1oA1YVg",
    "slideshow": {
     "slide_type": "slide"
    }
   },
   "source": [
    "Se ha recibido una transmisión desde cuatro años luz de distancia y las cosas no pintan bien."
   ]
  },
  {
   "cell_type": "markdown",
   "metadata": {
    "id": "IBVRe1oA1YVg",
    "slideshow": {
     "slide_type": "slide"
    }
   },
   "source": [
    "La nave espacial Titanic fue un transatlántico de pasajeros interestelar lanzado hace un mes. "
   ]
  },
  {
   "cell_type": "markdown",
   "metadata": {
    "id": "IBVRe1oA1YVg",
    "slideshow": {
     "slide_type": "slide"
    }
   },
   "source": [
    "Con casi 13.000 pasajeros a bordo, la nave emprendió su viaje inaugural transportando emigrantes de nuestro sistema solar a tres exoplanetas recientemente habitables que orbitan estrellas cercanas."
   ]
  },
  {
   "cell_type": "markdown",
   "metadata": {
    "id": "IBVRe1oA1YVg",
    "slideshow": {
     "slide_type": "slide"
    }
   },
   "source": [
    "Mientras rodeaba Alpha Centauri en ruta hacia su primer destino, el tórrido 55 Cancri E, la desprevenida nave espacial Titanic chocó con una anomalía del espacio-tiempo escondida dentro de una nube de polvo. "
   ]
  },
  {
   "cell_type": "markdown",
   "metadata": {
    "id": "IBVRe1oA1YVg",
    "slideshow": {
     "slide_type": "slide"
    }
   },
   "source": [
    "Lamentablemente, tuvo un destino similar al de su homónimo de 1000 años antes. "
   ]
  },
  {
   "cell_type": "markdown",
   "metadata": {
    "id": "IBVRe1oA1YVg",
    "slideshow": {
     "slide_type": "slide"
    }
   },
   "source": [
    "Aunque la nave permaneció intacta, ¡casi la mitad de los pasajeros fueron transportados a una dimensión alternativa!"
   ]
  },
  {
   "cell_type": "markdown",
   "metadata": {
    "id": "IBVRe1oA1YVg",
    "slideshow": {
     "slide_type": "slide"
    }
   },
   "source": [
    "Para ayudar a las tripulaciones de rescate y recuperar a los pasajeros perdidos, se debe predecir el porcentaje de pasajeros que fueron transportados por la anomalía utilizando los registros recuperados del sistema informático dañado de la nave espacial. \""
   ]
  },
  {
   "cell_type": "markdown",
   "metadata": {
    "id": "EMMlLCQvS8Ei",
    "slideshow": {
     "slide_type": "slide"
    }
   },
   "source": [
    "## 1. Plantear la pregunta.  \n",
    "\n",
    "Tenemos un dataset $[X \\mid y]$ con las siguientes condiciones:"
   ]
  },
  {
   "cell_type": "markdown",
   "metadata": {
    "id": "EMMlLCQvS8Ei",
    "slideshow": {
     "slide_type": "slide"
    }
   },
   "source": [
    "- $X[x_{ij}] \\in \\mathbb{R}_{n,d}$.\n",
    "\n",
    "- $X^{j}$, Donde $j$ representa el j_ésimo atributo.\n",
    "\n",
    "- $X_{i}$, Donde i representa la i-ésima fila o instancia.\n",
    "\n",
    "- $x_{ij}$, $ij$-ésima  entrada de la matriz X.\n",
    "\n",
    "- $y$ = $[y_{i}] \\in \\mathbb{R}^{n}$: Vector cuya i-esima entrada indica si el i-esimo  pasajero fue o no transportado a otra dimensión.\n",
    "\n",
    "-  $y_{i}$ es $1$ si, el i-esimo pasajero fue tranportado a otra galaxia y $0$ si no lo fue."
   ]
  },
  {
   "cell_type": "markdown",
   "metadata": {
    "id": "EMMlLCQvS8Ei",
    "slideshow": {
     "slide_type": "slide"
    }
   },
   "source": [
    "El problema que se va tratar, es un problema de clasificación binaria, dado que el objetivo es predecir a partir de los datos si el pasajero fue transportado a otra dimensión o no, es decir $h$ tiene la forma:\n",
    "\n",
    "\n",
    "$h_{w}(X_{i})$ = $ y_{i}$"
   ]
  },
  {
   "cell_type": "markdown",
   "metadata": {
    "id": "vnO3UNf92cMT",
    "slideshow": {
     "slide_type": "slide"
    }
   },
   "source": [
    "## 2. Exploración inicial."
   ]
  },
  {
   "cell_type": "markdown",
   "metadata": {
    "id": "JCW205TN2kLI",
    "slideshow": {
     "slide_type": "slide"
    }
   },
   "source": [
    "- Los datos fueron tomados del sitio web Kaggle y son de carácter público. "
   ]
  },
  {
   "cell_type": "markdown",
   "metadata": {
    "id": "JCW205TN2kLI",
    "slideshow": {
     "slide_type": "slide"
    }
   },
   "source": [
    "- El objetivo con este dataset es predecir si un pasajero fue transportado a una dimensión alternativa durante la colisión de la nave espacial Titanic con la anomalía del espacio-tiempo. "
   ]
  },
  {
   "cell_type": "markdown",
   "metadata": {
    "id": "JCW205TN2kLI",
    "slideshow": {
     "slide_type": "slide"
    }
   },
   "source": [
    "Los datos hacen parte de un conjunto de registros personales recuperados del sistema informático dañado de la nave."
   ]
  },
  {
   "cell_type": "markdown",
   "metadata": {
    "id": "aR0uxfwpVNhQ",
    "slideshow": {
     "slide_type": "slide"
    }
   },
   "source": [
    "- La función objetivo esta dada por\n",
    "$$\n",
    "h:  R^{13} ⟶ \\{0,1\\}  \\\\\n",
    "   \\hspace{1,5cm}  h(X_{m\\times n}) = y\n",
    "$$ "
   ]
  },
  {
   "cell_type": "markdown",
   "metadata": {
    "id": "wyBIkNBKYAcZ",
    "slideshow": {
     "slide_type": "slide"
    }
   },
   "source": [
    "donde $X$ es una matriz con un número de filas mucho mayor al número de columnas, además $y$ es un vector de $R^{m}$ cuyas entradas toman valores  $1$ o $0$ las cuales indican que el pasajero fue transportado o no a otra dimension  respectivamente."
   ]
  },
  {
   "cell_type": "markdown",
   "metadata": {
    "id": "0HslVe9t2_8p",
    "slideshow": {
     "slide_type": "slide"
    }
   },
   "source": [
    "A continuación se describen cada una de las variables que conforman el conjunto de datos."
   ]
  },
  {
   "cell_type": "markdown",
   "metadata": {
    "id": "mk6F5iMS3APW",
    "slideshow": {
     "slide_type": "slide"
    }
   },
   "source": [
    "\n",
    "* `train.csv`: conjunto de aproximadamente 8700 datos de los pasajeros de la nave titanic, los cuales seran utilizados para el entrenamiento \n",
    "\n",
    "* `PassengerId`: Es un Id único que identifica a cada pasajero. El cual tiene la forma $gggg\\_pp$ donde $gggg$ indica un grupo con el que viaja el pasajero y $pp$ es su número dentro del grupo.\n",
    "* `HomePlanet`: El planeta del que partió el pasajero (Earth, Europa,\n",
    "Mars).\n",
    "* `CryoSleep`: Indica si el pasajero eligió ser puesto en animación suspendida durante la duración del viaje.\n",
    "- `Cabin`: El número de cabina donde se hospeda el pasajero. Toma la forma deck/num/side, donde side puede ser P por Port o S por Estribor .(El Port y el Starboard son términos náuticos que refieren a los lados izquierdo y derecho, respectivamente, de una nave, según lo percibido por una persona a bordo que hace frente al la nave.)\n",
    "* `Destination`: El planeta al que los pasajeros pretendian llegar.\n",
    "* `Age`: La edad del pasajero.\n",
    "* `VIP`: Si el pasajero ha pagado por servicio VIP especial durante el viaje.\n",
    "* `RoomService`, `FoodCourt`, `ShoppingMall`, `Spa`, `VRDeck` - Monto que el pasajero ha facturado en cada uno de los muchos servicios de lujo del Spaceship Titanic.\n",
    "* `Name`: Nombre y apellido del pasajero.\n",
    "* `Transported`: Dice si  el pasajero fue transportado a otra dimensión. Esta es nuestra variable objetivo.\n",
    "\n"
   ]
  },
  {
   "cell_type": "markdown",
   "metadata": {
    "slideshow": {
     "slide_type": "slide"
    }
   },
   "source": [
    "# Importar librerías"
   ]
  },
  {
   "cell_type": "code",
   "execution_count": 1,
   "metadata": {
    "id": "wYP6YLsSWXLq",
    "slideshow": {
     "slide_type": "slide"
    }
   },
   "outputs": [],
   "source": [
    "import numpy as np\n",
    "import pandas as pd\n",
    "import matplotlib.pyplot as plt\n",
    "import seaborn as sns\n",
    "\n",
    "from sklearn.model_selection import train_test_split "
   ]
  },
  {
   "cell_type": "markdown",
   "metadata": {
    "slideshow": {
     "slide_type": "slide"
    }
   },
   "source": [
    "# Obtener los datos "
   ]
  },
  {
   "cell_type": "code",
   "execution_count": 2,
   "metadata": {
    "id": "uWDEJ6rvWXLw",
    "slideshow": {
     "slide_type": "slide"
    }
   },
   "outputs": [],
   "source": [
    "datos = pd.read_csv(\"train_vallejo_cano.csv\")"
   ]
  },
  {
   "cell_type": "code",
   "execution_count": 3,
   "metadata": {
    "colab": {
     "base_uri": "https://localhost:8080/",
     "height": 356
    },
    "id": "gBWkhWyZWXLy",
    "outputId": "fd06cdff-aff2-428b-8e81-4846c0b48dca",
    "scrolled": true,
    "slideshow": {
     "slide_type": "slide"
    }
   },
   "outputs": [
    {
     "data": {
      "text/html": [
       "<div>\n",
       "<style scoped>\n",
       "    .dataframe tbody tr th:only-of-type {\n",
       "        vertical-align: middle;\n",
       "    }\n",
       "\n",
       "    .dataframe tbody tr th {\n",
       "        vertical-align: top;\n",
       "    }\n",
       "\n",
       "    .dataframe thead th {\n",
       "        text-align: right;\n",
       "    }\n",
       "</style>\n",
       "<table border=\"1\" class=\"dataframe\">\n",
       "  <thead>\n",
       "    <tr style=\"text-align: right;\">\n",
       "      <th></th>\n",
       "      <th>PassengerId</th>\n",
       "      <th>HomePlanet</th>\n",
       "      <th>CryoSleep</th>\n",
       "      <th>Cabin</th>\n",
       "      <th>Destination</th>\n",
       "      <th>Age</th>\n",
       "      <th>VIP</th>\n",
       "      <th>RoomService</th>\n",
       "      <th>FoodCourt</th>\n",
       "      <th>ShoppingMall</th>\n",
       "      <th>Spa</th>\n",
       "      <th>VRDeck</th>\n",
       "      <th>Name</th>\n",
       "      <th>Transported</th>\n",
       "    </tr>\n",
       "  </thead>\n",
       "  <tbody>\n",
       "    <tr>\n",
       "      <th>0</th>\n",
       "      <td>0001_01</td>\n",
       "      <td>Europa</td>\n",
       "      <td>False</td>\n",
       "      <td>B/0/P</td>\n",
       "      <td>TRAPPIST-1e</td>\n",
       "      <td>39.0</td>\n",
       "      <td>False</td>\n",
       "      <td>0.0</td>\n",
       "      <td>0.0</td>\n",
       "      <td>0.0</td>\n",
       "      <td>0.0</td>\n",
       "      <td>0.0</td>\n",
       "      <td>Maham Ofracculy</td>\n",
       "      <td>False</td>\n",
       "    </tr>\n",
       "    <tr>\n",
       "      <th>1</th>\n",
       "      <td>0002_01</td>\n",
       "      <td>Earth</td>\n",
       "      <td>False</td>\n",
       "      <td>F/0/S</td>\n",
       "      <td>TRAPPIST-1e</td>\n",
       "      <td>24.0</td>\n",
       "      <td>False</td>\n",
       "      <td>109.0</td>\n",
       "      <td>9.0</td>\n",
       "      <td>25.0</td>\n",
       "      <td>549.0</td>\n",
       "      <td>44.0</td>\n",
       "      <td>Juanna Vines</td>\n",
       "      <td>True</td>\n",
       "    </tr>\n",
       "  </tbody>\n",
       "</table>\n",
       "</div>"
      ],
      "text/plain": [
       "  PassengerId HomePlanet CryoSleep  Cabin  Destination   Age    VIP  \\\n",
       "0     0001_01     Europa     False  B/0/P  TRAPPIST-1e  39.0  False   \n",
       "1     0002_01      Earth     False  F/0/S  TRAPPIST-1e  24.0  False   \n",
       "\n",
       "   RoomService  FoodCourt  ShoppingMall    Spa  VRDeck             Name  \\\n",
       "0          0.0        0.0           0.0    0.0     0.0  Maham Ofracculy   \n",
       "1        109.0        9.0          25.0  549.0    44.0     Juanna Vines   \n",
       "\n",
       "   Transported  \n",
       "0        False  \n",
       "1         True  "
      ]
     },
     "execution_count": 3,
     "metadata": {},
     "output_type": "execute_result"
    }
   ],
   "source": [
    "datos.head(2)"
   ]
  },
  {
   "cell_type": "code",
   "execution_count": 4,
   "metadata": {
    "colab": {
     "base_uri": "https://localhost:8080/"
    },
    "id": "GJcGA7q8WXL0",
    "outputId": "28db9d80-5ba5-4341-fff4-66f941ed3a36",
    "slideshow": {
     "slide_type": "slide"
    }
   },
   "outputs": [
    {
     "data": {
      "text/plain": [
       "Index(['PassengerId', 'HomePlanet', 'CryoSleep', 'Cabin', 'Destination', 'Age',\n",
       "       'VIP', 'RoomService', 'FoodCourt', 'ShoppingMall', 'Spa', 'VRDeck',\n",
       "       'Name', 'Transported'],\n",
       "      dtype='object')"
      ]
     },
     "execution_count": 4,
     "metadata": {},
     "output_type": "execute_result"
    }
   ],
   "source": [
    "datos.keys()"
   ]
  },
  {
   "cell_type": "code",
   "execution_count": 5,
   "metadata": {
    "colab": {
     "base_uri": "https://localhost:8080/"
    },
    "id": "1JK38jfFWXL2",
    "outputId": "ba8a3c58-5be3-4932-e737-f77ffdccd893",
    "slideshow": {
     "slide_type": "slide"
    }
   },
   "outputs": [
    {
     "data": {
      "text/plain": [
       "(8693, 14)"
      ]
     },
     "execution_count": 5,
     "metadata": {},
     "output_type": "execute_result"
    }
   ],
   "source": [
    "datos.shape"
   ]
  },
  {
   "cell_type": "code",
   "execution_count": 6,
   "metadata": {
    "slideshow": {
     "slide_type": "slide"
    }
   },
   "outputs": [
    {
     "data": {
      "text/plain": [
       "6560"
      ]
     },
     "execution_count": 6,
     "metadata": {},
     "output_type": "execute_result"
    }
   ],
   "source": [
    "len(datos.Cabin.value_counts()) "
   ]
  },
  {
   "cell_type": "markdown",
   "metadata": {
    "id": "Ig889-LxjHbP",
    "slideshow": {
     "slide_type": "slide"
    }
   },
   "source": [
    "Dataset con $8693$ instancias y $14$ , $13$ son variables predictoras y $1$ respuesta."
   ]
  },
  {
   "cell_type": "code",
   "execution_count": 7,
   "metadata": {
    "colab": {
     "base_uri": "https://localhost:8080/"
    },
    "id": "yCd2Q3OFWXL5",
    "outputId": "090fd1e1-c61d-4805-b83a-d2ce2437bf9b",
    "slideshow": {
     "slide_type": "slide"
    }
   },
   "outputs": [
    {
     "name": "stdout",
     "output_type": "stream",
     "text": [
      "<class 'pandas.core.frame.DataFrame'>\n",
      "RangeIndex: 8693 entries, 0 to 8692\n",
      "Data columns (total 14 columns):\n",
      " #   Column        Non-Null Count  Dtype  \n",
      "---  ------        --------------  -----  \n",
      " 0   PassengerId   8693 non-null   object \n",
      " 1   HomePlanet    8492 non-null   object \n",
      " 2   CryoSleep     8476 non-null   object \n",
      " 3   Cabin         8494 non-null   object \n",
      " 4   Destination   8511 non-null   object \n",
      " 5   Age           8514 non-null   float64\n",
      " 6   VIP           8490 non-null   object \n",
      " 7   RoomService   8512 non-null   float64\n",
      " 8   FoodCourt     8510 non-null   float64\n",
      " 9   ShoppingMall  8485 non-null   float64\n",
      " 10  Spa           8510 non-null   float64\n",
      " 11  VRDeck        8505 non-null   float64\n",
      " 12  Name          8493 non-null   object \n",
      " 13  Transported   8693 non-null   bool   \n",
      "dtypes: bool(1), float64(6), object(7)\n",
      "memory usage: 891.5+ KB\n"
     ]
    }
   ],
   "source": [
    "datos.info()"
   ]
  },
  {
   "cell_type": "markdown",
   "metadata": {
    "id": "VCPU8dUziPp6",
    "slideshow": {
     "slide_type": "slide"
    }
   },
   "source": [
    "Se convierte la variable respuesta `Transported` de tipo boleano a tipo entero, donde   \n",
    "\n",
    "* 1(True) indica que el pasajero fue transportado a otra dimensión y   \n",
    "* 0 (False) que no lo fue.  \n"
   ]
  },
  {
   "cell_type": "code",
   "execution_count": 8,
   "metadata": {
    "id": "mw0oOMq6WXL7",
    "slideshow": {
     "slide_type": "slide"
    }
   },
   "outputs": [],
   "source": [
    "datos['Transported'] = datos['Transported'].astype(np.int64)"
   ]
  },
  {
   "cell_type": "markdown",
   "metadata": {
    "id": "52HTw_RMin2a",
    "slideshow": {
     "slide_type": "slide"
    }
   },
   "source": [
    "Se evidencia que hay presencia de datos faltantes, por tanto, es necesario hacer una imputación a las variables para obtener dichos datos"
   ]
  },
  {
   "cell_type": "code",
   "execution_count": null,
   "metadata": {
    "colab": {
     "base_uri": "https://localhost:8080/",
     "height": 356
    },
    "id": "-staH15YWXL8",
    "outputId": "24ee83a4-f158-4b2d-dd69-ca8290a51942",
    "slideshow": {
     "slide_type": "slide"
    }
   },
   "outputs": [],
   "source": [
    "datos.head()"
   ]
  },
  {
   "cell_type": "markdown",
   "metadata": {
    "id": "rOkaNaDghQgw",
    "slideshow": {
     "slide_type": "slide"
    }
   },
   "source": [
    "Ahora, se suprimen las variables `PassengerId`, `cabin` y `name` dado que  son etiquetas y no son necesarias para el objetivo de nuestro estudio."
   ]
  },
  {
   "cell_type": "code",
   "execution_count": 9,
   "metadata": {
    "id": "np9FJUqYWXL9",
    "slideshow": {
     "slide_type": "slide"
    }
   },
   "outputs": [],
   "source": [
    "datos = datos.drop(['PassengerId','Cabin','Name'],axis=1)"
   ]
  },
  {
   "cell_type": "markdown",
   "metadata": {
    "id": "t82FEVgYhN9n",
    "slideshow": {
     "slide_type": "slide"
    }
   },
   "source": [
    "# Análisis exploratorio de las variables categóricas para poder identificar sus niveles"
   ]
  },
  {
   "cell_type": "code",
   "execution_count": 10,
   "metadata": {
    "colab": {
     "base_uri": "https://localhost:8080/"
    },
    "id": "ydeSfg2ZWXL-",
    "outputId": "e6405c3f-1908-48e5-d524-03e9f877a503",
    "slideshow": {
     "slide_type": "slide"
    }
   },
   "outputs": [
    {
     "data": {
      "text/plain": [
       "Earth     4602\n",
       "Europa    2131\n",
       "Mars      1759\n",
       "Name: HomePlanet, dtype: int64"
      ]
     },
     "execution_count": 10,
     "metadata": {},
     "output_type": "execute_result"
    }
   ],
   "source": [
    "datos['HomePlanet'].value_counts()"
   ]
  },
  {
   "cell_type": "code",
   "execution_count": 11,
   "metadata": {
    "colab": {
     "base_uri": "https://localhost:8080/",
     "height": 306
    },
    "id": "gT6YqHPHWXL_",
    "outputId": "5b12c32f-5026-41e2-92cd-588e6550fc2f",
    "slideshow": {
     "slide_type": "slide"
    }
   },
   "outputs": [
    {
     "data": {
      "image/png": "[encoded data removed]",
      "text/plain": [
       "<Figure size 432x288 with 1 Axes>"
      ]
     },
     "metadata": {
      "needs_background": "light"
     },
     "output_type": "display_data"
    }
   ],
   "source": [
    "datos['HomePlanet'].value_counts().plot(kind='bar',\n",
    "                                            title=' HomePlanet')\n",
    "plt.show()"
   ]
  },
  {
   "cell_type": "markdown",
   "metadata": {
    "id": "HfTf7FiJ_xBT",
    "slideshow": {
     "slide_type": "slide"
    }
   },
   "source": [
    "De lo anterior podemos concluir que aproximadamente el $54\\%$ son de Earth, $25\\%$ son de Europa y $21\\%$ son de Mars."
   ]
  },
  {
   "cell_type": "code",
   "execution_count": 12,
   "metadata": {
    "colab": {
     "base_uri": "https://localhost:8080/"
    },
    "id": "A4EtLcZiWXL_",
    "outputId": "9a259995-6af6-48e5-b07d-2a7fc3d9699e",
    "slideshow": {
     "slide_type": "slide"
    }
   },
   "outputs": [
    {
     "data": {
      "text/plain": [
       "False    5439\n",
       "True     3037\n",
       "Name: CryoSleep, dtype: int64"
      ]
     },
     "execution_count": 12,
     "metadata": {},
     "output_type": "execute_result"
    }
   ],
   "source": [
    "datos['CryoSleep'].value_counts()"
   ]
  },
  {
   "cell_type": "code",
   "execution_count": 13,
   "metadata": {
    "colab": {
     "base_uri": "https://localhost:8080/",
     "height": 297
    },
    "id": "wRoYKTKfWXMA",
    "outputId": "ec7b2ee5-9f8b-4487-8091-aa08e0c5764b",
    "slideshow": {
     "slide_type": "slide"
    }
   },
   "outputs": [
    {
     "data": {
      "image/png": "[encoded data removed]",
      "text/plain": [
       "<Figure size 432x288 with 1 Axes>"
      ]
     },
     "metadata": {
      "needs_background": "light"
     },
     "output_type": "display_data"
    }
   ],
   "source": [
    "datos['CryoSleep'].value_counts().plot(kind='bar',\n",
    "                                            title=' CryoSleep')\n",
    "plt.show()"
   ]
  },
  {
   "cell_type": "markdown",
   "metadata": {
    "id": "grv5d3fyF8S8",
    "slideshow": {
     "slide_type": "slide"
    }
   },
   "source": [
    "Es decir, que solamente aproximadamente él $36\\%$ de los pasajeros decidieron ser puestos en animación suspendida durante el viaje."
   ]
  },
  {
   "cell_type": "code",
   "execution_count": 14,
   "metadata": {
    "colab": {
     "base_uri": "https://localhost:8080/"
    },
    "id": "5U2D0-ZuWXMB",
    "outputId": "2b8bbaef-39b1-4d39-f99a-c8fb6419d50b",
    "slideshow": {
     "slide_type": "slide"
    }
   },
   "outputs": [
    {
     "data": {
      "text/plain": [
       "TRAPPIST-1e      5915\n",
       "55 Cancri e      1800\n",
       "PSO J318.5-22     796\n",
       "Name: Destination, dtype: int64"
      ]
     },
     "execution_count": 14,
     "metadata": {},
     "output_type": "execute_result"
    }
   ],
   "source": [
    "datos['Destination'].value_counts()"
   ]
  },
  {
   "cell_type": "code",
   "execution_count": 15,
   "metadata": {
    "colab": {
     "base_uri": "https://localhost:8080/",
     "height": 342
    },
    "id": "vzsTg8fcWXMB",
    "outputId": "31e563e8-8ef4-471f-83b6-b8125034abe2",
    "slideshow": {
     "slide_type": "slide"
    }
   },
   "outputs": [
    {
     "data": {
      "image/png": "[encoded data removed]",
      "text/plain": [
       "<Figure size 432x288 with 1 Axes>"
      ]
     },
     "metadata": {
      "needs_background": "light"
     },
     "output_type": "display_data"
    }
   ],
   "source": [
    "datos['Destination'].value_counts().plot(kind='bar',\n",
    "                                            title='Destino del pasajero')\n",
    "plt.savefig('destino.jpg')\n",
    "plt.show()"
   ]
  },
  {
   "cell_type": "markdown",
   "metadata": {
    "id": "tLg_11V9GKs7",
    "slideshow": {
     "slide_type": "slide"
    }
   },
   "source": [
    "De donde podemos ver que,   \n",
    "\n",
    "* el principal destino de los pasajeros es el planeta TRAPPIST-1e en un $69\\%$,   \n",
    "* mientras que el segundo destino con más pasajeros es 55 Cancri e con un $21\\%$ y   \n",
    "* por último está PSO J318.5-22 con apenas un $10\\%$ de los pasajeros."
   ]
  },
  {
   "cell_type": "code",
   "execution_count": 16,
   "metadata": {
    "colab": {
     "base_uri": "https://localhost:8080/"
    },
    "id": "RnWmgVdqWXMC",
    "outputId": "a3fed015-e28d-4e75-a3db-0ffbc782d200",
    "slideshow": {
     "slide_type": "slide"
    }
   },
   "outputs": [
    {
     "data": {
      "text/plain": [
       "False    8291\n",
       "True      199\n",
       "Name: VIP, dtype: int64"
      ]
     },
     "execution_count": 16,
     "metadata": {},
     "output_type": "execute_result"
    }
   ],
   "source": [
    "datos['VIP'].value_counts()"
   ]
  },
  {
   "cell_type": "code",
   "execution_count": 17,
   "metadata": {
    "colab": {
     "base_uri": "https://localhost:8080/",
     "height": 297
    },
    "id": "EB-lF3gpWXMD",
    "outputId": "c382d36e-42f3-4fa9-a14e-9edc11cf9a4a",
    "slideshow": {
     "slide_type": "slide"
    }
   },
   "outputs": [
    {
     "data": {
      "image/png": "[encoded data removed]",
      "text/plain": [
       "<Figure size 432x288 with 1 Axes>"
      ]
     },
     "metadata": {
      "needs_background": "light"
     },
     "output_type": "display_data"
    }
   ],
   "source": [
    "datos['VIP'].value_counts().plot(kind='bar',\n",
    "                                            title=' VIP')\n",
    "plt.show()"
   ]
  },
  {
   "cell_type": "markdown",
   "metadata": {
    "id": "9__c8mCOGTqD",
    "slideshow": {
     "slide_type": "slide"
    }
   },
   "source": [
    "En este caso podemos ver que la gran mayoría ($97\\%$) de pasajeros decidieron no pagar por el servicio VIP."
   ]
  },
  {
   "cell_type": "code",
   "execution_count": 18,
   "metadata": {
    "colab": {
     "base_uri": "https://localhost:8080/",
     "height": 580
    },
    "id": "QZuN8xRBGtxH",
    "outputId": "409671b2-e7e8-4173-cd3c-0f206fc16b4d",
    "slideshow": {
     "slide_type": "slide"
    }
   },
   "outputs": [
    {
     "data": {
      "image/png": "[encoded data removed]",
      "text/plain": [
       "<Figure size 1440x720 with 9 Axes>"
      ]
     },
     "metadata": {
      "needs_background": "light"
     },
     "output_type": "display_data"
    }
   ],
   "source": [
    "datos.hist(figsize = (20,10))\n",
    "plt.show() "
   ]
  },
  {
   "cell_type": "markdown",
   "metadata": {
    "id": "Gw8erQ7EJ0AW",
    "slideshow": {
     "slide_type": "slide"
    }
   },
   "source": [
    "De las gráficas se puede ver, que la edad de la gran mayoría de los pasajeros se encuentra entre $25$ y $30$ años. "
   ]
  },
  {
   "cell_type": "markdown",
   "metadata": {
    "id": "Gw8erQ7EJ0AW",
    "slideshow": {
     "slide_type": "slide"
    }
   },
   "source": [
    "Mientras que las variables que provienen de servicios de lujo brindados por la nave se comportan casi todos de manera similar, donde se puede observar que la mayoría de las personas gastaron muy poco dinero en estos servicios, lo cual tiene sentido, pues como se vió en la gráfica de `VIP`, solamente él $3\\%$ de las personas pagaron ese servicio."
   ]
  },
  {
   "cell_type": "markdown",
   "metadata": {
    "id": "8-3wQV8WkxQK",
    "slideshow": {
     "slide_type": "slide"
    }
   },
   "source": [
    "A continuación, se verá un análisis exploratorio para las variables numéricas"
   ]
  },
  {
   "cell_type": "code",
   "execution_count": 19,
   "metadata": {
    "colab": {
     "base_uri": "https://localhost:8080/",
     "height": 300
    },
    "id": "Zr80APY9WXME",
    "outputId": "adac2353-62b7-44ce-fb1c-33172fcd4050",
    "slideshow": {
     "slide_type": "slide"
    }
   },
   "outputs": [
    {
     "data": {
      "text/html": [
       "<div>\n",
       "<style scoped>\n",
       "    .dataframe tbody tr th:only-of-type {\n",
       "        vertical-align: middle;\n",
       "    }\n",
       "\n",
       "    .dataframe tbody tr th {\n",
       "        vertical-align: top;\n",
       "    }\n",
       "\n",
       "    .dataframe thead th {\n",
       "        text-align: right;\n",
       "    }\n",
       "</style>\n",
       "<table border=\"1\" class=\"dataframe\">\n",
       "  <thead>\n",
       "    <tr style=\"text-align: right;\">\n",
       "      <th></th>\n",
       "      <th>Age</th>\n",
       "      <th>RoomService</th>\n",
       "      <th>FoodCourt</th>\n",
       "      <th>ShoppingMall</th>\n",
       "      <th>Spa</th>\n",
       "      <th>VRDeck</th>\n",
       "      <th>Transported</th>\n",
       "    </tr>\n",
       "  </thead>\n",
       "  <tbody>\n",
       "    <tr>\n",
       "      <th>count</th>\n",
       "      <td>8514.000000</td>\n",
       "      <td>8512.000000</td>\n",
       "      <td>8510.000000</td>\n",
       "      <td>8485.000000</td>\n",
       "      <td>8510.000000</td>\n",
       "      <td>8505.000000</td>\n",
       "      <td>8693.000000</td>\n",
       "    </tr>\n",
       "    <tr>\n",
       "      <th>mean</th>\n",
       "      <td>28.827930</td>\n",
       "      <td>224.687617</td>\n",
       "      <td>458.077203</td>\n",
       "      <td>173.729169</td>\n",
       "      <td>311.138778</td>\n",
       "      <td>304.854791</td>\n",
       "      <td>0.503624</td>\n",
       "    </tr>\n",
       "    <tr>\n",
       "      <th>std</th>\n",
       "      <td>14.489021</td>\n",
       "      <td>666.717663</td>\n",
       "      <td>1611.489240</td>\n",
       "      <td>604.696458</td>\n",
       "      <td>1136.705535</td>\n",
       "      <td>1145.717189</td>\n",
       "      <td>0.500016</td>\n",
       "    </tr>\n",
       "    <tr>\n",
       "      <th>min</th>\n",
       "      <td>0.000000</td>\n",
       "      <td>0.000000</td>\n",
       "      <td>0.000000</td>\n",
       "      <td>0.000000</td>\n",
       "      <td>0.000000</td>\n",
       "      <td>0.000000</td>\n",
       "      <td>0.000000</td>\n",
       "    </tr>\n",
       "    <tr>\n",
       "      <th>25%</th>\n",
       "      <td>19.000000</td>\n",
       "      <td>0.000000</td>\n",
       "      <td>0.000000</td>\n",
       "      <td>0.000000</td>\n",
       "      <td>0.000000</td>\n",
       "      <td>0.000000</td>\n",
       "      <td>0.000000</td>\n",
       "    </tr>\n",
       "    <tr>\n",
       "      <th>50%</th>\n",
       "      <td>27.000000</td>\n",
       "      <td>0.000000</td>\n",
       "      <td>0.000000</td>\n",
       "      <td>0.000000</td>\n",
       "      <td>0.000000</td>\n",
       "      <td>0.000000</td>\n",
       "      <td>1.000000</td>\n",
       "    </tr>\n",
       "    <tr>\n",
       "      <th>75%</th>\n",
       "      <td>38.000000</td>\n",
       "      <td>47.000000</td>\n",
       "      <td>76.000000</td>\n",
       "      <td>27.000000</td>\n",
       "      <td>59.000000</td>\n",
       "      <td>46.000000</td>\n",
       "      <td>1.000000</td>\n",
       "    </tr>\n",
       "    <tr>\n",
       "      <th>max</th>\n",
       "      <td>79.000000</td>\n",
       "      <td>14327.000000</td>\n",
       "      <td>29813.000000</td>\n",
       "      <td>23492.000000</td>\n",
       "      <td>22408.000000</td>\n",
       "      <td>24133.000000</td>\n",
       "      <td>1.000000</td>\n",
       "    </tr>\n",
       "  </tbody>\n",
       "</table>\n",
       "</div>"
      ],
      "text/plain": [
       "               Age   RoomService     FoodCourt  ShoppingMall           Spa  \\\n",
       "count  8514.000000   8512.000000   8510.000000   8485.000000   8510.000000   \n",
       "mean     28.827930    224.687617    458.077203    173.729169    311.138778   \n",
       "std      14.489021    666.717663   1611.489240    604.696458   1136.705535   \n",
       "min       0.000000      0.000000      0.000000      0.000000      0.000000   \n",
       "25%      19.000000      0.000000      0.000000      0.000000      0.000000   \n",
       "50%      27.000000      0.000000      0.000000      0.000000      0.000000   \n",
       "75%      38.000000     47.000000     76.000000     27.000000     59.000000   \n",
       "max      79.000000  14327.000000  29813.000000  23492.000000  22408.000000   \n",
       "\n",
       "             VRDeck  Transported  \n",
       "count   8505.000000  8693.000000  \n",
       "mean     304.854791     0.503624  \n",
       "std     1145.717189     0.500016  \n",
       "min        0.000000     0.000000  \n",
       "25%        0.000000     0.000000  \n",
       "50%        0.000000     1.000000  \n",
       "75%       46.000000     1.000000  \n",
       "max    24133.000000     1.000000  "
      ]
     },
     "execution_count": 19,
     "metadata": {},
     "output_type": "execute_result"
    }
   ],
   "source": [
    "datos.describe()"
   ]
  },
  {
   "cell_type": "code",
   "execution_count": null,
   "metadata": {
    "colab": {
     "base_uri": "https://localhost:8080/",
     "height": 269
    },
    "id": "7MFC6A4ZWXMF",
    "outputId": "c7295495-ded7-4e0b-b661-0a65bdc21230",
    "slideshow": {
     "slide_type": "slide"
    }
   },
   "outputs": [],
   "source": [
    "datos.corr()"
   ]
  },
  {
   "cell_type": "code",
   "execution_count": null,
   "metadata": {
    "colab": {
     "base_uri": "https://localhost:8080/"
    },
    "id": "jDRufxI_WXMF",
    "outputId": "b8410482-2c47-4f9e-8fb4-f30cdc20e1e5",
    "slideshow": {
     "slide_type": "slide"
    }
   },
   "outputs": [],
   "source": [
    "datos.corr().Transported.sort_values(ascending= False)"
   ]
  },
  {
   "cell_type": "markdown",
   "metadata": {
    "id": "IFrpVp-zlVSE",
    "slideshow": {
     "slide_type": "slide"
    }
   },
   "source": [
    "Note que hay correlación negativa (la más alta) entre la variable de respuesta `Transported` y las variables de servicios de lujo."
   ]
  },
  {
   "cell_type": "code",
   "execution_count": null,
   "metadata": {
    "id": "ELlcz4fDWXMF",
    "slideshow": {
     "slide_type": "slide"
    }
   },
   "outputs": [],
   "source": [
    "from pandas.plotting import scatter_matrix"
   ]
  },
  {
   "cell_type": "code",
   "execution_count": null,
   "metadata": {
    "colab": {
     "base_uri": "https://localhost:8080/"
    },
    "id": "B4wO1vLGbFV3",
    "outputId": "989081f6-a341-4f86-83d2-748612d51768",
    "slideshow": {
     "slide_type": "slide"
    }
   },
   "outputs": [],
   "source": [
    "len(datos)"
   ]
  },
  {
   "cell_type": "code",
   "execution_count": null,
   "metadata": {
    "colab": {
     "base_uri": "https://localhost:8080/",
     "height": 621
    },
    "id": "Qer8sYVWWXMG",
    "outputId": "8ef0f46e-093e-42b8-9ffa-748603fedbb6",
    "slideshow": {
     "slide_type": "slide"
    }
   },
   "outputs": [],
   "source": [
    "atributos = ['Age', 'RoomService','FoodCourt','ShoppingMall','Spa','VRDeck']\n",
    "scatter_matrix(datos[atributos],figsize=(14,10))\n",
    "plt.show()"
   ]
  },
  {
   "cell_type": "markdown",
   "metadata": {
    "id": "LlerIAPUWXMH",
    "slideshow": {
     "slide_type": "slide"
    }
   },
   "source": [
    "###  3) Preparar los datos para los algoritmos de aprendizaje."
   ]
  },
  {
   "cell_type": "code",
   "execution_count": 20,
   "metadata": {
    "id": "WOsnpcqluj1x",
    "slideshow": {
     "slide_type": "slide"
    }
   },
   "outputs": [],
   "source": [
    "from sklearn.model_selection import  train_test_split\n",
    "train_set, test_set = train_test_split(datos, test_size = 0.2, random_state=42)"
   ]
  },
  {
   "cell_type": "code",
   "execution_count": 21,
   "metadata": {
    "colab": {
     "base_uri": "https://localhost:8080/",
     "height": 424
    },
    "id": "JH6t55lAu1P4",
    "outputId": "91de848a-a44f-4f18-93e9-c536000966f7",
    "slideshow": {
     "slide_type": "slide"
    }
   },
   "outputs": [
    {
     "data": {
      "text/html": [
       "<div>\n",
       "<style scoped>\n",
       "    .dataframe tbody tr th:only-of-type {\n",
       "        vertical-align: middle;\n",
       "    }\n",
       "\n",
       "    .dataframe tbody tr th {\n",
       "        vertical-align: top;\n",
       "    }\n",
       "\n",
       "    .dataframe thead th {\n",
       "        text-align: right;\n",
       "    }\n",
       "</style>\n",
       "<table border=\"1\" class=\"dataframe\">\n",
       "  <thead>\n",
       "    <tr style=\"text-align: right;\">\n",
       "      <th></th>\n",
       "      <th>HomePlanet</th>\n",
       "      <th>CryoSleep</th>\n",
       "      <th>Destination</th>\n",
       "      <th>Age</th>\n",
       "      <th>VIP</th>\n",
       "      <th>RoomService</th>\n",
       "      <th>FoodCourt</th>\n",
       "      <th>ShoppingMall</th>\n",
       "      <th>Spa</th>\n",
       "      <th>VRDeck</th>\n",
       "      <th>Transported</th>\n",
       "    </tr>\n",
       "  </thead>\n",
       "  <tbody>\n",
       "    <tr>\n",
       "      <th>2333</th>\n",
       "      <td>Earth</td>\n",
       "      <td>False</td>\n",
       "      <td>TRAPPIST-1e</td>\n",
       "      <td>28.0</td>\n",
       "      <td>False</td>\n",
       "      <td>0.0</td>\n",
       "      <td>55.0</td>\n",
       "      <td>0.0</td>\n",
       "      <td>656.0</td>\n",
       "      <td>0.0</td>\n",
       "      <td>0</td>\n",
       "    </tr>\n",
       "    <tr>\n",
       "      <th>2589</th>\n",
       "      <td>Earth</td>\n",
       "      <td>False</td>\n",
       "      <td>TRAPPIST-1e</td>\n",
       "      <td>17.0</td>\n",
       "      <td>False</td>\n",
       "      <td>0.0</td>\n",
       "      <td>1195.0</td>\n",
       "      <td>31.0</td>\n",
       "      <td>0.0</td>\n",
       "      <td>0.0</td>\n",
       "      <td>0</td>\n",
       "    </tr>\n",
       "  </tbody>\n",
       "</table>\n",
       "</div>"
      ],
      "text/plain": [
       "     HomePlanet CryoSleep  Destination   Age    VIP  RoomService  FoodCourt  \\\n",
       "2333      Earth     False  TRAPPIST-1e  28.0  False          0.0       55.0   \n",
       "2589      Earth     False  TRAPPIST-1e  17.0  False          0.0     1195.0   \n",
       "\n",
       "      ShoppingMall    Spa  VRDeck  Transported  \n",
       "2333           0.0  656.0     0.0            0  \n",
       "2589          31.0    0.0     0.0            0  "
      ]
     },
     "execution_count": 21,
     "metadata": {},
     "output_type": "execute_result"
    }
   ],
   "source": [
    "train_set.head(2)"
   ]
  },
  {
   "cell_type": "code",
   "execution_count": 22,
   "metadata": {
    "colab": {
     "base_uri": "https://localhost:8080/",
     "height": 424
    },
    "id": "CJY4sHdMu21e",
    "outputId": "348882ff-1042-4441-d471-b3633dacb2b6",
    "slideshow": {
     "slide_type": "slide"
    }
   },
   "outputs": [
    {
     "data": {
      "text/html": [
       "<div>\n",
       "<style scoped>\n",
       "    .dataframe tbody tr th:only-of-type {\n",
       "        vertical-align: middle;\n",
       "    }\n",
       "\n",
       "    .dataframe tbody tr th {\n",
       "        vertical-align: top;\n",
       "    }\n",
       "\n",
       "    .dataframe thead th {\n",
       "        text-align: right;\n",
       "    }\n",
       "</style>\n",
       "<table border=\"1\" class=\"dataframe\">\n",
       "  <thead>\n",
       "    <tr style=\"text-align: right;\">\n",
       "      <th></th>\n",
       "      <th>HomePlanet</th>\n",
       "      <th>CryoSleep</th>\n",
       "      <th>Destination</th>\n",
       "      <th>Age</th>\n",
       "      <th>VIP</th>\n",
       "      <th>RoomService</th>\n",
       "      <th>FoodCourt</th>\n",
       "      <th>ShoppingMall</th>\n",
       "      <th>Spa</th>\n",
       "      <th>VRDeck</th>\n",
       "      <th>Transported</th>\n",
       "    </tr>\n",
       "  </thead>\n",
       "  <tbody>\n",
       "    <tr>\n",
       "      <th>304</th>\n",
       "      <td>Mars</td>\n",
       "      <td>False</td>\n",
       "      <td>TRAPPIST-1e</td>\n",
       "      <td>19.0</td>\n",
       "      <td>False</td>\n",
       "      <td>417.0</td>\n",
       "      <td>349.0</td>\n",
       "      <td>634.0</td>\n",
       "      <td>3.0</td>\n",
       "      <td>1057.0</td>\n",
       "      <td>1</td>\n",
       "    </tr>\n",
       "    <tr>\n",
       "      <th>2697</th>\n",
       "      <td>Earth</td>\n",
       "      <td>False</td>\n",
       "      <td>TRAPPIST-1e</td>\n",
       "      <td>18.0</td>\n",
       "      <td>False</td>\n",
       "      <td>4.0</td>\n",
       "      <td>904.0</td>\n",
       "      <td>0.0</td>\n",
       "      <td>0.0</td>\n",
       "      <td>1.0</td>\n",
       "      <td>0</td>\n",
       "    </tr>\n",
       "  </tbody>\n",
       "</table>\n",
       "</div>"
      ],
      "text/plain": [
       "     HomePlanet CryoSleep  Destination   Age    VIP  RoomService  FoodCourt  \\\n",
       "304        Mars     False  TRAPPIST-1e  19.0  False        417.0      349.0   \n",
       "2697      Earth     False  TRAPPIST-1e  18.0  False          4.0      904.0   \n",
       "\n",
       "      ShoppingMall  Spa  VRDeck  Transported  \n",
       "304          634.0  3.0  1057.0            1  \n",
       "2697           0.0  0.0     1.0            0  "
      ]
     },
     "execution_count": 22,
     "metadata": {},
     "output_type": "execute_result"
    }
   ],
   "source": [
    "test_set.head(2)"
   ]
  },
  {
   "cell_type": "markdown",
   "metadata": {
    "id": "-UwdGUD_WXMH",
    "slideshow": {
     "slide_type": "slide"
    }
   },
   "source": [
    "# Tratar datos faltantes"
   ]
  },
  {
   "cell_type": "markdown",
   "metadata": {
    "id": "SnbDiikCe2pg",
    "slideshow": {
     "slide_type": "slide"
    }
   },
   "source": [
    "## Pipeline\n",
    "\n",
    "Se crea un pipeline que ayude a automatizar futuros proyectos similares"
   ]
  },
  {
   "cell_type": "code",
   "execution_count": 23,
   "metadata": {
    "id": "5TNtzpGEgaNQ",
    "slideshow": {
     "slide_type": "slide"
    }
   },
   "outputs": [],
   "source": [
    "# Preprocesamiento de variables numéricos.\n",
    "from sklearn.impute import SimpleImputer\n",
    "from sklearn.preprocessing import StandardScaler \n",
    "\n",
    "# Preprocesamiento de atributos categíricos \n",
    "from sklearn.preprocessing import OneHotEncoder\n",
    "\n",
    "from sklearn.pipeline import Pipeline \n",
    "\n",
    "from sklearn.compose import ColumnTransformer\n"
   ]
  },
  {
   "cell_type": "markdown",
   "metadata": {
    "slideshow": {
     "slide_type": "slide"
    }
   },
   "source": [
    "# División en predictores y etiquetas \n"
   ]
  },
  {
   "cell_type": "code",
   "execution_count": 24,
   "metadata": {
    "id": "6u9lWAGlgaU-",
    "slideshow": {
     "slide_type": "slide"
    }
   },
   "outputs": [],
   "source": [
    "train_set_predictores = train_set.drop('Transported', axis=1)\n",
    "test_set_predictores = test_set.drop('Transported', axis=1)"
   ]
  },
  {
   "cell_type": "code",
   "execution_count": 25,
   "metadata": {
    "slideshow": {
     "slide_type": "slide"
    }
   },
   "outputs": [],
   "source": [
    "train_set_labels = train_set['Transported']\n",
    "test_set_labels = test_set['Transported']"
   ]
  },
  {
   "cell_type": "code",
   "execution_count": 26,
   "metadata": {
    "id": "lMlBX_fGgaZu",
    "slideshow": {
     "slide_type": "slide"
    }
   },
   "outputs": [],
   "source": [
    "Pipeline_num = Pipeline([\n",
    "     ('imputar', SimpleImputer(strategy = 'median')),\n",
    "     ('estandarizar', StandardScaler())                    \n",
    "      ])"
   ]
  },
  {
   "cell_type": "code",
   "execution_count": 27,
   "metadata": {
    "id": "GLPta2N-gQtx",
    "slideshow": {
     "slide_type": "slide"
    }
   },
   "outputs": [],
   "source": [
    "Pipeline_cat = Pipeline([\n",
    "     ('imputar', SimpleImputer(strategy='most_frequent')),\n",
    "     ('Codificar', OneHotEncoder())                    \n",
    "      ])"
   ]
  },
  {
   "cell_type": "markdown",
   "metadata": {
    "slideshow": {
     "slide_type": "slide"
    }
   },
   "source": [
    "Note que `fill_value` no lo requería especificar a menos que `strategy` se estableciera en `constant`. \n"
   ]
  },
  {
   "cell_type": "code",
   "execution_count": 28,
   "metadata": {
    "id": "FKf3TSV2gacc",
    "slideshow": {
     "slide_type": "slide"
    }
   },
   "outputs": [],
   "source": [
    "datos_num_train = train_set_predictores.drop(['HomePlanet','CryoSleep','Destination','VIP'],axis=1)\n",
    "datos_cat_train = train_set_predictores.drop(['Age', 'RoomService', 'FoodCourt', 'ShoppingMall', \\\n",
    "                                        'Spa', 'VRDeck'],axis=1)"
   ]
  },
  {
   "cell_type": "code",
   "execution_count": 29,
   "metadata": {
    "id": "PQhfEpoqgah2",
    "slideshow": {
     "slide_type": "slide"
    }
   },
   "outputs": [],
   "source": [
    "lista_atrib_num = list(datos_num_train.columns)\n",
    "lista_atrib_cat = ['HomePlanet','CryoSleep','Destination','VIP']"
   ]
  },
  {
   "cell_type": "code",
   "execution_count": 30,
   "metadata": {
    "id": "P2LbU3Wchwpq",
    "slideshow": {
     "slide_type": "slide"
    }
   },
   "outputs": [],
   "source": [
    " transformador_completo = ColumnTransformer([\n",
    "                                            ('num', Pipeline_num, lista_atrib_num),\n",
    "                                            ('cat', Pipeline_cat, lista_atrib_cat),\n",
    "])"
   ]
  },
  {
   "cell_type": "code",
   "execution_count": 31,
   "metadata": {
    "id": "HQkS6SichyX7",
    "slideshow": {
     "slide_type": "slide"
    }
   },
   "outputs": [],
   "source": [
    "X_prep_train = transformador_completo.fit_transform(train_set_predictores)\n",
    "X_prep_test = transformador_completo.transform(test_set_predictores)"
   ]
  },
  {
   "cell_type": "markdown",
   "metadata": {
    "id": "0v3kqQieWXMV",
    "slideshow": {
     "slide_type": "slide"
    }
   },
   "source": [
    "### 4) Propuestas de modelos"
   ]
  },
  {
   "cell_type": "markdown",
   "metadata": {
    "id": "t8YllBAenEjd",
    "slideshow": {
     "slide_type": "slide"
    }
   },
   "source": [
    "- SGD Classifier "
   ]
  },
  {
   "cell_type": "markdown",
   "metadata": {
    "slideshow": {
     "slide_type": "slide"
    }
   },
   "source": [
    "Le recomiendo siempre justificar el modelo que implemente para la selección de modelos. "
   ]
  },
  {
   "cell_type": "code",
   "execution_count": 32,
   "metadata": {
    "id": "cRgGyriWkuvv",
    "slideshow": {
     "slide_type": "slide"
    }
   },
   "outputs": [],
   "source": [
    "from sklearn.linear_model import SGDClassifier"
   ]
  },
  {
   "cell_type": "code",
   "execution_count": 33,
   "metadata": {
    "id": "1MEDBhbSWXMV",
    "slideshow": {
     "slide_type": "slide"
    }
   },
   "outputs": [],
   "source": [
    "sgd_clf = SGDClassifier(random_state=42) "
   ]
  },
  {
   "cell_type": "code",
   "execution_count": 34,
   "metadata": {
    "id": "jB0Yqt6NWXMW",
    "slideshow": {
     "slide_type": "slide"
    }
   },
   "outputs": [
    {
     "data": {
      "text/plain": [
       "SGDClassifier(random_state=42)"
      ]
     },
     "execution_count": 34,
     "metadata": {},
     "output_type": "execute_result"
    }
   ],
   "source": [
    "sgd_clf.fit(X_prep_train, train_set_labels) "
   ]
  },
  {
   "cell_type": "markdown",
   "metadata": {
    "slideshow": {
     "slide_type": "slide"
    }
   },
   "source": [
    "## Medida de desempeño con validación cruzada con 10 hojas de validación"
   ]
  },
  {
   "cell_type": "code",
   "execution_count": 35,
   "metadata": {
    "slideshow": {
     "slide_type": "slide"
    }
   },
   "outputs": [],
   "source": [
    "from sklearn.model_selection import cross_val_score "
   ]
  },
  {
   "cell_type": "code",
   "execution_count": 36,
   "metadata": {
    "slideshow": {
     "slide_type": "slide"
    }
   },
   "outputs": [],
   "source": [
    "puntajes_sgd = cross_val_score(sgd_clf, X_prep_train, train_set_labels, \\\n",
    "                           cv = 10, scoring = 'accuracy')"
   ]
  },
  {
   "cell_type": "code",
   "execution_count": 37,
   "metadata": {
    "slideshow": {
     "slide_type": "slide"
    }
   },
   "outputs": [],
   "source": [
    "def mostrar_puntajes(puntajes):\n",
    "    print(puntajes)\n",
    "    print(puntajes.mean())\n",
    "    print(puntajes.std())"
   ]
  },
  {
   "cell_type": "code",
   "execution_count": 38,
   "metadata": {
    "slideshow": {
     "slide_type": "slide"
    }
   },
   "outputs": [
    {
     "name": "stdout",
     "output_type": "stream",
     "text": [
      "[0.77873563 0.76436782 0.79310345 0.81034483 0.78273381 0.76690647\n",
      " 0.78992806 0.77553957 0.79568345 0.8       ]\n",
      "0.7857343091044406\n",
      "0.013974964494700322\n"
     ]
    }
   ],
   "source": [
    "mostrar_puntajes(puntajes_sgd)"
   ]
  },
  {
   "cell_type": "markdown",
   "metadata": {
    "id": "awWtpAqNnGi0",
    "slideshow": {
     "slide_type": "slide"
    }
   },
   "source": [
    "## Logistic Regression "
   ]
  },
  {
   "cell_type": "code",
   "execution_count": 39,
   "metadata": {
    "id": "7l59PC0bk4Bg",
    "slideshow": {
     "slide_type": "slide"
    }
   },
   "outputs": [],
   "source": [
    "from sklearn.linear_model import LogisticRegression"
   ]
  },
  {
   "cell_type": "code",
   "execution_count": 40,
   "metadata": {
    "id": "KMfG0Z1pWXMY",
    "slideshow": {
     "slide_type": "slide"
    }
   },
   "outputs": [],
   "source": [
    "lr_clf = LogisticRegression()"
   ]
  },
  {
   "cell_type": "code",
   "execution_count": 42,
   "metadata": {
    "id": "WKDrOMMGWXMY",
    "scrolled": true,
    "slideshow": {
     "slide_type": "slide"
    }
   },
   "outputs": [],
   "source": [
    "lr_clf_ = lr_clf.fit(X_prep_train, train_set_labels) "
   ]
  },
  {
   "cell_type": "code",
   "execution_count": 43,
   "metadata": {
    "slideshow": {
     "slide_type": "slide"
    }
   },
   "outputs": [
    {
     "name": "stdout",
     "output_type": "stream",
     "text": [
      "[0.77586207 0.78591954 0.78304598 0.80747126 0.8        0.77985612\n",
      " 0.79568345 0.76834532 0.7971223  0.8028777 ]\n",
      "0.7896183742661044\n",
      "0.01220395719929589\n"
     ]
    }
   ],
   "source": [
    "puntajes_lr = cross_val_score(lr_clf, X_prep_train, train_set_labels, \\\n",
    "                           cv = 10, scoring = 'accuracy')\n",
    "\n",
    "mostrar_puntajes(puntajes_lr)"
   ]
  },
  {
   "cell_type": "markdown",
   "metadata": {
    "id": "jkPcFzWonO7l",
    "slideshow": {
     "slide_type": "slide"
    }
   },
   "source": [
    "## Random forest classifier"
   ]
  },
  {
   "cell_type": "code",
   "execution_count": 44,
   "metadata": {
    "id": "CXyFbBzQWXMZ",
    "slideshow": {
     "slide_type": "slide"
    }
   },
   "outputs": [],
   "source": [
    "from sklearn.ensemble import RandomForestClassifier"
   ]
  },
  {
   "cell_type": "code",
   "execution_count": 45,
   "metadata": {
    "id": "4Kh4Y0IzWXMZ",
    "slideshow": {
     "slide_type": "slide"
    }
   },
   "outputs": [],
   "source": [
    "forest_clf = RandomForestClassifier(random_state=42 )"
   ]
  },
  {
   "cell_type": "code",
   "execution_count": 46,
   "metadata": {
    "id": "OBkAsWa3WXMa",
    "slideshow": {
     "slide_type": "slide"
    }
   },
   "outputs": [
    {
     "data": {
      "text/plain": [
       "RandomForestClassifier(random_state=42)"
      ]
     },
     "execution_count": 46,
     "metadata": {},
     "output_type": "execute_result"
    }
   ],
   "source": [
    "forest_clf.fit(X_prep_train, train_set_labels) "
   ]
  },
  {
   "cell_type": "code",
   "execution_count": 47,
   "metadata": {
    "colab": {
     "base_uri": "https://localhost:8080/"
    },
    "id": "Y05jWWG2WXMa",
    "outputId": "bd817dcc-3d44-4c1c-e27b-c8e22a15e930",
    "slideshow": {
     "slide_type": "slide"
    }
   },
   "outputs": [
    {
     "name": "stdout",
     "output_type": "stream",
     "text": [
      "[0.79166667 0.77729885 0.78591954 0.78591954 0.77985612 0.77266187\n",
      " 0.7971223  0.77841727 0.78705036 0.79856115]\n",
      "0.785447366244935\n",
      "0.008127252110492877\n"
     ]
    }
   ],
   "source": [
    "%%time \n",
    "puntajes_forest = cross_val_score(forest_clf, X_prep_train, train_set_labels, \\\n",
    "                           cv = 10, scoring = 'accuracy')\n",
    "\n",
    "mostrar_puntajes(puntajes_forest)"
   ]
  },
  {
   "cell_type": "markdown",
   "metadata": {
    "id": "0vIjU3N4r4ET",
    "slideshow": {
     "slide_type": "slide"
    }
   },
   "source": [
    "### 5. Afinar el modelo"
   ]
  },
  {
   "cell_type": "code",
   "execution_count": 48,
   "metadata": {
    "id": "1tddvXEhzAYv",
    "slideshow": {
     "slide_type": "slide"
    }
   },
   "outputs": [],
   "source": [
    "from sklearn.model_selection import GridSearchCV"
   ]
  },
  {
   "cell_type": "markdown",
   "metadata": {
    "id": "40A92Uofnlho",
    "slideshow": {
     "slide_type": "slide"
    }
   },
   "source": [
    "# Afinamiento de Random Forest Classifier"
   ]
  },
  {
   "cell_type": "code",
   "execution_count": 49,
   "metadata": {
    "id": "wFwGu6AKrrG_",
    "slideshow": {
     "slide_type": "slide"
    }
   },
   "outputs": [],
   "source": [
    "param_grid = [\n",
    "    {'n_estimators':[3,10,30,40,50, 60, 70], 'max_features':[2,4,6,8,10, 12, 14],\\\n",
    "     'max_depth':[1,2,3,4,5,6, 7]},\n",
    "    {'bootstrap': [False],'n_estimators':[3,10]}\n",
    "]"
   ]
  },
  {
   "cell_type": "code",
   "execution_count": 50,
   "metadata": {
    "id": "30r0VPnRrrwC",
    "slideshow": {
     "slide_type": "slide"
    }
   },
   "outputs": [],
   "source": [
    "rejilla = GridSearchCV(forest_clf, param_grid, return_train_score=True, scoring='f1_macro', cv=10)"
   ]
  },
  {
   "cell_type": "code",
   "execution_count": 51,
   "metadata": {
    "colab": {
     "base_uri": "https://localhost:8080/"
    },
    "id": "44L4e77Mrr4s",
    "outputId": "885df3ca-5b51-4187-81a6-de818f3c3202",
    "slideshow": {
     "slide_type": "slide"
    }
   },
   "outputs": [
    {
     "name": "stdout",
     "output_type": "stream",
     "text": [
      "Wall time: 20min 10s\n"
     ]
    },
    {
     "data": {
      "text/plain": [
       "GridSearchCV(cv=10, estimator=RandomForestClassifier(random_state=42),\n",
       "             param_grid=[{'max_depth': [1, 2, 3, 4, 5, 6, 7],\n",
       "                          'max_features': [2, 4, 6, 8, 10, 12, 14],\n",
       "                          'n_estimators': [3, 10, 30, 40, 50, 60, 70]},\n",
       "                         {'bootstrap': [False], 'n_estimators': [3, 10]}],\n",
       "             return_train_score=True, scoring='f1_macro')"
      ]
     },
     "execution_count": 51,
     "metadata": {},
     "output_type": "execute_result"
    }
   ],
   "source": [
    "%%time \n",
    "\n",
    "rejilla.fit(X_prep_train, train_set_labels)"
   ]
  },
  {
   "cell_type": "code",
   "execution_count": 52,
   "metadata": {
    "colab": {
     "base_uri": "https://localhost:8080/"
    },
    "id": "hSogZlACsVAs",
    "outputId": "808b47c3-b8f7-4e06-ff34-e6d0cacfa376",
    "slideshow": {
     "slide_type": "slide"
    }
   },
   "outputs": [
    {
     "data": {
      "text/plain": [
       "{'max_depth': 7, 'max_features': 8, 'n_estimators': 70}"
      ]
     },
     "execution_count": 52,
     "metadata": {},
     "output_type": "execute_result"
    }
   ],
   "source": [
    "rejilla.best_params_"
   ]
  },
  {
   "cell_type": "code",
   "execution_count": 53,
   "metadata": {
    "slideshow": {
     "slide_type": "slide"
    }
   },
   "outputs": [],
   "source": [
    "mejor_modelo = rejilla.best_estimator_"
   ]
  },
  {
   "cell_type": "code",
   "execution_count": 54,
   "metadata": {
    "id": "2PJfgZkds0QU",
    "slideshow": {
     "slide_type": "slide"
    }
   },
   "outputs": [
    {
     "name": "stdout",
     "output_type": "stream",
     "text": [
      "Wall time: 4.85 s\n"
     ]
    }
   ],
   "source": [
    "%%time\n",
    "puntajes_forest_mejor= cross_val_score(mejor_modelo, X_prep_train, train_set_labels,\\\n",
    "                         scoring='accuracy', cv=10)"
   ]
  },
  {
   "cell_type": "code",
   "execution_count": 55,
   "metadata": {
    "colab": {
     "base_uri": "https://localhost:8080/"
    },
    "id": "IPk11ygdt_YX",
    "outputId": "a2fbb4d1-4804-47e9-f06b-9806abb8070d",
    "slideshow": {
     "slide_type": "slide"
    }
   },
   "outputs": [
    {
     "name": "stdout",
     "output_type": "stream",
     "text": [
      "[0.80316092 0.78017241 0.79741379 0.81465517 0.78992806 0.79136691\n",
      " 0.80143885 0.77985612 0.80431655 0.80719424]\n",
      "0.7969503018275035\n",
      "0.010889403045540098\n"
     ]
    }
   ],
   "source": [
    "mostrar_puntajes(puntajes_forest_mejor)"
   ]
  },
  {
   "cell_type": "markdown",
   "metadata": {
    "id": "03_lxnHXX8WK",
    "slideshow": {
     "slide_type": "slide"
    }
   },
   "source": [
    "## Verificación del desempeño en el conjunto de testeo"
   ]
  },
  {
   "cell_type": "code",
   "execution_count": 56,
   "metadata": {
    "slideshow": {
     "slide_type": "slide"
    }
   },
   "outputs": [
    {
     "data": {
      "text/plain": [
       "0.7878090856814262"
      ]
     },
     "execution_count": 56,
     "metadata": {},
     "output_type": "execute_result"
    }
   ],
   "source": [
    "mejor_modelo.score(X_prep_test, test_set_labels)"
   ]
  },
  {
   "cell_type": "markdown",
   "metadata": {
    "slideshow": {
     "slide_type": "slide"
    }
   },
   "source": [
    "## Referencias "
   ]
  },
  {
   "cell_type": "markdown",
   "metadata": {
    "slideshow": {
     "slide_type": "slide"
    }
   },
   "source": [
    "* La clase `SimpleImputer`: https://scikit-learn.org/stable/modules/generated/sklearn.impute.SimpleImputer.html"
   ]
  },
  {
   "cell_type": "markdown",
   "metadata": {},
   "source": []
  }
 ],
 "metadata": {
  "celltoolbar": "Slideshow",
  "colab": {
   "collapsed_sections": [],
   "name": "Titanic estelar.ipynb",
   "provenance": []
  },
  "kernelspec": {
   "display_name": "Python 3 (ipykernel)",
   "language": "python",
   "name": "python3"
  },
  "language_info": {
   "codemirror_mode": {
    "name": "ipython",
    "version": 3
   },
   "file_extension": ".py",
   "mimetype": "text/x-python",
   "name": "python",
   "nbconvert_exporter": "python",
   "pygments_lexer": "ipython3",
   "version": "3.9.7"
  },
  "rise": {
   "theme": "sky"
  }
 },
 "nbformat": 4,
 "nbformat_minor": 1
}
