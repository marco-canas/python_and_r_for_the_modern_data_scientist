{
 "cells": [
  {
   "cell_type": "markdown",
   "id": "50993902",
   "metadata": {
    "slideshow": {
     "slide_type": "slide"
    }
   },
   "source": [
    "<table align=\"left\">\n",
    "  <td>\n",
    "    <a href=\"https://colab.research.google.com/github/marco-canas/machine_learning/blob/main/problems_bank/parcial_2_clasificacion.ipynb\" target=\"_parent\"><img src=\"https://colab.research.google.com/assets/colab-badge.svg\" alt=\"Open In Colab\"/></a>\n",
    "  </td>\n",
    "</table> "
   ]
  },
  {
   "cell_type": "markdown",
   "id": "ad2e4b5f",
   "metadata": {
    "slideshow": {
     "slide_type": "slide"
    }
   },
   "source": [
    "# Clasificación Multiclase práctica de codificación. "
   ]
  },
  {
   "cell_type": "markdown",
   "id": "0377e4c0",
   "metadata": {
    "slideshow": {
     "slide_type": "slide"
    }
   },
   "source": [
    "## [Video de apoyo](https://www.youtube.com/watch?v=W0vFtltZTBc)"
   ]
  },
  {
   "cell_type": "markdown",
   "id": "cc291553",
   "metadata": {
    "slideshow": {
     "slide_type": "slide"
    }
   },
   "source": [
    "1. Tome el dataset `load_digits` y \n",
    "* constituya el arreglo de imágenes $X$ y \n",
    "* el de etiquetas $y$ \n",
    "\n",
    "como arreglos de numpy de valores de tipo `int64`. "
   ]
  },
  {
   "cell_type": "code",
   "execution_count": 1,
   "id": "0f0787e2",
   "metadata": {
    "slideshow": {
     "slide_type": "slide"
    }
   },
   "outputs": [],
   "source": [
    "from sklearn.datasets import load_digits "
   ]
  },
  {
   "cell_type": "code",
   "execution_count": 3,
   "id": "82598092",
   "metadata": {
    "slideshow": {
     "slide_type": "slide"
    }
   },
   "outputs": [],
   "source": [
    "iris = load_digits() "
   ]
  },
  {
   "cell_type": "code",
   "execution_count": 4,
   "id": "f1b80898",
   "metadata": {
    "slideshow": {
     "slide_type": "slide"
    }
   },
   "outputs": [],
   "source": [
    "X,y = load_digits(return_X_y = True)"
   ]
  },
  {
   "cell_type": "code",
   "execution_count": 5,
   "id": "c811de9a",
   "metadata": {
    "slideshow": {
     "slide_type": "slide"
    }
   },
   "outputs": [
    {
     "data": {
      "text/plain": [
       "(1797, 64)"
      ]
     },
     "execution_count": 5,
     "metadata": {},
     "output_type": "execute_result"
    }
   ],
   "source": [
    "X.shape "
   ]
  },
  {
   "cell_type": "code",
   "execution_count": 7,
   "id": "69e9f527",
   "metadata": {
    "slideshow": {
     "slide_type": "slide"
    }
   },
   "outputs": [],
   "source": [
    "import numpy as np \n",
    "X = X.astype(np.int64)"
   ]
  },
  {
   "cell_type": "code",
   "execution_count": 8,
   "id": "7d3cfb2f",
   "metadata": {
    "slideshow": {
     "slide_type": "slide"
    }
   },
   "outputs": [
    {
     "data": {
      "text/plain": [
       "array([ 0,  0,  5, 13,  9,  1,  0,  0,  0,  0, 13, 15, 10, 15,  5,  0,  0,\n",
       "        3, 15,  2,  0, 11,  8,  0,  0,  4, 12,  0,  0,  8,  8,  0,  0,  5,\n",
       "        8,  0,  0,  9,  8,  0,  0,  4, 11,  0,  1, 12,  7,  0,  0,  2, 14,\n",
       "        5, 10, 12,  0,  0,  0,  0,  6, 13, 10,  0,  0,  0], dtype=int64)"
      ]
     },
     "execution_count": 8,
     "metadata": {},
     "output_type": "execute_result"
    }
   ],
   "source": [
    "X[0]"
   ]
  },
  {
   "cell_type": "code",
   "execution_count": 9,
   "id": "2e33dfff",
   "metadata": {
    "slideshow": {
     "slide_type": "slide"
    }
   },
   "outputs": [
    {
     "data": {
      "text/plain": [
       "(1797,)"
      ]
     },
     "execution_count": 9,
     "metadata": {},
     "output_type": "execute_result"
    }
   ],
   "source": [
    "y.shape"
   ]
  },
  {
   "cell_type": "code",
   "execution_count": 10,
   "id": "18c30190",
   "metadata": {
    "slideshow": {
     "slide_type": "slide"
    }
   },
   "outputs": [
    {
     "data": {
      "text/plain": [
       "0"
      ]
     },
     "execution_count": 10,
     "metadata": {},
     "output_type": "execute_result"
    }
   ],
   "source": [
    "y[0]"
   ]
  },
  {
   "cell_type": "markdown",
   "id": "41cba29f",
   "metadata": {
    "slideshow": {
     "slide_type": "slide"
    }
   },
   "source": [
    "2. Visualice con la función`imshow()` de matplotlib una de las imagenes del dataset. "
   ]
  },
  {
   "cell_type": "code",
   "execution_count": 11,
   "id": "c7f59178",
   "metadata": {
    "slideshow": {
     "slide_type": "slide"
    }
   },
   "outputs": [],
   "source": [
    "import matplotlib.pyplot as plt "
   ]
  },
  {
   "cell_type": "code",
   "execution_count": 18,
   "id": "0e6abdd9",
   "metadata": {
    "slideshow": {
     "slide_type": "slide"
    }
   },
   "outputs": [
    {
     "data": {
      "text/plain": [
       "<matplotlib.image.AxesImage at 0x175cc49b1c0>"
      ]
     },
     "execution_count": 18,
     "metadata": {},
     "output_type": "execute_result"
    },
    {
     "data": {
      "image/png": "[encoded data removed]",
      "text/plain": [
       "<Figure size 432x288 with 1 Axes>"
      ]
     },
     "metadata": {
      "needs_background": "light"
     },
     "output_type": "display_data"
    }
   ],
   "source": [
    "plt.imshow(X[4].reshape(8,8), cmap = 'binary') "
   ]
  },
  {
   "cell_type": "code",
   "execution_count": 19,
   "id": "fa272944",
   "metadata": {
    "slideshow": {
     "slide_type": "slide"
    }
   },
   "outputs": [
    {
     "data": {
      "text/plain": [
       "4"
      ]
     },
     "execution_count": 19,
     "metadata": {},
     "output_type": "execute_result"
    }
   ],
   "source": [
    "y[4]"
   ]
  },
  {
   "cell_type": "markdown",
   "id": "e8f6de26",
   "metadata": {
    "slideshow": {
     "slide_type": "slide"
    }
   },
   "source": [
    "3. Divida el dataset en un subconjunto para entrenamiento y un subconjunto de testeo, pero para esta tarea relice muestreo estratificado utilizando la clase `StratifiedShuffleSplit` del `model_selection` de Sklearn.  \n",
    "\n",
    "* **(opcional)** y muestre con histogramas que este muestreo ha quedado de manera estratificada, es decir, las muestras quedaron de tal menera que cada digito en la muestra esta presente en la misma proporción que en el dataset total. "
   ]
  },
  {
   "cell_type": "code",
   "execution_count": 20,
   "id": "7c93b5f2",
   "metadata": {
    "slideshow": {
     "slide_type": "slide"
    }
   },
   "outputs": [],
   "source": [
    "from sklearn.model_selection import StratifiedShuffleSplit "
   ]
  },
  {
   "cell_type": "code",
   "execution_count": 23,
   "id": "b184b799",
   "metadata": {
    "slideshow": {
     "slide_type": "slide"
    }
   },
   "outputs": [],
   "source": [
    "sss = StratifiedShuffleSplit(n_splits = 1, random_state = 42,\\\n",
    "                             test_size = 0.2)  "
   ]
  },
  {
   "cell_type": "code",
   "execution_count": 24,
   "id": "1724bfee",
   "metadata": {
    "slideshow": {
     "slide_type": "slide"
    }
   },
   "outputs": [],
   "source": [
    "for train_index, test_index in sss.split(X,y):\n",
    "    X_train, X_test = X[train_index], X[test_index]\n",
    "    y_train, y_test = y[train_index], y[test_index] "
   ]
  },
  {
   "cell_type": "code",
   "execution_count": 25,
   "id": "149a1adb",
   "metadata": {
    "slideshow": {
     "slide_type": "slide"
    }
   },
   "outputs": [
    {
     "data": {
      "text/plain": [
       "0.7996661101836394"
      ]
     },
     "execution_count": 25,
     "metadata": {},
     "output_type": "execute_result"
    }
   ],
   "source": [
    "len(X_train)/len(X)"
   ]
  },
  {
   "cell_type": "code",
   "execution_count": 26,
   "id": "c5093bc9",
   "metadata": {
    "slideshow": {
     "slide_type": "slide"
    }
   },
   "outputs": [
    {
     "data": {
      "text/plain": [
       "0.2003338898163606"
      ]
     },
     "execution_count": 26,
     "metadata": {},
     "output_type": "execute_result"
    }
   ],
   "source": [
    "len(X_test)/len(X)"
   ]
  },
  {
   "cell_type": "code",
   "execution_count": 27,
   "id": "49b32afd",
   "metadata": {
    "slideshow": {
     "slide_type": "slide"
    }
   },
   "outputs": [
    {
     "data": {
      "text/plain": [
       "(array([36., 36., 35., 37., 36., 37., 36., 36., 35., 36.]),\n",
       " array([0. , 0.9, 1.8, 2.7, 3.6, 4.5, 5.4, 6.3, 7.2, 8.1, 9. ]),\n",
       " <BarContainer object of 10 artists>)"
      ]
     },
     "execution_count": 27,
     "metadata": {},
     "output_type": "execute_result"
    },
    {
     "data": {
      "image/png": "[encoded data removed]",
      "text/plain": [
       "<Figure size 1440x432 with 3 Axes>"
      ]
     },
     "metadata": {
      "needs_background": "light"
     },
     "output_type": "display_data"
    }
   ],
   "source": [
    "fig, ax = plt.subplots(1,3, figsize = (20,6)) \n",
    "\n",
    "ax[0].hist(y)\n",
    "ax[1].hist(y_train)\n",
    "ax[2].hist(y_test)"
   ]
  },
  {
   "cell_type": "markdown",
   "id": "8b56c72a",
   "metadata": {
    "slideshow": {
     "slide_type": "slide"
    }
   },
   "source": [
    "4. Escale los datos con utilizando la clase `MaxMinScaler` o la clase `StandardScaler` del módulo `preprocessing` de sklearn. "
   ]
  },
  {
   "cell_type": "code",
   "execution_count": 28,
   "id": "f6cef311",
   "metadata": {
    "slideshow": {
     "slide_type": "slide"
    }
   },
   "outputs": [],
   "source": [
    "from sklearn.preprocessing import StandardScaler  "
   ]
  },
  {
   "cell_type": "code",
   "execution_count": 29,
   "id": "f1d65c46",
   "metadata": {
    "slideshow": {
     "slide_type": "slide"
    }
   },
   "outputs": [],
   "source": [
    "escalador = StandardScaler()"
   ]
  },
  {
   "cell_type": "code",
   "execution_count": 31,
   "id": "6dbc817b",
   "metadata": {
    "slideshow": {
     "slide_type": "slide"
    }
   },
   "outputs": [],
   "source": [
    "X_train_escalado = escalador.fit_transform(X_train)"
   ]
  },
  {
   "cell_type": "markdown",
   "id": "ca436fec",
   "metadata": {
    "slideshow": {
     "slide_type": "slide"
    }
   },
   "source": [
    "5. Instancie y entrene los modelos `SGDClassifier(random_state = 42)` del módulo `linear_model` y el `RandomForestClassifier(random_state = 42)` del módulo `ensemble` de sklearn. "
   ]
  },
  {
   "cell_type": "code",
   "execution_count": 32,
   "id": "b36a58c7",
   "metadata": {
    "slideshow": {
     "slide_type": "slide"
    }
   },
   "outputs": [],
   "source": [
    "from sklearn.linear_model import SGDClassifier\n",
    "from sklearn.ensemble import RandomForestClassifier "
   ]
  },
  {
   "cell_type": "code",
   "execution_count": 33,
   "id": "884d4321",
   "metadata": {
    "slideshow": {
     "slide_type": "slide"
    }
   },
   "outputs": [],
   "source": [
    "sgd_clf = SGDClassifier(random_state = 42)\n",
    "forest_clf = RandomForestClassifier(random_state = 42) \n"
   ]
  },
  {
   "cell_type": "code",
   "execution_count": 34,
   "id": "18e1cd41",
   "metadata": {
    "slideshow": {
     "slide_type": "slide"
    }
   },
   "outputs": [
    {
     "data": {
      "text/plain": [
       "RandomForestClassifier(random_state=42)"
      ]
     },
     "execution_count": 34,
     "metadata": {},
     "output_type": "execute_result"
    }
   ],
   "source": [
    "sgd_clf.fit(X_train_escalado, y_train)\n",
    "forest_clf.fit(X_train_escalado, y_train) "
   ]
  },
  {
   "cell_type": "markdown",
   "id": "4ac180a4",
   "metadata": {
    "slideshow": {
     "slide_type": "slide"
    }
   },
   "source": [
    "6. Mida sus desempeños con la metodología de Validación cruzada (utilice la función cross_val_score del módulo `model_selection` de sklearn con `scoring = 'accuracy'`) y luego afine el modelo seleccionado con la metodología de Grilla de hiperparámetros (`GridSearchCV(scoring = 'f1_macro'`)). \n",
    "\n",
    "* Para el SGDClassifier utilice los pararámetros de `alpha` con valores $[10^{-1}, 10^{-2}]$, `learning_rate` con valores en la lista `[0.1,0.01, 0.001]` y `penalty` con valores en la lista `['l1', 'l2']`.\n",
    "\n",
    "* Para el RandomForestClassifier utilice los parametros `max_depth` con valores en la lista `[10,15,20]`, `max_features` con valores en la lista `[3,5,7]` y `n_estimators` con valores en la lista `[100,150,200]`.\n",
    "\n",
    "Capture el mejor modelo utilizando el atributo de inspección `best_estimator_`"
   ]
  },
  {
   "cell_type": "code",
   "execution_count": 35,
   "id": "0501903e",
   "metadata": {
    "slideshow": {
     "slide_type": "slide"
    }
   },
   "outputs": [],
   "source": [
    "from sklearn.model_selection import cross_val_score "
   ]
  },
  {
   "cell_type": "code",
   "execution_count": 37,
   "id": "4f309bcb",
   "metadata": {
    "slideshow": {
     "slide_type": "slide"
    }
   },
   "outputs": [],
   "source": [
    "puntajes_exactitud_sgd = cross_val_score(sgd_clf, \\\n",
    "                                         X_train_escalado, y_train, \\\n",
    "                                        cv = 3, scoring = 'accuracy')\n",
    "\n",
    "puntajes_exactitud_forest = cross_val_score(forest_clf, \\\n",
    "                                         X_train_escalado, y_train, \\\n",
    "                                        cv = 3, scoring = 'accuracy')"
   ]
  },
  {
   "cell_type": "code",
   "execution_count": 38,
   "id": "1ac28908",
   "metadata": {
    "slideshow": {
     "slide_type": "slide"
    }
   },
   "outputs": [
    {
     "data": {
      "text/plain": [
       "array([0.94572025, 0.95824635, 0.9394572 ])"
      ]
     },
     "execution_count": 38,
     "metadata": {},
     "output_type": "execute_result"
    }
   ],
   "source": [
    "puntajes_exactitud_sgd"
   ]
  },
  {
   "cell_type": "code",
   "execution_count": 39,
   "id": "3b58fe29",
   "metadata": {
    "slideshow": {
     "slide_type": "slide"
    }
   },
   "outputs": [
    {
     "data": {
      "text/plain": [
       "array([0.97703549, 0.97494781, 0.96033403])"
      ]
     },
     "execution_count": 39,
     "metadata": {},
     "output_type": "execute_result"
    }
   ],
   "source": [
    "puntajes_exactitud_forest"
   ]
  },
  {
   "cell_type": "markdown",
   "id": "c0410fec",
   "metadata": {
    "slideshow": {
     "slide_type": "slide"
    }
   },
   "source": [
    "# Afinemos el modelo seleccionado "
   ]
  },
  {
   "cell_type": "code",
   "execution_count": 40,
   "id": "9c196afc",
   "metadata": {
    "slideshow": {
     "slide_type": "slide"
    }
   },
   "outputs": [],
   "source": [
    "grid_param = {\n",
    "    'max_depth': [10,15,20],\\\n",
    "    'max_features':[3,5,7],\\\n",
    "    'n_estimators':[100, 150, 200]\n",
    "}"
   ]
  },
  {
   "cell_type": "code",
   "execution_count": 41,
   "id": "938afea1",
   "metadata": {
    "slideshow": {
     "slide_type": "slide"
    }
   },
   "outputs": [],
   "source": [
    "from sklearn.model_selection import GridSearchCV "
   ]
  },
  {
   "cell_type": "code",
   "execution_count": 43,
   "id": "eec1b2c8",
   "metadata": {
    "slideshow": {
     "slide_type": "slide"
    }
   },
   "outputs": [],
   "source": [
    "grid_forest = GridSearchCV(forest_clf, grid_param, cv = 3,\\\n",
    "                           scoring = 'f1_macro')"
   ]
  },
  {
   "cell_type": "code",
   "execution_count": 44,
   "id": "f3e55ae5",
   "metadata": {
    "slideshow": {
     "slide_type": "slide"
    }
   },
   "outputs": [
    {
     "data": {
      "text/plain": [
       "GridSearchCV(cv=3, estimator=RandomForestClassifier(random_state=42),\n",
       "             param_grid={'max_depth': [10, 15, 20], 'max_features': [3, 5, 7],\n",
       "                         'n_estimators': [100, 150, 200]},\n",
       "             scoring='f1_macro')"
      ]
     },
     "execution_count": 44,
     "metadata": {},
     "output_type": "execute_result"
    }
   ],
   "source": [
    "%%time \n",
    "grid_forest.fit(X_train_escalado, y_train) "
   ]
  },
  {
   "cell_type": "code",
   "execution_count": 45,
   "id": "143952d2",
   "metadata": {
    "slideshow": {
     "slide_type": "slide"
    }
   },
   "outputs": [],
   "source": [
    "mejor_modelo = grid_forest.best_estimator_"
   ]
  },
  {
   "cell_type": "code",
   "execution_count": 46,
   "id": "f4b76bcc",
   "metadata": {
    "slideshow": {
     "slide_type": "slide"
    }
   },
   "outputs": [
    {
     "data": {
      "text/plain": [
       "array([0.98121086, 0.97077244, 0.96242171])"
      ]
     },
     "execution_count": 46,
     "metadata": {},
     "output_type": "execute_result"
    }
   ],
   "source": [
    "cross_val_score(mejor_modelo, X_train_escalado, y_train,\\\n",
    "               cv = 3, scoring = 'accuracy') "
   ]
  },
  {
   "cell_type": "markdown",
   "id": "3179b04f",
   "metadata": {
    "slideshow": {
     "slide_type": "slide"
    }
   },
   "source": [
    "7. Verifique que el desempeño en el conjunto de testeo es cercano al determinado en el conunto de entrenamiento. \n",
    "  * cuantifique el desmpeño de su modelo final en el conjunto de testeo usando el método `.score(X_test, y_test)`"
   ]
  },
  {
   "cell_type": "code",
   "execution_count": 48,
   "id": "49ba5a26",
   "metadata": {
    "slideshow": {
     "slide_type": "slide"
    }
   },
   "outputs": [],
   "source": [
    "X_test_escalado = escalador.transform(X_test) "
   ]
  },
  {
   "cell_type": "code",
   "execution_count": 49,
   "id": "f459b96e",
   "metadata": {
    "slideshow": {
     "slide_type": "slide"
    }
   },
   "outputs": [
    {
     "data": {
      "text/plain": [
       "array([0.88333333, 0.94166667, 0.95      ])"
      ]
     },
     "execution_count": 49,
     "metadata": {},
     "output_type": "execute_result"
    }
   ],
   "source": [
    "cross_val_score(mejor_modelo, X_test_escalado, y_test,\\\n",
    "               cv = 3, scoring = 'accuracy') "
   ]
  },
  {
   "cell_type": "code",
   "execution_count": 58,
   "id": "4e673d15",
   "metadata": {
    "slideshow": {
     "slide_type": "slide"
    }
   },
   "outputs": [],
   "source": [
    "y_train_pred = cross_val_predict(mejor_modelo, X_train_escalado, y_train,\\\n",
    "                                cv = 3)"
   ]
  },
  {
   "cell_type": "code",
   "execution_count": 59,
   "id": "d3ad6571",
   "metadata": {
    "slideshow": {
     "slide_type": "slide"
    }
   },
   "outputs": [],
   "source": [
    "mc_train = confusion_matrix(y_train, y_train_pred) \n",
    "row_sums = mc_train.sum(axis=1, keepdims=True)\n",
    "mc_train_normalizada = mc_train/row_sums\n",
    "for i in range(10):\n",
    "    print(mc_train_normalizada[i,i]) "
   ]
  },
  {
   "cell_type": "code",
   "execution_count": 62,
   "id": "909fce22",
   "metadata": {
    "slideshow": {
     "slide_type": "slide"
    }
   },
   "outputs": [
    {
     "name": "stdout",
     "output_type": "stream",
     "text": [
      "0.9929577464788732\n",
      "1.0\n",
      "0.9859154929577465\n",
      "0.958904109589041\n",
      "0.9862068965517241\n",
      "0.9586206896551724\n",
      "0.9724137931034482\n",
      "0.9790209790209791\n",
      "0.9280575539568345\n",
      "0.9513888888888888\n"
     ]
    }
   ],
   "source": []
  },
  {
   "cell_type": "code",
   "execution_count": 60,
   "id": "35d30170",
   "metadata": {
    "slideshow": {
     "slide_type": "slide"
    }
   },
   "outputs": [
    {
     "data": {
      "text/plain": [
       "<matplotlib.image.AxesImage at 0x175cfe362b0>"
      ]
     },
     "execution_count": 60,
     "metadata": {},
     "output_type": "execute_result"
    },
    {
     "data": {
      "image/png": "[encoded data removed]",
      "text/plain": [
       "<Figure size 288x288 with 1 Axes>"
      ]
     },
     "metadata": {
      "needs_background": "light"
     },
     "output_type": "display_data"
    }
   ],
   "source": [
    "plt.matshow(mc_train_normalizada)"
   ]
  },
  {
   "cell_type": "markdown",
   "id": "bc448022",
   "metadata": {
    "slideshow": {
     "slide_type": "slide"
    }
   },
   "source": [
    "8. **(Opcional)** Muestre con `matshow()` la matriz de confusion del conjunto de testeo. Para construir esta matriz de confusión debe comparar las etiquetas de testeo con las predicciones del modelo afinado en este mismo conjunto. "
   ]
  },
  {
   "cell_type": "code",
   "execution_count": 50,
   "id": "fe72b17a",
   "metadata": {
    "slideshow": {
     "slide_type": "slide"
    }
   },
   "outputs": [],
   "source": [
    "from sklearn.model_selection import cross_val_predict \n",
    "from sklearn.metrics import confusion_matrix"
   ]
  },
  {
   "cell_type": "code",
   "execution_count": 52,
   "id": "6458f3b3",
   "metadata": {
    "slideshow": {
     "slide_type": "slide"
    }
   },
   "outputs": [],
   "source": [
    "y_test_pred = cross_val_predict(mejor_modelo, X_test_escalado, y_test,\\\n",
    "                                cv = 3)"
   ]
  },
  {
   "cell_type": "code",
   "execution_count": 63,
   "id": "2fb050fe",
   "metadata": {
    "slideshow": {
     "slide_type": "slide"
    }
   },
   "outputs": [],
   "source": [
    "mc_test = confusion_matrix(y_test, y_test_pred) "
   ]
  },
  {
   "cell_type": "code",
   "execution_count": 64,
   "id": "761f66ed",
   "metadata": {
    "slideshow": {
     "slide_type": "slide"
    }
   },
   "outputs": [
    {
     "name": "stdout",
     "output_type": "stream",
     "text": [
      "0.9722222222222222\n",
      "0.9444444444444444\n",
      "0.9142857142857143\n",
      "0.972972972972973\n",
      "0.9166666666666666\n",
      "0.972972972972973\n",
      "0.9166666666666666\n",
      "0.9722222222222222\n",
      "0.8285714285714286\n",
      "0.8333333333333334\n"
     ]
    }
   ],
   "source": [
    "row_sums = mc_test.sum(axis=1, keepdims=True)\n",
    "mc_test_normalizada = mc_test/row_sums\n",
    "for i in range(10):\n",
    "    print(mc_test_normalizada[i,i]) "
   ]
  },
  {
   "cell_type": "code",
   "execution_count": 65,
   "id": "8a68a31d",
   "metadata": {
    "slideshow": {
     "slide_type": "slide"
    }
   },
   "outputs": [
    {
     "data": {
      "image/png": "[encoded data removed]",
      "text/plain": [
       "<Figure size 288x288 with 1 Axes>"
      ]
     },
     "metadata": {
      "needs_background": "light"
     },
     "output_type": "display_data"
    }
   ],
   "source": [
    "plt.matshow(mc)\n",
    "\n",
    "plt.savefig('mc_test.jpg')"
   ]
  },
  {
   "cell_type": "markdown",
   "id": "1b27d1c3",
   "metadata": {
    "slideshow": {
     "slide_type": "slide"
    }
   },
   "source": [
    "## Referencias  \n",
    "\n",
    "* La clase MaxMinScaler: https://scikit-learn.org/stable/modules/generated/sklearn.preprocessing.MinMaxScaler.html  \n",
    "\n",
    "* RandomForestClassifier: https://scikit-learn.org/stable/modules/generated/sklearn.ensemble.RandomForestClassifier.html \n"
   ]
  },
  {
   "cell_type": "code",
   "execution_count": null,
   "id": "164ccc87",
   "metadata": {},
   "outputs": [],
   "source": []
  }
 ],
 "metadata": {
  "celltoolbar": "Slideshow",
  "kernelspec": {
   "display_name": "Python 3 (ipykernel)",
   "language": "python",
   "name": "python3"
  },
  "language_info": {
   "codemirror_mode": {
    "name": "ipython",
    "version": 3
   },
   "file_extension": ".py",
   "mimetype": "text/x-python",
   "name": "python",
   "nbconvert_exporter": "python",
   "pygments_lexer": "ipython3",
   "version": "3.9.7"
  }
 },
 "nbformat": 4,
 "nbformat_minor": 5
}
