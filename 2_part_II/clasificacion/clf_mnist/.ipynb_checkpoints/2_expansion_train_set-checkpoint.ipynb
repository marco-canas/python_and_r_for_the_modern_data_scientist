{
 "cells": [
  {
   "cell_type": "markdown",
   "id": "4cf972af",
   "metadata": {
    "slideshow": {
     "slide_type": "slide"
    }
   },
   "source": [
    "<table align=\"left\">\n",
    "  <td>\n",
    "    <a href=\"https://colab.research.google.com/github/marco-canas/taca/blob/main/ref/geron/part_1/chap_1/1_what_is_ml.ipynb\" target=\"_parent\"><img src=\"https://colab.research.google.com/assets/colab-badge.svg\" alt=\"Open In Colab\"/></a>\n",
    "  </td>\n",
    "</table>\n",
    "\n"
   ]
  },
  {
   "cell_type": "markdown",
   "id": "8400b76c",
   "metadata": {
    "slideshow": {
     "slide_type": "slide"
    }
   },
   "source": [
    "# Ejercicio sobre expansión del conjunto de entrenamiento"
   ]
  },
  {
   "cell_type": "markdown",
   "id": "5cc9d4eb",
   "metadata": {
    "slideshow": {
     "slide_type": "slide"
    }
   },
   "source": [
    "1. Escriba una función que pueda desplazar una imagen MNIST en cualquier dirección (izquierda, derecha, arriba o abajo) en un píxel.\n",
    "\n",
    "2. Luego, para cada imagen en el conjunto de entrenamiento, cree cuatro copias desplazadas (una por dirección) y agréguelas al conjunto de entrenamiento."
   ]
  },
  {
   "cell_type": "markdown",
   "id": "7cfb93b3",
   "metadata": {
    "slideshow": {
     "slide_type": "slide"
    }
   },
   "source": [
    "3. Finalmente, entrene a su mejor modelo en este conjunto de entrenamiento ampliado y mida su precisión en el conjunto de prueba.\n",
    "\n",
    "¡Debe observar que su modelo funciona aún mejor ahora!\n",
    "\n",
    "Esta técnica de **hacer crecer artificialmente el conjunto de entrenamiento** se denomina **aumento de datos** o **expansión del conjunto de entrenamiento**."
   ]
  },
  {
   "cell_type": "markdown",
   "id": "b660f2f5",
   "metadata": {
    "slideshow": {
     "slide_type": "slide"
    }
   },
   "source": [
    "# Realización del ejercicio"
   ]
  },
  {
   "cell_type": "code",
   "execution_count": 1,
   "id": "3433b096",
   "metadata": {
    "slideshow": {
     "slide_type": "slide"
    }
   },
   "outputs": [],
   "source": [
    "import numpy as np \n",
    "import matplotlib.pyplot as plt\n",
    "\n",
    "\n",
    "from sklearn.datasets import fetch_openml "
   ]
  },
  {
   "cell_type": "code",
   "execution_count": 2,
   "id": "01923ee4",
   "metadata": {
    "slideshow": {
     "slide_type": "slide"
    }
   },
   "outputs": [],
   "source": [
    "%%time \n",
    "mnist = fetch_openml('mnist_784', version = 1, as_frame = False) "
   ]
  },
  {
   "cell_type": "code",
   "execution_count": 3,
   "id": "fc34d19a",
   "metadata": {
    "slideshow": {
     "slide_type": "slide"
    }
   },
   "outputs": [],
   "source": [
    "X,y = mnist['data'], mnist['target']"
   ]
  },
  {
   "cell_type": "markdown",
   "id": "6674cb08",
   "metadata": {
    "slideshow": {
     "slide_type": "slide"
    }
   },
   "source": [
    "# Creación de las funciones desplazadoras de imágenes"
   ]
  },
  {
   "cell_type": "code",
   "execution_count": 4,
   "id": "b0cbf277",
   "metadata": {
    "slideshow": {
     "slide_type": "slide"
    }
   },
   "outputs": [],
   "source": [
    "def desplazar_i(instancia):\n",
    "    imagen = instancia.reshape(28,28)\n",
    "    imagen_di = np.c_[imagen[:,1:], imagen[:,0]]\n",
    "    instancia_di = imagen_di.ravel()\n",
    "    return instancia_di"
   ]
  },
  {
   "cell_type": "code",
   "execution_count": 5,
   "id": "ebc7e4e6",
   "metadata": {
    "slideshow": {
     "slide_type": "slide"
    }
   },
   "outputs": [],
   "source": [
    "def desplazar_d(instancia):\n",
    "    imagen = instancia.reshape(28,28)\n",
    "    imagen_dd = np.c_[imagen[:,-1], imagen[:,:-1]]\n",
    "    instancia_dd = imagen_dd.ravel()\n",
    "    return instancia_dd"
   ]
  },
  {
   "cell_type": "code",
   "execution_count": 6,
   "id": "bf5d0642",
   "metadata": {
    "slideshow": {
     "slide_type": "slide"
    }
   },
   "outputs": [],
   "source": [
    "def desplazar_arr(instancia):\n",
    "    imagen = instancia.reshape(28,28)\n",
    "    imagen_darr = np.vstack((imagen[1:,:], imagen[0,:]))\n",
    "    instancia_darr = imagen_darr.ravel()\n",
    "    return instancia_darr"
   ]
  },
  {
   "cell_type": "code",
   "execution_count": 7,
   "id": "eb581760",
   "metadata": {
    "slideshow": {
     "slide_type": "slide"
    }
   },
   "outputs": [],
   "source": [
    "def desplazar_abj(instancia):\n",
    "    imagen = instancia.reshape(28,28)\n",
    "    imagen_dabj = np.vstack((imagen[-1,:], imagen[:-1,:]))\n",
    "    instancia_dabj = imagen_dabj.ravel()\n",
    "    return instancia_dabj"
   ]
  },
  {
   "cell_type": "code",
   "execution_count": 8,
   "id": "b1d03ea1",
   "metadata": {
    "slideshow": {
     "slide_type": "slide"
    }
   },
   "outputs": [],
   "source": [
    "\n",
    "lista_instancias_di = []\n",
    "lista_instancias_dd = []\n",
    "lista_instancias_darr = []\n",
    "lista_instancias_dabj = []"
   ]
  },
  {
   "cell_type": "code",
   "execution_count": 9,
   "id": "4338e5b2",
   "metadata": {
    "slideshow": {
     "slide_type": "slide"
    }
   },
   "outputs": [
    {
     "data": {
      "text/plain": [
       "70000"
      ]
     },
     "execution_count": 9,
     "metadata": {},
     "output_type": "execute_result"
    }
   ],
   "source": [
    "len(X)"
   ]
  },
  {
   "cell_type": "code",
   "execution_count": 10,
   "id": "092061ba",
   "metadata": {
    "slideshow": {
     "slide_type": "slide"
    }
   },
   "outputs": [
    {
     "name": "stdout",
     "output_type": "stream",
     "text": [
      "Wall time: 5.99 s\n"
     ]
    }
   ],
   "source": [
    "%%time\n",
    "for i in range(len(X)):\n",
    "    lista_instancias_di.append(desplazar_i(X[i])) \n",
    "    lista_instancias_dd.append(desplazar_d(X[i])) \n",
    "    lista_instancias_darr.append(desplazar_arr(X[i])) \n",
    "    lista_instancias_dabj.append(desplazar_abj(X[i])) \n",
    "    \n",
    "X_i = np.vstack(tuple(lista_instancias_di)) \n",
    "X_d = np.vstack(tuple(lista_instancias_dd)) \n",
    "X_arr = np.vstack(tuple(lista_instancias_darr)) \n",
    "X_abj = np.vstack(tuple(lista_instancias_dabj)) "
   ]
  },
  {
   "cell_type": "code",
   "execution_count": null,
   "id": "d64fe31f",
   "metadata": {
    "slideshow": {
     "slide_type": "slide"
    }
   },
   "outputs": [],
   "source": [
    "X_new = np.vstack((X, X_i, X_d, X_arr, X_abj))"
   ]
  },
  {
   "cell_type": "code",
   "execution_count": 15,
   "id": "696add64",
   "metadata": {
    "slideshow": {
     "slide_type": "slide"
    }
   },
   "outputs": [
    {
     "data": {
      "text/plain": [
       "(70000,)"
      ]
     },
     "execution_count": 15,
     "metadata": {},
     "output_type": "execute_result"
    }
   ],
   "source": [
    "y.shape"
   ]
  },
  {
   "cell_type": "code",
   "execution_count": 16,
   "id": "09a1404b",
   "metadata": {
    "slideshow": {
     "slide_type": "slide"
    }
   },
   "outputs": [],
   "source": [
    "y = y.reshape(-1,1)"
   ]
  },
  {
   "cell_type": "code",
   "execution_count": 17,
   "id": "cb98816c",
   "metadata": {
    "slideshow": {
     "slide_type": "slide"
    }
   },
   "outputs": [],
   "source": [
    "y_new = np.vstack((y,y,y,y,y))"
   ]
  },
  {
   "cell_type": "code",
   "execution_count": 20,
   "id": "ed3827bb",
   "metadata": {
    "slideshow": {
     "slide_type": "slide"
    }
   },
   "outputs": [
    {
     "data": {
      "text/plain": [
       "((350000, 784), (350000, 1))"
      ]
     },
     "execution_count": 20,
     "metadata": {},
     "output_type": "execute_result"
    }
   ],
   "source": [
    "X_new.shape, y_new.shape "
   ]
  },
  {
   "cell_type": "markdown",
   "id": "2d91d5c6",
   "metadata": {
    "slideshow": {
     "slide_type": "slide"
    }
   },
   "source": [
    "# División en entrenamiento y testeo"
   ]
  },
  {
   "cell_type": "code",
   "execution_count": 24,
   "id": "556f7f69",
   "metadata": {
    "slideshow": {
     "slide_type": "slide"
    }
   },
   "outputs": [],
   "source": [
    "from sklearn.model_selection import train_test_split \n",
    "X_train, X_test, y_train, y_test = train_test_split(X_new, y_new, test_size = 0.2, random_state = 42, \\\n",
    "                                                   stratify = y_new)"
   ]
  },
  {
   "cell_type": "markdown",
   "id": "944e5ced",
   "metadata": {
    "slideshow": {
     "slide_type": "slide"
    }
   },
   "source": [
    "# Verificación del muestreo estratificado"
   ]
  },
  {
   "cell_type": "code",
   "execution_count": 25,
   "id": "c3482e15",
   "metadata": {
    "slideshow": {
     "slide_type": "slide"
    }
   },
   "outputs": [
    {
     "data": {
      "text/plain": [
       "(array([6990., 6903., 6958., 6824., 6313., 6825., 6876., 7293., 7141.,\n",
       "        7877.]),\n",
       " array([0. , 0.9, 1.8, 2.7, 3.6, 4.5, 5.4, 6.3, 7.2, 8.1, 9. ]),\n",
       " <BarContainer object of 10 artists>)"
      ]
     },
     "execution_count": 25,
     "metadata": {},
     "output_type": "execute_result"
    },
    {
     "data": {
      "image/png": "[encoded data removed]",
      "text/plain": [
       "<Figure size 1584x576 with 3 Axes>"
      ]
     },
     "metadata": {
      "needs_background": "light"
     },
     "output_type": "display_data"
    }
   ],
   "source": [
    "fig, ax = plt.subplots(1,3, figsize = (22,8))\n",
    "\n",
    "ax[0].hist(y_new)\n",
    "ax[1].hist(y_train)\n",
    "ax[2].hist(y_test)\n",
    "\n",
    "plt.show() "
   ]
  },
  {
   "cell_type": "markdown",
   "id": "0160c254",
   "metadata": {
    "slideshow": {
     "slide_type": "slide"
    }
   },
   "source": [
    "# Verificación de cada uno de los desplazamientos de imágenes"
   ]
  },
  {
   "cell_type": "code",
   "execution_count": 53,
   "id": "3034fda1",
   "metadata": {
    "slideshow": {
     "slide_type": "slide"
    }
   },
   "outputs": [],
   "source": [
    "def trazar_dos_imagenes(instancia1, instancia2, instancia3, instancia4, instancia5):\n",
    "    imagen1 = instancia1.reshape(28,28)\n",
    "    imagen2 = instancia2.reshape(28,28)\n",
    "    imagen3 = instancia3.reshape(28,28)\n",
    "    imagen4 = instancia4.reshape(28,28)\n",
    "    imagen5 = instancia5.reshape(28,28)\n",
    "    plt.subplot2grid((3,3), (0, 1), rowspan=1, colspan=1)\n",
    "    plt.imshow(imagen1, cmap = 'binary')\n",
    "    plt.axis()\n",
    "    plt.grid(alpha = 0.4)\n",
    "    \n",
    "    plt.subplot2grid((3,3), (1, 0))\n",
    "    plt.imshow(imagen2, cmap = 'binary')\n",
    "    plt.axis()\n",
    "    plt.grid(alpha = 0.4)\n",
    "    \n",
    "    plt.subplot2grid((3,3), (1, 2), rowspan=1)\n",
    "    plt.imshow(imagen3, cmap = 'binary')\n",
    "    plt.axis()\n",
    "    plt.grid(alpha = 0.4)\n",
    "    \n",
    "    plt.subplot2grid((3,3), (2, 0), colspan=1)\n",
    "    plt.imshow(imagen4, cmap = 'binary')\n",
    "    plt.axis()\n",
    "    plt.grid(alpha = 0.4)\n",
    "    \n",
    "    plt.subplot2grid((3,3), (2, 2), colspan=1)\n",
    "    plt.imshow(imagen5, cmap = 'binary')\n",
    "    plt.axis()\n",
    "    plt.grid(alpha = 0.4)\n",
    "    \n",
    "    plt.savefig('cuatro_desplazamientos.jpg')\n",
    "    plt.show()    \n",
    "    \n",
    "    \n",
    "    \n",
    "    \n",
    "    \n"
   ]
  },
  {
   "cell_type": "code",
   "execution_count": 54,
   "id": "9c1a1dd4",
   "metadata": {
    "slideshow": {
     "slide_type": "slide"
    }
   },
   "outputs": [
    {
     "data": {
      "image/png": "[encoded data removed]",
      "text/plain": [
       "<Figure size 432x288 with 5 Axes>"
      ]
     },
     "metadata": {
      "needs_background": "light"
     },
     "output_type": "display_data"
    }
   ],
   "source": [
    "a = 1\n",
    "trazar_dos_imagenes(X[a], X_i[a], X_d[a], X_arr[a], X_abj[a]) "
   ]
  },
  {
   "cell_type": "code",
   "execution_count": 21,
   "id": "02d83059",
   "metadata": {
    "slideshow": {
     "slide_type": "slide"
    }
   },
   "outputs": [],
   "source": [
    "from sklearn.neighbors import KNeighborsClassifier "
   ]
  },
  {
   "cell_type": "code",
   "execution_count": 22,
   "id": "3c399797",
   "metadata": {
    "slideshow": {
     "slide_type": "slide"
    }
   },
   "outputs": [],
   "source": [
    "knn_clf = KNeighborsClassifier()"
   ]
  },
  {
   "cell_type": "code",
   "execution_count": 27,
   "id": "c851846d",
   "metadata": {
    "slideshow": {
     "slide_type": "slide"
    }
   },
   "outputs": [
    {
     "name": "stdout",
     "output_type": "stream",
     "text": [
      "Wall time: 550 ms\n"
     ]
    },
    {
     "data": {
      "text/plain": [
       "KNeighborsClassifier()"
      ]
     },
     "execution_count": 27,
     "metadata": {},
     "output_type": "execute_result"
    }
   ],
   "source": [
    "%%time \n",
    "knn_clf.fit(X_train, y_train.ravel())"
   ]
  },
  {
   "cell_type": "code",
   "execution_count": 29,
   "id": "d869b117",
   "metadata": {
    "slideshow": {
     "slide_type": "slide"
    }
   },
   "outputs": [],
   "source": [
    "from sklearn.model_selection import cross_val_score"
   ]
  },
  {
   "cell_type": "code",
   "execution_count": 33,
   "id": "57c9e170",
   "metadata": {
    "slideshow": {
     "slide_type": "slide"
    }
   },
   "outputs": [
    {
     "name": "stdout",
     "output_type": "stream",
     "text": [
      "Wall time: 44min 36s\n"
     ]
    }
   ],
   "source": [
    "%%time \n",
    "scores = cross_val_score(knn_clf, X_train, y_train.ravel(), cv = 20, scoring = 'accuracy')"
   ]
  },
  {
   "cell_type": "code",
   "execution_count": 34,
   "id": "4430b0ef",
   "metadata": {
    "slideshow": {
     "slide_type": "slide"
    }
   },
   "outputs": [],
   "source": [
    "def mostrar_puntajes(scores):\n",
    "    print(scores)\n",
    "    print(scores.mean())\n",
    "    print(scores.std())"
   ]
  },
  {
   "cell_type": "code",
   "execution_count": 35,
   "id": "538c0eab",
   "metadata": {
    "slideshow": {
     "slide_type": "slide"
    }
   },
   "outputs": [
    {
     "name": "stdout",
     "output_type": "stream",
     "text": [
      "[0.97978571 0.98007143 0.98078571 0.97985714 0.982      0.98207143\n",
      " 0.98442857 0.98135714 0.98121429 0.98007143 0.98214286 0.9815\n",
      " 0.98364286 0.97978571 0.98064286 0.98164286 0.98214286 0.98121429\n",
      " 0.98285714 0.98071429]\n",
      "0.9813964285714286\n",
      "0.001243447109565064\n"
     ]
    }
   ],
   "source": [
    "mostrar_puntajes(scores)"
   ]
  },
  {
   "cell_type": "markdown",
   "id": "d5fbeb48",
   "metadata": {
    "slideshow": {
     "slide_type": "slide"
    }
   },
   "source": [
    "# Verificación del desempeño en el conjunto de testeo"
   ]
  },
  {
   "cell_type": "code",
   "execution_count": 36,
   "id": "41961144",
   "metadata": {
    "slideshow": {
     "slide_type": "slide"
    }
   },
   "outputs": [
    {
     "data": {
      "text/plain": [
       "0.9817285714285714"
      ]
     },
     "execution_count": 36,
     "metadata": {},
     "output_type": "execute_result"
    }
   ],
   "source": [
    "knn_clf.score(X_test, y_test)"
   ]
  },
  {
   "cell_type": "markdown",
   "id": "91d574dc",
   "metadata": {
    "slideshow": {
     "slide_type": "slide"
    }
   },
   "source": [
    "**Conclusión:** El desempeño en el conjunto de testeo es consistente con el desempeño en el conjunto de entrenamiento bajo la metodología de varidación cruzada. "
   ]
  },
  {
   "cell_type": "code",
   "execution_count": null,
   "id": "fd7ff0f9",
   "metadata": {
    "slideshow": {
     "slide_type": "slide"
    }
   },
   "outputs": [],
   "source": []
  },
  {
   "cell_type": "code",
   "execution_count": null,
   "id": "7965d256",
   "metadata": {
    "slideshow": {
     "slide_type": "slide"
    }
   },
   "outputs": [],
   "source": []
  },
  {
   "cell_type": "code",
   "execution_count": null,
   "id": "e0009df3",
   "metadata": {
    "slideshow": {
     "slide_type": "slide"
    }
   },
   "outputs": [],
   "source": []
  },
  {
   "cell_type": "code",
   "execution_count": null,
   "id": "987ecdd5",
   "metadata": {
    "slideshow": {
     "slide_type": "slide"
    }
   },
   "outputs": [],
   "source": []
  }
 ],
 "metadata": {
  "celltoolbar": "Slideshow",
  "kernelspec": {
   "display_name": "Python 3 (ipykernel)",
   "language": "python",
   "name": "python3"
  },
  "language_info": {
   "codemirror_mode": {
    "name": "ipython",
    "version": 3
   },
   "file_extension": ".py",
   "mimetype": "text/x-python",
   "name": "python",
   "nbconvert_exporter": "python",
   "pygments_lexer": "ipython3",
   "version": "3.9.7"
  },
  "rise": {
   "theme": "sky"
  }
 },
 "nbformat": 4,
 "nbformat_minor": 5
}
