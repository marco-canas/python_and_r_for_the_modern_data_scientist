{
 "cells": [
  {
   "cell_type": "markdown",
   "id": "7f7fc9e6",
   "metadata": {
    "slideshow": {
     "slide_type": "slide"
    }
   },
   "source": [
    "<table align=\"left\">\n",
    "  <td>\n",
    "    <a href=\"https://colab.research.google.com/github/marco-canas/Machine-Learning/blob/main/ML/classes/class_march_3/class_march_3.ipynb\" target=\"_parent\"><img src=\"https://colab.research.google.com/assets/colab-badge.svg\" alt=\"Open In Colab\"/></a>\n",
    "  </td>\n",
    "</table>"
   ]
  },
  {
   "cell_type": "markdown",
   "id": "0975cf99",
   "metadata": {
    "slideshow": {
     "slide_type": "slide"
    }
   },
   "source": [
    "# Construir un clasificador binario ceros versus unos utilizando el dataset `mnist_784`"
   ]
  },
  {
   "cell_type": "markdown",
   "id": "be95344a",
   "metadata": {
    "slideshow": {
     "slide_type": "slide"
    }
   },
   "source": [
    "## Modelo\n",
    "\n",
    "* LinearRegression  "
   ]
  },
  {
   "cell_type": "markdown",
   "id": "72f8af9a",
   "metadata": {
    "slideshow": {
     "slide_type": "slide"
    }
   },
   "source": [
    "Para ello siga la metodología dada por Aurelien Géron:\n",
    "\n",
    "1. Obtener el dataset y configurarlo en la forma estándar $[X \\mid y]$. Donde los valores de las entradas de estas matrices sea de tipo `int64`.  \n",
    "\n",
    "2. Descomponer a `X` y a `y` en `X_train_0_vs_1`, `X_test_0_vs_1`, `y_train_0_vs_1` y `y_test_0_vs_1` con una tasa de testeo del 20%. Y verificar con histogramas que el muestreo sea estratificado. \n",
    "\n",
    "3. Escale los atributos con la estrategia de estandarización. \n",
    "\n",
    "4. Entrene los modelos asignados con los datos escalados `X_train_0_vs_1_escalado` y las etiquetas de entrenamiento `y_train_0_vs_1`\n",
    "\n",
    "5. ¿Es aplicable la medida de desempeño `accuracy` para su tarea de clasificación? Justifique su respuesta. \n",
    "\n",
    "6. Efectue el proceso de validación cruzada con 5 hojas de validación (`cv = 5`) y con el `scoring = accuracy`.\n",
    "\n",
    "\n",
    "7. Determine la matriz de confusión utilizando 5 hojas de validación.  \n",
    "\n",
    "8. Determine la precisión y el recall de su clasificador para las mismas 5 hojas de validación.  \n",
    "\n",
    "9. Determine el puntaje f1 de su clasificador para las mismas 5 hojas de validación. \n",
    "\n",
    "\n",
    "10. Utilice el `method=\"decision_function\"` de la función `cross_val_predict()` para determinar el vector `y_train_0_vs_1_scores` de los puntajes de decisión para los modelos lineales que le hayan asignado. \n",
    "\n",
    "\n",
    "11. Utilice `precision_recall_curve` para determinar el umbral de decisión necesario para obtener una precisión del 100 $\\%$ en su clasificador. \n",
    "\n",
    "\n",
    "\n",
    "12. Utilice la función `roc_curve` del módulo `metrics` de sklearn para trazar la curva ROC de su modelo. Para ello evalue la función `roc_curve` en `y_train_0_vs_1`, y  `y_train_0_vs_1_scores`).\n",
    "\n",
    "\n",
    "13. Determine el área bajo la curva ROC utilizando la función `roc_auc_score` del módulo metrics de Sklearn. \n",
    "\n"
   ]
  },
  {
   "cell_type": "markdown",
   "id": "188f1cd7",
   "metadata": {
    "slideshow": {
     "slide_type": "slide"
    }
   },
   "source": [
    "# Constitución del modelo y medición de su desempeño"
   ]
  },
  {
   "cell_type": "markdown",
   "id": "2cbf1cd3",
   "metadata": {
    "slideshow": {
     "slide_type": "slide"
    }
   },
   "source": [
    "Para ello siga la metodología dada por Aurelien Géron:\n",
    "\n",
    "1. Obtener el dataset y configurarlo en la forma estándar $[X \\mid y]$. Donde los valores de las entradas de estas matrices sea de tipo `int64`.  "
   ]
  },
  {
   "cell_type": "code",
   "execution_count": 1,
   "id": "cb26384f",
   "metadata": {
    "slideshow": {
     "slide_type": "slide"
    }
   },
   "outputs": [],
   "source": [
    "from sklearn.datasets import fetch_openml"
   ]
  },
  {
   "cell_type": "code",
   "execution_count": 2,
   "id": "00bb64b2",
   "metadata": {
    "slideshow": {
     "slide_type": "slide"
    }
   },
   "outputs": [],
   "source": [
    "mnist = fetch_openml('mnist_784', version = 1, as_frame = False)"
   ]
  },
  {
   "cell_type": "code",
   "execution_count": 3,
   "id": "8bf00f9d",
   "metadata": {
    "slideshow": {
     "slide_type": "slide"
    }
   },
   "outputs": [],
   "source": [
    "import numpy as np \n"
   ]
  },
  {
   "cell_type": "code",
   "execution_count": 4,
   "id": "67f628b6",
   "metadata": {
    "slideshow": {
     "slide_type": "slide"
    }
   },
   "outputs": [],
   "source": [
    "X, y = mnist['data'], mnist['target'] "
   ]
  },
  {
   "cell_type": "code",
   "execution_count": 5,
   "id": "52c0dc2a",
   "metadata": {
    "slideshow": {
     "slide_type": "slide"
    }
   },
   "outputs": [
    {
     "data": {
      "text/plain": [
       "'5'"
      ]
     },
     "execution_count": 5,
     "metadata": {},
     "output_type": "execute_result"
    }
   ],
   "source": [
    "y[0]"
   ]
  },
  {
   "cell_type": "code",
   "execution_count": 6,
   "id": "a8b4e656",
   "metadata": {
    "slideshow": {
     "slide_type": "slide"
    }
   },
   "outputs": [],
   "source": [
    "y = y.astype(np.int64) "
   ]
  },
  {
   "cell_type": "code",
   "execution_count": 7,
   "id": "d7d381c5",
   "metadata": {
    "slideshow": {
     "slide_type": "slide"
    }
   },
   "outputs": [
    {
     "data": {
      "text/plain": [
       "5"
      ]
     },
     "execution_count": 7,
     "metadata": {},
     "output_type": "execute_result"
    }
   ],
   "source": [
    "y[0]"
   ]
  },
  {
   "cell_type": "code",
   "execution_count": 8,
   "id": "56d22005",
   "metadata": {
    "slideshow": {
     "slide_type": "slide"
    }
   },
   "outputs": [
    {
     "data": {
      "text/plain": [
       "(70000, 784)"
      ]
     },
     "execution_count": 8,
     "metadata": {},
     "output_type": "execute_result"
    }
   ],
   "source": [
    "X.shape "
   ]
  },
  {
   "cell_type": "markdown",
   "id": "fe3cffaa",
   "metadata": {
    "slideshow": {
     "slide_type": "slide"
    }
   },
   "source": [
    "2. Descomponer a `X` y a `y` en `X_train_01`, `X_test_01`, `y_train_01` y `y_test_01` con una tasa de testeo del 20%. Y verificar con histogramas que el muestreo sea estratificado. "
   ]
  },
  {
   "cell_type": "code",
   "execution_count": 9,
   "id": "aafa0010",
   "metadata": {},
   "outputs": [],
   "source": [
    "X_0 = X[y == 0]\n",
    "X_1 = X[y == 1]\n",
    "X_01 = np.vstack((X_0, X_1))"
   ]
  },
  {
   "cell_type": "code",
   "execution_count": 10,
   "id": "eb5b702a",
   "metadata": {
    "slideshow": {
     "slide_type": "slide"
    }
   },
   "outputs": [
    {
     "data": {
      "text/plain": [
       "(70000,)"
      ]
     },
     "execution_count": 10,
     "metadata": {},
     "output_type": "execute_result"
    }
   ],
   "source": [
    "y.shape "
   ]
  },
  {
   "cell_type": "code",
   "execution_count": 11,
   "id": "4187242b",
   "metadata": {
    "slideshow": {
     "slide_type": "slide"
    }
   },
   "outputs": [],
   "source": [
    "y_0 = y[y == 0]\n",
    "y_1 = y[y == 1]\n",
    "y_01 = np.hstack((y_0, y_1))"
   ]
  },
  {
   "cell_type": "code",
   "execution_count": 12,
   "id": "cd7a7eec",
   "metadata": {
    "slideshow": {
     "slide_type": "slide"
    }
   },
   "outputs": [
    {
     "data": {
      "text/plain": [
       "array([0, 0, 0, ..., 1, 1, 1], dtype=int64)"
      ]
     },
     "execution_count": 12,
     "metadata": {},
     "output_type": "execute_result"
    }
   ],
   "source": [
    "y_01"
   ]
  },
  {
   "cell_type": "markdown",
   "id": "5b146af2",
   "metadata": {
    "slideshow": {
     "slide_type": "slide"
    }
   },
   "source": [
    "## Dividir en entrenamiento y testeo"
   ]
  },
  {
   "cell_type": "code",
   "execution_count": 15,
   "id": "4a1e1ed5",
   "metadata": {
    "slideshow": {
     "slide_type": "slide"
    }
   },
   "outputs": [],
   "source": [
    "from sklearn.model_selection import train_test_split"
   ]
  },
  {
   "cell_type": "code",
   "execution_count": 17,
   "id": "e3a7b2ad",
   "metadata": {
    "slideshow": {
     "slide_type": "slide"
    }
   },
   "outputs": [],
   "source": [
    "X_01_train, X_01_test, y_01_train, y_01_test = train_test_split(X_01, y_01, \\\n",
    "                                                            test_size = 0.2, \\\n",
    "                                                        random_state = 42,\\\n",
    "                                                            stratify = y_01) "
   ]
  },
  {
   "cell_type": "markdown",
   "id": "bf24f97f",
   "metadata": {
    "slideshow": {
     "slide_type": "slide"
    }
   },
   "source": [
    "## Verificación del muestreo estratificado"
   ]
  },
  {
   "cell_type": "code",
   "execution_count": 18,
   "id": "e570e5a9",
   "metadata": {
    "slideshow": {
     "slide_type": "slide"
    }
   },
   "outputs": [],
   "source": [
    "import matplotlib.pyplot as plt "
   ]
  },
  {
   "cell_type": "code",
   "execution_count": 20,
   "id": "fb228eee",
   "metadata": {
    "slideshow": {
     "slide_type": "slide"
    }
   },
   "outputs": [
    {
     "data": {
      "image/png": "[encoded data removed]",
      "text/plain": [
       "<Figure size 1440x432 with 3 Axes>"
      ]
     },
     "metadata": {
      "needs_background": "light"
     },
     "output_type": "display_data"
    }
   ],
   "source": [
    "fig, ax = plt.subplots(1,3, figsize = (20, 6)) \n",
    "\n",
    "ax[0].hist(y_01, label = 'dataset')\n",
    "ax[0].grid()\n",
    "ax[0].legend()\n",
    "ax[1].hist(y_01_train, label = 'Muestra de entrenamiento')\n",
    "ax[1].grid()\n",
    "ax[1].legend()\n",
    "ax[2].hist(y_01_test, label = 'Muestre de testeo')\n",
    "ax[2].grid()\n",
    "ax[2].legend()\n",
    "\n",
    "\n",
    "\n",
    "plt.savefig('verificacion_muestre_estratificado.jpg') \n",
    "\n",
    "plt.show()"
   ]
  },
  {
   "cell_type": "markdown",
   "id": "2645121e",
   "metadata": {
    "slideshow": {
     "slide_type": "slide"
    }
   },
   "source": [
    "3. Escale los atributos con la estrategia de estandarización. "
   ]
  },
  {
   "cell_type": "code",
   "execution_count": 21,
   "id": "ea89821c",
   "metadata": {
    "slideshow": {
     "slide_type": "slide"
    }
   },
   "outputs": [],
   "source": [
    "from sklearn.preprocessing import StandardScaler "
   ]
  },
  {
   "cell_type": "code",
   "execution_count": 22,
   "id": "6ae24a99",
   "metadata": {
    "slideshow": {
     "slide_type": "slide"
    }
   },
   "outputs": [],
   "source": [
    "escalador = StandardScaler() "
   ]
  },
  {
   "cell_type": "code",
   "execution_count": 23,
   "id": "56df3808",
   "metadata": {
    "slideshow": {
     "slide_type": "slide"
    }
   },
   "outputs": [],
   "source": [
    "X_01_train_escalado = escalador.fit_transform(X_01_train)\n",
    "X_01_test_escalado = escalador.transform(X_01_train)"
   ]
  },
  {
   "cell_type": "code",
   "execution_count": 32,
   "id": "017c12c2",
   "metadata": {
    "slideshow": {
     "slide_type": "slide"
    }
   },
   "outputs": [
    {
     "data": {
      "text/plain": [
       "5.3783469934479844e-17"
      ]
     },
     "execution_count": 32,
     "metadata": {},
     "output_type": "execute_result"
    }
   ],
   "source": [
    "X_01_train_escalado[:,350].mean()"
   ]
  },
  {
   "cell_type": "code",
   "execution_count": 31,
   "id": "769f084f",
   "metadata": {
    "slideshow": {
     "slide_type": "slide"
    }
   },
   "outputs": [
    {
     "data": {
      "text/plain": [
       "1.000000000000038"
      ]
     },
     "execution_count": 31,
     "metadata": {},
     "output_type": "execute_result"
    }
   ],
   "source": [
    "X_01_train_escalado[:,350].std()"
   ]
  },
  {
   "cell_type": "markdown",
   "id": "ba4736de",
   "metadata": {
    "slideshow": {
     "slide_type": "slide"
    }
   },
   "source": [
    "El escalado nos quedó correcto. "
   ]
  },
  {
   "cell_type": "markdown",
   "id": "41824124",
   "metadata": {
    "slideshow": {
     "slide_type": "slide"
    }
   },
   "source": [
    "4. Entrene los modelos asignados con los datos escalados `X_train_0_vs_1_escalado` y las etiquetas de entrenamiento `y_train_0_vs_1`"
   ]
  },
  {
   "cell_type": "code",
   "execution_count": 33,
   "id": "d69c1a14",
   "metadata": {
    "slideshow": {
     "slide_type": "slide"
    }
   },
   "outputs": [],
   "source": [
    "from sklearn.linear_model import LogisticRegression"
   ]
  },
  {
   "cell_type": "code",
   "execution_count": 34,
   "id": "cbe01cee",
   "metadata": {
    "slideshow": {
     "slide_type": "slide"
    }
   },
   "outputs": [],
   "source": [
    "lr_clf = LogisticRegression(max_iter = 500)"
   ]
  },
  {
   "cell_type": "code",
   "execution_count": 35,
   "id": "832071d0",
   "metadata": {
    "slideshow": {
     "slide_type": "slide"
    }
   },
   "outputs": [
    {
     "data": {
      "text/plain": [
       "LogisticRegression(max_iter=500)"
      ]
     },
     "execution_count": 35,
     "metadata": {},
     "output_type": "execute_result"
    }
   ],
   "source": [
    "lr_clf.fit(X_01_train, y_01_train)"
   ]
  },
  {
   "cell_type": "code",
   "execution_count": 36,
   "id": "1b2ba05b",
   "metadata": {
    "slideshow": {
     "slide_type": "slide"
    }
   },
   "outputs": [],
   "source": [
    "imagen = X_0[0]"
   ]
  },
  {
   "cell_type": "code",
   "execution_count": 48,
   "id": "d02572d8",
   "metadata": {
    "slideshow": {
     "slide_type": "slide"
    }
   },
   "outputs": [],
   "source": [
    "imagen_escalada = escalador.transform(imagen.reshape(-1,1))"
   ]
  },
  {
   "cell_type": "code",
   "execution_count": 50,
   "id": "7d609a52",
   "metadata": {
    "slideshow": {
     "slide_type": "slide"
    }
   },
   "outputs": [
    {
     "data": {
      "text/plain": [
       "array([[-0.47280168],\n",
       "       [-0.47280168],\n",
       "       [-0.47280168],\n",
       "       [-0.47280168],\n",
       "       [-0.47280168],\n",
       "       [-0.47280168],\n",
       "       [-0.47280168],\n",
       "       [-0.47280168],\n",
       "       [-0.47280168],\n",
       "       [-0.47280168],\n",
       "       [-0.47280168],\n",
       "       [-0.47280168],\n",
       "       [-0.47280168],\n",
       "       [-0.47280168],\n",
       "       [-0.47280168],\n",
       "       [-0.47280168],\n",
       "       [-0.47280168],\n",
       "       [-0.47280168],\n",
       "       [-0.47280168],\n",
       "       [-0.47280168],\n",
       "       [-0.47280168],\n",
       "       [-0.47280168],\n",
       "       [-0.47280168],\n",
       "       [-0.47280168],\n",
       "       [-0.47280168],\n",
       "       [-0.47280168],\n",
       "       [-0.47280168],\n",
       "       [-0.47280168],\n",
       "       [-0.47280168],\n",
       "       [-0.47280168],\n",
       "       [-0.47280168],\n",
       "       [-0.47280168],\n",
       "       [-0.47280168],\n",
       "       [-0.47280168],\n",
       "       [-0.47280168],\n",
       "       [-0.47280168],\n",
       "       [-0.47280168],\n",
       "       [-0.47280168],\n",
       "       [-0.47280168],\n",
       "       [-0.47280168],\n",
       "       [-0.47280168],\n",
       "       [-0.47280168],\n",
       "       [-0.47280168],\n",
       "       [-0.47280168],\n",
       "       [-0.47280168],\n",
       "       [-0.47280168],\n",
       "       [-0.47280168],\n",
       "       [-0.47280168],\n",
       "       [-0.47280168],\n",
       "       [-0.47280168],\n",
       "       [-0.47280168],\n",
       "       [-0.47280168],\n",
       "       [-0.47280168],\n",
       "       [-0.47280168],\n",
       "       [-0.47280168],\n",
       "       [-0.47280168],\n",
       "       [-0.47280168],\n",
       "       [-0.47280168],\n",
       "       [-0.47280168],\n",
       "       [-0.47280168],\n",
       "       [-0.47280168],\n",
       "       [-0.47280168],\n",
       "       [-0.47280168],\n",
       "       [-0.47280168],\n",
       "       [-0.47280168],\n",
       "       [-0.47280168],\n",
       "       [-0.47280168],\n",
       "       [-0.47280168],\n",
       "       [-0.47280168],\n",
       "       [-0.47280168],\n",
       "       [-0.47280168],\n",
       "       [-0.47280168],\n",
       "       [-0.47280168],\n",
       "       [-0.47280168],\n",
       "       [-0.47280168],\n",
       "       [-0.47280168],\n",
       "       [-0.47280168],\n",
       "       [-0.47280168],\n",
       "       [-0.47280168],\n",
       "       [-0.47280168],\n",
       "       [-0.47280168],\n",
       "       [-0.47280168],\n",
       "       [-0.47280168],\n",
       "       [-0.47280168],\n",
       "       [-0.47280168],\n",
       "       [-0.47280168],\n",
       "       [-0.47280168],\n",
       "       [-0.47280168],\n",
       "       [-0.47280168],\n",
       "       [-0.47280168],\n",
       "       [-0.47280168],\n",
       "       [-0.47280168],\n",
       "       [-0.47280168],\n",
       "       [-0.47280168],\n",
       "       [-0.47280168],\n",
       "       [-0.47280168],\n",
       "       [-0.47280168],\n",
       "       [-0.47280168],\n",
       "       [-0.47280168],\n",
       "       [-0.47280168],\n",
       "       [-0.47280168],\n",
       "       [-0.47280168],\n",
       "       [-0.47280168],\n",
       "       [-0.47280168],\n",
       "       [-0.47280168],\n",
       "       [-0.47280168],\n",
       "       [-0.47280168],\n",
       "       [-0.47280168],\n",
       "       [-0.47280168],\n",
       "       [-0.47280168],\n",
       "       [-0.47280168],\n",
       "       [-0.47280168],\n",
       "       [-0.47280168],\n",
       "       [-0.47280168],\n",
       "       [-0.47280168],\n",
       "       [-0.47280168],\n",
       "       [-0.47280168],\n",
       "       [-0.47280168],\n",
       "       [-0.47280168],\n",
       "       [-0.47280168],\n",
       "       [-0.47280168],\n",
       "       [-0.47280168],\n",
       "       [-0.47280168],\n",
       "       [-0.47280168],\n",
       "       [-0.47280168],\n",
       "       [-0.47280168],\n",
       "       [-0.47280168],\n",
       "       [ 0.13515788],\n",
       "       [ 1.42260165],\n",
       "       [ 2.54315456],\n",
       "       [ 1.42260165],\n",
       "       [ 0.1232371 ],\n",
       "       [-0.47280168],\n",
       "       [-0.47280168],\n",
       "       [-0.47280168],\n",
       "       [-0.47280168],\n",
       "       [-0.47280168],\n",
       "       [-0.47280168],\n",
       "       [-0.47280168],\n",
       "       [-0.47280168],\n",
       "       [-0.47280168],\n",
       "       [-0.47280168],\n",
       "       [-0.47280168],\n",
       "       [-0.47280168],\n",
       "       [-0.47280168],\n",
       "       [-0.47280168],\n",
       "       [-0.47280168],\n",
       "       [-0.47280168],\n",
       "       [-0.47280168],\n",
       "       [-0.47280168],\n",
       "       [-0.47280168],\n",
       "       [-0.47280168],\n",
       "       [-0.47280168],\n",
       "       [-0.47280168],\n",
       "       [ 0.09939555],\n",
       "       [ 2.36434293],\n",
       "       [ 2.53123379],\n",
       "       [ 2.53123379],\n",
       "       [ 2.53123379],\n",
       "       [ 2.35242215],\n",
       "       [-0.47280168],\n",
       "       [-0.47280168],\n",
       "       [-0.47280168],\n",
       "       [-0.47280168],\n",
       "       [-0.47280168],\n",
       "       [-0.47280168],\n",
       "       [-0.47280168],\n",
       "       [-0.47280168],\n",
       "       [-0.47280168],\n",
       "       [-0.47280168],\n",
       "       [-0.47280168],\n",
       "       [-0.47280168],\n",
       "       [-0.47280168],\n",
       "       [-0.47280168],\n",
       "       [-0.47280168],\n",
       "       [-0.47280168],\n",
       "       [-0.47280168],\n",
       "       [-0.47280168],\n",
       "       [-0.47280168],\n",
       "       [-0.47280168],\n",
       "       [-0.47280168],\n",
       "       [ 0.1709202 ],\n",
       "       [ 2.23321439],\n",
       "       [ 2.54315456],\n",
       "       [ 2.53123379],\n",
       "       [ 2.3762637 ],\n",
       "       [ 2.30473905],\n",
       "       [ 2.53123379],\n",
       "       [ 0.20668253],\n",
       "       [-0.40127703],\n",
       "       [-0.47280168],\n",
       "       [-0.47280168],\n",
       "       [-0.47280168],\n",
       "       [-0.47280168],\n",
       "       [-0.47280168],\n",
       "       [-0.47280168],\n",
       "       [-0.47280168],\n",
       "       [-0.47280168],\n",
       "       [-0.47280168],\n",
       "       [-0.47280168],\n",
       "       [-0.47280168],\n",
       "       [-0.47280168],\n",
       "       [-0.47280168],\n",
       "       [-0.47280168],\n",
       "       [-0.47280168],\n",
       "       [-0.47280168],\n",
       "       [-0.47280168],\n",
       "       [-0.35359393],\n",
       "       [ 0.24244486],\n",
       "       [ 2.19745207],\n",
       "       [ 2.53123379],\n",
       "       [ 2.54315456],\n",
       "       [ 2.53123379],\n",
       "       [ 1.935195  ],\n",
       "       [ 0.52854347],\n",
       "       [ 2.53123379],\n",
       "       [ 2.54315456],\n",
       "       [ 0.98153295],\n",
       "       [-0.47280168],\n",
       "       [-0.47280168],\n",
       "       [-0.47280168],\n",
       "       [-0.47280168],\n",
       "       [-0.47280168],\n",
       "       [-0.47280168],\n",
       "       [-0.47280168],\n",
       "       [-0.47280168],\n",
       "       [-0.47280168],\n",
       "       [-0.47280168],\n",
       "       [-0.47280168],\n",
       "       [-0.47280168],\n",
       "       [-0.47280168],\n",
       "       [-0.47280168],\n",
       "       [-0.47280168],\n",
       "       [-0.47280168],\n",
       "       [-0.47280168],\n",
       "       [ 1.47028475],\n",
       "       [ 2.53123379],\n",
       "       [ 2.53123379],\n",
       "       [ 2.53123379],\n",
       "       [ 2.54315456],\n",
       "       [ 2.53123379],\n",
       "       [ 2.53123379],\n",
       "       [ 0.67159278],\n",
       "       [ 1.78022492],\n",
       "       [ 2.54315456],\n",
       "       [ 1.51796785],\n",
       "       [-0.47280168],\n",
       "       [-0.47280168],\n",
       "       [-0.47280168],\n",
       "       [-0.47280168],\n",
       "       [-0.47280168],\n",
       "       [-0.47280168],\n",
       "       [-0.47280168],\n",
       "       [-0.47280168],\n",
       "       [-0.47280168],\n",
       "       [-0.47280168],\n",
       "       [-0.47280168],\n",
       "       [-0.47280168],\n",
       "       [-0.47280168],\n",
       "       [-0.47280168],\n",
       "       [-0.47280168],\n",
       "       [-0.47280168],\n",
       "       [ 0.13515788],\n",
       "       [ 2.36434293],\n",
       "       [ 2.54315456],\n",
       "       [ 2.54315456],\n",
       "       [ 1.79214569],\n",
       "       [ 0.88616674],\n",
       "       [ 2.54315456],\n",
       "       [ 2.24513517],\n",
       "       [ 0.08747477],\n",
       "       [ 0.46893959],\n",
       "       [ 2.56699611],\n",
       "       [ 1.52988863],\n",
       "       [-0.47280168],\n",
       "       [-0.47280168],\n",
       "       [-0.47280168],\n",
       "       [-0.47280168],\n",
       "       [-0.47280168],\n",
       "       [-0.47280168],\n",
       "       [-0.47280168],\n",
       "       [-0.47280168],\n",
       "       [-0.47280168],\n",
       "       [-0.47280168],\n",
       "       [-0.47280168],\n",
       "       [-0.47280168],\n",
       "       [-0.47280168],\n",
       "       [-0.47280168],\n",
       "       [-0.47280168],\n",
       "       [ 0.09939555],\n",
       "       [ 2.36434293],\n",
       "       [ 2.53123379],\n",
       "       [ 2.53123379],\n",
       "       [ 1.66101716],\n",
       "       [-0.32975237],\n",
       "       [ 0.42125649],\n",
       "       [ 0.96961217],\n",
       "       [-0.22246539],\n",
       "       [-0.47280168],\n",
       "       [-0.47280168],\n",
       "       [ 2.54315456],\n",
       "       [ 2.4239468 ],\n",
       "       [ 0.1232371 ],\n",
       "       [-0.47280168],\n",
       "       [-0.47280168],\n",
       "       [-0.47280168],\n",
       "       [-0.47280168],\n",
       "       [-0.47280168],\n",
       "       [-0.47280168],\n",
       "       [-0.47280168],\n",
       "       [-0.47280168],\n",
       "       [-0.47280168],\n",
       "       [-0.47280168],\n",
       "       [-0.47280168],\n",
       "       [-0.47280168],\n",
       "       [-0.47280168],\n",
       "       [-0.01981221],\n",
       "       [ 1.4941263 ],\n",
       "       [ 2.54315456],\n",
       "       [ 2.30473905],\n",
       "       [ 2.00671966],\n",
       "       [ 0.52854347],\n",
       "       [-0.47280168],\n",
       "       [-0.47280168],\n",
       "       [-0.47280168],\n",
       "       [-0.47280168],\n",
       "       [-0.47280168],\n",
       "       [-0.47280168],\n",
       "       [ 2.54315456],\n",
       "       [ 2.53123379],\n",
       "       [ 1.4941263 ],\n",
       "       [-0.47280168],\n",
       "       [-0.47280168],\n",
       "       [-0.47280168],\n",
       "       [-0.47280168],\n",
       "       [-0.47280168],\n",
       "       [-0.47280168],\n",
       "       [-0.47280168],\n",
       "       [-0.47280168],\n",
       "       [-0.47280168],\n",
       "       [-0.47280168],\n",
       "       [-0.47280168],\n",
       "       [-0.47280168],\n",
       "       [-0.38935625],\n",
       "       [ 1.64909639],\n",
       "       [ 2.53123379],\n",
       "       [ 2.38818448],\n",
       "       [ 0.37357339],\n",
       "       [-0.24630695],\n",
       "       [-0.13901996],\n",
       "       [-0.47280168],\n",
       "       [-0.47280168],\n",
       "       [-0.47280168],\n",
       "       [-0.47280168],\n",
       "       [-0.47280168],\n",
       "       [-0.47280168],\n",
       "       [ 2.54315456],\n",
       "       [ 2.53123379],\n",
       "       [ 1.85174957],\n",
       "       [-0.47280168],\n",
       "       [-0.47280168],\n",
       "       [-0.47280168],\n",
       "       [-0.47280168],\n",
       "       [-0.47280168],\n",
       "       [-0.47280168],\n",
       "       [-0.47280168],\n",
       "       [-0.47280168],\n",
       "       [-0.47280168],\n",
       "       [-0.47280168],\n",
       "       [-0.47280168],\n",
       "       [-0.47280168],\n",
       "       [ 0.20668253],\n",
       "       [ 2.53123379],\n",
       "       [ 2.53123379],\n",
       "       [ 0.27820718],\n",
       "       [-0.47280168],\n",
       "       [-0.47280168],\n",
       "       [-0.47280168],\n",
       "       [-0.47280168],\n",
       "       [-0.47280168],\n",
       "       [-0.47280168],\n",
       "       [-0.47280168],\n",
       "       [-0.47280168],\n",
       "       [-0.47280168],\n",
       "       [ 2.54315456],\n",
       "       [ 2.53123379],\n",
       "       [ 1.85174957],\n",
       "       [-0.47280168],\n",
       "       [-0.47280168],\n",
       "       [-0.47280168],\n",
       "       [-0.47280168],\n",
       "       [-0.47280168],\n",
       "       [-0.47280168],\n",
       "       [-0.47280168],\n",
       "       [-0.47280168],\n",
       "       [-0.47280168],\n",
       "       [-0.47280168],\n",
       "       [-0.47280168],\n",
       "       [-0.47280168],\n",
       "       [ 1.8875119 ],\n",
       "       [ 2.54315456],\n",
       "       [ 1.79214569],\n",
       "       [-0.47280168],\n",
       "       [-0.47280168],\n",
       "       [-0.47280168],\n",
       "       [-0.47280168],\n",
       "       [-0.47280168],\n",
       "       [-0.47280168],\n",
       "       [-0.47280168],\n",
       "       [-0.47280168],\n",
       "       [-0.47280168],\n",
       "       [-0.47280168],\n",
       "       [ 2.56699611],\n",
       "       [ 2.54315456],\n",
       "       [ 1.86367035],\n",
       "       [-0.47280168],\n",
       "       [-0.47280168],\n",
       "       [-0.47280168],\n",
       "       [-0.47280168],\n",
       "       [-0.47280168],\n",
       "       [-0.47280168],\n",
       "       [-0.47280168],\n",
       "       [-0.47280168],\n",
       "       [-0.47280168],\n",
       "       [-0.47280168],\n",
       "       [-0.47280168],\n",
       "       [ 0.43317727],\n",
       "       [ 2.45970913],\n",
       "       [ 2.53123379],\n",
       "       [ 0.86232519],\n",
       "       [-0.47280168],\n",
       "       [-0.47280168],\n",
       "       [-0.47280168],\n",
       "       [-0.47280168],\n",
       "       [-0.47280168],\n",
       "       [-0.47280168],\n",
       "       [-0.47280168],\n",
       "       [-0.47280168],\n",
       "       [-0.47280168],\n",
       "       [-0.47280168],\n",
       "       [ 2.54315456],\n",
       "       [ 2.53123379],\n",
       "       [ 1.29147312],\n",
       "       [-0.47280168],\n",
       "       [-0.47280168],\n",
       "       [-0.47280168],\n",
       "       [-0.47280168],\n",
       "       [-0.47280168],\n",
       "       [-0.47280168],\n",
       "       [-0.47280168],\n",
       "       [-0.47280168],\n",
       "       [-0.47280168],\n",
       "       [-0.47280168],\n",
       "       [-0.47280168],\n",
       "       [ 0.54046425],\n",
       "       [ 2.53123379],\n",
       "       [ 2.26897672],\n",
       "       [-0.17478229],\n",
       "       [-0.47280168],\n",
       "       [-0.47280168],\n",
       "       [-0.47280168],\n",
       "       [-0.47280168],\n",
       "       [-0.47280168],\n",
       "       [-0.47280168],\n",
       "       [-0.47280168],\n",
       "       [-0.47280168],\n",
       "       [-0.38935625],\n",
       "       [ 1.13650303],\n",
       "       [ 2.54315456],\n",
       "       [ 1.74446259],\n",
       "       [-0.32975237],\n",
       "       [-0.47280168],\n",
       "       [-0.47280168],\n",
       "       [-0.47280168],\n",
       "       [-0.47280168],\n",
       "       [-0.47280168],\n",
       "       [-0.47280168],\n",
       "       [-0.47280168],\n",
       "       [-0.47280168],\n",
       "       [-0.47280168],\n",
       "       [-0.47280168],\n",
       "       [-0.47280168],\n",
       "       [ 0.54046425],\n",
       "       [ 2.53123379],\n",
       "       [ 2.18553129],\n",
       "       [-0.47280168],\n",
       "       [-0.47280168],\n",
       "       [-0.47280168],\n",
       "       [-0.47280168],\n",
       "       [-0.47280168],\n",
       "       [-0.47280168],\n",
       "       [-0.47280168],\n",
       "       [-0.47280168],\n",
       "       [-0.38935625],\n",
       "       [ 1.08881993],\n",
       "       [ 2.53123379],\n",
       "       [ 2.20937284],\n",
       "       [ 0.37357339],\n",
       "       [-0.47280168],\n",
       "       [-0.47280168],\n",
       "       [-0.47280168],\n",
       "       [-0.47280168],\n",
       "       [-0.47280168],\n",
       "       [-0.47280168],\n",
       "       [-0.47280168],\n",
       "       [-0.47280168],\n",
       "       [-0.47280168],\n",
       "       [-0.47280168],\n",
       "       [-0.47280168],\n",
       "       [-0.47280168],\n",
       "       [ 0.54046425],\n",
       "       [ 2.53123379],\n",
       "       [ 1.25571079],\n",
       "       [-0.47280168],\n",
       "       [-0.47280168],\n",
       "       [-0.47280168],\n",
       "       [-0.47280168],\n",
       "       [-0.47280168],\n",
       "       [-0.47280168],\n",
       "       [-0.47280168],\n",
       "       [ 0.09939555],\n",
       "       [ 1.4941263 ],\n",
       "       [ 2.53123379],\n",
       "       [ 1.58949251],\n",
       "       [-0.47280168],\n",
       "       [-0.47280168],\n",
       "       [-0.47280168],\n",
       "       [-0.47280168],\n",
       "       [-0.47280168],\n",
       "       [-0.47280168],\n",
       "       [-0.47280168],\n",
       "       [-0.47280168],\n",
       "       [-0.47280168],\n",
       "       [-0.47280168],\n",
       "       [-0.47280168],\n",
       "       [-0.47280168],\n",
       "       [-0.47280168],\n",
       "       [-0.47280168],\n",
       "       [ 0.55238502],\n",
       "       [ 2.54315456],\n",
       "       [ 2.20937284],\n",
       "       [-0.47280168],\n",
       "       [-0.47280168],\n",
       "       [-0.47280168],\n",
       "       [-0.47280168],\n",
       "       [-0.47280168],\n",
       "       [-0.47280168],\n",
       "       [ 0.88616674],\n",
       "       [ 2.36434293],\n",
       "       [ 2.54315456],\n",
       "       [ 1.45836398],\n",
       "       [-0.47280168],\n",
       "       [-0.47280168],\n",
       "       [-0.47280168],\n",
       "       [-0.47280168],\n",
       "       [-0.47280168],\n",
       "       [-0.47280168],\n",
       "       [-0.47280168],\n",
       "       [-0.47280168],\n",
       "       [-0.47280168],\n",
       "       [-0.47280168],\n",
       "       [-0.47280168],\n",
       "       [-0.47280168],\n",
       "       [-0.47280168],\n",
       "       [-0.47280168],\n",
       "       [-0.47280168],\n",
       "       [ 0.54046425],\n",
       "       [ 2.53123379],\n",
       "       [ 2.49547146],\n",
       "       [ 1.26763156],\n",
       "       [ 0.09939555],\n",
       "       [-0.12709919],\n",
       "       [ 0.54046425],\n",
       "       [ 1.64909639],\n",
       "       [ 2.20937284],\n",
       "       [ 2.54315456],\n",
       "       [ 2.18553129],\n",
       "       [ 1.51796785],\n",
       "       [ 0.19476175],\n",
       "       [-0.47280168],\n",
       "       [-0.47280168],\n",
       "       [-0.47280168],\n",
       "       [-0.47280168],\n",
       "       [-0.47280168],\n",
       "       [-0.47280168],\n",
       "       [-0.47280168],\n",
       "       [-0.47280168],\n",
       "       [-0.47280168],\n",
       "       [-0.47280168],\n",
       "       [-0.47280168],\n",
       "       [-0.47280168],\n",
       "       [-0.47280168],\n",
       "       [-0.47280168],\n",
       "       [-0.47280168],\n",
       "       [ 0.54046425],\n",
       "       [ 2.53123379],\n",
       "       [ 2.53123379],\n",
       "       [ 2.53123379],\n",
       "       [ 2.25705594],\n",
       "       [ 2.09016509],\n",
       "       [ 2.53123379],\n",
       "       [ 2.53123379],\n",
       "       [ 2.53123379],\n",
       "       [ 1.86367035],\n",
       "       [ 1.07689915],\n",
       "       [-0.47280168],\n",
       "       [-0.47280168],\n",
       "       [-0.47280168],\n",
       "       [-0.47280168],\n",
       "       [-0.47280168],\n",
       "       [-0.47280168],\n",
       "       [-0.47280168],\n",
       "       [-0.47280168],\n",
       "       [-0.47280168],\n",
       "       [-0.47280168],\n",
       "       [-0.47280168],\n",
       "       [-0.47280168],\n",
       "       [-0.47280168],\n",
       "       [-0.47280168],\n",
       "       [-0.47280168],\n",
       "       [-0.47280168],\n",
       "       [-0.47280168],\n",
       "       [-0.13901996],\n",
       "       [ 1.89943267],\n",
       "       [ 2.53123379],\n",
       "       [ 2.53123379],\n",
       "       [ 2.54315456],\n",
       "       [ 2.53123379],\n",
       "       [ 2.53123379],\n",
       "       [ 2.30473905],\n",
       "       [ 1.25571079],\n",
       "       [-0.47280168],\n",
       "       [-0.47280168],\n",
       "       [-0.47280168],\n",
       "       [-0.47280168],\n",
       "       [-0.47280168],\n",
       "       [-0.47280168],\n",
       "       [-0.47280168],\n",
       "       [-0.47280168],\n",
       "       [-0.47280168],\n",
       "       [-0.47280168],\n",
       "       [-0.47280168],\n",
       "       [-0.47280168],\n",
       "       [-0.47280168],\n",
       "       [-0.47280168],\n",
       "       [-0.47280168],\n",
       "       [-0.47280168],\n",
       "       [-0.47280168],\n",
       "       [-0.47280168],\n",
       "       [-0.47280168],\n",
       "       [-0.47280168],\n",
       "       [-0.17478229],\n",
       "       [ 1.0530576 ],\n",
       "       [ 2.53123379],\n",
       "       [ 2.54315456],\n",
       "       [ 2.53123379],\n",
       "       [ 1.20802769],\n",
       "       [-0.03173298],\n",
       "       [-0.47280168],\n",
       "       [-0.47280168],\n",
       "       [-0.47280168],\n",
       "       [-0.47280168],\n",
       "       [-0.47280168],\n",
       "       [-0.47280168],\n",
       "       [-0.47280168],\n",
       "       [-0.47280168],\n",
       "       [-0.47280168],\n",
       "       [-0.47280168],\n",
       "       [-0.47280168],\n",
       "       [-0.47280168],\n",
       "       [-0.47280168],\n",
       "       [-0.47280168],\n",
       "       [-0.47280168],\n",
       "       [-0.47280168],\n",
       "       [-0.47280168],\n",
       "       [-0.47280168],\n",
       "       [-0.47280168],\n",
       "       [-0.47280168],\n",
       "       [-0.47280168],\n",
       "       [-0.47280168],\n",
       "       [-0.47280168],\n",
       "       [-0.47280168],\n",
       "       [-0.47280168],\n",
       "       [-0.47280168],\n",
       "       [-0.47280168],\n",
       "       [-0.47280168],\n",
       "       [-0.47280168],\n",
       "       [-0.47280168],\n",
       "       [-0.47280168],\n",
       "       [-0.47280168],\n",
       "       [-0.47280168],\n",
       "       [-0.47280168],\n",
       "       [-0.47280168],\n",
       "       [-0.47280168],\n",
       "       [-0.47280168],\n",
       "       [-0.47280168],\n",
       "       [-0.47280168],\n",
       "       [-0.47280168],\n",
       "       [-0.47280168],\n",
       "       [-0.47280168],\n",
       "       [-0.47280168],\n",
       "       [-0.47280168],\n",
       "       [-0.47280168],\n",
       "       [-0.47280168],\n",
       "       [-0.47280168],\n",
       "       [-0.47280168],\n",
       "       [-0.47280168],\n",
       "       [-0.47280168],\n",
       "       [-0.47280168],\n",
       "       [-0.47280168],\n",
       "       [-0.47280168],\n",
       "       [-0.47280168],\n",
       "       [-0.47280168],\n",
       "       [-0.47280168],\n",
       "       [-0.47280168],\n",
       "       [-0.47280168],\n",
       "       [-0.47280168],\n",
       "       [-0.47280168],\n",
       "       [-0.47280168],\n",
       "       [-0.47280168],\n",
       "       [-0.47280168],\n",
       "       [-0.47280168],\n",
       "       [-0.47280168],\n",
       "       [-0.47280168],\n",
       "       [-0.47280168],\n",
       "       [-0.47280168],\n",
       "       [-0.47280168],\n",
       "       [-0.47280168],\n",
       "       [-0.47280168],\n",
       "       [-0.47280168],\n",
       "       [-0.47280168],\n",
       "       [-0.47280168],\n",
       "       [-0.47280168],\n",
       "       [-0.47280168],\n",
       "       [-0.47280168],\n",
       "       [-0.47280168],\n",
       "       [-0.47280168],\n",
       "       [-0.47280168],\n",
       "       [-0.47280168],\n",
       "       [-0.47280168],\n",
       "       [-0.47280168],\n",
       "       [-0.47280168],\n",
       "       [-0.47280168],\n",
       "       [-0.47280168],\n",
       "       [-0.47280168],\n",
       "       [-0.47280168],\n",
       "       [-0.47280168],\n",
       "       [-0.47280168],\n",
       "       [-0.47280168],\n",
       "       [-0.47280168],\n",
       "       [-0.47280168],\n",
       "       [-0.47280168],\n",
       "       [-0.47280168],\n",
       "       [-0.47280168],\n",
       "       [-0.47280168],\n",
       "       [-0.47280168],\n",
       "       [-0.47280168],\n",
       "       [-0.47280168],\n",
       "       [-0.47280168],\n",
       "       [-0.47280168],\n",
       "       [-0.47280168],\n",
       "       [-0.47280168],\n",
       "       [-0.47280168],\n",
       "       [-0.47280168],\n",
       "       [-0.47280168],\n",
       "       [-0.47280168],\n",
       "       [-0.47280168],\n",
       "       [-0.47280168],\n",
       "       [-0.47280168],\n",
       "       [-0.47280168],\n",
       "       [-0.47280168],\n",
       "       [-0.47280168],\n",
       "       [-0.47280168],\n",
       "       [-0.47280168],\n",
       "       [-0.47280168],\n",
       "       [-0.47280168],\n",
       "       [-0.47280168],\n",
       "       [-0.47280168],\n",
       "       [-0.47280168],\n",
       "       [-0.47280168],\n",
       "       [-0.47280168],\n",
       "       [-0.47280168],\n",
       "       [-0.47280168],\n",
       "       [-0.47280168]])"
      ]
     },
     "execution_count": 50,
     "metadata": {},
     "output_type": "execute_result"
    }
   ],
   "source": [
    "imagen_escalada"
   ]
  },
  {
   "cell_type": "code",
   "execution_count": 53,
   "id": "bf9e44b6",
   "metadata": {
    "slideshow": {
     "slide_type": "slide"
    }
   },
   "outputs": [
    {
     "data": {
      "text/plain": [
       "array([0], dtype=int64)"
      ]
     },
     "execution_count": 53,
     "metadata": {},
     "output_type": "execute_result"
    }
   ],
   "source": [
    "lr_clf.predict(imagen_escalada.reshape(1,-1))  "
   ]
  },
  {
   "cell_type": "markdown",
   "id": "bb15e715",
   "metadata": {
    "slideshow": {
     "slide_type": "slide"
    }
   },
   "source": [
    "5. ¿Es aplicable la medida de desempeño `accuracy` para su tarea de clasificación? Justifique su respuesta. "
   ]
  },
  {
   "cell_type": "markdown",
   "id": "66e9d980",
   "metadata": {
    "slideshow": {
     "slide_type": "slide"
    }
   },
   "source": [
    "Como las clase del 0 y del 1 están más o menos equilibradas, entonces podemo considerar al accuracy como una buena medida de desempeño de nuestro clasificador. "
   ]
  },
  {
   "cell_type": "markdown",
   "id": "a09275c5",
   "metadata": {
    "slideshow": {
     "slide_type": "slide"
    }
   },
   "source": [
    "6. Efectue el proceso de validación cruzada con 10 hojas de validación (`cv = 5`) y con el `scoring = accuracy`."
   ]
  },
  {
   "cell_type": "code",
   "execution_count": 55,
   "id": "609175de",
   "metadata": {
    "slideshow": {
     "slide_type": "slide"
    }
   },
   "outputs": [],
   "source": [
    "from sklearn.model_selection import cross_val_score "
   ]
  },
  {
   "cell_type": "code",
   "execution_count": 56,
   "id": "88a1a43b",
   "metadata": {
    "slideshow": {
     "slide_type": "slide"
    }
   },
   "outputs": [
    {
     "name": "stdout",
     "output_type": "stream",
     "text": [
      "Wall time: 25.3 s\n"
     ]
    }
   ],
   "source": [
    "%%time \n",
    "puntajes_exactitud = cross_val_score(lr_clf, X_01_train, y_01_train, \\\n",
    "                                    cv = 10, scoring = 'accuracy') "
   ]
  },
  {
   "cell_type": "code",
   "execution_count": 57,
   "id": "6d8794bb",
   "metadata": {
    "slideshow": {
     "slide_type": "slide"
    }
   },
   "outputs": [],
   "source": [
    "def mostrar_desempeño(puntajes_exactitud):\n",
    "    print(puntajes_exactitud)\n",
    "    print(puntajes_exactitud.mean())\n",
    "    print(puntajes_exactitud.std()) "
   ]
  },
  {
   "cell_type": "code",
   "execution_count": 58,
   "id": "6dafbf86",
   "metadata": {
    "slideshow": {
     "slide_type": "slide"
    }
   },
   "outputs": [
    {
     "name": "stdout",
     "output_type": "stream",
     "text": [
      "[0.99830938 0.99915469 0.99915469 0.99746407 0.99915398 0.99830795\n",
      " 0.99576988 0.99915398 1.         0.99915398]\n",
      "0.9985622603350054\n",
      "0.0011380438932860216\n"
     ]
    }
   ],
   "source": [
    "mostrar_desempeño(puntajes_exactitud) "
   ]
  },
  {
   "cell_type": "markdown",
   "id": "cfb9478e",
   "metadata": {
    "slideshow": {
     "slide_type": "slide"
    }
   },
   "source": [
    "7. Determine la matriz de confusión utilizando 10 hojas de validación.  "
   ]
  },
  {
   "cell_type": "code",
   "execution_count": 59,
   "id": "7543ccb6",
   "metadata": {
    "slideshow": {
     "slide_type": "slide"
    }
   },
   "outputs": [],
   "source": [
    "from sklearn.model_selection import cross_val_predict\n",
    "from sklearn.metrics import confusion_matrix, precision_score,\\\n",
    "recall_score, f1_score"
   ]
  },
  {
   "cell_type": "code",
   "execution_count": 60,
   "id": "3836cbac",
   "metadata": {
    "slideshow": {
     "slide_type": "slide"
    }
   },
   "outputs": [
    {
     "name": "stdout",
     "output_type": "stream",
     "text": [
      "Wall time: 26.1 s\n"
     ]
    }
   ],
   "source": [
    "%%time \n",
    "y_01_train_predicciones = cross_val_predict(lr_clf, X_01_train, y_01_train,\\\n",
    "                                           cv = 10)"
   ]
  },
  {
   "cell_type": "code",
   "execution_count": 61,
   "id": "5e3f4d26",
   "metadata": {
    "slideshow": {
     "slide_type": "slide"
    }
   },
   "outputs": [
    {
     "data": {
      "text/plain": [
       "array([[5515,    7],\n",
       "       [  10, 6292]], dtype=int64)"
      ]
     },
     "execution_count": 61,
     "metadata": {},
     "output_type": "execute_result"
    }
   ],
   "source": [
    "confusion_matrix(y_01_train, y_01_train_predicciones)"
   ]
  },
  {
   "cell_type": "markdown",
   "id": "61024b65",
   "metadata": {
    "slideshow": {
     "slide_type": "slide"
    }
   },
   "source": [
    "8. Determine la precisión y el recall de su clasificador para las mismas 5 hojas de validación.  "
   ]
  },
  {
   "cell_type": "code",
   "execution_count": 63,
   "id": "3cd7d1d1",
   "metadata": {
    "slideshow": {
     "slide_type": "slide"
    }
   },
   "outputs": [
    {
     "data": {
      "text/plain": [
       "0.9988887124940466"
      ]
     },
     "execution_count": 63,
     "metadata": {},
     "output_type": "execute_result"
    }
   ],
   "source": [
    "precision_score(y_01_train, y_01_train_predicciones)"
   ]
  },
  {
   "cell_type": "code",
   "execution_count": 64,
   "id": "c2df5e3f",
   "metadata": {
    "slideshow": {
     "slide_type": "slide"
    }
   },
   "outputs": [
    {
     "data": {
      "text/plain": [
       "0.9984132021580451"
      ]
     },
     "execution_count": 64,
     "metadata": {},
     "output_type": "execute_result"
    }
   ],
   "source": [
    "recall_score(y_01_train, y_01_train_predicciones)"
   ]
  },
  {
   "cell_type": "markdown",
   "id": "c0e11e8d",
   "metadata": {
    "slideshow": {
     "slide_type": "slide"
    }
   },
   "source": [
    "9. Determine el puntaje f1 de su clasificador para las mismas 5 hojas de validación. "
   ]
  },
  {
   "cell_type": "code",
   "execution_count": 65,
   "id": "141744a3",
   "metadata": {
    "slideshow": {
     "slide_type": "slide"
    }
   },
   "outputs": [
    {
     "data": {
      "text/plain": [
       "0.998650900722165"
      ]
     },
     "execution_count": 65,
     "metadata": {},
     "output_type": "execute_result"
    }
   ],
   "source": [
    "f1_score(y_01_train, y_01_train_predicciones)"
   ]
  },
  {
   "cell_type": "markdown",
   "id": "b0f4c0cb",
   "metadata": {
    "slideshow": {
     "slide_type": "slide"
    }
   },
   "source": [
    "10. Utilice el `method=\"decision_function\"` de la función `cross_val_predict()` para determinar el vector `y_01_train_scores` de los puntajes de decisión para los modelos lineales que le hayan asignado. "
   ]
  },
  {
   "cell_type": "code",
   "execution_count": 66,
   "id": "03511db0",
   "metadata": {
    "slideshow": {
     "slide_type": "slide"
    }
   },
   "outputs": [],
   "source": [
    "y_01_train_scores = cross_val_predict(lr_clf, X_01_train, y_01_train,\\\n",
    "                                           cv = 10, \\\n",
    "                                     method=\"decision_function\")"
   ]
  },
  {
   "cell_type": "markdown",
   "id": "0ad4424a",
   "metadata": {
    "slideshow": {
     "slide_type": "slide"
    }
   },
   "source": [
    "11. Utilice `precision_recall_curve` para determinar el umbral de decisión necesario para obtener una **precisión** del 100 $\\%$ en su clasificador. "
   ]
  },
  {
   "cell_type": "code",
   "execution_count": 67,
   "id": "5c0fbacb",
   "metadata": {
    "slideshow": {
     "slide_type": "slide"
    }
   },
   "outputs": [],
   "source": [
    "from sklearn.metrics import precision_recall_curve "
   ]
  },
  {
   "cell_type": "code",
   "execution_count": 81,
   "id": "0ce50f06",
   "metadata": {
    "slideshow": {
     "slide_type": "slide"
    }
   },
   "outputs": [],
   "source": [
    "precisions, recalls, thresholds = precision_recall_curve(y_01_train,\\\n",
    "                                                         y_01_train_scores )"
   ]
  },
  {
   "cell_type": "code",
   "execution_count": 72,
   "id": "ecf1a67a",
   "metadata": {
    "slideshow": {
     "slide_type": "slide"
    }
   },
   "outputs": [
    {
     "data": {
      "text/plain": [
       "(6632, 6632, 6632)"
      ]
     },
     "execution_count": 72,
     "metadata": {},
     "output_type": "execute_result"
    }
   ],
   "source": [
    "len(precisions[:-1]), len(recalls[:-1]), len(thresholds)"
   ]
  },
  {
   "cell_type": "code",
   "execution_count": 74,
   "id": "a0e04177",
   "metadata": {
    "scrolled": true,
    "slideshow": {
     "slide_type": "slide"
    }
   },
   "outputs": [
    {
     "data": {
      "image/png": "[encoded data removed]",
      "text/plain": [
       "<Figure size 432x288 with 1 Axes>"
      ]
     },
     "metadata": {
      "needs_background": "light"
     },
     "output_type": "display_data"
    }
   ],
   "source": [
    "plt.plot(thresholds,precisions[:-1] , label = 'precisions')\n",
    "plt.plot(thresholds,recalls[:-1], label = 'recalls' )\n",
    "plt.grid()\n",
    "plt.legend()\n",
    "plt.show() "
   ]
  },
  {
   "cell_type": "code",
   "execution_count": 82,
   "id": "966b8fc8",
   "metadata": {
    "slideshow": {
     "slide_type": "slide"
    }
   },
   "outputs": [
    {
     "data": {
      "text/plain": [
       "array([0.95024125, 0.95023375, 0.95037707, ..., 1.        , 1.        ,\n",
       "       1.        ])"
      ]
     },
     "execution_count": 82,
     "metadata": {},
     "output_type": "execute_result"
    }
   ],
   "source": [
    "precisions"
   ]
  },
  {
   "cell_type": "code",
   "execution_count": 83,
   "id": "baf625ed",
   "metadata": {
    "slideshow": {
     "slide_type": "slide"
    }
   },
   "outputs": [
    {
     "data": {
      "text/plain": [
       "array([False, False, False, ...,  True,  True,  True])"
      ]
     },
     "execution_count": 83,
     "metadata": {},
     "output_type": "execute_result"
    }
   ],
   "source": [
    "precisions>=1.0"
   ]
  },
  {
   "cell_type": "code",
   "execution_count": 84,
   "id": "e47c7ae6",
   "metadata": {
    "slideshow": {
     "slide_type": "slide"
    }
   },
   "outputs": [
    {
     "data": {
      "text/plain": [
       "353"
      ]
     },
     "execution_count": 84,
     "metadata": {},
     "output_type": "execute_result"
    }
   ],
   "source": [
    "np.argmax(precisions>=1.0)"
   ]
  },
  {
   "cell_type": "code",
   "execution_count": 85,
   "id": "896af886",
   "metadata": {
    "slideshow": {
     "slide_type": "slide"
    }
   },
   "outputs": [
    {
     "data": {
      "text/plain": [
       "8.105436674206107"
      ]
     },
     "execution_count": 85,
     "metadata": {},
     "output_type": "execute_result"
    }
   ],
   "source": [
    "thresholds[353]"
   ]
  },
  {
   "cell_type": "markdown",
   "id": "e9d03407",
   "metadata": {
    "slideshow": {
     "slide_type": "slide"
    }
   },
   "source": [
    "Conclusión, moviendo el umbral de decision de 0 a 8.11 tendras un modelo con una precisión del 100%. "
   ]
  },
  {
   "cell_type": "markdown",
   "id": "888f59cd",
   "metadata": {
    "slideshow": {
     "slide_type": "slide"
    }
   },
   "source": [
    "12. Utilice la función `roc_curve` del módulo `metrics` de sklearn para trazar la curva ROC de su modelo. Para ello evalue la función `roc_curve` en `y_train_0_vs_1`, y  `y_train_0_vs_1_scores`)."
   ]
  },
  {
   "cell_type": "code",
   "execution_count": 75,
   "id": "1187090b",
   "metadata": {
    "slideshow": {
     "slide_type": "slide"
    }
   },
   "outputs": [],
   "source": [
    "from sklearn.metrics import roc_curve "
   ]
  },
  {
   "cell_type": "code",
   "execution_count": 76,
   "id": "889ed402",
   "metadata": {
    "slideshow": {
     "slide_type": "slide"
    }
   },
   "outputs": [],
   "source": [
    "fpr, tpr, thresholds = roc_curve(y_01_train, y_01_train_scores)"
   ]
  },
  {
   "cell_type": "code",
   "execution_count": 77,
   "id": "d4576551",
   "metadata": {
    "slideshow": {
     "slide_type": "slide"
    }
   },
   "outputs": [
    {
     "data": {
      "text/plain": [
       "(32, 32, 32)"
      ]
     },
     "execution_count": 77,
     "metadata": {},
     "output_type": "execute_result"
    }
   ],
   "source": [
    "len(fpr), len(tpr), len(thresholds)  "
   ]
  },
  {
   "cell_type": "code",
   "execution_count": 78,
   "id": "e71528bf",
   "metadata": {
    "slideshow": {
     "slide_type": "slide"
    }
   },
   "outputs": [
    {
     "data": {
      "text/plain": [
       "[<matplotlib.lines.Line2D at 0x215301f2ca0>]"
      ]
     },
     "execution_count": 78,
     "metadata": {},
     "output_type": "execute_result"
    },
    {
     "data": {
      "image/png": "[encoded data removed]",
      "text/plain": [
       "<Figure size 432x288 with 1 Axes>"
      ]
     },
     "metadata": {
      "needs_background": "light"
     },
     "output_type": "display_data"
    }
   ],
   "source": [
    "plt.plot(fpr, tpr)"
   ]
  },
  {
   "cell_type": "markdown",
   "id": "880f8b3b",
   "metadata": {
    "slideshow": {
     "slide_type": "slide"
    }
   },
   "source": [
    "13. Determine el área bajo la curva ROC utilizando la función `roc_auc_score` del módulo metrics de Sklearn. "
   ]
  },
  {
   "cell_type": "code",
   "execution_count": 79,
   "id": "f10627cc",
   "metadata": {
    "slideshow": {
     "slide_type": "slide"
    }
   },
   "outputs": [],
   "source": [
    "from sklearn.metrics import roc_auc_score "
   ]
  },
  {
   "cell_type": "code",
   "execution_count": 80,
   "id": "85ceeb0a",
   "metadata": {
    "slideshow": {
     "slide_type": "slide"
    }
   },
   "outputs": [
    {
     "data": {
      "text/plain": [
       "0.9999745687053581"
      ]
     },
     "execution_count": 80,
     "metadata": {},
     "output_type": "execute_result"
    }
   ],
   "source": [
    "roc_auc_score(y_01_train, y_01_train_scores)"
   ]
  },
  {
   "cell_type": "markdown",
   "id": "b809bfe7",
   "metadata": {
    "slideshow": {
     "slide_type": "slide"
    }
   },
   "source": [
    "# The ROC Curve"
   ]
  },
  {
   "cell_type": "markdown",
   "id": "159104b6",
   "metadata": {
    "slideshow": {
     "slide_type": "slide"
    }
   },
   "source": [
    "La curva Característica de Operación del Receptor (ROC) es otra herramienta común utilizada con clasificadores binarios."
   ]
  },
  {
   "cell_type": "markdown",
   "id": "20b5fe7f",
   "metadata": {
    "slideshow": {
     "slide_type": "slide"
    }
   },
   "source": [
    "Es muy similar a la curva de precisión/recuperación, pero en lugar de trazar precisión versus recuperación, la curva ROC representa la tasa de verdaderos positivos (TPR, otro nombre para recuperación) contra la tasa de falsos positivos (FPR)."
   ]
  },
  {
   "cell_type": "markdown",
   "id": "32ca8508",
   "metadata": {
    "slideshow": {
     "slide_type": "slide"
    }
   },
   "source": [
    "El FPR es la proporción de instancias negativas que se clasifican incorrectamente como positivas. "
   ]
  },
  {
   "cell_type": "markdown",
   "id": "17300c59",
   "metadata": {
    "slideshow": {
     "slide_type": "slide"
    }
   },
   "source": [
    "Es igual a 1: la tasa negativa verdadera (TNR), que es la proporción de instancias negativas que se clasifican correctamente como negativas."
   ]
  },
  {
   "cell_type": "markdown",
   "id": "1626bfe1",
   "metadata": {
    "slideshow": {
     "slide_type": "slide"
    }
   },
   "source": [
    "La TNR también se llama especificidad."
   ]
  },
  {
   "cell_type": "markdown",
   "id": "e330d4cf",
   "metadata": {
    "slideshow": {
     "slide_type": "slide"
    }
   },
   "source": [
    "Hence, the ROC curve plots sensitivity (recall) versus 1 – specificity."
   ]
  },
  {
   "cell_type": "markdown",
   "id": "e74e12e0",
   "metadata": {
    "slideshow": {
     "slide_type": "slide"
    }
   },
   "source": [
    "To plot the ROC curve, you first use the roc_curve() function to compute\n",
    "the TPR and FPR for various threshold values:"
   ]
  },
  {
   "cell_type": "markdown",
   "id": "3bb086cc",
   "metadata": {
    "slideshow": {
     "slide_type": "slide"
    }
   },
   "source": [
    "## Referencias  \n",
    "\n",
    "* La función `train_test_split`: https://scikit-learn.org/stable/modules/generated/sklearn.model_selection.train_test_split.html\n",
    "\n",
    "* La clase `LogisticRegression`: https://scikit-learn.org/stable/modules/generated/sklearn.linear_model.LogisticRegression.html\n",
    "\n",
    "* La función `roc_curve`: https://scikit-learn.org/stable/modules/generated/sklearn.metrics.roc_curve.html"
   ]
  },
  {
   "cell_type": "code",
   "execution_count": null,
   "id": "cf222f51",
   "metadata": {},
   "outputs": [],
   "source": []
  }
 ],
 "metadata": {
  "celltoolbar": "Slideshow",
  "kernelspec": {
   "display_name": "Python 3 (ipykernel)",
   "language": "python",
   "name": "python3"
  },
  "language_info": {
   "codemirror_mode": {
    "name": "ipython",
    "version": 3
   },
   "file_extension": ".py",
   "mimetype": "text/x-python",
   "name": "python",
   "nbconvert_exporter": "python",
   "pygments_lexer": "ipython3",
   "version": "3.9.7"
  },
  "rise": {
   "theme": "sky"
  }
 },
 "nbformat": 4,
 "nbformat_minor": 5
}
