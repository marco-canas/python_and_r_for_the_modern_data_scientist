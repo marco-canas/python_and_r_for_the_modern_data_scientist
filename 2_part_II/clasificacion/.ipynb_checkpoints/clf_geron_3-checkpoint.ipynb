{
 "cells": [
  {
   "cell_type": "markdown",
   "id": "44b65e77",
   "metadata": {},
   "source": []
  },
  {
   "cell_type": "markdown",
   "id": "998a6f0a",
   "metadata": {},
   "source": [
    "3. Aborde el conjunto de datos del Titanic. Un gran lugar para comenzar es Kaggle.\n"
   ]
  },
  {
   "cell_type": "markdown",
   "id": "ca4f2431",
   "metadata": {},
   "source": [
    "# Solución"
   ]
  },
  {
   "cell_type": "code",
   "execution_count": null,
   "id": "a56dedab",
   "metadata": {},
   "outputs": [],
   "source": []
  },
  {
   "cell_type": "code",
   "execution_count": null,
   "id": "a5075cb3",
   "metadata": {},
   "outputs": [],
   "source": []
  },
  {
   "cell_type": "code",
   "execution_count": null,
   "id": "a1f68724",
   "metadata": {},
   "outputs": [],
   "source": []
  }
 ],
 "metadata": {
  "kernelspec": {
   "display_name": "Python 3 (ipykernel)",
   "language": "python",
   "name": "python3"
  },
  "language_info": {
   "codemirror_mode": {
    "name": "ipython",
    "version": 3
   },
   "file_extension": ".py",
   "mimetype": "text/x-python",
   "name": "python",
   "nbconvert_exporter": "python",
   "pygments_lexer": "ipython3",
   "version": "3.9.7"
  }
 },
 "nbformat": 4,
 "nbformat_minor": 5
}
