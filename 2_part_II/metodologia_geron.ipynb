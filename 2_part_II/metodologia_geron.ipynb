{
 "cells": [
  {
   "cell_type": "markdown",
   "id": "d508ba4c",
   "metadata": {
    "slideshow": {
     "slide_type": "slide"
    }
   },
   "source": [
    "<table align=\"left\">\n",
    "  <td>\n",
    "    <a href=\"https://colab.research.google.com/github/marco-canas/Machine-Learning/blob/main/ML/classes/class_march_3/class_march_3.ipynb\" target=\"_parent\"><img src=\"https://colab.research.google.com/assets/colab-badge.svg\" alt=\"Open In Colab\"/></a>\n",
    "  </td>\n",
    "</table>"
   ]
  },
  {
   "cell_type": "markdown",
   "id": "d922a072",
   "metadata": {
    "slideshow": {
     "slide_type": "slide"
    }
   },
   "source": [
    "# Metodología Gerón"
   ]
  },
  {
   "cell_type": "markdown",
   "id": "bdbd98ae",
   "metadata": {
    "slideshow": {
     "slide_type": "slide"
    }
   },
   "source": [
    "1. Justificar si la tarea es de regresión o clasificación"
   ]
  },
  {
   "cell_type": "markdown",
   "id": "e3337cf5",
   "metadata": {
    "slideshow": {
     "slide_type": "slide"
    }
   },
   "source": [
    "* Justificar de que tipo de regresión o de clasificación es la tarea a realizar. "
   ]
  },
  {
   "cell_type": "markdown",
   "id": "ad76adea",
   "metadata": {
    "slideshow": {
     "slide_type": "slide"
    }
   },
   "source": [
    "* Obtener los datos y constituirlos como un DataFrame de Pandas. "
   ]
  },
  {
   "cell_type": "markdown",
   "id": "10832cf7",
   "metadata": {
    "slideshow": {
     "slide_type": "slide"
    }
   },
   "source": [
    "* Visualizar las primeras instancias y las últimas utilizando los métodos `.head()` y `.tail()`"
   ]
  },
  {
   "cell_type": "markdown",
   "id": "1d1000ef",
   "metadata": {
    "slideshow": {
     "slide_type": "slide"
    }
   },
   "source": [
    "* Elaborar sintesis tabulares de los datos utilizando los métodos  `.info()` y `.describe()`. "
   ]
  },
  {
   "cell_type": "markdown",
   "id": "48e7769f",
   "metadata": {
    "slideshow": {
     "slide_type": "slide"
    }
   },
   "source": [
    "* De la utilización del método `.tail()` puede obtener:  \n",
    "  - Qué las variables de tipo `objet` son variables categóricas.\n",
    "  - Descubrir que atributos tienen valores faltantes. "
   ]
  },
  {
   "cell_type": "markdown",
   "id": "b011d9c3",
   "metadata": {
    "slideshow": {
     "slide_type": "slide"
    }
   },
   "source": [
    "De la observación con el método `describe()` puede obtener:\n",
    "\n",
    "* los atributos con datos faltantes\n",
    "* la necesidad o no de escalamiento de los datos al observar los rangos de cada variable "
   ]
  },
  {
   "cell_type": "code",
   "execution_count": null,
   "id": "1591c609",
   "metadata": {
    "slideshow": {
     "slide_type": "slide"
    }
   },
   "outputs": [],
   "source": []
  },
  {
   "cell_type": "code",
   "execution_count": null,
   "id": "b8cf406d",
   "metadata": {
    "slideshow": {
     "slide_type": "slide"
    }
   },
   "outputs": [],
   "source": []
  },
  {
   "cell_type": "code",
   "execution_count": null,
   "id": "23074614",
   "metadata": {
    "slideshow": {
     "slide_type": "slide"
    }
   },
   "outputs": [],
   "source": []
  },
  {
   "cell_type": "code",
   "execution_count": null,
   "id": "40661ef4",
   "metadata": {
    "slideshow": {
     "slide_type": "slide"
    }
   },
   "outputs": [],
   "source": []
  },
  {
   "cell_type": "code",
   "execution_count": null,
   "id": "62cf9257",
   "metadata": {
    "slideshow": {
     "slide_type": "slide"
    }
   },
   "outputs": [],
   "source": []
  },
  {
   "cell_type": "code",
   "execution_count": null,
   "id": "ab862de2",
   "metadata": {
    "slideshow": {
     "slide_type": "slide"
    }
   },
   "outputs": [],
   "source": []
  },
  {
   "cell_type": "code",
   "execution_count": null,
   "id": "dca4064c",
   "metadata": {
    "slideshow": {
     "slide_type": "slide"
    }
   },
   "outputs": [],
   "source": []
  },
  {
   "cell_type": "code",
   "execution_count": null,
   "id": "03b6ffde",
   "metadata": {},
   "outputs": [],
   "source": []
  }
 ],
 "metadata": {
  "celltoolbar": "Slideshow",
  "kernelspec": {
   "display_name": "Python 3 (ipykernel)",
   "language": "python",
   "name": "python3"
  },
  "language_info": {
   "codemirror_mode": {
    "name": "ipython",
    "version": 3
   },
   "file_extension": ".py",
   "mimetype": "text/x-python",
   "name": "python",
   "nbconvert_exporter": "python",
   "pygments_lexer": "ipython3",
   "version": "3.9.7"
  },
  "rise": {
   "theme": "sky"
  }
 },
 "nbformat": 4,
 "nbformat_minor": 5
}
