{
 "cells": [
  {
   "cell_type": "markdown",
   "metadata": {
    "slideshow": {
     "slide_type": "slide"
    }
   },
   "source": [
    "<table align=\"left\">\n",
    "  <td>\n",
    "    <a href=\"https://colab.research.google.com/github/marco-canas/Machine-Learning/blob/main/ML/classes/class_march_3/class_march_3.ipynb\" target=\"_parent\"><img src=\"https://colab.research.google.com/assets/colab-badge.svg\" alt=\"Open In Colab\"/></a>\n",
    "  </td>\n",
    "</table>"
   ]
  },
  {
   "cell_type": "markdown",
   "metadata": {
    "slideshow": {
     "slide_type": "slide"
    }
   },
   "source": [
    "# Predicción de calidad de vinos"
   ]
  },
  {
   "cell_type": "code",
   "execution_count": null,
   "metadata": {
    "slideshow": {
     "slide_type": "slide"
    }
   },
   "outputs": [],
   "source": [
    "#Librerías para análisis preliminar\n",
    "import pandas as pd\n",
    "import numpy as np\n",
    "import matplotlib.pyplot as plt"
   ]
  },
  {
   "cell_type": "code",
   "execution_count": null,
   "metadata": {
    "slideshow": {
     "slide_type": "slide"
    }
   },
   "outputs": [],
   "source": [
    "vino=pd.read_csv(\"winequality-red_grupo_6_castrillon.csv\") #Dataset"
   ]
  },
  {
   "cell_type": "markdown",
   "metadata": {
    "slideshow": {
     "slide_type": "slide"
    }
   },
   "source": [
    "# Trabajo de regresión "
   ]
  },
  {
   "cell_type": "markdown",
   "metadata": {
    "slideshow": {
     "slide_type": "slide"
    }
   },
   "source": [
    "### Integrantes grupo seis"
   ]
  },
  {
   "cell_type": "markdown",
   "metadata": {
    "slideshow": {
     "slide_type": "slide"
    }
   },
   "source": [
    "* Andrés Orlando Castrillón López **Doc**: 1036646831\n",
    "* Davison Andrés Cuervo Bedoya **Doc**: 1020468289 \n",
    "* Mateo Loaiza Agudelo **Doc**: 1000661457"
   ]
  },
  {
   "cell_type": "markdown",
   "metadata": {},
   "source": [
    "### ¿Regresión o clasificación?"
   ]
  },
  {
   "cell_type": "markdown",
   "metadata": {},
   "source": [
    "Es un problema de regresión, ya que se quiere predecir la calidad del vino a partir de determinadas variables."
   ]
  },
  {
   "cell_type": "markdown",
   "metadata": {
    "slideshow": {
     "slide_type": "slide"
    }
   },
   "source": [
    "### Tipo de regresión"
   ]
  },
  {
   "cell_type": "markdown",
   "metadata": {
    "slideshow": {
     "slide_type": "slide"
    }
   },
   "source": [
    "Se considerá inicialmente un modelo de regresión lineal (LinearRegression). "
   ]
  },
  {
   "cell_type": "markdown",
   "metadata": {
    "slideshow": {
     "slide_type": "slide"
    }
   },
   "source": [
    "Se medirá su desempeño y posteriormente se comparará con el desempeño de otro modelos como el árbol de decisión (DecisionTreeRegressor) y el bosque aleatorio (RandomForestRegressor), con el fin de elegir el modelo y en base a éste generar conclusiones."
   ]
  },
  {
   "cell_type": "markdown",
   "metadata": {
    "slideshow": {
     "slide_type": "slide"
    }
   },
   "source": [
    "### Procedencia de los datos"
   ]
  },
  {
   "cell_type": "markdown",
   "metadata": {
    "slideshow": {
     "slide_type": "slide"
    }
   },
   "source": [
    "La base de datos tomada de internet, específicamente, de kaggle.\n",
    "* **Fuente** : https://www.kaggle.com/datasets/uciml/red-wine-quality-cortez-et-al-2009/code"
   ]
  },
  {
   "cell_type": "markdown",
   "metadata": {
    "slideshow": {
     "slide_type": "slide"
    }
   },
   "source": [
    "#### Descripción de las variables \n",
    "\n",
    "* **Acidez fija**: la mayoría de los ácidos del vino son fijos o no volátiles (no se evaporan fácilmente)\n",
    "* **Acidez volátil**: la cantidad de ácido acético en el vino, que en niveles demasiado altos puede dar lugar a un sabor desagradable a vinagre\n",
    "* **Ácido cítrico**: el ácido cítrico, que se encuentra en pequeñas cantidades, puede añadir \"frescura\" y sabor a los vinos.\n",
    "* **Azúcar residual**: la cantidad de azúcar que queda después de la fermentación, es raro encontrar vinos con menos de 1 gramo/litro y los vinos con más de 45 gramos/litro se consideran dulces\n",
    "* **Cloruros**: la cantidad de sal en el vino\n",
    "* **Dióxido de azufre libre**: la forma libre de SO2 existe en equilibrio entre el SO2 molecular (como gas disuelto) y el ion bisulfito; impide el crecimiento microbiano y la oxidación del vino\n",
    "**Dióxido de azufre total**: cantidad de formas libres y ligadas de S02; en bajas concentraciones, el SO2 es casi indetectable en el vino, pero en concentraciones de SO2 libre superiores a 50 ppm, el SO2 se hace evidente en la nariz y el sabor del vino\n",
    "* **Densidad**: la densidad se aproxima a la del agua en función del porcentaje de alcohol y del contenido de azúcar\n",
    "* **pH**: describe lo ácido o básico que es un vino en una escala de 0 (muy ácido) a 14 (muy básico); la mayoría de los vinos se sitúan entre 3 y 4 en la escala de pH\n",
    "* **Sulfatos**: un aditivo del vino que puede contribuir a los niveles de gas de dióxido de azufre (S02), que actúa como antimicrobiano y antioxidante\n",
    "* **Alcohol**: el porcentaje de alcohol del vino\n",
    "* **Calidad**: variable de salida (basada en datos sensoriales, puntuación entre 0 y 10) **Variable objetivo**"
   ]
  },
  {
   "cell_type": "markdown",
   "metadata": {
    "slideshow": {
     "slide_type": "slide"
    }
   },
   "source": [
    "### Función objetivo"
   ]
  },
  {
   "cell_type": "markdown",
   "metadata": {
    "slideshow": {
     "slide_type": "slide"
    }
   },
   "source": [
    "El modelo medelo a comtemplar es el siguiente \n",
    "$$ h(x)=\\sum_{i=0}^{11} W_{i}X_{i}$$"
   ]
  },
  {
   "cell_type": "markdown",
   "metadata": {
    "slideshow": {
     "slide_type": "slide"
    }
   },
   "source": [
    "donde $X_{0}=1$ y $W \\in R^{12}$"
   ]
  },
  {
   "cell_type": "markdown",
   "metadata": {
    "slideshow": {
     "slide_type": "slide"
    }
   },
   "source": [
    "Buen uso de la notación vectorial para la descripción de la modelación"
   ]
  },
  {
   "cell_type": "markdown",
   "metadata": {
    "slideshow": {
     "slide_type": "slide"
    }
   },
   "source": [
    "### Exploración gráfica"
   ]
  },
  {
   "cell_type": "code",
   "execution_count": null,
   "metadata": {
    "slideshow": {
     "slide_type": "slide"
    }
   },
   "outputs": [],
   "source": [
    "vino.hist(figsize=(10,14))\n",
    "plt.show()"
   ]
  },
  {
   "cell_type": "markdown",
   "metadata": {
    "slideshow": {
     "slide_type": "slide"
    }
   },
   "source": [
    "Con ayuda de los histogramas anteriores, se puede ver que los vinos tienen una acidez fija promedio de 7.5, también se registra una acidez volátil promedio de 0.5, se tiene además que la acidez cítrica de la mayoría de vinos está alrededor de 0."
   ]
  },
  {
   "cell_type": "markdown",
   "metadata": {
    "slideshow": {
     "slide_type": "slide"
    }
   },
   "source": [
    "*Prefiero hablar de se presenta mayoritariamente en vez de se presenta en promedio, dado que los histogramas nos dan frecuencias no promedios.*"
   ]
  },
  {
   "cell_type": "markdown",
   "metadata": {
    "slideshow": {
     "slide_type": "slide"
    }
   },
   "source": [
    "Por otro lado, podemos notar la densiadad y el pH tienen una distribución aproximadamente normal y como era esperarse, la variable calidad tiene un comportamieto bastante característico, pues toma valores enteros donde promedio está entre 5 y 6, en general, se puede decir que la calidad de estos vinos no es muy buena, ya que un vino  se considera sobresaliente cuando tiene una puntuación mayor o igual a 6.5.\n",
    " "
   ]
  },
  {
   "cell_type": "code",
   "execution_count": null,
   "metadata": {
    "slideshow": {
     "slide_type": "slide"
    }
   },
   "outputs": [],
   "source": [
    "vino.info()"
   ]
  },
  {
   "cell_type": "markdown",
   "metadata": {
    "slideshow": {
     "slide_type": "slide"
    }
   },
   "source": [
    "Podemos ver que ninguna de las variables en el conjunto de datos tiene ausencia de información. Se maneja en cada caso 1599 registros donde todas las variables son de tipo flotante excepto la variable \"quality\" (calidad) que es de tipo entero."
   ]
  },
  {
   "cell_type": "code",
   "execution_count": null,
   "metadata": {
    "slideshow": {
     "slide_type": "slide"
    }
   },
   "outputs": [],
   "source": [
    "vino.rename(columns = {\"fixed acidity\":\"acidez fija\", \"volatile acidity\":\"acidez volatil\",\\\n",
    "                        \"citric acid\":\" acido citrico\",\"residual sugar\":\"azucar residual\",\\\n",
    "                        \"chlorides\":\"cloruros\", \"free sulfur dioxide\":\"dioxido de azufre libre\",\\\n",
    "                        \"total sulfur dioxide\":\" dioxido de azufre total\", \"density\":\"densidad\",\\\n",
    "                        \"pH\":\"pH\", \"sulphates\":\"sulfatos\", \" alcohol\":\" alcohol\", \"quality\":\"calidad\"\n",
    "                        }, inplace = True)"
   ]
  },
  {
   "cell_type": "markdown",
   "metadata": {
    "slideshow": {
     "slide_type": "slide"
    }
   },
   "source": [
    "Renombrarmos las columnas en español para mejor manejo del dataset."
   ]
  },
  {
   "cell_type": "code",
   "execution_count": null,
   "metadata": {
    "slideshow": {
     "slide_type": "slide"
    }
   },
   "outputs": [],
   "source": [
    "vino.head() #Primeros 5 registros del dataset con el cambio de nombres a español"
   ]
  },
  {
   "cell_type": "markdown",
   "metadata": {
    "slideshow": {
     "slide_type": "slide"
    }
   },
   "source": [
    "### Análisis de correlaciones"
   ]
  },
  {
   "cell_type": "code",
   "execution_count": null,
   "metadata": {
    "slideshow": {
     "slide_type": "slide"
    }
   },
   "outputs": [],
   "source": [
    "vino.corr()[\"calidad\"].sort_values(ascending=False)"
   ]
  },
  {
   "cell_type": "markdown",
   "metadata": {
    "slideshow": {
     "slide_type": "slide"
    }
   },
   "source": [
    "En el resumen de correlaciones anterior podemos observar que las variables que mayor influencia lineal positiva tienen sobre la calidad del vino son:\n",
    "* alcohol\n",
    "* sulfatos\n",
    "* ácido cítrico\n",
    "\n",
    "con una influencia lineal negativa tenemos:\n",
    "* densidad\n",
    "* dióxido de azufre total\n",
    "* acidez volátil\n",
    "\n",
    "Dado que el espacio de atributos es pequeño, decidimos trabajar con todo el conjunto."
   ]
  },
  {
   "cell_type": "markdown",
   "metadata": {
    "slideshow": {
     "slide_type": "slide"
    }
   },
   "source": [
    "*Buena inferencia*"
   ]
  },
  {
   "cell_type": "markdown",
   "metadata": {
    "slideshow": {
     "slide_type": "slide"
    }
   },
   "source": [
    "### Separación inicial del conjunto de datos"
   ]
  },
  {
   "cell_type": "markdown",
   "metadata": {
    "slideshow": {
     "slide_type": "slide"
    }
   },
   "source": [
    "Se separan los datos tomando una partición de 80% para entrenamiento y 20% para testeo."
   ]
  },
  {
   "cell_type": "code",
   "execution_count": null,
   "metadata": {
    "slideshow": {
     "slide_type": "slide"
    }
   },
   "outputs": [],
   "source": [
    "from sklearn.model_selection import train_test_split \n",
    "vino_train, vino_test = train_test_split(vino, test_size=0.2, random_state=513)"
   ]
  },
  {
   "cell_type": "markdown",
   "metadata": {
    "slideshow": {
     "slide_type": "slide"
    }
   },
   "source": [
    "### Función para automatizar imputación y estandarización de datos"
   ]
  },
  {
   "cell_type": "code",
   "execution_count": null,
   "metadata": {
    "slideshow": {
     "slide_type": "slide"
    }
   },
   "outputs": [],
   "source": [
    "from pandas.core.common import standardize_mapping\n",
    "from sklearn.pipeline import Pipeline\n",
    "from sklearn.preprocessing import StandardScaler\n",
    "from sklearn.impute import SimpleImputer\n",
    "\n",
    "pipeline_num=Pipeline([\n",
    "                         (\"imputar\", SimpleImputer(strategy= \"median\")),\n",
    "                         (\"estandarizar\", StandardScaler())\n",
    "                         ])"
   ]
  },
  {
   "cell_type": "markdown",
   "metadata": {
    "slideshow": {
     "slide_type": "slide"
    }
   },
   "source": [
    "*Note que para usted no es necesario imputar la clase SimpleImputer pues ya estableció que no hay datos faltantes*"
   ]
  },
  {
   "cell_type": "code",
   "execution_count": null,
   "metadata": {},
   "outputs": [],
   "source": [
    "vino_train_num=vino_train.drop(\"calidad\", axis = 1) #Base de datos de entrenamiento exceptuando la variable objetivo (calidad)\n",
    "vino_labels = vino_train[[\"calidad\"]] #[[]] para que v_labels sea 2D"
   ]
  },
  {
   "cell_type": "markdown",
   "metadata": {
    "slideshow": {
     "slide_type": "slide"
    }
   },
   "source": [
    "El pipeline creado tiene el objetivo de imputar si hay ausencia de datos y de estandarizar bases de datos futuras.\n",
    "Dado que el dataset no tiene datos faltantes no es necesario usar el pipeline, por tanto, se estandarizarán los datos de manera directa."
   ]
  },
  {
   "cell_type": "markdown",
   "metadata": {
    "slideshow": {
     "slide_type": "slide"
    }
   },
   "source": [
    "*Buena justificación del uso de SimpleImputer* Los felicito. "
   ]
  },
  {
   "cell_type": "markdown",
   "metadata": {
    "slideshow": {
     "slide_type": "slide"
    }
   },
   "source": [
    "### Estandarización de los datos"
   ]
  },
  {
   "cell_type": "code",
   "execution_count": null,
   "metadata": {
    "slideshow": {
     "slide_type": "slide"
    }
   },
   "outputs": [],
   "source": [
    "stan_scal=StandardScaler()\n",
    "vino_train_num_prep=stan_scal.fit_transform(vino_train_num)"
   ]
  },
  {
   "cell_type": "markdown",
   "metadata": {
    "slideshow": {
     "slide_type": "fragment"
    }
   },
   "source": [
    "*Si ya incluyó la estandarización en la automatización con el Pipeline, no es necesario hacerlo por fuera*"
   ]
  },
  {
   "cell_type": "markdown",
   "metadata": {
    "slideshow": {
     "slide_type": "slide"
    }
   },
   "source": [
    "### Entrenamiento y selección de modelos"
   ]
  },
  {
   "cell_type": "code",
   "execution_count": null,
   "metadata": {
    "slideshow": {
     "slide_type": "slide"
    }
   },
   "outputs": [],
   "source": [
    "#Liberías para selección de modelos\n",
    "from sklearn.linear_model import LinearRegression\n",
    "from sklearn.tree import DecisionTreeRegressor \n",
    "from sklearn.ensemble import RandomForestRegressor"
   ]
  },
  {
   "cell_type": "code",
   "execution_count": null,
   "metadata": {
    "slideshow": {
     "slide_type": "slide"
    }
   },
   "outputs": [],
   "source": [
    "#Instanciamos los tres modelos que consideramos\n",
    "r_lineal = LinearRegression()  #Modelo de regresión de lineal\n",
    "r_tree = DecisionTreeRegressor() #Regresión con árbol de decisión\n",
    "r_forest = RandomForestRegressor() #Regresión con bosque aleatorio"
   ]
  },
  {
   "cell_type": "code",
   "execution_count": null,
   "metadata": {
    "slideshow": {
     "slide_type": "slide"
    }
   },
   "outputs": [],
   "source": [
    "vino_labels "
   ]
  },
  {
   "cell_type": "code",
   "execution_count": null,
   "metadata": {
    "slideshow": {
     "slide_type": "slide"
    }
   },
   "outputs": [],
   "source": [
    "#Ajustamos los modelos propuestos\n",
    "r_lineal.fit(vino_train_num_prep, vino_labels)\n",
    "r_tree.fit(vino_train_num_prep, vino_labels)\n",
    "r_forest.fit(vino_train_num_prep, vino_labels.values.ravel())"
   ]
  },
  {
   "cell_type": "markdown",
   "metadata": {
    "slideshow": {
     "slide_type": "slide"
    }
   },
   "source": [
    "*Note que las etiquetas las debe convertir a arreglos de numpy aplanados para entenar el modelo RandomForestRegresor*"
   ]
  },
  {
   "cell_type": "markdown",
   "metadata": {
    "slideshow": {
     "slide_type": "slide"
    }
   },
   "source": [
    "### Desempeño de los modelos"
   ]
  },
  {
   "cell_type": "markdown",
   "metadata": {
    "slideshow": {
     "slide_type": "slide"
    }
   },
   "source": [
    "Para medir el desempeño de los modelos vamos a utilizar el criterio de validación cruzada."
   ]
  },
  {
   "cell_type": "code",
   "execution_count": null,
   "metadata": {
    "slideshow": {
     "slide_type": "slide"
    }
   },
   "outputs": [],
   "source": [
    "from sklearn.model_selection import cross_val_score #Criterio de validación cruzada"
   ]
  },
  {
   "cell_type": "code",
   "execution_count": null,
   "metadata": {
    "slideshow": {
     "slide_type": "slide"
    }
   },
   "outputs": [],
   "source": [
    "%%time \n",
    "score_tree = np.sqrt(-cross_val_score(r_tree, vino_train_num_prep, vino_labels, cv = 13,\\\n",
    "                             scoring = 'neg_mean_squared_error'))\n",
    "\n",
    "score_lineal = np.sqrt(-cross_val_score(r_lineal, vino_train_num_prep, vino_labels, cv = 13,\\\n",
    "                              scoring = 'neg_mean_squared_error'))\n",
    "\n",
    "score_forest = np.sqrt(-cross_val_score(r_forest, vino_train_num_prep,\\\n",
    "                                        vino_labels.values.ravel(), cv = 13,\\\n",
    "                               scoring = 'neg_mean_squared_error'))"
   ]
  },
  {
   "cell_type": "code",
   "execution_count": null,
   "metadata": {
    "slideshow": {
     "slide_type": "slide"
    }
   },
   "outputs": [],
   "source": [
    "score_lineal.mean(), score_tree.mean(), score_forest.mean()"
   ]
  },
  {
   "cell_type": "markdown",
   "metadata": {
    "slideshow": {
     "slide_type": "slide"
    }
   },
   "source": [
    "Dados los promedios de las puntuaciones de los criterios de validación cruzada, se tiene que el bosque aleatorio es modelo que mejor desempeño tiene, no obstante, el modelo regresión lineal también podría ser bueno dado que la media de las puntaciones es muy similar a la del bosque aleatorio."
   ]
  },
  {
   "cell_type": "markdown",
   "metadata": {
    "slideshow": {
     "slide_type": "slide"
    }
   },
   "source": [
    "*Estoy de ecuerdo con su inferencia, ya que el mejor modelo en este caso es el que tenga menor promedio de error cuadrático*"
   ]
  },
  {
   "cell_type": "code",
   "execution_count": null,
   "metadata": {
    "slideshow": {
     "slide_type": "slide"
    }
   },
   "outputs": [],
   "source": [
    "from sklearn.model_selection import GridSearchCV"
   ]
  },
  {
   "cell_type": "code",
   "execution_count": null,
   "metadata": {
    "slideshow": {
     "slide_type": "slide"
    }
   },
   "outputs": [],
   "source": [
    "param_grid_forest = [\n",
    "            { 'max_features': [2, 4, 6, 8, 10], 'n_estimators': [3, 10, 30, 40, 50, 60]},\n",
    "            {'bootstrap': [False], 'n_estimators': [3, 10], 'max_features': [2, 3, 4]},\n",
    "             ]"
   ]
  },
  {
   "cell_type": "code",
   "execution_count": null,
   "metadata": {
    "slideshow": {
     "slide_type": "slide"
    }
   },
   "outputs": [],
   "source": [
    "\n",
    "grid_search_forest = GridSearchCV(r_forest, param_grid_forest, cv=10, \\\n",
    "                                  scoring='neg_mean_squared_error',\\\n",
    "                           return_train_score=True)\n",
    "\n"
   ]
  },
  {
   "cell_type": "code",
   "execution_count": null,
   "metadata": {
    "slideshow": {
     "slide_type": "slide"
    }
   },
   "outputs": [],
   "source": [
    "%%time \n",
    "\n",
    "grid_search_forest.fit(vino_train_num_prep, vino_labels.values.ravel())"
   ]
  },
  {
   "cell_type": "code",
   "execution_count": null,
   "metadata": {
    "slideshow": {
     "slide_type": "slide"
    }
   },
   "outputs": [],
   "source": [
    "grid_search_forest.best_params_\n"
   ]
  },
  {
   "cell_type": "code",
   "execution_count": null,
   "metadata": {
    "slideshow": {
     "slide_type": "slide"
    }
   },
   "outputs": [],
   "source": [
    "mejor_modelo_forest = grid_search_forest.best_estimator_\n"
   ]
  },
  {
   "cell_type": "markdown",
   "metadata": {
    "slideshow": {
     "slide_type": "slide"
    }
   },
   "source": [
    "*Note que el método `.score()` asociado a la clase randomForestRegressor retorna es el coeficiente de determinación R2 y esta no es la medida de desempeño que usted eligió en el entrenamiento*"
   ]
  },
  {
   "cell_type": "code",
   "execution_count": null,
   "metadata": {
    "slideshow": {
     "slide_type": "slide"
    }
   },
   "outputs": [],
   "source": [
    "np.sqrt(-cross_val_score(mejor_modelo_forest, vino_train_num_prep, vino_labels.values.ravel(), \\\n",
    "                         cv = 10,\\\n",
    "                        scoring = 'neg_mean_squared_error')).mean() "
   ]
  },
  {
   "cell_type": "markdown",
   "metadata": {
    "slideshow": {
     "slide_type": "slide"
    }
   },
   "source": [
    "Podemos notar que el modelo arrojado con la grilla de parámetros, es decir, el modelo RandomForestRegressor(max_features=2, n_estimators=40) cumple con que es el mejor modelo posible del random forest, dado que obtuvimos un error promedio de 0.5928069248291751."
   ]
  },
  {
   "cell_type": "markdown",
   "metadata": {
    "slideshow": {
     "slide_type": "slide"
    }
   },
   "source": [
    "### Desempeño de los datos testear y predicciones"
   ]
  },
  {
   "cell_type": "code",
   "execution_count": null,
   "metadata": {
    "slideshow": {
     "slide_type": "slide"
    }
   },
   "outputs": [],
   "source": [
    "vino_test.head()"
   ]
  },
  {
   "cell_type": "code",
   "execution_count": null,
   "metadata": {
    "slideshow": {
     "slide_type": "slide"
    }
   },
   "outputs": [],
   "source": [
    "vino_test_num=vino_test.drop(\"calidad\", axis = 1) #Base de datos de testeo exceptuando la variable objetivo (calidad)\n",
    "vino_labels_test = vino_test[[\"calidad\"]] #[[]] para que v_labels sea 2D"
   ]
  },
  {
   "cell_type": "code",
   "execution_count": null,
   "metadata": {},
   "outputs": [],
   "source": [
    "stan_scal_test=StandardScaler()\n",
    "vino_test_num_prep=stan_scal_test.fit_transform(vino_test_num)"
   ]
  },
  {
   "cell_type": "code",
   "execution_count": null,
   "metadata": {},
   "outputs": [],
   "source": [
    "from sklearn.metrics import mean_squared_error \n",
    "vino_test_predicciones=mejor_modelo.predict(vino_test_num_prep)\n",
    "vino_test_predicciones[:5]"
   ]
  },
  {
   "cell_type": "code",
   "execution_count": null,
   "metadata": {},
   "outputs": [],
   "source": [
    "np.sqrt(mean_squared_error(vino_labels_test, vino_test_predicciones))"
   ]
  },
  {
   "cell_type": "markdown",
   "metadata": {},
   "source": [
    "Estandarizando el conjunto de testeo y calculando las predicciones con estos datos, podemos notar que hay una predicción bastante aceptable ya que en las primeras 5 predicciones solo falló en una."
   ]
  },
  {
   "cell_type": "markdown",
   "metadata": {
    "slideshow": {
     "slide_type": "slide"
    }
   },
   "source": [
    "## Referencias  \n",
    "\n",
    "* La clase RandomForestRegressor:  https://scikit-learn.org/stable/modules/generated/sklearn.ensemble.RandomForestRegressor.html\n",
    "\n",
    "* La clase DecisionTreeRegressor: https://scikit-learn.org/stable/modules/generated/sklearn.tree.DecisionTreeRegressor.html  "
   ]
  },
  {
   "cell_type": "code",
   "execution_count": null,
   "metadata": {},
   "outputs": [],
   "source": []
  }
 ],
 "metadata": {
  "celltoolbar": "Slideshow",
  "interpreter": {
   "hash": "2e3c1e8da6e821b0193601da5a0e541c0efda9704da45b6b820f5f4c317f2def"
  },
  "kernelspec": {
   "display_name": "Python 3 (ipykernel)",
   "language": "python",
   "name": "python3"
  },
  "language_info": {
   "codemirror_mode": {
    "name": "ipython",
    "version": 3
   },
   "file_extension": ".py",
   "mimetype": "text/x-python",
   "name": "python",
   "nbconvert_exporter": "python",
   "pygments_lexer": "ipython3",
   "version": "3.9.7"
  }
 },
 "nbformat": 4,
 "nbformat_minor": 2
}
