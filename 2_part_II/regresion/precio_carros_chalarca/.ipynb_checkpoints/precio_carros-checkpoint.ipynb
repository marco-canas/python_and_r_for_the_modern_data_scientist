{
 "cells": [
  {
   "cell_type": "markdown",
   "id": "c2bcc4bc",
   "metadata": {
    "slideshow": {
     "slide_type": "slide"
    }
   },
   "source": [
    "<table align=\"left\">\n",
    "  <td>\n",
    "    <a href=\"https://colab.research.google.com/github/marco-canas/Machine-Learning/blob/main/ML/classes/class_march_3/class_march_3.ipynb\" target=\"_parent\"><img src=\"https://colab.research.google.com/assets/colab-badge.svg\" alt=\"Open In Colab\"/></a>\n",
    "  </td>\n",
    "</table>"
   ]
  },
  {
   "cell_type": "markdown",
   "id": "74650427",
   "metadata": {
    "slideshow": {
     "slide_type": "slide"
    }
   },
   "source": [
    "# REGRESIÓN LINEAL"
   ]
  },
  {
   "cell_type": "markdown",
   "id": "e0eb84ec",
   "metadata": {
    "slideshow": {
     "slide_type": "slide"
    }
   },
   "source": [
    "## Objetivo:   \n",
    "\n",
    "Predecir el costo de los autos de segunda mano en función de condiciones y/o caracteristicas del automovil que pueden afectar su precio de venta"
   ]
  },
  {
   "cell_type": "markdown",
   "id": "996a2360",
   "metadata": {
    "slideshow": {
     "slide_type": "slide"
    }
   },
   "source": [
    "#### Fuente: https://www.kaggle.com/datasets/mayankpatel14/second-hand-used-cars-data-set-linear-regression?resource=download"
   ]
  },
  {
   "cell_type": "markdown",
   "id": "adcabcdb",
   "metadata": {
    "slideshow": {
     "slide_type": "slide"
    }
   },
   "source": [
    "## Contenido Dataset: \n",
    "\n",
    "<ul>\n",
    "<li>v.id</li>\n",
    "<li>on road old</li>\n",
    "<li>on road now</li>\n",
    "<li>years</li>\n",
    "<li>km</li>\n",
    "<li>rating</li>\n",
    "<li>condition</li>\n",
    "<li>economy</li>\n",
    "<li>top speed</li>    \n",
    "<li>hp</li>\n",
    "<li>torque</li>\n",
    "<li>current price = Variable Respuesta</li>        \n",
    "</ul>"
   ]
  },
  {
   "cell_type": "markdown",
   "id": "c41af946",
   "metadata": {
    "slideshow": {
     "slide_type": "slide"
    }
   },
   "source": [
    "## Importe de Paquetes"
   ]
  },
  {
   "cell_type": "code",
   "execution_count": null,
   "id": "9a5ddf99",
   "metadata": {
    "slideshow": {
     "slide_type": "slide"
    }
   },
   "outputs": [],
   "source": [
    "### Tratamiento de Datos\n",
    "\n",
    "import numpy as np\n",
    "import pandas as pd\n",
    "\n",
    "### Gráficos\n",
    "\n",
    "import matplotlib.pyplot as plt\n",
    "from matplotlib import style\n",
    "import seaborn as sns\n",
    "\n",
    "### Preprocesado y modelado\n",
    "from scipy.stats import pearsonr\n",
    "\n",
    "# dividir en entrenamiento y testeo y realizar la validación\n",
    "from sklearn.model_selection import train_test_split\n",
    "from sklearn.model_selection import cross_val_score\n",
    "from sklearn.model_selection import GridSearchCV\n",
    "\n",
    "# para la selección de modelos \n",
    "from sklearn.linear_model import LinearRegression\n",
    "from sklearn.ensemble import RandomForestRegressor\n",
    "from sklearn.neighbors import KNeighborsRegressor\n",
    "\n",
    "# para el preprocesamiento de datos\n",
    "from sklearn.preprocessing import StandardScaler\n",
    "\n",
    "\n",
    "# para medir el desempeño de los modelos\n",
    "from sklearn.metrics import r2_score\n",
    "from sklearn.metrics import mean_squared_error\n",
    "from sklearn.metrics import mean_absolute_error\n",
    "\n"
   ]
  },
  {
   "cell_type": "markdown",
   "id": "7d60bb2e",
   "metadata": {
    "slideshow": {
     "slide_type": "slide"
    }
   },
   "source": [
    "## Obtención de los datos y configuración del DataFrame "
   ]
  },
  {
   "cell_type": "code",
   "execution_count": null,
   "id": "c7dc6dd3",
   "metadata": {
    "slideshow": {
     "slide_type": "slide"
    }
   },
   "outputs": [],
   "source": [
    "data = pd.read_csv('train.csv')"
   ]
  },
  {
   "cell_type": "markdown",
   "id": "6411c8c2",
   "metadata": {
    "slideshow": {
     "slide_type": "slide"
    }
   },
   "source": [
    "Realizó la obtención de datos constituyendo un DataFrame. "
   ]
  },
  {
   "cell_type": "code",
   "execution_count": null,
   "id": "4f4ff0d8",
   "metadata": {
    "slideshow": {
     "slide_type": "slide"
    }
   },
   "outputs": [],
   "source": [
    "data.head(2) ### Primeros 05 registros del dataset"
   ]
  },
  {
   "cell_type": "code",
   "execution_count": null,
   "id": "69b8f17e",
   "metadata": {
    "slideshow": {
     "slide_type": "slide"
    }
   },
   "outputs": [],
   "source": [
    "data.tail(2) ### Ultimos 05 registros del dataset"
   ]
  },
  {
   "cell_type": "markdown",
   "id": "1c79b3c3",
   "metadata": {
    "slideshow": {
     "slide_type": "slide"
    }
   },
   "source": [
    "Visualizó la parte inicial y final del DataFrame"
   ]
  },
  {
   "cell_type": "markdown",
   "id": "7f55ac8a",
   "metadata": {
    "slideshow": {
     "slide_type": "slide"
    }
   },
   "source": [
    "Se recomienda realizar algunas observaciones verbales de la visualización con los métodos `.head()` y `.tail()`"
   ]
  },
  {
   "cell_type": "code",
   "execution_count": null,
   "id": "43a03f43",
   "metadata": {
    "scrolled": true,
    "slideshow": {
     "slide_type": "slide"
    }
   },
   "outputs": [],
   "source": [
    "data.describe()"
   ]
  },
  {
   "cell_type": "markdown",
   "id": "d247d84d",
   "metadata": {
    "slideshow": {
     "slide_type": "slide"
    }
   },
   "source": [
    "Se recomienda redactar observaciones verbales fruto de la visualización tabular de las variables cuantitativas con el método `describe()`"
   ]
  },
  {
   "cell_type": "markdown",
   "id": "4234ba69",
   "metadata": {
    "slideshow": {
     "slide_type": "slide"
    }
   },
   "source": [
    "De la observación con el método `describe()` puede obtener:\n",
    "\n",
    "* los atributos con datos faltantes\n",
    "* la necesidad o no de escalamiento de los datos al observar los rangos de cada variable "
   ]
  },
  {
   "cell_type": "markdown",
   "id": "06b8ced1",
   "metadata": {
    "slideshow": {
     "slide_type": "slide"
    }
   },
   "source": [
    "# Selección de algunos atributos"
   ]
  },
  {
   "cell_type": "code",
   "execution_count": null,
   "id": "d9ae70fd",
   "metadata": {
    "slideshow": {
     "slide_type": "slide"
    }
   },
   "outputs": [],
   "source": [
    "datos= data[['current price','on road old', 'on road now', 'km',\n",
    "       'top speed', 'hp', 'torque']]"
   ]
  },
  {
   "cell_type": "code",
   "execution_count": null,
   "id": "77f1e764",
   "metadata": {
    "slideshow": {
     "slide_type": "slide"
    }
   },
   "outputs": [],
   "source": [
    "datos "
   ]
  },
  {
   "cell_type": "markdown",
   "id": "c0b1c5b4",
   "metadata": {
    "slideshow": {
     "slide_type": "slide"
    }
   },
   "source": [
    "Se recomienda justificar la selección de los atributos predictores y la variable objetivo. "
   ]
  },
  {
   "cell_type": "markdown",
   "id": "864d2660",
   "metadata": {
    "slideshow": {
     "slide_type": "slide"
    }
   },
   "source": [
    "Se recomienda configurar el Dataframe a la forma estándar $[X \\mid y]$. "
   ]
  },
  {
   "cell_type": "code",
   "execution_count": null,
   "id": "18615322",
   "metadata": {
    "scrolled": true,
    "slideshow": {
     "slide_type": "slide"
    }
   },
   "outputs": [],
   "source": [
    "# Distribución de cada variable numérica\n",
    "\n",
    "fig, axes = plt.subplots(nrows=3, ncols=3, figsize=(20, 10))\n",
    "axes = axes.flat\n",
    "columnas_numeric = datos.select_dtypes(include=['float64', 'int']).columns\n",
    "\n",
    "for i, colum in enumerate(columnas_numeric):\n",
    "    sns.histplot(data = datos, x = colum, stat = \"count\", kde = True, \n",
    "                 color = (list(plt.rcParams['axes.prop_cycle'])*2)[i][\"color\"],\n",
    "                 line_kws= {'linewidth': 2}, alpha = 0.3, ax = axes[i])\n",
    "    axes[i].set_title(colum, fontsize = 10, fontweight = \"bold\")\n",
    "    axes[i].tick_params(labelsize = 6)\n",
    "    axes[i].set_xlabel(\"\")\n",
    "    \n",
    "    \n",
    "fig.tight_layout()\n",
    "plt.subplots_adjust(top = 0.9)\n",
    "fig.suptitle('Distribución variables numéricas', fontsize = 10, fontweight = \"bold\");"
   ]
  },
  {
   "cell_type": "markdown",
   "id": "6ce06e5a",
   "metadata": {
    "slideshow": {
     "slide_type": "slide"
    }
   },
   "source": [
    "Se recomienda documentar "
   ]
  },
  {
   "cell_type": "code",
   "execution_count": null,
   "id": "e5da1296",
   "metadata": {
    "slideshow": {
     "slide_type": "slide"
    }
   },
   "outputs": [],
   "source": [
    "datos_e= data[['years','economy', 'rating', 'condition']]"
   ]
  },
  {
   "cell_type": "code",
   "execution_count": null,
   "id": "4673c087",
   "metadata": {
    "slideshow": {
     "slide_type": "slide"
    }
   },
   "outputs": [],
   "source": [
    "# Distribución de cada variable numérica\n",
    "\n",
    "fig, axes = plt.subplots(nrows=2, ncols=2, figsize=(20, 10))\n",
    "axes = axes.flat\n",
    "columnas_numeric = datos_e.select_dtypes(include=['float64', 'int']).columns\n",
    "\n",
    "for i, colum in enumerate(columnas_numeric):\n",
    "    sns.countplot(x = colum, data = datos_e, color = (list(plt.rcParams['axes.prop_cycle'])*2)[i][\"color\"], ax = axes[i])\n",
    "    axes[i].set_title(colum, fontsize = 10, fontweight = \"bold\")\n",
    "    axes[i].tick_params(labelsize = 6)\n",
    "    axes[i].set_xlabel(\"\")\n",
    "    \n",
    "    \n",
    "fig.tight_layout()\n",
    "plt.subplots_adjust(top = 0.9)\n",
    "fig.suptitle('Distribución variables numéricas', fontsize = 10, fontweight = \"bold\");"
   ]
  },
  {
   "cell_type": "code",
   "execution_count": null,
   "id": "41940480",
   "metadata": {
    "slideshow": {
     "slide_type": "slide"
    }
   },
   "outputs": [],
   "source": [
    "### Correlación de Variables\n",
    "\n",
    "datacor = data.drop('v.id',axis=1) ## Eliminación de variable identificadora del vehiculo\n",
    "corr = datacor.corr() ## Generación de correlación\n",
    "plt.figure(figsize = (11,11))\n",
    "sns.heatmap(corr, cbar = True, square = True, annot=True, fmt= '.2f',annot_kws={'size': 12}, cmap= sns.diverging_palette(20, 220, n=200))\n",
    "plt.xticks(rotation = 45) ## Rotación de leyendas en x\n",
    "plt.yticks(rotation = 45) ## Rotación de leyendas en y\n",
    "plt.title(\"Coeficientes de Correlación\", fontsize = 18, color = \"black\") ## Titulo del Gráfico"
   ]
  },
  {
   "cell_type": "markdown",
   "id": "55702627",
   "metadata": {
    "slideshow": {
     "slide_type": "slide"
    }
   },
   "source": [
    "#### De acuerdo a lo anterior, observamos una correlación alta inversa entre el current price y el KM"
   ]
  },
  {
   "cell_type": "markdown",
   "id": "337e2fd2",
   "metadata": {
    "slideshow": {
     "slide_type": "slide"
    }
   },
   "source": [
    "#### División de los datos en Train y Test"
   ]
  },
  {
   "cell_type": "code",
   "execution_count": null,
   "id": "ce95003e",
   "metadata": {
    "slideshow": {
     "slide_type": "slide"
    }
   },
   "outputs": [],
   "source": [
    "X = datacor.drop('current price', axis=1)\n",
    "y = data['current price']\n",
    "X_train, X_test, y_train, y_test = train_test_split(X, y, test_size = 0.2, random_state = 42)\n"
   ]
  },
  {
   "cell_type": "code",
   "execution_count": null,
   "id": "796cde99",
   "metadata": {
    "slideshow": {
     "slide_type": "slide"
    }
   },
   "outputs": [],
   "source": [
    "## Validador de División\n",
    "\n",
    "X_train.shape , X_test.shape"
   ]
  },
  {
   "cell_type": "markdown",
   "id": "729d36d1",
   "metadata": {
    "slideshow": {
     "slide_type": "slide"
    }
   },
   "source": [
    "## Estandarización"
   ]
  },
  {
   "cell_type": "code",
   "execution_count": null,
   "id": "4c5b0ac5",
   "metadata": {
    "slideshow": {
     "slide_type": "slide"
    }
   },
   "outputs": [],
   "source": [
    "sc = StandardScaler()\n",
    "\n",
    "### Estandarizando X Train\n",
    "X_train_stand = sc.fit_transform(X_train)\n",
    "X_train_stand_ok = pd.DataFrame(X_train_stand, columns = X_train.columns )\n",
    "\n",
    "### Estandarizando X Test\n",
    "X_test_stand = sc.transform(X_test)\n",
    "X_test_stand_ok = pd.DataFrame(X_test_stand, columns = X_test.columns )"
   ]
  },
  {
   "cell_type": "code",
   "execution_count": null,
   "id": "1af24227",
   "metadata": {
    "slideshow": {
     "slide_type": "slide"
    }
   },
   "outputs": [],
   "source": [
    "X_train_stand"
   ]
  },
  {
   "cell_type": "code",
   "execution_count": null,
   "id": "57dd1a51",
   "metadata": {
    "slideshow": {
     "slide_type": "slide"
    }
   },
   "outputs": [],
   "source": [
    "X_train_stand_ok"
   ]
  },
  {
   "cell_type": "code",
   "execution_count": null,
   "id": "b968bada",
   "metadata": {
    "slideshow": {
     "slide_type": "slide"
    }
   },
   "outputs": [],
   "source": [
    "X_test_stand"
   ]
  },
  {
   "cell_type": "code",
   "execution_count": null,
   "id": "e31d7b90",
   "metadata": {
    "slideshow": {
     "slide_type": "slide"
    }
   },
   "outputs": [],
   "source": [
    "X_test_stand_ok"
   ]
  },
  {
   "cell_type": "markdown",
   "id": "87146d4c",
   "metadata": {
    "slideshow": {
     "slide_type": "slide"
    }
   },
   "source": [
    "#### Modelado"
   ]
  },
  {
   "cell_type": "code",
   "execution_count": null,
   "id": "b2d633f3",
   "metadata": {
    "slideshow": {
     "slide_type": "slide"
    }
   },
   "outputs": [],
   "source": [
    "#### Regresión Lineal\n",
    "\n",
    "reli = LinearRegression()\n",
    "reli.fit(X_train_stand_ok, y_train)\n"
   ]
  },
  {
   "cell_type": "code",
   "execution_count": null,
   "id": "fdf7145d",
   "metadata": {
    "slideshow": {
     "slide_type": "slide"
    }
   },
   "outputs": [],
   "source": [
    "### Bosque Aleatorio\n",
    "\n",
    "ratree = RandomForestRegressor()\n",
    "ratree.fit(X_train_stand_ok,y_train)\n"
   ]
  },
  {
   "cell_type": "code",
   "execution_count": null,
   "id": "7b89ca4d",
   "metadata": {
    "slideshow": {
     "slide_type": "slide"
    }
   },
   "outputs": [],
   "source": [
    "### Vecinos más cercanos\n",
    "\n",
    "knei = KNeighborsRegressor()\n",
    "knei.fit(X_train_stand_ok,y_train)"
   ]
  },
  {
   "cell_type": "markdown",
   "id": "3d22129c",
   "metadata": {},
   "source": [
    "### Desempeño de los modelos"
   ]
  },
  {
   "cell_type": "code",
   "execution_count": null,
   "id": "3e4c3bb2",
   "metadata": {
    "slideshow": {
     "slide_type": "slide"
    }
   },
   "outputs": [],
   "source": [
    "def validate(result):\n",
    "    ra = np.sqrt(- result)\n",
    "    print ('score:' , ra)\n",
    "    print ('Error Cuadratico Medio:', ra.mean())\n",
    "    print ( 'Desviación Estandar:',ra.std())\n",
    "    "
   ]
  },
  {
   "cell_type": "code",
   "execution_count": null,
   "id": "9349cd6e",
   "metadata": {
    "slideshow": {
     "slide_type": "slide"
    }
   },
   "outputs": [],
   "source": [
    "### Desempeño Regresión Lineal\n",
    "\n",
    "desemp_regre = cross_val_score(reli, X_train_stand_ok,y_train, scoring='neg_mean_squared_error', cv =10 )\n",
    "validate(desemp_regre)"
   ]
  },
  {
   "cell_type": "code",
   "execution_count": null,
   "id": "699dc109",
   "metadata": {
    "slideshow": {
     "slide_type": "slide"
    }
   },
   "outputs": [],
   "source": [
    "# Información del modelo Regresión Lineal\n",
    "\n",
    "print(\"Intercept:\", reli.intercept_)\n",
    "print(\"Coeficiente:\", list(zip(X_train_stand_ok.columns, reli.coef_.flatten(), )))\n",
    "print(\"Coeficiente de determinación R^2:\", reli.score(X_train_stand_ok, y_train))"
   ]
  },
  {
   "cell_type": "code",
   "execution_count": null,
   "id": "a70c0420",
   "metadata": {
    "slideshow": {
     "slide_type": "slide"
    }
   },
   "outputs": [],
   "source": [
    "# Error de test del modelo Regresión Lineal\n",
    "\n",
    "predicciones = reli.predict(X = X_test_stand_ok)\n",
    "print(predicciones[0:10,])\n",
    "\n",
    "rmse = mean_squared_error(\n",
    "        y_true  = y_test,\n",
    "        y_pred  = predicciones,\n",
    "        squared = False\n",
    "       )\n",
    "print(\"\")\n",
    "print(f\"El error cuadrático medio es: {rmse}\")"
   ]
  },
  {
   "cell_type": "code",
   "execution_count": null,
   "id": "fb02e287",
   "metadata": {
    "slideshow": {
     "slide_type": "slide"
    }
   },
   "outputs": [],
   "source": [
    "### Desempeño Bosque Aleatorio\n",
    "\n",
    "desemp_ratree = cross_val_score(ratree, X_train_stand_ok,y_train, scoring='neg_mean_squared_error', cv =10 )\n",
    "validate(desemp_ratree)"
   ]
  },
  {
   "cell_type": "code",
   "execution_count": null,
   "id": "6c08f7b4",
   "metadata": {
    "slideshow": {
     "slide_type": "slide"
    }
   },
   "outputs": [],
   "source": [
    "### Error de test del modelo Bosque Aleatorio\n",
    "\n",
    "y_pred = ratree.predict(X_test_stand_ok) \n",
    "print ('Error medio absoluto:', mean_absolute_error(y_test, y_pred))\n",
    "print ('Error cuadrático medio:', mean_squared_error(y_test, y_pred))"
   ]
  },
  {
   "cell_type": "code",
   "execution_count": null,
   "id": "e2649b05",
   "metadata": {
    "slideshow": {
     "slide_type": "slide"
    }
   },
   "outputs": [],
   "source": [
    "### Desempeño Vecinos más cercanos\n",
    "\n",
    "desemp_knei = cross_val_score(knei, X_train_stand_ok,y_train, scoring='neg_mean_squared_error', cv =10 )\n",
    "validate(desemp_knei)"
   ]
  },
  {
   "cell_type": "code",
   "execution_count": null,
   "id": "94a23e85",
   "metadata": {},
   "outputs": [],
   "source": [
    "### Error de test del modelo Vecinos más cercanos\n",
    "\n",
    "y_pred = knei.predict(X_test_stand_ok) \n",
    "print ('Error medio absoluto:', metrics.mean_absolute_error(y_test, y_pred))\n",
    "print ('Error cuadrático medio:', metrics.mean_squared_error(y_test, y_pred))"
   ]
  },
  {
   "cell_type": "markdown",
   "id": "e3abc86b",
   "metadata": {
    "slideshow": {
     "slide_type": "slide"
    }
   },
   "source": [
    "Comparando los diferentes resultados, el valor que mayor se ajusta es una regresión lineal"
   ]
  },
  {
   "cell_type": "markdown",
   "id": "8cd840c4",
   "metadata": {
    "slideshow": {
     "slide_type": "slide"
    }
   },
   "source": [
    "# Referencias  \n",
    "\n",
    "* El puntaje $R^{2}$: https://scikit-learn.org/stable/modules/model_evaluation.html#r2-score\n"
   ]
  },
  {
   "cell_type": "markdown",
   "id": "77c4ad9e",
   "metadata": {
    "slideshow": {
     "slide_type": "slide"
    }
   },
   "source": [
    "# 3.3.4.8. R² score, the coefficient of determination"
   ]
  },
  {
   "cell_type": "markdown",
   "id": "5e0be658",
   "metadata": {
    "slideshow": {
     "slide_type": "slide"
    }
   },
   "source": [
    "La función `r2_score` calcula el coeficiente de determinación, generalmente indicado como $R^{2}$."
   ]
  },
  {
   "cell_type": "markdown",
   "id": "5c4a16d8",
   "metadata": {
    "slideshow": {
     "slide_type": "slide"
    }
   },
   "source": [
    "It represents the proportion of variance (of y) that has been explained by the independent variables in the model. "
   ]
  },
  {
   "cell_type": "markdown",
   "id": "5de1018e",
   "metadata": {
    "slideshow": {
     "slide_type": "slide"
    }
   },
   "source": [
    "It provides an indication of goodness of fit and therefore a measure of how well unseen samples are likely to be predicted by the model, through the proportion of explained variance."
   ]
  },
  {
   "cell_type": "markdown",
   "id": "bb724f97",
   "metadata": {
    "slideshow": {
     "slide_type": "slide"
    }
   },
   "source": [
    "As such variance is dataset dependent, R² may not be meaningfully comparable across different datasets. "
   ]
  },
  {
   "cell_type": "markdown",
   "id": "4f8394e3",
   "metadata": {
    "slideshow": {
     "slide_type": "slide"
    }
   },
   "source": [
    "Best possible score is 1.0 and it can be negative (because the model can be arbitrarily worse). "
   ]
  },
  {
   "cell_type": "markdown",
   "id": "c6de4d0e",
   "metadata": {
    "slideshow": {
     "slide_type": "slide"
    }
   },
   "source": [
    "A constant model that always predicts the expected value of y, disregarding the input features, would get a $R^{2}$ score of 0.0."
   ]
  },
  {
   "cell_type": "markdown",
   "id": "fa0e1cbf",
   "metadata": {
    "slideshow": {
     "slide_type": "slide"
    }
   },
   "source": [
    "If $\\hat{y}_{i}$ is the predicted value of the -th sample and $y_{i}$ is the corresponding true value for total samples, the estimated $R^{2}$ is defined as:"
   ]
  },
  {
   "cell_type": "markdown",
   "id": "6890f582",
   "metadata": {
    "slideshow": {
     "slide_type": "slide"
    }
   },
   "source": [
    "$$ R^{2}(y, \\hat{y}) = 1 - \\frac{}{} $$"
   ]
  },
  {
   "cell_type": "code",
   "execution_count": null,
   "id": "e6416d41",
   "metadata": {
    "slideshow": {
     "slide_type": "slide"
    }
   },
   "outputs": [],
   "source": []
  }
 ],
 "metadata": {
  "celltoolbar": "Slideshow",
  "kernelspec": {
   "display_name": "Python 3 (ipykernel)",
   "language": "python",
   "name": "python3"
  },
  "language_info": {
   "codemirror_mode": {
    "name": "ipython",
    "version": 3
   },
   "file_extension": ".py",
   "mimetype": "text/x-python",
   "name": "python",
   "nbconvert_exporter": "python",
   "pygments_lexer": "ipython3",
   "version": "3.9.7"
  },
  "rise": {
   "theme": "sky"
  }
 },
 "nbformat": 4,
 "nbformat_minor": 5
}
