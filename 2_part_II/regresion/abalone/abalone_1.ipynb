{
 "cells": [
  {
   "cell_type": "markdown",
   "metadata": {},
   "source": [
    "# Modelo de regresión para predecir edades de moluscos "
   ]
  },
  {
   "cell_type": "markdown",
   "metadata": {
    "id": "i3qq8gUr8fk5"
   },
   "source": [
    "1. Plantear bien la pregunta. \n",
    "\n",
    "   * ¿Regresión o clasificación?\n",
    "   * ¿Tipo de regresión y tipo de clasificación?\n",
    "\n",
    "En este caso tenemos un dataset con el que se desea predecir la edad del Abulón, por lo tanto, es un problema de **regresión lineal**. "
   ]
  },
  {
   "cell_type": "markdown",
   "metadata": {
    "id": "i3qq8gUr8fk5"
   },
   "source": [
    "2. Exploración inicial.\n",
    "\n",
    "   * Indicar la fuente de dónde se toman los datos.\n",
    "\n",
    "Dataset tomado de: https://archive.ics.uci.edu/ml/datasets/abalone"
   ]
  },
  {
   "cell_type": "markdown",
   "metadata": {
    "id": "i3qq8gUr8fk5"
   },
   "source": [
    "Este dataset contiene información de Abulones como el sexo, el peso, la cantidad de anillos y algunas medidas de longitud, diámetro y altura."
   ]
  },
  {
   "cell_type": "markdown",
   "metadata": {
    "id": "i3qq8gUr8fk5",
    "slideshow": {
     "slide_type": "slide"
    }
   },
   "source": [
    "La edad de estos abulones es el valor a predecir como un valor continuo y se calcula sumando 1.5 a la variable Anillos."
   ]
  },
  {
   "cell_type": "markdown",
   "metadata": {
    "id": "i3qq8gUr8fk5",
    "slideshow": {
     "slide_type": "slide"
    }
   },
   "source": [
    "   * Hacer explícita la función objetivo.\n",
    "\n",
    "$$ h = \\mathbb{R} ^ {9} \\longrightarrow \\mathbb{R}$$\n",
    "$$ h(X_{nxm}) = y $$\n",
    "Donde $X$ es una matriz de 4177 filas por 9 columnas y $y$ es un vector con los valores de las edades de los Abulones.\n",
    "\n",
    "$$h(X_i) = y_i \\ \\ \\in \\ \\ \\mathbb{R}$$\n",
    "\n",
    "   * Decir cuáles son los atributos (descripción breve de cada uno)"
   ]
  },
  {
   "cell_type": "markdown",
   "metadata": {
    "id": "i3qq8gUr8fk5",
    "slideshow": {
     "slide_type": "slide"
    }
   },
   "source": [
    "   \n",
    "**Nombre: Tipo de datos - Unidad de medida - Descripción**\n",
    "\n",
    "Sexo: nominal -  - M, F e I (infante)\\\n",
    "Longitud: continua - mm - Medida de la carcasa más larga\\\n",
    "Diámetro: continuo - mm - perpendicular a la longitud\\\n",
    "Altura: continuo - mm - con carne con cáscara\\\n",
    "Peso entero: continuo - gramos - abulón entero\\\n",
    "Peso desbullado: continuo - gramos - peso de carne\\\n",
    "Peso de vísceras: continuo - gramos - peso intestinal (después del sangrado)\\\n",
    "Peso de la cáscara: continuo - gramos - después de secarse\\\n",
    "Anillos: entero - - +1.5 da la edad en años (Por tanto, la variable objetivo es discreta)\n",
    "\n",
    "  * Practicar una primera exploración gráfica de los datos."
   ]
  },
  {
   "cell_type": "code",
   "execution_count": 1,
   "metadata": {
    "id": "hzzP-JrX8flD"
   },
   "outputs": [],
   "source": [
    "import pandas as pd \n",
    "import numpy as np \n",
    "import matplotlib.pyplot as plt "
   ]
  },
  {
   "cell_type": "code",
   "execution_count": 12,
   "metadata": {
    "id": "s-5JiffZ8flh"
   },
   "outputs": [],
   "source": [
    "# para separar entrenamiento y testeo:\n",
    "from sklearn.model_selection import train_test_split \n",
    "# para llenar datos faltantes (mediana)\n",
    "from sklearn.impute import SimpleImputer\n",
    "\n",
    "from sklearn.base import BaseEstimator, TransformerMixin \n",
    "# Para estandarizar los datos (media 0 y varianza 1):\n",
    "from sklearn.preprocessing import StandardScaler \n",
    "# Tratamiento de variables categóricas:\n",
    "from sklearn.preprocessing import OneHotEncoder \n",
    "# Secuencia de imputació n, automatización del proceso:\n",
    "from sklearn.pipeline import Pipeline \n",
    "from sklearn.compose import ColumnTransformer\n",
    "\n",
    "# Construcción del modelo predictivo \n",
    "from sklearn.linear_model import LinearRegression\n",
    "from sklearn.metrics import mean_squared_error  \n",
    "# otros modelos:\n",
    "from sklearn.tree import DecisionTreeRegressor \n",
    "from sklearn.model_selection import cross_val_score\n",
    "from sklearn.ensemble import RandomForestRegressor\n",
    "from sklearn.model_selection import GridSearchCV"
   ]
  },
  {
   "cell_type": "code",
   "execution_count": 14,
   "metadata": {
    "colab": {
     "base_uri": "https://localhost:8080/",
     "height": 268
    },
    "id": "rJZiGp2z8fli",
    "outputId": "c2ca744e-8abc-4ad9-8979-b082d4eee108"
   },
   "outputs": [
    {
     "data": {
      "text/html": [
       "<div>\n",
       "<style scoped>\n",
       "    .dataframe tbody tr th:only-of-type {\n",
       "        vertical-align: middle;\n",
       "    }\n",
       "\n",
       "    .dataframe tbody tr th {\n",
       "        vertical-align: top;\n",
       "    }\n",
       "\n",
       "    .dataframe thead th {\n",
       "        text-align: right;\n",
       "    }\n",
       "</style>\n",
       "<table border=\"1\" class=\"dataframe\">\n",
       "  <thead>\n",
       "    <tr style=\"text-align: right;\">\n",
       "      <th></th>\n",
       "      <th>sexo</th>\n",
       "      <th>longitud</th>\n",
       "      <th>diametro</th>\n",
       "      <th>altura</th>\n",
       "      <th>peso_entero</th>\n",
       "      <th>peso_desbullado</th>\n",
       "      <th>peso_visceras</th>\n",
       "      <th>peso_cascara</th>\n",
       "      <th>edad</th>\n",
       "    </tr>\n",
       "  </thead>\n",
       "  <tbody>\n",
       "    <tr>\n",
       "      <th>0</th>\n",
       "      <td>M</td>\n",
       "      <td>0.455</td>\n",
       "      <td>0.365</td>\n",
       "      <td>0.095</td>\n",
       "      <td>0.5140</td>\n",
       "      <td>0.2245</td>\n",
       "      <td>0.1010</td>\n",
       "      <td>0.150</td>\n",
       "      <td>16.5</td>\n",
       "    </tr>\n",
       "    <tr>\n",
       "      <th>1</th>\n",
       "      <td>M</td>\n",
       "      <td>0.350</td>\n",
       "      <td>0.265</td>\n",
       "      <td>0.090</td>\n",
       "      <td>0.2255</td>\n",
       "      <td>0.0995</td>\n",
       "      <td>0.0485</td>\n",
       "      <td>0.070</td>\n",
       "      <td>8.5</td>\n",
       "    </tr>\n",
       "    <tr>\n",
       "      <th>2</th>\n",
       "      <td>F</td>\n",
       "      <td>0.530</td>\n",
       "      <td>0.420</td>\n",
       "      <td>0.135</td>\n",
       "      <td>0.6770</td>\n",
       "      <td>0.2565</td>\n",
       "      <td>0.1415</td>\n",
       "      <td>0.210</td>\n",
       "      <td>10.5</td>\n",
       "    </tr>\n",
       "    <tr>\n",
       "      <th>3</th>\n",
       "      <td>M</td>\n",
       "      <td>0.440</td>\n",
       "      <td>0.365</td>\n",
       "      <td>0.125</td>\n",
       "      <td>0.5160</td>\n",
       "      <td>0.2155</td>\n",
       "      <td>0.1140</td>\n",
       "      <td>0.155</td>\n",
       "      <td>11.5</td>\n",
       "    </tr>\n",
       "    <tr>\n",
       "      <th>4</th>\n",
       "      <td>I</td>\n",
       "      <td>0.330</td>\n",
       "      <td>0.255</td>\n",
       "      <td>0.080</td>\n",
       "      <td>0.2050</td>\n",
       "      <td>0.0895</td>\n",
       "      <td>0.0395</td>\n",
       "      <td>0.055</td>\n",
       "      <td>8.5</td>\n",
       "    </tr>\n",
       "  </tbody>\n",
       "</table>\n",
       "</div>"
      ],
      "text/plain": [
       "  sexo  longitud  diametro  altura  peso_entero  peso_desbullado  \\\n",
       "0    M     0.455     0.365   0.095       0.5140           0.2245   \n",
       "1    M     0.350     0.265   0.090       0.2255           0.0995   \n",
       "2    F     0.530     0.420   0.135       0.6770           0.2565   \n",
       "3    M     0.440     0.365   0.125       0.5160           0.2155   \n",
       "4    I     0.330     0.255   0.080       0.2050           0.0895   \n",
       "\n",
       "   peso_visceras  peso_cascara  edad  \n",
       "0         0.1010         0.150  16.5  \n",
       "1         0.0485         0.070   8.5  \n",
       "2         0.1415         0.210  10.5  \n",
       "3         0.1140         0.155  11.5  \n",
       "4         0.0395         0.055   8.5  "
      ]
     },
     "execution_count": 14,
     "metadata": {},
     "output_type": "execute_result"
    }
   ],
   "source": [
    "data = pd.read_csv('abalone_1.csv')  \n",
    "data.rename(columns = {'Sex':'sexo','Length':'longitud',\\\n",
    "                           'Diameter':'diametro','Height':'altura',\\\n",
    "                           'Whole weight':'peso_entero',\\\n",
    "                           'Shucked weight':'peso_desbullado','Viscera weight':'peso_visceras',\\\n",
    "                           'Shell weight':'peso_cascara','Rings':'anillos'}, inplace = True)\n",
    "data['edad'] = data['anillos'] + 1.5\n",
    "data.drop('anillos', axis = 1, inplace = True)\n",
    "data.head()"
   ]
  },
  {
   "cell_type": "code",
   "execution_count": 15,
   "metadata": {
    "id": "pBhZMv3c8flj",
    "slideshow": {
     "slide_type": "slide"
    }
   },
   "outputs": [],
   "source": [
    "# Datos de entrenamiento\n",
    "d_train, d_test = train_test_split(data, test_size = 0.2, random_state = 42)"
   ]
  },
  {
   "cell_type": "markdown",
   "metadata": {
    "id": "290pH83L8flk",
    "slideshow": {
     "slide_type": "slide"
    }
   },
   "source": [
    "### Dividimos las variables predictoras de la variable objetivo"
   ]
  },
  {
   "cell_type": "code",
   "execution_count": 18,
   "metadata": {
    "id": "JoIDyyef8fll",
    "slideshow": {
     "slide_type": "slide"
    }
   },
   "outputs": [],
   "source": [
    "d_train_predict = d_train.drop('edad', axis=1)\n",
    "d_train_labels = d_train.edad\n",
    "d_test_predict = d_test.drop('edad', axis=1)\n",
    "d_test_labels = d_test.edad"
   ]
  },
  {
   "cell_type": "markdown",
   "metadata": {
    "id": "weHq5LMO8flm"
   },
   "source": [
    "### Se construye la canalización para los atributos numéricos"
   ]
  },
  {
   "cell_type": "code",
   "execution_count": 17,
   "metadata": {
    "id": "zFREqmxo8fln"
   },
   "outputs": [],
   "source": [
    "# Este pipeline ejecuta el método que nos rellena los datos faltantes y el que nos estandariza los datos\n",
    "# todo en un solo paso \n",
    "pipeline_num = Pipeline([\n",
    "    ('imputar', SimpleImputer(strategy='median')),\n",
    "    ('Estandarizar', StandardScaler())\n",
    "])"
   ]
  },
  {
   "cell_type": "markdown",
   "metadata": {},
   "source": [
    "Sería bueno justificar la metodología de imputación de datos y la estrategia de escalamiento de los mismos. "
   ]
  },
  {
   "cell_type": "code",
   "execution_count": null,
   "metadata": {
    "id": "CPDW7fBk8flr"
   },
   "outputs": [],
   "source": [
    "d_train_predict_num = d_train_predict.drop('sexo', axis = 1)\n",
    "lista_atrub_num = list(d_train_predict_num.columns)\n",
    "lista_atrub_cat = ['sexo']"
   ]
  },
  {
   "cell_type": "code",
   "execution_count": null,
   "metadata": {
    "id": "-fQZ2Usl8fls"
   },
   "outputs": [],
   "source": [
    "# Este transformador ejecuta, en un solo paso, los métodos para las variables numéricas y las categóricas\n",
    "transformador_completo = ColumnTransformer([\n",
    "    ('num', pipeline_num, lista_atrub_num),\n",
    "    ('cat', OneHotEncoder(), lista_atrub_cat)\n",
    "])"
   ]
  },
  {
   "cell_type": "code",
   "execution_count": null,
   "metadata": {
    "id": "gbenn6Rp8fls"
   },
   "outputs": [],
   "source": [
    "# obtenemos los datos listos para hacer el entrenamiento\n",
    "X_preparado = transformador_completo.fit_transform(data)"
   ]
  },
  {
   "cell_type": "code",
   "execution_count": null,
   "metadata": {
    "colab": {
     "base_uri": "https://localhost:8080/",
     "height": 268
    },
    "id": "NYdPWHWu8flt",
    "outputId": "65f04f81-8748-417c-92ce-f957c808b30e"
   },
   "outputs": [],
   "source": [
    "# Datos antes del proceso\n",
    "data.head()"
   ]
  },
  {
   "cell_type": "code",
   "execution_count": null,
   "metadata": {
    "colab": {
     "base_uri": "https://localhost:8080/"
    },
    "id": "BXcIW1m08flv",
    "outputId": "2008547d-bd85-417c-d73b-6dd9467d678e"
   },
   "outputs": [],
   "source": [
    "# Datos después de proceso\n",
    "''' \n",
    "Los nuevos datos preparados tienen más columnas ya que la variable sexo\n",
    "se convirtió en 3 nuevas columnas, una para cada genero.\n",
    "'''\n",
    "X_preparado.shape"
   ]
  },
  {
   "cell_type": "markdown",
   "metadata": {
    "id": "-QTJx3Kc8flw"
   },
   "source": [
    "4. Entrenamiento y selección de modelo.\n",
    "\n",
    "* Instanciar varios modelos y entrenarlos sobre datos de entrenamiento\n",
    "preparados."
   ]
  },
  {
   "cell_type": "code",
   "execution_count": null,
   "metadata": {
    "colab": {
     "base_uri": "https://localhost:8080/"
    },
    "id": "-c3K0TTz8flx",
    "outputId": "41997d7d-c41a-4495-9bd9-ba15725274e2"
   },
   "outputs": [],
   "source": [
    "Regresor_l = LinearRegression()\n",
    "Regresor_l.fit(X_preparado, d_labels.values.reshape(-1,1))"
   ]
  },
  {
   "cell_type": "markdown",
   "metadata": {
    "id": "G9MfOmpO8flz"
   },
   "source": [
    "### Evaluamos el modelo en el conjunto de entrenamiento"
   ]
  },
  {
   "cell_type": "markdown",
   "metadata": {
    "id": "dXwJU7rh8fl0"
   },
   "source": [
    "Veamos ahora la predicción en todo el conjunto de entrenamiento y evaluamos el desempeño de este modelo."
   ]
  },
  {
   "cell_type": "code",
   "execution_count": null,
   "metadata": {
    "colab": {
     "base_uri": "https://localhost:8080/"
    },
    "id": "pQ6EvMRc8fl0",
    "outputId": "720e166d-8a8d-4b68-9d3f-d5d228022250"
   },
   "outputs": [],
   "source": [
    "predicciones = Regresor_l.predict(X_preparado)\n",
    "predicciones"
   ]
  },
  {
   "cell_type": "code",
   "execution_count": null,
   "metadata": {
    "colab": {
     "base_uri": "https://localhost:8080/"
    },
    "id": "9se3zr9P8fl1",
    "outputId": "d06f2321-ddc4-476b-9c0c-37d138a5145b"
   },
   "outputs": [],
   "source": [
    "# Error cuadrático medio\n",
    "np.sqrt(mean_squared_error(predicciones, d_labels))"
   ]
  },
  {
   "cell_type": "markdown",
   "metadata": {
    "id": "Buz37RFi8fl1"
   },
   "source": [
    "Con este modelo, tenemos un error promedio de 2 años entre el valor predicho y el valor real de la edad de los Abulones."
   ]
  },
  {
   "cell_type": "markdown",
   "metadata": {
    "id": "xcZ9tm4q8fl2"
   },
   "source": [
    "### Probemos con un regresor de arbol de decisión "
   ]
  },
  {
   "cell_type": "code",
   "execution_count": null,
   "metadata": {
    "colab": {
     "base_uri": "https://localhost:8080/"
    },
    "id": "jaLQ5tSo8fl2",
    "outputId": "44fc0787-a7df-46c8-db66-94d684a839b9"
   },
   "outputs": [],
   "source": [
    "Regresor_arbol = DecisionTreeRegressor()\n",
    "Regresor_arbol.fit(X_preparado,d_labels)"
   ]
  },
  {
   "cell_type": "markdown",
   "metadata": {
    "id": "rS_Cdgls8fl3"
   },
   "source": [
    "Vemos la predicción en todo el conjunto de entrenamiento y evaluamos el desempeño de este modelo."
   ]
  },
  {
   "cell_type": "code",
   "execution_count": null,
   "metadata": {
    "colab": {
     "base_uri": "https://localhost:8080/"
    },
    "id": "PO2mhZ6T8fl3",
    "outputId": "7c8ad3d2-0dd0-4601-aa4d-788afb54a2a8"
   },
   "outputs": [],
   "source": [
    "predicciones_arbol = Regresor_arbol.predict(X_preparado)\n",
    "\n",
    "# Error cuadrático medio\n",
    "np.sqrt(mean_squared_error(predicciones_arbol, d_labels))"
   ]
  },
  {
   "cell_type": "markdown",
   "metadata": {
    "id": "Hi-kYvMS8fl4"
   },
   "source": [
    "En este caso, el error promedio nos da cero, pero esto sospechosamente parece un sobreajuste por lo que posiblemente este modelo no funcione para nuevos datos."
   ]
  },
  {
   "cell_type": "markdown",
   "metadata": {
    "id": "t75Xkrb08fl4"
   },
   "source": [
    "### Ahora, evaluemos el modelo de Bosques Aleatorios"
   ]
  },
  {
   "cell_type": "code",
   "execution_count": null,
   "metadata": {
    "colab": {
     "base_uri": "https://localhost:8080/"
    },
    "id": "z8OryiK_8fl5",
    "outputId": "d6f77cbc-a665-4c7c-9c58-3da83b839fb9"
   },
   "outputs": [],
   "source": [
    "Regresor_bosque = RandomForestRegressor()\n",
    "Regresor_bosque.fit(X_preparado,d_labels)"
   ]
  },
  {
   "cell_type": "code",
   "execution_count": null,
   "metadata": {
    "colab": {
     "base_uri": "https://localhost:8080/"
    },
    "id": "ZMkdiwOn8fl6",
    "outputId": "10c5cdfe-b6da-4e03-8038-593f331c077c"
   },
   "outputs": [],
   "source": [
    "predicciones_bosque = Regresor_bosque.predict(X_preparado)\n",
    "\n",
    "# Error cuadrático medio\n",
    "np.sqrt(mean_squared_error(predicciones_bosque, d_labels))"
   ]
  },
  {
   "cell_type": "markdown",
   "metadata": {
    "id": "wWIx5VMJ8fl6"
   },
   "source": [
    "Este modelo nos arroja un error de tan solo 0.8 años."
   ]
  },
  {
   "cell_type": "markdown",
   "metadata": {
    "id": "4T5bdavr8fl7"
   },
   "source": [
    "### Ahora, evaluemos el desempeño de estos tres modelos con la metodología de validación cruzada\n",
    "Lo que hace esta metodología es partir la muestra de entrenamiento en partes, entrenar el modelo en una de las partes y testear en el complemento"
   ]
  },
  {
   "cell_type": "markdown",
   "metadata": {
    "id": "UOadWPqR8fl7"
   },
   "source": [
    "Evaluamos primero el regresor de árbol ya que fue el que 'mejor' predicción arrojó."
   ]
  },
  {
   "cell_type": "code",
   "execution_count": null,
   "metadata": {
    "id": "2GV7b6VV8fl8"
   },
   "outputs": [],
   "source": [
    "puntajes = cross_val_score(Regresor_arbol, X_preparado, d_labels.values.reshape(-1,1),\\\n",
    "                           scoring = 'neg_mean_squared_error', cv = 10)"
   ]
  },
  {
   "cell_type": "code",
   "execution_count": null,
   "metadata": {
    "id": "FrkrII6i8fl8"
   },
   "outputs": [],
   "source": [
    "puntajes_rmse_arbol = np.sqrt(-puntajes)"
   ]
  },
  {
   "cell_type": "code",
   "execution_count": null,
   "metadata": {
    "colab": {
     "base_uri": "https://localhost:8080/"
    },
    "id": "_Sied0kl8fl9",
    "outputId": "70b5166f-66b9-4b26-c69f-d787367104a0"
   },
   "outputs": [],
   "source": [
    "def mostrar_puntajes(puntajes):\n",
    "    print(\"Puntajes:\", puntajes)\n",
    "    print(\"Madia:\", puntajes.mean())\n",
    "    print(\"Desviación estandar:\", puntajes.std())\n",
    "\n",
    "mostrar_puntajes(puntajes_rmse_arbol) "
   ]
  },
  {
   "cell_type": "markdown",
   "metadata": {
    "id": "AMwjhE6E8fl9"
   },
   "source": [
    "El regresor de árboles nos daba un error de cero, lo cual no es algo bueno ya que esto puede representar un sobreajustarse, pero lo que vemos con esta metodología de validación cruzada es que realmente el modelo no funciona muy bien porque tiene un error medio del 3 años, incluso más alto que el que arrojó el regresor lineal. \n",
    "\n",
    "### Realicemos esta misma metodología para el Regresor lineal"
   ]
  },
  {
   "cell_type": "code",
   "execution_count": null,
   "metadata": {
    "colab": {
     "base_uri": "https://localhost:8080/"
    },
    "id": "KOjr5dFR8fl-",
    "outputId": "6573f85e-5997-4974-da51-829a35d1b2e1"
   },
   "outputs": [],
   "source": [
    "puntajes_lineal = cross_val_score(Regresor_l, X_preparado, d_labels.values.reshape(-1,1),\\\n",
    "                           scoring = 'neg_mean_squared_error', cv = 10)\n",
    "puntajes_rmse_lineal = np.sqrt(-puntajes_lineal)\n",
    "mostrar_puntajes(puntajes_rmse_lineal) "
   ]
  },
  {
   "cell_type": "markdown",
   "metadata": {
    "id": "CzF7s8iw8fl-"
   },
   "source": [
    "Vemos, con esta metodología, que el Regresor Lineal tiene un mejor desempeño que el Regresor de árboles, con un erro medio de 2.2 años.\n",
    "\n",
    "### Por último, evaluemos el Regresor de Bosques Aleatorios"
   ]
  },
  {
   "cell_type": "code",
   "execution_count": null,
   "metadata": {
    "colab": {
     "base_uri": "https://localhost:8080/"
    },
    "id": "x8JnukF-8fl_",
    "outputId": "d8cd7812-e525-47b4-bbf3-5d1512b9f860"
   },
   "outputs": [],
   "source": [
    "puntajes_bosque = cross_val_score(Regresor_bosque, X_preparado, d_labels.values.reshape(-1,1),\\\n",
    "                           scoring = 'neg_mean_squared_error', cv = 10)\n",
    "puntajes_rmse_bosque = np.sqrt(-puntajes_bosque)\n",
    "mostrar_puntajes(puntajes_rmse_bosque) "
   ]
  },
  {
   "cell_type": "markdown",
   "metadata": {
    "id": "O6c5oC_P8fl_"
   },
   "source": [
    "La media de error para el modelo de Bosques Aleatorios tiene un mejor desempeño que los dos modelos anteriores con un error medio de 2.15 años con una variabilidad de tan solo 0.10"
   ]
  },
  {
   "cell_type": "markdown",
   "metadata": {
    "id": "E4iX8VDy8fl_"
   },
   "source": [
    "5. Afinar el modelo\n",
    "   * Crear cuadrícula (de búsqueda) de hiperparámetros\n",
    "   \n",
    "Una vez decidido con cual modelo nos quedamos por mejor desempeño, el siguiente paso es afinarlo."
   ]
  },
  {
   "cell_type": "code",
   "execution_count": null,
   "metadata": {
    "colab": {
     "base_uri": "https://localhost:8080/"
    },
    "id": "DEkbIrBG8fmA",
    "outputId": "9b44e903-a353-4846-c2e4-b8fb3bdb1369"
   },
   "outputs": [],
   "source": [
    "param_grid = [\n",
    "            {'n_estimators': [3, 10, 30, 40, 60], 'max_features': [2, 4, 6, 8, 10]},\n",
    "            {'bootstrap': [False], 'n_estimators': [3, 10, 30], 'max_features': [2, 3, 4, 6]},\n",
    "             ]\n",
    "forest_reg = RandomForestRegressor()\n",
    "cuadricula = GridSearchCV(forest_reg, param_grid, cv=5, scoring='neg_mean_squared_error',\\\n",
    "                           return_train_score=True)\n",
    "cuadricula.fit(X_preparado, d_labels.values.ravel())"
   ]
  },
  {
   "cell_type": "code",
   "execution_count": null,
   "metadata": {
    "colab": {
     "base_uri": "https://localhost:8080/"
    },
    "id": "tDMxFMR98fmB",
    "outputId": "b4c61e5a-e867-46cc-c0b3-d0d274c71927"
   },
   "outputs": [],
   "source": [
    "cuadricula.best_params_"
   ]
  },
  {
   "cell_type": "code",
   "execution_count": null,
   "metadata": {
    "id": "jz9tX4Nv8fmB"
   },
   "outputs": [],
   "source": [
    "mejor_regresor_bosque = RandomForestRegressor(max_features=4, n_estimators=60)"
   ]
  },
  {
   "cell_type": "code",
   "execution_count": null,
   "metadata": {
    "colab": {
     "base_uri": "https://localhost:8080/"
    },
    "id": "8-HXEtmb8fmB",
    "outputId": "be8525ad-8c9e-4696-ff64-c70ee601401b"
   },
   "outputs": [],
   "source": [
    "mejor_regresor_bosque.fit(X_preparado, d_labels)"
   ]
  },
  {
   "cell_type": "code",
   "execution_count": null,
   "metadata": {
    "colab": {
     "base_uri": "https://localhost:8080/"
    },
    "id": "USSTuy0j8fmC",
    "outputId": "4053e0fd-e6fc-4421-fdae-72344e3fb866"
   },
   "outputs": [],
   "source": [
    "predicciones_finales = mejor_regresor_bosque.predict(X_preparado)\n",
    "np.sqrt(mean_squared_error(predicciones_finales, d_labels))"
   ]
  },
  {
   "cell_type": "code",
   "execution_count": null,
   "metadata": {
    "colab": {
     "base_uri": "https://localhost:8080/"
    },
    "id": "phOBIp0n8fmD",
    "outputId": "9bf5fd89-003d-4ca9-f7a6-37773bdf1c0e"
   },
   "outputs": [],
   "source": [
    "puntajes_final = cross_val_score(mejor_regresor_bosque, X_preparado, d_labels.values.reshape(-1,1),\\\n",
    "                           scoring = 'neg_mean_squared_error', cv = 10)\n",
    "puntajes_rmse_final = np.sqrt(-puntajes_final)\n",
    "mostrar_puntajes(puntajes_rmse_final) "
   ]
  },
  {
   "cell_type": "markdown",
   "metadata": {
    "id": "93td1kag8fmE"
   },
   "source": [
    "6. Presentar la solución.\n",
    "   * Mostrar el desempeño sobre los datos para testear."
   ]
  },
  {
   "cell_type": "code",
   "execution_count": null,
   "metadata": {
    "colab": {
     "base_uri": "https://localhost:8080/",
     "height": 268
    },
    "id": "ut2rzirs8fmE",
    "outputId": "e72f34c2-c41e-441c-a59d-02d0ea0ab184"
   },
   "outputs": [],
   "source": [
    "d_test.head()"
   ]
  },
  {
   "cell_type": "markdown",
   "metadata": {
    "id": "0PPooZhA8fmF"
   },
   "source": [
    "Preparamos los datos de testeo para evaluar el modelo con ellos"
   ]
  },
  {
   "cell_type": "code",
   "execution_count": null,
   "metadata": {
    "id": "lAPhAlro8fmF"
   },
   "outputs": [],
   "source": [
    "data_test = d_test.drop('edad', axis=1)\n",
    "d_labels_test = d_test.edad"
   ]
  },
  {
   "cell_type": "code",
   "execution_count": null,
   "metadata": {
    "colab": {
     "base_uri": "https://localhost:8080/"
    },
    "id": "_Z_k8kjZ8fmG",
    "outputId": "0da0fbf5-4b7f-4a64-9ba5-398c0d0abb10"
   },
   "outputs": [],
   "source": [
    "X_test_prep = transformador_completo.transform(data_test)\n",
    "X_test_prep.shape"
   ]
  },
  {
   "cell_type": "markdown",
   "metadata": {
    "id": "e7e_GbKf8fmG"
   },
   "source": [
    "Obtenemos las predicciones del modelo ganador con los datos de testeo ya preparados y lo evaluamos con el error medio."
   ]
  },
  {
   "cell_type": "code",
   "execution_count": null,
   "metadata": {
    "colab": {
     "base_uri": "https://localhost:8080/"
    },
    "id": "5mvWOmYj8fmG",
    "outputId": "99235cd7-6872-43e0-c82a-f71419ee48bd"
   },
   "outputs": [],
   "source": [
    "predicciones_test = mejor_regresor_bosque.predict(X_test_prep)\n",
    "np.sqrt(mean_squared_error(predicciones_test, d_labels_test))"
   ]
  },
  {
   "cell_type": "markdown",
   "metadata": {
    "id": "r2GR8gor8fmH"
   },
   "source": [
    "Con los datos de testeo, obtenemos un error medio de 2.2 años lo cual no está muy alejado del error medio de 2.15 con los datos de entrenamiento."
   ]
  },
  {
   "cell_type": "markdown",
   "metadata": {
    "id": "ErX5_sHU8fmH"
   },
   "source": [
    "* Gráfico intuitivo para representar el modelo"
   ]
  },
  {
   "cell_type": "code",
   "execution_count": null,
   "metadata": {
    "colab": {
     "base_uri": "https://localhost:8080/",
     "height": 1000
    },
    "id": "wXFQfq188fmI",
    "outputId": "4edab5fd-71f6-4de4-b544-0ba6765a555f"
   },
   "outputs": [],
   "source": [
    "import matplotlib.pyplot as plt\n",
    "'''\n",
    "Sacado de: https://www.kaggle.com/code/apurvasharma866/abalone\n",
    "'''\n",
    "\n",
    "def grafico(y_test, y_predic):\n",
    "    fig, ax = plt.subplots(figsize=(8, 8))\n",
    "    ax.plot(y_test, y_predic, '.k')\n",
    "    \n",
    "    ax.plot([0, 30], [0, 30], '--k')\n",
    "    ax.plot([0, 30], [2, 32], ':k')\n",
    "    ax.plot([2, 32], [0, 30], ':k')\n",
    "    \n",
    "    rms = (y_test - y_predic).std()\n",
    "    \n",
    "    ax.text(25, 3,\n",
    "            \"Root Mean Square Error = %.2g\" % rms,\n",
    "            ha='right', va='bottom')\n",
    "\n",
    "    ax.set_xlim(0, 30)\n",
    "    ax.set_ylim(0, 30)\n",
    "    \n",
    "    ax.set_xlabel('Edad real')\n",
    "    ax.set_ylabel('Edad predicha')\n",
    "    return rms\n",
    "    \n",
    "grafico(d_labels, predicciones_finales)\n",
    "plt.title(\"Datos de entrenamiento\")\n",
    "grafico(d_labels_test, predicciones_test)\n",
    "plt.title(\"Datos de testeo\")"
   ]
  },
  {
   "cell_type": "markdown",
   "metadata": {},
   "source": [
    "## Conclusiones del gráfico "
   ]
  },
  {
   "cell_type": "code",
   "execution_count": null,
   "metadata": {},
   "outputs": [],
   "source": []
  }
 ],
 "metadata": {
  "celltoolbar": "Slideshow",
  "colab": {
   "collapsed_sections": [],
   "name": "ExpoRegresionGrupo1.1.ipynb",
   "provenance": []
  },
  "interpreter": {
   "hash": "2031f9519a7c89e6e764d298a7cc2bf310f53fcc368717afac921416e61cc7f7"
  },
  "kernelspec": {
   "display_name": "Python 3 (ipykernel)",
   "language": "python",
   "name": "python3"
  },
  "language_info": {
   "codemirror_mode": {
    "name": "ipython",
    "version": 3
   },
   "file_extension": ".py",
   "mimetype": "text/x-python",
   "name": "python",
   "nbconvert_exporter": "python",
   "pygments_lexer": "ipython3",
   "version": "3.9.7"
  }
 },
 "nbformat": 4,
 "nbformat_minor": 1
}
