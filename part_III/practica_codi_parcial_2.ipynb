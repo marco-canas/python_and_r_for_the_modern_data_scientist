{
 "cells": [
  {
   "cell_type": "markdown",
   "id": "04547d49",
   "metadata": {
    "slideshow": {
     "slide_type": "slide"
    }
   },
   "source": [
    "<table align=\"left\">\n",
    "  <td>\n",
    "    <a href=\"https://colab.research.google.com/github/marco-canas/machine_learning/blob/main/problems_bank/practica_codi_parcial_2.ipynb\" target=\"_parent\"><img src=\"https://colab.research.google.com/assets/colab-badge.svg\" alt=\"Open In Colab\"/></a>\n",
    "  </td>\n",
    "</table> "
   ]
  },
  {
   "cell_type": "markdown",
   "id": "3c2d54c4",
   "metadata": {
    "slideshow": {
     "slide_type": "slide"
    }
   },
   "source": [
    "# Practica de codificación parcial 2 "
   ]
  },
  {
   "cell_type": "markdown",
   "id": "d35f35c0",
   "metadata": {
    "slideshow": {
     "slide_type": "slide"
    }
   },
   "source": [
    "1. Tome el dataset `load_digits` y constituya el arreglo de imágenes $X$ y el de etiquetas $y$ como arreglos de numpy de valores de tipo int64. "
   ]
  },
  {
   "cell_type": "code",
   "execution_count": 37,
   "id": "0fac94df",
   "metadata": {
    "slideshow": {
     "slide_type": "slide"
    }
   },
   "outputs": [],
   "source": [
    "import numpy as np \n",
    "import pandas as pd \n",
    "import matplotlib.pyplot as plt \n",
    "\n",
    "from sklearn.datasets import load_digits \n",
    "\n",
    "from sklearn.model_selection import StratifiedShuffleSplit \n",
    "\n",
    "from sklearn.preprocessing import StandardScaler \n",
    "\n",
    "# modelo \n",
    "\n",
    "from sklearn.linear_model import SGDClassifier\n",
    "from sklearn.ensemble import RandomForestClassifier \n",
    "\n",
    "#medida de desempeño\n",
    "\n",
    "from sklearn.model_selection import cross_val_predict\n",
    "from sklearn.metrics import confusion_matrix \n",
    "from sklearn.metrics import roc_curve \n",
    "\n",
    "# afinamiento del modelo \n",
    "\n",
    "from sklearn.model_selection import GridSearchCV \n"
   ]
  },
  {
   "cell_type": "code",
   "execution_count": 2,
   "id": "95116088",
   "metadata": {
    "slideshow": {
     "slide_type": "slide"
    }
   },
   "outputs": [],
   "source": [
    "X,y = load_digits(return_X_y = True) "
   ]
  },
  {
   "cell_type": "code",
   "execution_count": 3,
   "id": "caa6e150",
   "metadata": {
    "slideshow": {
     "slide_type": "slide"
    }
   },
   "outputs": [
    {
     "data": {
      "text/plain": [
       "numpy.ndarray"
      ]
     },
     "execution_count": 3,
     "metadata": {},
     "output_type": "execute_result"
    }
   ],
   "source": [
    "type(X)"
   ]
  },
  {
   "cell_type": "code",
   "execution_count": 4,
   "id": "db4c27f9",
   "metadata": {
    "slideshow": {
     "slide_type": "slide"
    }
   },
   "outputs": [
    {
     "data": {
      "text/plain": [
       "numpy.ndarray"
      ]
     },
     "execution_count": 4,
     "metadata": {},
     "output_type": "execute_result"
    }
   ],
   "source": [
    "type(y)"
   ]
  },
  {
   "cell_type": "code",
   "execution_count": 9,
   "id": "8cc98586",
   "metadata": {
    "slideshow": {
     "slide_type": "slide"
    }
   },
   "outputs": [
    {
     "data": {
      "text/plain": [
       "array([[ 0.,  0.,  5., 13.,  9.,  1.,  0.,  0.],\n",
       "       [ 0.,  0., 13., 15., 10., 15.,  5.,  0.],\n",
       "       [ 0.,  3., 15.,  2.,  0., 11.,  8.,  0.],\n",
       "       [ 0.,  4., 12.,  0.,  0.,  8.,  8.,  0.],\n",
       "       [ 0.,  5.,  8.,  0.,  0.,  9.,  8.,  0.],\n",
       "       [ 0.,  4., 11.,  0.,  1., 12.,  7.,  0.],\n",
       "       [ 0.,  2., 14.,  5., 10., 12.,  0.,  0.],\n",
       "       [ 0.,  0.,  6., 13., 10.,  0.,  0.,  0.]])"
      ]
     },
     "execution_count": 9,
     "metadata": {},
     "output_type": "execute_result"
    }
   ],
   "source": [
    "X[0].reshape(8,8) "
   ]
  },
  {
   "cell_type": "code",
   "execution_count": 6,
   "id": "46d49bac",
   "metadata": {
    "slideshow": {
     "slide_type": "slide"
    }
   },
   "outputs": [
    {
     "data": {
      "text/plain": [
       "0"
      ]
     },
     "execution_count": 6,
     "metadata": {},
     "output_type": "execute_result"
    }
   ],
   "source": [
    "y[0]"
   ]
  },
  {
   "cell_type": "markdown",
   "id": "15487076",
   "metadata": {
    "slideshow": {
     "slide_type": "slide"
    }
   },
   "source": [
    "2. Visualice con la función`imshow()` de matplotlib una de las imagenes del dataset. "
   ]
  },
  {
   "cell_type": "code",
   "execution_count": 10,
   "id": "899fbd7d",
   "metadata": {
    "slideshow": {
     "slide_type": "slide"
    }
   },
   "outputs": [
    {
     "data": {
      "text/plain": [
       "<matplotlib.image.AxesImage at 0x2370ff33af0>"
      ]
     },
     "execution_count": 10,
     "metadata": {},
     "output_type": "execute_result"
    },
    {
     "data": {
      "image/png": "[encoded data removed]",
      "text/plain": [
       "<Figure size 432x288 with 1 Axes>"
      ]
     },
     "metadata": {
      "needs_background": "light"
     },
     "output_type": "display_data"
    }
   ],
   "source": [
    "plt.imshow(X[0].reshape(8,8), cmap = 'binary') "
   ]
  },
  {
   "cell_type": "markdown",
   "id": "c6dba81b",
   "metadata": {
    "slideshow": {
     "slide_type": "slide"
    }
   },
   "source": [
    "3. Divida el dataset en un subconjunto para entrenamiento y un subconjunto de testeo, pero para esta tarea relice muestreo estratificado utilizando la clase `StratifiedShuffleSplit` del `model_selection` de Sklearn.   \n",
    "\n",
    "* **(opcional)** y muestre con histogramas que este muestreo ha quedado de manera estratificada, es decir, las muestras quedaron de tal menera que cada digito en la muestra esta presente en la misma proporción que en el dataset total. "
   ]
  },
  {
   "cell_type": "code",
   "execution_count": 12,
   "id": "da9e6108",
   "metadata": {
    "slideshow": {
     "slide_type": "slide"
    }
   },
   "outputs": [],
   "source": [
    "sss = StratifiedShuffleSplit(n_splits = 1, random_state = 42) "
   ]
  },
  {
   "cell_type": "code",
   "execution_count": 14,
   "id": "f96c5734",
   "metadata": {
    "slideshow": {
     "slide_type": "slide"
    }
   },
   "outputs": [],
   "source": [
    "for train_index, test_index in sss.split(X,y):\n",
    "    X_train, X_test = X[train_index], X[test_index]\n",
    "    y_train, y_test = y[train_index], y[test_index] "
   ]
  },
  {
   "cell_type": "code",
   "execution_count": 15,
   "id": "69670a0f",
   "metadata": {
    "slideshow": {
     "slide_type": "slide"
    }
   },
   "outputs": [
    {
     "data": {
      "text/plain": [
       "(array([178., 182., 177., 183., 181., 182., 181., 179., 174., 180.]),\n",
       " array([0. , 0.9, 1.8, 2.7, 3.6, 4.5, 5.4, 6.3, 7.2, 8.1, 9. ]),\n",
       " <BarContainer object of 10 artists>)"
      ]
     },
     "execution_count": 15,
     "metadata": {},
     "output_type": "execute_result"
    },
    {
     "data": {
      "image/png": "[encoded data removed]",
      "text/plain": [
       "<Figure size 432x288 with 1 Axes>"
      ]
     },
     "metadata": {
      "needs_background": "light"
     },
     "output_type": "display_data"
    }
   ],
   "source": [
    "plt.hist(y)\n"
   ]
  },
  {
   "cell_type": "code",
   "execution_count": 16,
   "id": "dc68566f",
   "metadata": {
    "slideshow": {
     "slide_type": "slide"
    }
   },
   "outputs": [
    {
     "data": {
      "text/plain": [
       "(array([160., 164., 159., 165., 163., 164., 163., 161., 156., 162.]),\n",
       " array([0. , 0.9, 1.8, 2.7, 3.6, 4.5, 5.4, 6.3, 7.2, 8.1, 9. ]),\n",
       " <BarContainer object of 10 artists>)"
      ]
     },
     "execution_count": 16,
     "metadata": {},
     "output_type": "execute_result"
    },
    {
     "data": {
      "image/png": "[encoded data removed]",
      "text/plain": [
       "<Figure size 432x288 with 1 Axes>"
      ]
     },
     "metadata": {
      "needs_background": "light"
     },
     "output_type": "display_data"
    }
   ],
   "source": [
    "plt.hist(y_train)\n"
   ]
  },
  {
   "cell_type": "code",
   "execution_count": 17,
   "id": "2c169c41",
   "metadata": {
    "slideshow": {
     "slide_type": "slide"
    }
   },
   "outputs": [
    {
     "data": {
      "text/plain": [
       "(array([18., 18., 18., 18., 18., 18., 18., 18., 18., 18.]),\n",
       " array([0. , 0.9, 1.8, 2.7, 3.6, 4.5, 5.4, 6.3, 7.2, 8.1, 9. ]),\n",
       " <BarContainer object of 10 artists>)"
      ]
     },
     "execution_count": 17,
     "metadata": {},
     "output_type": "execute_result"
    },
    {
     "data": {
      "image/png": "[encoded data removed]",
      "text/plain": [
       "<Figure size 432x288 with 1 Axes>"
      ]
     },
     "metadata": {
      "needs_background": "light"
     },
     "output_type": "display_data"
    }
   ],
   "source": [
    "plt.hist(y_test)\n"
   ]
  },
  {
   "cell_type": "markdown",
   "id": "e2998789",
   "metadata": {
    "slideshow": {
     "slide_type": "slide"
    }
   },
   "source": [
    "4. Escale los datos con utilizando la clase `MaxMinScaler` o la clase `StandardScaler` del módulo `preprocessing` de sklearn. "
   ]
  },
  {
   "cell_type": "code",
   "execution_count": 19,
   "id": "ca7667f2",
   "metadata": {
    "slideshow": {
     "slide_type": "slide"
    }
   },
   "outputs": [],
   "source": [
    "escalador = StandardScaler()"
   ]
  },
  {
   "cell_type": "code",
   "execution_count": 20,
   "id": "9abeb2bb",
   "metadata": {
    "slideshow": {
     "slide_type": "slide"
    }
   },
   "outputs": [],
   "source": [
    "X_train_escalado = escalador.fit_transform(X_train) "
   ]
  },
  {
   "cell_type": "markdown",
   "id": "28727498",
   "metadata": {
    "slideshow": {
     "slide_type": "slide"
    }
   },
   "source": [
    "5. Instancie y entrene los modelos `SGDClassifier` del módulo `linear_model` y el `RandomForestClassifier` del módulo `ensemble` de sklearn. \n",
    "\n",
    "* **(opcional)** empiece comparando en cuanto al criterio de exactitud\n",
    "  * utilice la función `cross_val_score` del modulo `model_selection` de sklearn\n",
    "* luego en cuanto al criterio de matriz confusión:\n",
    "  * utilice la función `cross_val_predict` del modulo `model_selection` de sklearn y luego\n",
    "  * utilice la función `confusion_matrix` del módulo `metrics` de sklearn. \n",
    "* **(opcional)** siga con el criterio de precisión y recall.\n"
   ]
  },
  {
   "cell_type": "code",
   "execution_count": 70,
   "id": "5025819b",
   "metadata": {
    "slideshow": {
     "slide_type": "slide"
    }
   },
   "outputs": [],
   "source": [
    "sgd_clf = SGDClassifier()\n",
    "forest_clf = RandomForestClassifier(random_state = 42) "
   ]
  },
  {
   "cell_type": "code",
   "execution_count": 71,
   "id": "22da11bd",
   "metadata": {
    "slideshow": {
     "slide_type": "slide"
    }
   },
   "outputs": [
    {
     "data": {
      "text/plain": [
       "RandomForestClassifier(random_state=42)"
      ]
     },
     "execution_count": 71,
     "metadata": {},
     "output_type": "execute_result"
    }
   ],
   "source": [
    "sgd_clf.fit(X_train_escalado, y_train)\n",
    "forest_clf.fit(X_train_escalado, y_train) "
   ]
  },
  {
   "cell_type": "markdown",
   "id": "fe06981f",
   "metadata": {
    "slideshow": {
     "slide_type": "slide"
    }
   },
   "source": [
    "6. Mida sus desempeños con la metodología de Validación cruzada y luego afine el modelo seleccionado con la metodología de Grilla de hiperparámetros. \n",
    "\n",
    "* Para el SGDClassifier utilice los pararámetros de `alpha` con valores $[10^{-1}, 10^{-2}]$, `learning_rate` con valores en la lista `[0.1,0.01, 0.001]` y `penalty` con valores en la lista `['l1', 'l2']`.\n",
    "\n",
    "* Para el RandomForestClassifier utilice los parametros `max_feature` con valores en la lista `[2,3,10,20, 30, 40, 50]`,  `max_deph` con valores en la lista `[2,3]` y `n_estimators` con valores en la lista `[3,10,30,100]`."
   ]
  },
  {
   "cell_type": "code",
   "execution_count": 72,
   "id": "00b051d3",
   "metadata": {
    "slideshow": {
     "slide_type": "slide"
    }
   },
   "outputs": [],
   "source": [
    "y_pred_sgd = cross_val_predict(sgd_clf, X_train_escalado, y_train, cv = 3 )\n",
    "y_pred_forest = cross_val_predict(forest_clf, X_train_escalado, y_train, cv = 3 )"
   ]
  },
  {
   "cell_type": "code",
   "execution_count": 73,
   "id": "a9a765a0",
   "metadata": {
    "slideshow": {
     "slide_type": "slide"
    }
   },
   "outputs": [],
   "source": [
    "mc_sgd = confusion_matrix(y_train, y_pred_sgd)\n",
    "mc_forest = confusion_matrix(y_train, y_pred_forest)"
   ]
  },
  {
   "cell_type": "code",
   "execution_count": 74,
   "id": "ebf6b7e4",
   "metadata": {
    "slideshow": {
     "slide_type": "slide"
    }
   },
   "outputs": [
    {
     "data": {
      "text/plain": [
       "array([[157,   0,   0,   0,   0,   0,   1,   1,   1,   0],\n",
       "       [  0, 150,   0,   1,   1,   0,   0,   0,   9,   3],\n",
       "       [  0,   2, 152,   1,   0,   0,   0,   2,   2,   0],\n",
       "       [  0,   0,   0, 156,   0,   4,   0,   1,   4,   0],\n",
       "       [  1,   1,   0,   0, 155,   0,   1,   0,   3,   2],\n",
       "       [  0,   1,   0,   0,   0, 156,   0,   1,   2,   4],\n",
       "       [  0,   1,   0,   0,   0,   1, 158,   0,   3,   0],\n",
       "       [  0,   0,   0,   2,   1,   0,   0, 156,   1,   1],\n",
       "       [  0,   3,   1,   2,   0,   1,   0,   0, 148,   1],\n",
       "       [  0,   3,   0,  11,   0,   0,   0,   3,   4, 141]], dtype=int64)"
      ]
     },
     "execution_count": 74,
     "metadata": {},
     "output_type": "execute_result"
    }
   ],
   "source": [
    "mc_sgd\n"
   ]
  },
  {
   "cell_type": "code",
   "execution_count": 75,
   "id": "8b5169ba",
   "metadata": {
    "slideshow": {
     "slide_type": "slide"
    }
   },
   "outputs": [
    {
     "data": {
      "text/plain": [
       "array([[158,   0,   0,   0,   2,   0,   0,   0,   0,   0],\n",
       "       [  0, 163,   1,   0,   0,   0,   0,   0,   0,   0],\n",
       "       [  1,   0, 157,   0,   0,   0,   0,   0,   1,   0],\n",
       "       [  0,   0,   0, 159,   0,   1,   0,   2,   2,   1],\n",
       "       [  0,   0,   0,   0, 160,   0,   0,   2,   0,   1],\n",
       "       [  1,   0,   0,   2,   1, 158,   1,   0,   1,   0],\n",
       "       [  2,   0,   0,   0,   0,   0, 160,   0,   1,   0],\n",
       "       [  0,   0,   0,   0,   1,   0,   0, 158,   1,   1],\n",
       "       [  0,   4,   3,   2,   1,   2,   0,   0, 144,   0],\n",
       "       [  0,   1,   0,   2,   0,   1,   0,   2,   2, 154]], dtype=int64)"
      ]
     },
     "execution_count": 75,
     "metadata": {},
     "output_type": "execute_result"
    }
   ],
   "source": [
    "mc_forest"
   ]
  },
  {
   "cell_type": "markdown",
   "id": "f738128f",
   "metadata": {
    "slideshow": {
     "slide_type": "slide"
    }
   },
   "source": [
    "En cuanto a este creterio me quedo con RandomForestClassifier \n"
   ]
  },
  {
   "cell_type": "markdown",
   "id": "7feb8676",
   "metadata": {
    "slideshow": {
     "slide_type": "slide"
    }
   },
   "source": [
    "# Afinemos el modelo escogido `RandomForestClassifier` "
   ]
  },
  {
   "cell_type": "code",
   "execution_count": 80,
   "id": "95ca9714",
   "metadata": {
    "slideshow": {
     "slide_type": "slide"
    }
   },
   "outputs": [],
   "source": [
    "grid_param = {\n",
    "    'max_depth':[10,15,20],\\\n",
    "    'max_features':[3,5,7], \\\n",
    "    'n_estimators':[100,150,200]\n",
    "}"
   ]
  },
  {
   "cell_type": "code",
   "execution_count": 81,
   "id": "137c3e3a",
   "metadata": {
    "slideshow": {
     "slide_type": "slide"
    }
   },
   "outputs": [],
   "source": [
    "grid_search_forest = GridSearchCV(forest_clf, grid_param, cv = 3, scoring = 'f1_macro', \\\n",
    "                                 return_train_score = True) "
   ]
  },
  {
   "cell_type": "code",
   "execution_count": 82,
   "id": "45ed3070",
   "metadata": {
    "slideshow": {
     "slide_type": "slide"
    }
   },
   "outputs": [
    {
     "name": "stdout",
     "output_type": "stream",
     "text": [
      "Wall time: 1min 16s\n"
     ]
    },
    {
     "data": {
      "text/plain": [
       "GridSearchCV(cv=3, estimator=RandomForestClassifier(random_state=42),\n",
       "             param_grid={'max_depth': [10, 15, 20], 'max_features': [3, 5, 7],\n",
       "                         'n_estimators': [100, 150, 200]},\n",
       "             return_train_score=True, scoring='f1_macro')"
      ]
     },
     "execution_count": 82,
     "metadata": {},
     "output_type": "execute_result"
    }
   ],
   "source": [
    "%%time \n",
    "\n",
    "grid_search_forest.fit(X_train_escalado, y_train)"
   ]
  },
  {
   "cell_type": "code",
   "execution_count": 83,
   "id": "fc343d73",
   "metadata": {
    "slideshow": {
     "slide_type": "slide"
    }
   },
   "outputs": [
    {
     "data": {
      "text/plain": [
       "{'max_depth': 20, 'max_features': 5, 'n_estimators': 150}"
      ]
     },
     "execution_count": 83,
     "metadata": {},
     "output_type": "execute_result"
    }
   ],
   "source": [
    "grid_search_forest.best_params_ "
   ]
  },
  {
   "cell_type": "code",
   "execution_count": 89,
   "id": "dc9c2763",
   "metadata": {
    "slideshow": {
     "slide_type": "slide"
    }
   },
   "outputs": [],
   "source": [
    "mejor_modelo = grid_search_forest.best_estimator_"
   ]
  },
  {
   "cell_type": "code",
   "execution_count": 87,
   "id": "4876ff73",
   "metadata": {
    "slideshow": {
     "slide_type": "slide"
    }
   },
   "outputs": [],
   "source": [
    "X_test_escalado = escalador.transform(X_test) "
   ]
  },
  {
   "cell_type": "code",
   "execution_count": 91,
   "id": "e0a54111",
   "metadata": {
    "slideshow": {
     "slide_type": "slide"
    }
   },
   "outputs": [],
   "source": [
    "y_pred_test = mejor_modelo.predict(X_test_escalado)"
   ]
  },
  {
   "cell_type": "code",
   "execution_count": 92,
   "id": "cf9ad322",
   "metadata": {
    "slideshow": {
     "slide_type": "slide"
    }
   },
   "outputs": [
    {
     "data": {
      "text/plain": [
       "array([[18,  0,  0,  0,  0,  0,  0,  0,  0,  0],\n",
       "       [ 0, 18,  0,  0,  0,  0,  0,  0,  0,  0],\n",
       "       [ 0,  0, 18,  0,  0,  0,  0,  0,  0,  0],\n",
       "       [ 0,  0,  0, 18,  0,  0,  0,  0,  0,  0],\n",
       "       [ 0,  0,  0,  0, 18,  0,  0,  0,  0,  0],\n",
       "       [ 0,  0,  0,  0,  0, 18,  0,  0,  0,  0],\n",
       "       [ 0,  0,  0,  0,  0,  0, 18,  0,  0,  0],\n",
       "       [ 0,  0,  0,  0,  0,  0,  0, 18,  0,  0],\n",
       "       [ 0,  2,  0,  0,  0,  0,  0,  1, 15,  0],\n",
       "       [ 0,  0,  0,  1,  0,  0,  0,  0,  0, 17]], dtype=int64)"
      ]
     },
     "execution_count": 92,
     "metadata": {},
     "output_type": "execute_result"
    }
   ],
   "source": [
    "confusion_matrix(y_test, y_pred_test)"
   ]
  },
  {
   "cell_type": "markdown",
   "id": "b89a77ab",
   "metadata": {
    "slideshow": {
     "slide_type": "slide"
    }
   },
   "source": [
    "**Conclusión** Hemos encontrado un modelo adecuado de clasificación multiclase. "
   ]
  },
  {
   "cell_type": "code",
   "execution_count": 96,
   "id": "77cf338f",
   "metadata": {
    "slideshow": {
     "slide_type": "slide"
    }
   },
   "outputs": [
    {
     "data": {
      "text/plain": [
       "0.9777777777777777"
      ]
     },
     "execution_count": 96,
     "metadata": {},
     "output_type": "execute_result"
    }
   ],
   "source": [
    "mejor_modelo.score(X_test_escalado,y_test) "
   ]
  },
  {
   "cell_type": "code",
   "execution_count": null,
   "id": "58aba333",
   "metadata": {
    "slideshow": {
     "slide_type": "slide"
    }
   },
   "outputs": [],
   "source": []
  }
 ],
 "metadata": {
  "celltoolbar": "Slideshow",
  "kernelspec": {
   "display_name": "Python 3 (ipykernel)",
   "language": "python",
   "name": "python3"
  },
  "language_info": {
   "codemirror_mode": {
    "name": "ipython",
    "version": 3
   },
   "file_extension": ".py",
   "mimetype": "text/x-python",
   "name": "python",
   "nbconvert_exporter": "python",
   "pygments_lexer": "ipython3",
   "version": "3.9.7"
  }
 },
 "nbformat": 4,
 "nbformat_minor": 5
}
