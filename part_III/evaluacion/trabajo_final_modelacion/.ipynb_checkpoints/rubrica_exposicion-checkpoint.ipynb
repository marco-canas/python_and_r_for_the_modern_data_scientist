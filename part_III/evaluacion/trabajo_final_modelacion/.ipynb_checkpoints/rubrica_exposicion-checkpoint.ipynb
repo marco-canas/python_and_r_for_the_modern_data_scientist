{
 "cells": [
  {
   "cell_type": "markdown",
   "id": "1f556872",
   "metadata": {
    "slideshow": {
     "slide_type": "slide"
    }
   },
   "source": [
    "<table align=\"left\">\n",
    "  <td>\n",
    "    <a href=\"https://colab.research.google.com/github/marco-canas/intro-Machine-Learning/blob/main/classes/class_1/1_tipo_datos_python.ipynb\" target=\"_parent\"><img src=\"https://colab.research.google.com/assets/colab-badge.svg\" alt=\"Open In Colab\"/></a>\n",
    "  </td>\n",
    "</table>"
   ]
  },
  {
   "cell_type": "markdown",
   "id": "881ea056",
   "metadata": {
    "slideshow": {
     "slide_type": "slide"
    }
   },
   "source": [
    "# Rúbrica para la exposición final del Modelo de Machine learning de Clasificación o regresión"
   ]
  },
  {
   "cell_type": "markdown",
   "id": "c1916f75",
   "metadata": {
    "slideshow": {
     "slide_type": "slide"
    }
   },
   "source": [
    "Califique de cero a cinco cada uno de los siguientes item. La nota de la exposición será el promedio ponderado de las notas de cada item. "
   ]
  },
  {
   "cell_type": "markdown",
   "id": "add5f36c",
   "metadata": {
    "slideshow": {
     "slide_type": "slide"
    }
   },
   "source": [
    "* Describe con fluidez el dataset y el problema de modelación que afrontó. $\\_\\_\\_$"
   ]
  },
  {
   "cell_type": "markdown",
   "id": "11f6ce71",
   "metadata": {
    "slideshow": {
     "slide_type": "slide"
    }
   },
   "source": [
    "Cada integrante del grupo participa activamente,  con dominio y fluidez durante la exposición: $\\_\\_\\_\\_$"
   ]
  },
  {
   "cell_type": "markdown",
   "id": "94203e56",
   "metadata": {
    "slideshow": {
     "slide_type": "slide"
    }
   },
   "source": [
    "Importa solo las librerías necesarias para su trabajo de:\n",
    "\n",
    "* obtención de datos, \n",
    "* visualización de datos\n",
    "* selección de modelos\n",
    "* medición de desempeño de modelos\n",
    "* afinamiento de modelo"
   ]
  },
  {
   "cell_type": "markdown",
   "id": "041f7bca",
   "metadata": {
    "slideshow": {
     "slide_type": "slide"
    }
   },
   "source": []
  },
  {
   "cell_type": "code",
   "execution_count": null,
   "id": "050ab054",
   "metadata": {},
   "outputs": [],
   "source": []
  },
  {
   "cell_type": "code",
   "execution_count": null,
   "id": "80c81d3d",
   "metadata": {},
   "outputs": [],
   "source": []
  },
  {
   "cell_type": "markdown",
   "id": "1ba85efc",
   "metadata": {
    "slideshow": {
     "slide_type": "slide"
    }
   },
   "source": [
    "**Rúbricas**  \n",
    "\n",
    "Permiten gestionar y sistematizar el proceso evaluativo, facilitan la descripción de los criterios a seguir para valorar el trabajo realizado. Estas suelen emplearse para valorar distintos tipos de\n",
    "productos, competencias y habilidades adquiridas por los estudiantes Proyectos, presentaciones digitales, trabajos grupales etc. Existen de distintos tipos pero en todos los casos proporcionan\n",
    "indicadores específicos para documentar el progreso de los\n",
    "estudiantes. Contiene elementos a evaluar y en cada uno de ellos se\n",
    "realiza una descripción de diferentes niveles, se extrapolan por lo\n",
    "novato en un extremo y la experta por otro. Ofrecen gran precisión\n",
    "para valorar las competencias y habilidades adquiridas por los\n",
    "estudiantes al concluir su proceso formativo a través de un\n",
    "conjunto de criterios que reflejan diferentes niveles de logro de una\n",
    "manera clara y explícita."
   ]
  },
  {
   "cell_type": "markdown",
   "id": "609066e7",
   "metadata": {
    "slideshow": {
     "slide_type": "slide"
    }
   },
   "source": [
    "## Referentes  \n",
    "\n",
    "* Instrumentos de evaluación de aprendizajes en entornos virtuales: Laura Lezcano https://dialnet.unirioja.es/descarga/articulo/5919087.pdf"
   ]
  },
  {
   "cell_type": "code",
   "execution_count": null,
   "id": "6e589ac7",
   "metadata": {},
   "outputs": [],
   "source": []
  }
 ],
 "metadata": {
  "celltoolbar": "Slideshow",
  "kernelspec": {
   "display_name": "Python 3 (ipykernel)",
   "language": "python",
   "name": "python3"
  },
  "language_info": {
   "codemirror_mode": {
    "name": "ipython",
    "version": 3
   },
   "file_extension": ".py",
   "mimetype": "text/x-python",
   "name": "python",
   "nbconvert_exporter": "python",
   "pygments_lexer": "ipython3",
   "version": "3.9.7"
  }
 },
 "nbformat": 4,
 "nbformat_minor": 5
}
