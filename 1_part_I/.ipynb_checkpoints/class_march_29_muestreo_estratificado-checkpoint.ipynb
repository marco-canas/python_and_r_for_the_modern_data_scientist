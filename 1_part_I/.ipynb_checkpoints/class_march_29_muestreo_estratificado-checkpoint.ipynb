{
 "cells": [
  {
   "cell_type": "markdown",
   "id": "23d264a1",
   "metadata": {
    "slideshow": {
     "slide_type": "slide"
    }
   },
   "source": [
    "<table align=\"left\">\n",
    "  <td>\n",
    "    <a href=\"https://colab.research.google.com/github/marco-canas/Machine-Learning/blob/main/ML/classes/class_march_3/class_march_3.ipynb\" target=\"_parent\"><img src=\"https://colab.research.google.com/assets/colab-badge.svg\" alt=\"Open In Colab\"/></a>\n",
    "  </td>\n",
    "</table>"
   ]
  },
  {
   "cell_type": "markdown",
   "id": "f2e7ce63",
   "metadata": {
    "slideshow": {
     "slide_type": "slide"
    }
   },
   "source": [
    "# Clase de Marzo 29 sobre Muestreo estratificado"
   ]
  },
  {
   "cell_type": "markdown",
   "id": "6769cfcf",
   "metadata": {
    "slideshow": {
     "slide_type": "slide"
    }
   },
   "source": [
    "Scikit-Learn proporciona algunas funciones para dividir conjuntos de datos en múltiples subconjuntos de varias maneras. "
   ]
  },
  {
   "cell_type": "markdown",
   "id": "a538e4c4",
   "metadata": {
    "slideshow": {
     "slide_type": "slide"
    }
   },
   "source": [
    "La función más simple es `train_test_split()`, que hace más o menos lo mismo que la función `split_train_test()`, con un par de características adicionales."
   ]
  },
  {
   "cell_type": "markdown",
   "id": "db19010e",
   "metadata": {
    "slideshow": {
     "slide_type": "slide"
    }
   },
   "source": [
    "Primero, hay un parámetro `random_state` que le permite establecer la semilla del generador aleatorio."
   ]
  },
  {
   "cell_type": "markdown",
   "id": "651f48a2",
   "metadata": {
    "slideshow": {
     "slide_type": "slide"
    }
   },
   "source": [
    "Second, you can pass it multiple datasets with an identical number of rows, and it will split them on the same indices (this is very useful, for example, if you have a separate DataFrame for labels):"
   ]
  },
  {
   "cell_type": "code",
   "execution_count": null,
   "id": "ff6277b8",
   "metadata": {
    "slideshow": {
     "slide_type": "slide"
    }
   },
   "outputs": [],
   "source": [
    "from sklearn.model_selection import train_test_split\n",
    "train_set, test_set = train_test_split(v, test_size=0.2, random_state=42)\n"
   ]
  },
  {
   "cell_type": "markdown",
   "id": "c87b1fad",
   "metadata": {
    "slideshow": {
     "slide_type": "slide"
    }
   },
   "source": [
    "So far we have considered purely random sampling methods. This is generally\n",
    "fine if your dataset is large enough (especially relative to the number of\n",
    "attributes), but if it is not, you run the risk of introducing a significant sampling\n",
    "bias. When a survey company decides to call 1,000 people to ask them a few\n",
    "questions, they don’t just pick 1,000 people randomly in a phone book. They try\n",
    "to ensure that these 1,000 people are representative of the whole population. For\n",
    "example, the US population is 51.3% females and 48.7% males, so a well\u0002conducted survey in the US would try to maintain this ratio in the sample: 513\n",
    "female and 487 male. This is called stratified sampling: the population is\n",
    "divided into homogeneous subgroups called strata, and the right number of\n",
    "instances are sampled from each stratum to guarantee that the test set is\n",
    "representative of the overall population. If the people running the survey used\n",
    "purely random sampling, there would be about a 12% chance of sampling a\n",
    "skewed test set that was either less than 49% female or more than 54% female.\n",
    "Either way, the survey results would be significantly biased."
   ]
  },
  {
   "cell_type": "code",
   "execution_count": null,
   "id": "6d0fcd00",
   "metadata": {
    "slideshow": {
     "slide_type": "slide"
    }
   },
   "outputs": [],
   "source": []
  },
  {
   "cell_type": "code",
   "execution_count": null,
   "id": "7546a9ac",
   "metadata": {
    "slideshow": {
     "slide_type": "slide"
    }
   },
   "outputs": [],
   "source": []
  },
  {
   "cell_type": "code",
   "execution_count": null,
   "id": "8d2dbed4",
   "metadata": {
    "slideshow": {
     "slide_type": "slide"
    }
   },
   "outputs": [],
   "source": []
  },
  {
   "cell_type": "code",
   "execution_count": null,
   "id": "a33ace40",
   "metadata": {
    "slideshow": {
     "slide_type": "slide"
    }
   },
   "outputs": [],
   "source": []
  },
  {
   "cell_type": "code",
   "execution_count": null,
   "id": "563c6d70",
   "metadata": {},
   "outputs": [],
   "source": []
  },
  {
   "cell_type": "code",
   "execution_count": null,
   "id": "7ea971af",
   "metadata": {},
   "outputs": [],
   "source": []
  }
 ],
 "metadata": {
  "celltoolbar": "Slideshow",
  "kernelspec": {
   "display_name": "Python 3 (ipykernel)",
   "language": "python",
   "name": "python3"
  },
  "language_info": {
   "codemirror_mode": {
    "name": "ipython",
    "version": 3
   },
   "file_extension": ".py",
   "mimetype": "text/x-python",
   "name": "python",
   "nbconvert_exporter": "python",
   "pygments_lexer": "ipython3",
   "version": "3.9.7"
  }
 },
 "nbformat": 4,
 "nbformat_minor": 5
}
